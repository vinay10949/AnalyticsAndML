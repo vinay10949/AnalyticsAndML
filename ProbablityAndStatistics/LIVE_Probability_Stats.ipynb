{
  "nbformat": 4,
  "nbformat_minor": 0,
  "metadata": {
    "colab": {
      "name": "LIVE Probability_Stats.ipynb",
      "provenance": [],
      "collapsed_sections": [
        "s2WCuDpuiiDB",
        "bHXJ-iPznNLF",
        "P4-mjU9qulVQ"
      ],
      "include_colab_link": true
    },
    "kernelspec": {
      "name": "python3",
      "display_name": "Python 3"
    }
  },
  "cells": [
    {
      "cell_type": "markdown",
      "metadata": {
        "id": "view-in-github",
        "colab_type": "text"
      },
      "source": [
        "<a href=\"https://colab.research.google.com/github/vinay10949/AnalyticsAndML/blob/master/AnalyticsAndML/ProbablityAndStatistics/LIVE_Probability_Stats.ipynb\" target=\"_parent\"><img src=\"https://colab.research.google.com/assets/colab-badge.svg\" alt=\"Open In Colab\"/></a>"
      ]
    },
    {
      "cell_type": "markdown",
      "metadata": {
        "id": "IhOh2efucQsC",
        "colab_type": "text"
      },
      "source": [
        "\n",
        "#### Few references:\n",
        "  - Book: https://greenteapress.com/thinkstats/\n",
        "  - Examples + Exercises: https://github.com/AllenDowney/ThinkStats2\n",
        "  - http://www.allendowney.com/wp/\n",
        "\n"
      ]
    },
    {
      "cell_type": "markdown",
      "metadata": {
        "id": "s2WCuDpuiiDB",
        "colab_type": "text"
      },
      "source": [
        "### QQ-Plot"
      ]
    },
    {
      "cell_type": "code",
      "metadata": {
        "id": "_Ky4hsZFZ_f2",
        "colab_type": "code",
        "outputId": "bc5d61d0-1c22-470e-96d1-5dfd10a3afe6",
        "colab": {
          "base_uri": "https://localhost:8080/",
          "height": 220
        }
      },
      "source": [
        "import numpy as np\n",
        "import scipy as sp\n",
        "\n",
        "x = np.random.normal(loc = 20, scale = 5, size=100)\n",
        "sp.stats.probplot(x, dist=\"norm\", plot=matplotlib.pyplot)\n",
        "\n"
      ],
      "execution_count": 0,
      "outputs": [
        {
          "output_type": "error",
          "ename": "AttributeError",
          "evalue": "ignored",
          "traceback": [
            "\u001b[0;31m---------------------------------------------------------------------------\u001b[0m",
            "\u001b[0;31mAttributeError\u001b[0m                            Traceback (most recent call last)",
            "\u001b[0;32m<ipython-input-3-62889277be44>\u001b[0m in \u001b[0;36m<module>\u001b[0;34m()\u001b[0m\n\u001b[1;32m      3\u001b[0m \u001b[0;34m\u001b[0m\u001b[0m\n\u001b[1;32m      4\u001b[0m \u001b[0mx\u001b[0m \u001b[0;34m=\u001b[0m \u001b[0mnp\u001b[0m\u001b[0;34m.\u001b[0m\u001b[0mrandom\u001b[0m\u001b[0;34m.\u001b[0m\u001b[0mnormal\u001b[0m\u001b[0;34m(\u001b[0m\u001b[0mloc\u001b[0m \u001b[0;34m=\u001b[0m \u001b[0;36m20\u001b[0m\u001b[0;34m,\u001b[0m \u001b[0mscale\u001b[0m \u001b[0;34m=\u001b[0m \u001b[0;36m5\u001b[0m\u001b[0;34m,\u001b[0m \u001b[0msize\u001b[0m\u001b[0;34m=\u001b[0m\u001b[0;36m100\u001b[0m\u001b[0;34m)\u001b[0m\u001b[0;34m\u001b[0m\u001b[0;34m\u001b[0m\u001b[0m\n\u001b[0;32m----> 5\u001b[0;31m \u001b[0msp\u001b[0m\u001b[0;34m.\u001b[0m\u001b[0mstats\u001b[0m\u001b[0;34m.\u001b[0m\u001b[0mprobplot\u001b[0m\u001b[0;34m(\u001b[0m\u001b[0mx\u001b[0m\u001b[0;34m,\u001b[0m \u001b[0mdist\u001b[0m\u001b[0;34m=\u001b[0m\u001b[0;34m\"norm\"\u001b[0m\u001b[0;34m,\u001b[0m \u001b[0mplot\u001b[0m\u001b[0;34m=\u001b[0m\u001b[0mmatplotlib\u001b[0m\u001b[0;34m.\u001b[0m\u001b[0mpyplot\u001b[0m\u001b[0;34m)\u001b[0m\u001b[0;34m\u001b[0m\u001b[0;34m\u001b[0m\u001b[0m\n\u001b[0m\u001b[1;32m      6\u001b[0m \u001b[0;34m\u001b[0m\u001b[0m\n",
            "\u001b[0;31mAttributeError\u001b[0m: module 'scipy' has no attribute 'stats'"
          ]
        }
      ]
    },
    {
      "cell_type": "code",
      "metadata": {
        "id": "Y9QJX4tujvEH",
        "colab_type": "code",
        "outputId": "8a5800ff-8213-49df-d97f-2c47a5e23f77",
        "colab": {
          "base_uri": "https://localhost:8080/",
          "height": 202
        }
      },
      "source": [
        "import numpy as np\n",
        "from scipy import stats\n",
        "\n",
        "x = np.random.normal(loc = 20, scale = 5, size=100)\n",
        "stats.probplot(x, dist=\"norm\", plot=matplotlib.pyplot)"
      ],
      "execution_count": 0,
      "outputs": [
        {
          "output_type": "error",
          "ename": "NameError",
          "evalue": "ignored",
          "traceback": [
            "\u001b[0;31m---------------------------------------------------------------------------\u001b[0m",
            "\u001b[0;31mNameError\u001b[0m                                 Traceback (most recent call last)",
            "\u001b[0;32m<ipython-input-4-4e43211ff99c>\u001b[0m in \u001b[0;36m<module>\u001b[0;34m()\u001b[0m\n\u001b[1;32m      3\u001b[0m \u001b[0;34m\u001b[0m\u001b[0m\n\u001b[1;32m      4\u001b[0m \u001b[0mx\u001b[0m \u001b[0;34m=\u001b[0m \u001b[0mnp\u001b[0m\u001b[0;34m.\u001b[0m\u001b[0mrandom\u001b[0m\u001b[0;34m.\u001b[0m\u001b[0mnormal\u001b[0m\u001b[0;34m(\u001b[0m\u001b[0mloc\u001b[0m \u001b[0;34m=\u001b[0m \u001b[0;36m20\u001b[0m\u001b[0;34m,\u001b[0m \u001b[0mscale\u001b[0m \u001b[0;34m=\u001b[0m \u001b[0;36m5\u001b[0m\u001b[0;34m,\u001b[0m \u001b[0msize\u001b[0m\u001b[0;34m=\u001b[0m\u001b[0;36m100\u001b[0m\u001b[0;34m)\u001b[0m\u001b[0;34m\u001b[0m\u001b[0;34m\u001b[0m\u001b[0m\n\u001b[0;32m----> 5\u001b[0;31m \u001b[0mstats\u001b[0m\u001b[0;34m.\u001b[0m\u001b[0mprobplot\u001b[0m\u001b[0;34m(\u001b[0m\u001b[0mx\u001b[0m\u001b[0;34m,\u001b[0m \u001b[0mdist\u001b[0m\u001b[0;34m=\u001b[0m\u001b[0;34m\"norm\"\u001b[0m\u001b[0;34m,\u001b[0m \u001b[0mplot\u001b[0m\u001b[0;34m=\u001b[0m\u001b[0mmatplotlib\u001b[0m\u001b[0;34m.\u001b[0m\u001b[0mpyplot\u001b[0m\u001b[0;34m)\u001b[0m\u001b[0;34m\u001b[0m\u001b[0;34m\u001b[0m\u001b[0m\n\u001b[0m",
            "\u001b[0;31mNameError\u001b[0m: name 'matplotlib' is not defined"
          ]
        }
      ]
    },
    {
      "cell_type": "code",
      "metadata": {
        "id": "wEhHo9Flj1Tt",
        "colab_type": "code",
        "outputId": "32597df8-b44a-43fd-9635-8b2671cb6497",
        "colab": {
          "base_uri": "https://localhost:8080/",
          "height": 295
        }
      },
      "source": [
        "import numpy as np\n",
        "from scipy import stats\n",
        "import matplotlib.pyplot as plt\n",
        "\n",
        "x = np.random.normal(loc = 20, scale = 5, size=100)\n",
        "stats.probplot(x, dist=\"norm\", plot=plt)\n",
        "plt.grid()"
      ],
      "execution_count": 0,
      "outputs": [
        {
          "output_type": "display_data",
          "data": {
            "image/png": "[encoded data removed]",
            "text/plain": [
              "<Figure size 432x288 with 1 Axes>"
            ]
          },
          "metadata": {
            "tags": [],
            "needs_background": "light"
          }
        }
      ]
    },
    {
      "cell_type": "code",
      "metadata": {
        "id": "3XwNsKUikFFa",
        "colab_type": "code",
        "outputId": "625aa87a-d22e-4416-9547-fc5d99162efa",
        "colab": {
          "base_uri": "https://localhost:8080/",
          "height": 295
        }
      },
      "source": [
        "import numpy as np\n",
        "from scipy import stats\n",
        "import matplotlib.pyplot as plt\n",
        "\n",
        "x = np.random.normal(loc = 20, scale = 5, size=1000)\n",
        "stats.probplot(x, dist=\"norm\", plot=plt)\n",
        "plt.grid()"
      ],
      "execution_count": 0,
      "outputs": [
        {
          "output_type": "display_data",
          "data": {
            "image/png": "[encoded data removed]",
            "text/plain": [
              "<Figure size 432x288 with 1 Axes>"
            ]
          },
          "metadata": {
            "tags": [],
            "needs_background": "light"
          }
        }
      ]
    },
    {
      "cell_type": "code",
      "metadata": {
        "id": "fk9Y3BVekKMd",
        "colab_type": "code",
        "outputId": "f8ab60c6-1074-4a3f-ddb4-fd9be0842ad3",
        "colab": {
          "base_uri": "https://localhost:8080/",
          "height": 323
        }
      },
      "source": [
        "import numpy as np\n",
        "from scipy import stats\n",
        "import matplotlib.pyplot as plt\n",
        "import seaborn as sns\n",
        "\n",
        "# Ref: #https://docs.scipy.org/doc/numpy-1.15.0/reference/generated/numpy.random.exponential.html\n",
        "# real-world example: \"The time it takes before your next telephone call\" ---Wiki [https://en.wikipedia.org/wiki/Exponential_distribution#Occurrence_and_applications]\n",
        "x = np.random.exponential(scale=1.0, size=1000) # scale a.k.a lambda on wiki [https://en.wikipedia.org/wiki/Exponential_distribution]\n",
        "\n",
        "# plot PDF(X)\n",
        "\n",
        "sns.set()\n",
        "ax = sns.distplot(x)\n",
        "plt.show()\n"
      ],
      "execution_count": 0,
      "outputs": [
        {
          "output_type": "stream",
          "text": [
            "/usr/local/lib/python3.6/dist-packages/statsmodels/tools/_testing.py:19: FutureWarning: pandas.util.testing is deprecated. Use the functions in the public API at pandas.testing instead.\n",
            "  import pandas.util.testing as tm\n"
          ],
          "name": "stderr"
        },
        {
          "output_type": "display_data",
          "data": {
            "image/png": "[encoded data removed]",
            "text/plain": [
              "<Figure size 432x288 with 1 Axes>"
            ]
          },
          "metadata": {
            "tags": []
          }
        }
      ]
    },
    {
      "cell_type": "code",
      "metadata": {
        "id": "nXUKZe1fmS3c",
        "colab_type": "code",
        "outputId": "ec853719-b197-49ed-b13a-0c170b4d7475",
        "colab": {
          "base_uri": "https://localhost:8080/",
          "height": 285
        }
      },
      "source": [
        "# plot CDF(X)\n",
        "kwargs = {'cumulative': True}\n",
        "sns.distplot(x, hist_kws=kwargs, kde_kws=kwargs)\n"
      ],
      "execution_count": 0,
      "outputs": [
        {
          "output_type": "execute_result",
          "data": {
            "text/plain": [
              "<matplotlib.axes._subplots.AxesSubplot at 0x7f4353edbc50>"
            ]
          },
          "metadata": {
            "tags": []
          },
          "execution_count": 8
        },
        {
          "output_type": "display_data",
          "data": {
            "image/png": "[encoded data removed]",
            "text/plain": [
              "<Figure size 432x288 with 1 Axes>"
            ]
          },
          "metadata": {
            "tags": []
          }
        }
      ]
    },
    {
      "cell_type": "code",
      "metadata": {
        "id": "DX1dqZhwmqQ9",
        "colab_type": "code",
        "outputId": "a4501dfd-99fb-404a-bab5-d3043055faac",
        "colab": {
          "base_uri": "https://localhost:8080/",
          "height": 301
        }
      },
      "source": [
        "#QQ-Plot\n",
        "\n",
        "stats.probplot(x, dist=\"norm\", plot=plt)\n",
        "plt.grid()"
      ],
      "execution_count": 0,
      "outputs": [
        {
          "output_type": "display_data",
          "data": {
            "image/png": "[encoded data removed]",
            "text/plain": [
              "<Figure size 432x288 with 1 Axes>"
            ]
          },
          "metadata": {
            "tags": []
          }
        }
      ]
    },
    {
      "cell_type": "markdown",
      "metadata": {
        "id": "bHXJ-iPznNLF",
        "colab_type": "text"
      },
      "source": [
        "### Box-cox Transform"
      ]
    },
    {
      "cell_type": "code",
      "metadata": {
        "id": "8S7ZN4-FnMq9",
        "colab_type": "code",
        "outputId": "a80bde9f-f64c-42f0-9676-9507484f09ce",
        "colab": {
          "base_uri": "https://localhost:8080/",
          "height": 318
        }
      },
      "source": [
        "#https://docs.scipy.org/doc/scipy/reference/generated/scipy.stats.boxcox.html\n",
        "x_t, l = stats.boxcox(x) # l=lambda, x_t =x tranformed by box-cox\n",
        "print(l)\n",
        "\n",
        "#QQ-Plot\n",
        "stats.probplot(x_t, dist=\"norm\", plot=plt)\n",
        "plt.grid()"
      ],
      "execution_count": 0,
      "outputs": [
        {
          "output_type": "stream",
          "text": [
            "0.27068802114710405\n"
          ],
          "name": "stdout"
        },
        {
          "output_type": "display_data",
          "data": {
            "image/png": "[encoded data removed]",
            "text/plain": [
              "<Figure size 432x288 with 1 Axes>"
            ]
          },
          "metadata": {
            "tags": []
          }
        }
      ]
    },
    {
      "cell_type": "code",
      "metadata": {
        "id": "NijX0CCFoBEj",
        "colab_type": "code",
        "outputId": "22914162-b890-4921-b535-01a28d02e66d",
        "colab": {
          "base_uri": "https://localhost:8080/",
          "height": 285
        }
      },
      "source": [
        "# PDF of x_t\n",
        "sns.set()\n",
        "sns.distplot(x_t)\n",
        "\n",
        "#CDF of x_t\n",
        "kwargs = {'cumulative': True}\n",
        "sns.distplot(x_t, hist_kws=kwargs, kde_kws=kwargs)"
      ],
      "execution_count": 0,
      "outputs": [
        {
          "output_type": "execute_result",
          "data": {
            "text/plain": [
              "<matplotlib.axes._subplots.AxesSubplot at 0x7f505f6605c0>"
            ]
          },
          "metadata": {
            "tags": []
          },
          "execution_count": 24
        },
        {
          "output_type": "display_data",
          "data": {
            "image/png": "[encoded data removed]",
            "text/plain": [
              "<Figure size 432x288 with 1 Axes>"
            ]
          },
          "metadata": {
            "tags": []
          }
        }
      ]
    },
    {
      "cell_type": "code",
      "metadata": {
        "id": "hb-c9X-HobBp",
        "colab_type": "code",
        "outputId": "9256213f-68a0-4907-df76-5049e475d24a",
        "colab": {
          "base_uri": "https://localhost:8080/",
          "height": 285
        }
      },
      "source": [
        "# Pareto distributed data\n",
        "# https://docs.scipy.org/doc/numpy-1.14.1/reference/generated/numpy.random.pareto.html\n",
        "x = np.random.pareto(a=2.0, size=1000) \n",
        "\n",
        "# PDF of x\n",
        "sns.set()\n",
        "ax = sns.distplot(x)\n",
        "\n",
        "#CDF of x\n",
        "kwargs = {'cumulative': True}\n",
        "sns.distplot(x, hist_kws=kwargs, kde_kws=kwargs)\n"
      ],
      "execution_count": 0,
      "outputs": [
        {
          "output_type": "execute_result",
          "data": {
            "text/plain": [
              "<matplotlib.axes._subplots.AxesSubplot at 0x7f505f000898>"
            ]
          },
          "metadata": {
            "tags": []
          },
          "execution_count": 30
        },
        {
          "output_type": "display_data",
          "data": {
            "image/png": "[encoded data removed]",
            "text/plain": [
              "<Figure size 432x288 with 1 Axes>"
            ]
          },
          "metadata": {
            "tags": []
          }
        }
      ]
    },
    {
      "cell_type": "code",
      "metadata": {
        "id": "Yf1NcrR0tS8u",
        "colab_type": "code",
        "outputId": "d7c013ee-b1a7-4917-b5d4-6a7f3c1e7ca7",
        "colab": {
          "base_uri": "https://localhost:8080/",
          "height": 318
        }
      },
      "source": [
        "#Box-cox\n",
        "#https://docs.scipy.org/doc/scipy/reference/generated/scipy.stats.boxcox.html\n",
        "x_t, l = stats.boxcox(x) # l=lambda, x_t =x tranformed by box-cox\n",
        "print(l)\n",
        "\n",
        "#QQ-Plot\n",
        "stats.probplot(x_t, dist=\"norm\", plot=plt)\n",
        "plt.grid()"
      ],
      "execution_count": 0,
      "outputs": [
        {
          "output_type": "stream",
          "text": [
            "0.13651744696716228\n"
          ],
          "name": "stdout"
        },
        {
          "output_type": "display_data",
          "data": {
            "image/png": "[encoded data removed]",
            "text/plain": [
              "<Figure size 432x288 with 1 Axes>"
            ]
          },
          "metadata": {
            "tags": []
          }
        }
      ]
    },
    {
      "cell_type": "code",
      "metadata": {
        "id": "0LwbxrWTtprK",
        "colab_type": "code",
        "outputId": "53f0b0cc-6f16-4a9c-de59-c162e209c54c",
        "colab": {
          "base_uri": "https://localhost:8080/",
          "height": 285
        }
      },
      "source": [
        "# PDF of x_t\n",
        "sns.set()\n",
        "ax = sns.distplot(x_t)\n",
        "\n",
        "#CDF of x_t\n",
        "kwargs = {'cumulative': True}\n",
        "sns.distplot(x_t, hist_kws=kwargs, kde_kws=kwargs)"
      ],
      "execution_count": 0,
      "outputs": [
        {
          "output_type": "execute_result",
          "data": {
            "text/plain": [
              "<matplotlib.axes._subplots.AxesSubplot at 0x7f505f092ac8>"
            ]
          },
          "metadata": {
            "tags": []
          },
          "execution_count": 32
        },
        {
          "output_type": "display_data",
          "data": {
            "image/png": "[encoded data removed]",
            "text/plain": [
              "<Figure size 432x288 with 1 Axes>"
            ]
          },
          "metadata": {
            "tags": []
          }
        }
      ]
    },
    {
      "cell_type": "markdown",
      "metadata": {
        "id": "P4-mjU9qulVQ",
        "colab_type": "text"
      },
      "source": [
        "### Bootstrapping\n",
        "- Non-parametric Stats + Computational-Simulations\n",
        "- CLT: Sample means are Gaussian distributed with mean=population-mean.\n",
        "- Q. How to estimate the population median (or other statistics) given a single sample (S)?\n",
        "- Ans: Bootstrapping\n",
        "- Assmumption: Each observed value in the sample (S) is randomly collected and are independent.\n",
        "\n",
        "\n"
      ]
    },
    {
      "cell_type": "code",
      "metadata": {
        "id": "igzRIEzv382f",
        "colab_type": "code",
        "colab": {}
      },
      "source": [
        "# Bootstrapping diagram\n",
        "\n"
      ],
      "execution_count": 0,
      "outputs": []
    },
    {
      "cell_type": "code",
      "metadata": {
        "id": "mmQy0cU21V7g",
        "colab_type": "code",
        "outputId": "9fe20b47-b9ed-4657-e058-d1e174d3e28c",
        "colab": {
          "base_uri": "https://localhost:8080/",
          "height": 34
        }
      },
      "source": [
        "# Synthetically create a sample with random and independent observations\n",
        "\n",
        "# Let us use a sample of synthetic data (from some disb) \n",
        "# we generated so that we know the population medain to compare against\n",
        "# Let sample from Beta disb with alpha = 2,beta=2 which has a population median of 0.5\n",
        "# Refer: https://en.wikipedia.org/wiki/Beta_distribution Median ~ (alpha-1/3)/(alpha+beta-2/3) if alpaha, beta >1\n",
        "\n",
        "n=100;\n",
        "S = np.random.beta(2,2,n) # data can have any distribution.\n",
        "\n",
        "#Q. Given S, how to estimate the popualtion median?\n",
        "\n",
        "# function to generate a bootstrap(sampling with repalcement) sample of size n given a sample S. Each sample \n",
        "def bootstrapSample(S, m):\n",
        "\n",
        "  n = S.size; # size of S\n",
        "  indx = np.random.randint(n, size=m) # generates random integer indices from discrete unif random disb\n",
        "  r = S[indx]\n",
        "  return r\n",
        "\n",
        "\n",
        "m = 50; # size of each bootstap sample\n",
        "k = 1000; # number of botostrap samples\n",
        "\n",
        "medians = np.zeros(k)\n",
        "\n",
        "for i in range(k):\n",
        "  medians[i] = np.median(bootstrapSample(S, m))\n",
        "\n",
        "print(medians.size)"
      ],
      "execution_count": 0,
      "outputs": [
        {
          "output_type": "stream",
          "text": [
            "1000\n"
          ],
          "name": "stdout"
        }
      ]
    },
    {
      "cell_type": "code",
      "metadata": {
        "id": "-7m24pus6JZc",
        "colab_type": "code",
        "outputId": "7a48aeef-21b4-44f6-ca79-3876563b0cf8",
        "colab": {
          "base_uri": "https://localhost:8080/",
          "height": 34
        }
      },
      "source": [
        "# Now estimate median\n",
        "print(np.mean(medians))"
      ],
      "execution_count": 0,
      "outputs": [
        {
          "output_type": "stream",
          "text": [
            "0.4585345416514776\n"
          ],
          "name": "stdout"
        }
      ]
    },
    {
      "cell_type": "code",
      "metadata": {
        "id": "U9HTvSEJ6LEr",
        "colab_type": "code",
        "outputId": "7582c6b5-8a70-4f0d-83e1-b43badbf5f06",
        "colab": {
          "base_uri": "https://localhost:8080/",
          "height": 34
        }
      },
      "source": [
        "print(np.median(medians))"
      ],
      "execution_count": 0,
      "outputs": [
        {
          "output_type": "stream",
          "text": [
            "0.4660887318771574\n"
          ],
          "name": "stdout"
        }
      ]
    },
    {
      "cell_type": "code",
      "metadata": {
        "id": "E1bnC_346Ohr",
        "colab_type": "code",
        "outputId": "bfdb701c-ce5b-4f60-9814-92de73b3aeb9",
        "colab": {
          "base_uri": "https://localhost:8080/",
          "height": 268
        }
      },
      "source": [
        "sns.set()\n",
        "ax = sns.distplot(medians)\n"
      ],
      "execution_count": 0,
      "outputs": [
        {
          "output_type": "display_data",
          "data": {
            "image/png": "[encoded data removed]",
            "text/plain": [
              "<Figure size 432x288 with 1 Axes>"
            ]
          },
          "metadata": {
            "tags": []
          }
        }
      ]
    },
    {
      "cell_type": "code",
      "metadata": {
        "id": "E3jbWoWl6Zki",
        "colab_type": "code",
        "outputId": "b5e7928c-945d-488a-f405-c480f0116e4f",
        "colab": {
          "base_uri": "https://localhost:8080/",
          "height": 34
        }
      },
      "source": [
        "# 95% C.I on the medain estimate with n=100, m=50, k=1000\n",
        "\n",
        "#https://docs.scipy.org/doc/numpy/reference/generated/numpy.percentile.html\n",
        "lb_M = np.percentile(medians,2.5)\n",
        "ub_M = np.percentile(medians,97.5)\n",
        "mid_M = np.percentile(medians,50)\n",
        "\n",
        "print(lb_M, mid_M, ub_M)"
      ],
      "execution_count": 0,
      "outputs": [
        {
          "output_type": "stream",
          "text": [
            "0.37378019891250347 0.4660887318771574 0.5424756696350534\n"
          ],
          "name": "stdout"
        }
      ]
    },
    {
      "cell_type": "code",
      "metadata": {
        "id": "c8PdH8697HMF",
        "colab_type": "code",
        "outputId": "ae93fcd3-1503-4b1f-bc28-c88c5daa4352",
        "colab": {
          "base_uri": "https://localhost:8080/",
          "height": 52
        }
      },
      "source": [
        "# same experiment as above with same S, n=100, m=100, k=1000\n",
        "\n",
        "n=100\n",
        "m=100 # size of each bootstap sample\n",
        "k=1000  # number of botostrap samples\n",
        "\n",
        "medians = np.zeros(k)\n",
        "\n",
        "for i in range(k):\n",
        "  medians[i] = np.median(bootstrapSample(S, m))\n",
        "\n",
        "print(medians.size)\n",
        "\n",
        "lb_M = np.percentile(medians,2.5)\n",
        "ub_M = np.percentile(medians,97.5)\n",
        "mid_M = np.percentile(medians,50)\n",
        "\n",
        "print(lb_M, mid_M, ub_M)"
      ],
      "execution_count": 0,
      "outputs": [
        {
          "output_type": "stream",
          "text": [
            "1000\n",
            "0.37412150290076174 0.4679229480896182 0.5424606326849848\n"
          ],
          "name": "stdout"
        }
      ]
    },
    {
      "cell_type": "code",
      "metadata": {
        "id": "1G6do_pt7iTI",
        "colab_type": "code",
        "outputId": "53b3bea2-515d-454c-8b7e-823213639ab8",
        "colab": {
          "base_uri": "https://localhost:8080/",
          "height": 52
        }
      },
      "source": [
        "# same experiment as above with same S, n=100, m=200, k=1000\n",
        "\n",
        "n=100\n",
        "m=200 # size of each bootstap sample\n",
        "k=1000  # number of botostrap samples\n",
        "\n",
        "medians = np.zeros(k)\n",
        "\n",
        "for i in range(k):\n",
        "  medians[i] = np.median(bootstrapSample(S, m))\n",
        "\n",
        "print(medians.size)\n",
        "\n",
        "lb_M = np.percentile(medians,2.5)\n",
        "ub_M = np.percentile(medians,97.5)\n",
        "mid_M = np.percentile(medians,50)\n",
        "\n",
        "print(lb_M, mid_M, ub_M)"
      ],
      "execution_count": 0,
      "outputs": [
        {
          "output_type": "stream",
          "text": [
            "1000\n",
            "0.4062452196854919 0.4679229480896182 0.515828081425096\n"
          ],
          "name": "stdout"
        }
      ]
    },
    {
      "cell_type": "markdown",
      "metadata": {
        "id": "OdD399jx75VB",
        "colab_type": "text"
      },
      "source": [
        "Exercise: Estimate 10th percentile value of the population given a sample of 100 points from any distribution."
      ]
    },
    {
      "cell_type": "markdown",
      "metadata": {
        "id": "NjONACwYuH16",
        "colab_type": "text"
      },
      "source": [
        "### Permutation tests + Resampling\n",
        "- let's do it line by line as per the algorithm explained in the course videos."
      ]
    },
    {
      "cell_type": "code",
      "metadata": {
        "id": "VSmvuQNluHLL",
        "colab_type": "code",
        "outputId": "95af1f5c-4c7d-4e27-e565-ab3fa8e968ff",
        "colab": {
          "base_uri": "https://localhost:8080/",
          "height": 337
        }
      },
      "source": [
        "# Two sets of observations: Prices of prodcuts bought by men and women\n",
        "# Again, let us use synthetic data so that we know if there is actually a differnce in population of Women and Men.\n",
        "\n",
        "# Spends are pareto disb. Few people spend lots of money and most spend a smlla amount of money.\n",
        "# Refer: https://en.wikipedia.org/wiki/Pareto_distribution\n",
        "import matplotlib.pyplot as plt\n",
        "import seaborn as sns\n",
        "import numpy as np\n",
        "from scipy import stats\n",
        "\n",
        "n=100; # sample size\n",
        "\n",
        "np.random.seed(100)\n",
        "#observed samples\n",
        "PM = np.random.pareto(a=5.0,size=n)\n",
        "PW = np.random.pareto(a=4.0,size=n)\n",
        "\n",
        "# observed value of | W_Median-M_Median | \n",
        "obs =  abs(np.percentile(PW,50) - np.percentile(PM,50))\n",
        "print(obs)\n",
        "\n",
        "plt.style.use('dark_background')\n",
        "\n",
        "sns.distplot(PW,label=\"W\")\n",
        "sns.distplot(PM, label=\"M\")\n",
        "plt.grid()\n",
        "plt.legend()\n",
        "plt.show()\n",
        "\n",
        "\n",
        "# Now, from the way we generated the data, we know that W and M populations are slightly differnt \n",
        "\n"
      ],
      "execution_count": 1,
      "outputs": [
        {
          "output_type": "stream",
          "text": [
            "/usr/local/lib/python3.6/dist-packages/statsmodels/tools/_testing.py:19: FutureWarning: pandas.util.testing is deprecated. Use the functions in the public API at pandas.testing instead.\n",
            "  import pandas.util.testing as tm\n"
          ],
          "name": "stderr"
        },
        {
          "output_type": "stream",
          "text": [
            "0.06624816891345076\n"
          ],
          "name": "stdout"
        },
        {
          "output_type": "display_data",
          "data": {
            "image/png": "[encoded data removed]",
            "text/plain": [
              "<Figure size 432x288 with 1 Axes>"
            ]
          },
          "metadata": {
            "tags": []
          }
        }
      ]
    },
    {
      "cell_type": "code",
      "metadata": {
        "id": "dA0zfAJ3J9lD",
        "colab_type": "code",
        "outputId": "54b7680e-0302-403f-ad48-7b3e71284e2e",
        "colab": {
          "base_uri": "https://localhost:8080/",
          "height": 282
        }
      },
      "source": [
        "# Test-Statistic = abs(W_M - M_M)\n",
        "# W_M : Median spend by women.\n",
        "# M_M : Median spend by men.\n",
        "\n",
        "\n",
        "# H0: Women and men spend the same amount\n",
        "\n",
        "\n",
        "# P = Concatenate(PM, PW)\n",
        "P = np.concatenate((PM,PW)) # tuple of arrays as param. Common mistake\n",
        "\n",
        "k=1000 # number of resamplings\n",
        "testStats = np.zeros(k)\n",
        "\n",
        "for i in range(k):\n",
        "  # resampling: split P into two random halves and tag hald as men and the rest as women.\n",
        "  # Refer: https://stackoverflow.com/questions/3674409/how-to-split-partition-a-dataset-into-training-and-test-datasets-for-e-g-cros\n",
        "  np.random.shuffle(P)\n",
        "  tmp_men, tmp_women = P[:n], P[n:]\n",
        "\n",
        "  # Compute test-statistic\n",
        "  testStats[i] = abs(np.percentile(tmp_women,50) - np.percentile(tmp_men,50))\n",
        "\n",
        "#CDF of testStats\n",
        "kwargs = {'cumulative': True}\n",
        "sns.distplot(testStats, hist_kws=kwargs, kde_kws=kwargs, )\n",
        "plt.grid()\n",
        "plt.show"
      ],
      "execution_count": 0,
      "outputs": [
        {
          "output_type": "execute_result",
          "data": {
            "text/plain": [
              "<function matplotlib.pyplot.show>"
            ]
          },
          "metadata": {
            "tags": []
          },
          "execution_count": 17
        },
        {
          "output_type": "display_data",
          "data": {
            "image/png": "[encoded data removed]",
            "text/plain": [
              "<Figure size 432x288 with 1 Axes>"
            ]
          },
          "metadata": {
            "tags": []
          }
        }
      ]
    },
    {
      "cell_type": "code",
      "metadata": {
        "id": "5KVs9RmRtvxJ",
        "colab_type": "code",
        "outputId": "560b77ea-8f4b-46d3-dc17-b8767298c835",
        "colab": {
          "base_uri": "https://localhost:8080/",
          "height": 52
        }
      },
      "source": [
        "# Hypothesis testing: P(testStat > Obs | H0 ) can be estimated from testStats.\n",
        "\n",
        "obs =  abs(np.percentile(PW,50) - np.percentile(PM,50))\n",
        "print(obs)\n",
        "\n",
        "num_h0 = np.sum(testStats >=  obs)\n",
        "prob = num_h0/k\n",
        "print(prob)\n",
        "\n",
        "# if Prob(testStat >= Obs | H0) < 0.05 \n",
        "# then, it is very unlikely to observe the observed-difference and hence we reject H0\n",
        "# else we accept H0\n"
      ],
      "execution_count": 0,
      "outputs": [
        {
          "output_type": "stream",
          "text": [
            "0.06624816891345076\n",
            "0.036\n"
          ],
          "name": "stdout"
        }
      ]
    },
    {
      "cell_type": "code",
      "metadata": {
        "id": "xpQOYK8k8UZ4",
        "colab_type": "code",
        "colab": {}
      },
      "source": [
        "# Let us write a function for this\n",
        "def hypTestMedian(PW,PM):\n",
        "\n",
        "  # observed value of W_Median-M_Median\n",
        "  obs =  abs(np.percentile(PW,50) - np.percentile(PM,50))\n",
        "\n",
        "  # H0: Women and men spend the same amount\n",
        "\n",
        "\n",
        "  # P = Concatenate(PM, PW)\n",
        "  P = np.concatenate((PM,PW)) # tuple of arrays as param. Common mistake\n",
        "\n",
        "  k=1000 # number of resamplings\n",
        "  testStats = np.zeros(k)\n",
        "\n",
        "  for i in range(k):\n",
        "    # resampling: split P into two random halves and tag hald as men and the rest as women.\n",
        "    # Refer: https://stackoverflow.com/questions/3674409/how-to-split-partition-a-dataset-into-training-and-test-datasets-for-e-g-cros\n",
        "    np.random.shuffle(P)\n",
        "    tmp_men, tmp_women = P[:n], P[n:]\n",
        "\n",
        "    # Compute test-statistic\n",
        "    testStats[i] = abs(np.percentile(tmp_women,50) - np.percentile(tmp_men,50))\n",
        "\n",
        "  # Hypothesis testing: P(testStat > Obs | H0 ) can be estimated from testStats.\n",
        "\n",
        "\n",
        "  num_h0 = np.sum(testStats >=  obs)\n",
        "  prob = num_h0/k\n",
        "  return prob"
      ],
      "execution_count": 0,
      "outputs": []
    },
    {
      "cell_type": "code",
      "metadata": {
        "id": "MHdpGoRY86Ov",
        "colab_type": "code",
        "outputId": "7f47764a-54c6-40c2-d824-0fe448396816",
        "colab": {
          "base_uri": "https://localhost:8080/",
          "height": 34
        }
      },
      "source": [
        "#1.\n",
        "n=100; # sample size\n",
        "\n",
        "np.random.seed(100)\n",
        "PM = np.random.pareto(a=5.0,size=n)\n",
        "PW = np.random.pareto(a=4.0,size=n)\n",
        "print(hypTestMedian(PW,PM))"
      ],
      "execution_count": 0,
      "outputs": [
        {
          "output_type": "stream",
          "text": [
            "0.036\n"
          ],
          "name": "stdout"
        }
      ]
    },
    {
      "cell_type": "code",
      "metadata": {
        "id": "Oa9H7b3d9NU6",
        "colab_type": "code",
        "outputId": "0c765ae5-da3b-42a0-96bc-4091d77b0c21",
        "colab": {
          "base_uri": "https://localhost:8080/",
          "height": 34
        }
      },
      "source": [
        "#2.\n",
        "n=100; # sample size\n",
        "\n",
        "np.random.seed(100)\n",
        "PM = np.random.pareto(a=5.0,size=n)\n",
        "PW = np.random.pareto(a=3.0,size=n)\n",
        "print(hypTestMedian(PW,PM))"
      ],
      "execution_count": 0,
      "outputs": [
        {
          "output_type": "stream",
          "text": [
            "0.0\n"
          ],
          "name": "stdout"
        }
      ]
    },
    {
      "cell_type": "code",
      "metadata": {
        "id": "oY7awgNK9Zy2",
        "colab_type": "code",
        "outputId": "2ea10609-00c3-4ec2-a3e5-16b3fb0ee394",
        "colab": {
          "base_uri": "https://localhost:8080/",
          "height": 34
        }
      },
      "source": [
        "#3.\n",
        "n=100; # sample size\n",
        "\n",
        "np.random.seed(100)\n",
        "PM = np.random.pareto(a=5.0,size=n)\n",
        "PW = np.random.pareto(a=5.0,size=n)\n",
        "print(hypTestMedian(PW,PM))"
      ],
      "execution_count": 0,
      "outputs": [
        {
          "output_type": "stream",
          "text": [
            "0.343\n"
          ],
          "name": "stdout"
        }
      ]
    },
    {
      "cell_type": "code",
      "metadata": {
        "id": "vtFdJGeW9tcp",
        "colab_type": "code",
        "outputId": "c5ca331d-4008-419d-ff5b-2320b113dba4",
        "colab": {
          "base_uri": "https://localhost:8080/",
          "height": 34
        }
      },
      "source": [
        "#3.\n",
        "n=100; # sample size\n",
        "\n",
        "np.random.seed(100)\n",
        "PM = np.random.pareto(a=5.0,size=n)\n",
        "PW = np.random.pareto(a=4.5,size=n)\n",
        "print(hypTestMedian(PW,PM))"
      ],
      "execution_count": 0,
      "outputs": [
        {
          "output_type": "stream",
          "text": [
            "0.162\n"
          ],
          "name": "stdout"
        }
      ]
    },
    {
      "cell_type": "markdown",
      "metadata": {
        "id": "9-dxbg4Es7y6",
        "colab_type": "text"
      },
      "source": [
        "### KS-Test\n",
        "We can do KS-Test to compare the distribution of PM and PW as follows.\n",
        "- KS-Test uses the supremum of the gap between the distirbutions as the test-statistic.\n",
        "- It also uses KS-distirbution to arrive at the probability-values.\n",
        "- Permutaion+Resampling is completely non-parametric."
      ]
    },
    {
      "cell_type": "code",
      "metadata": {
        "id": "qyviMLthtYSl",
        "colab_type": "code",
        "outputId": "31c5d228-ca1c-4be0-aa6d-275113c3fdfd",
        "colab": {
          "base_uri": "https://localhost:8080/",
          "height": 34
        }
      },
      "source": [
        "# https://docs.scipy.org/doc/scipy-0.14.0/reference/generated/scipy.stats.ks_2samp.html\n",
        "from scipy import stats\n",
        "\n",
        "#1\n",
        "n=100; # sample size\n",
        "np.random.seed(100)\n",
        "PM = np.random.pareto(a=5.0,size=n)\n",
        "PW = np.random.pareto(a=4.0,size=n)\n",
        "\n",
        "D,p = stats.ks_2samp(PW, PM)\n",
        "print(D,p)"
      ],
      "execution_count": 0,
      "outputs": [
        {
          "output_type": "stream",
          "text": [
            "0.19 0.05390207893129876\n"
          ],
          "name": "stdout"
        }
      ]
    },
    {
      "cell_type": "markdown",
      "metadata": {
        "id": "e_ygkRpNZbYK",
        "colab_type": "text"
      },
      "source": [
        "### Measuring Causality\n",
        "- Correlation does NOT imply causation\n",
        "- Why is causation important? \n",
        "- Scientific/Medical experiments\n",
        "- Randomized control trails aka A/B tests aka Bucket-Testing.\n",
        "- Course videos on A/B Testing \n",
        "\n",
        "<img src=\"https://i.imgur.com/0dq0xKz.png\" width=\"700\"/>\n",
        "\n",
        "\n",
        "\n"
      ]
    },
    {
      "cell_type": "markdown",
      "metadata": {
        "id": "mo1pJHLQuaYB",
        "colab_type": "text"
      },
      "source": [
        "### Concurrent A/B Tests\n",
        "- What if Amazon wants to conduct 100 experiments at the same time?\n",
        "\n",
        "<img src=\"https://i.imgur.com/9lOsmyY.png\" width=\"700\"/>\n"
      ]
    }
  ]
}
