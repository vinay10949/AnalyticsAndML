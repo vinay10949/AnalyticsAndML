{
  "nbformat": 4,
  "nbformat_minor": 0,
  "metadata": {
    "kernelspec": {
      "display_name": "Python 3",
      "language": "python",
      "name": "python3"
    },
    "language_info": {
      "codemirror_mode": {
        "name": "ipython",
        "version": 3
      },
      "file_extension": ".py",
      "mimetype": "text/x-python",
      "name": "python",
      "nbconvert_exporter": "python",
      "pygments_lexer": "ipython3",
      "version": "3.7.6"
    },
    "pycharm": {
      "stem_cell": {
        "cell_type": "raw",
        "metadata": {
          "collapsed": false
        },
        "source": []
      }
    },
    "colab": {
      "name": "unit_testing_input_data.ipynb",
      "provenance": [],
      "include_colab_link": true
    }
  },
  "cells": [
    {
      "cell_type": "markdown",
      "metadata": {
        "id": "view-in-github",
        "colab_type": "text"
      },
      "source": [
        "<a href=\"https://colab.research.google.com/github/vinay10949/AnalyticsAndML/blob/master/MLTestingAndMonitoring/UnitTesting/unit_testing_input_data.ipynb\" target=\"_parent\"><img src=\"https://colab.research.google.com/assets/colab-badge.svg\" alt=\"Open In Colab\"/></a>"
      ]
    },
    {
      "cell_type": "markdown",
      "metadata": {
        "id": "UidRJdPR-Jmg",
        "colab_type": "text"
      },
      "source": [
        "# Unit Testing ML Code: Hands-on Exercise (Input Values)\n",
        "\n",
        "## In this notebook we will explore unit tests to validate input data using a basic schema\n",
        "\n",
        "#### We will use a classic toy dataset: the Iris plants dataset, which comes included with scikit-learn\n",
        "Dataset details: https://scikit-learn.org/stable/datasets/index.html#iris-plants-dataset\n",
        "\n",
        "As we progress through the course, the complexity of examples will increase, but we will start with something basic. This notebook is designed so that it can be run in isolation, once the setup steps described below are complete.\n",
        "\n",
        "### Setup\n",
        "\n",
        "Let's begin by importing the dataset and the libraries we are going to use. Make sure you have run `pip install -r requirements.txt` on requirements file located in the same directory as this notebook. We recommend doing this in a separate virtual environment (see dedicated setup lecture).\n",
        "\n",
        "If you need a refresher on jupyter, pandas or numpy, there are some links to resources in the section notes."
      ]
    },
    {
      "cell_type": "code",
      "metadata": {
        "pycharm": {
          "is_executing": false,
          "name": "#%%\n"
        },
        "id": "liQIsytl-Jmj",
        "colab_type": "code",
        "colab": {}
      },
      "source": [
        "from sklearn import datasets\n",
        "import pandas as pd\n",
        "import numpy as np\n",
        "\n",
        "# Access the iris dataset from sklearn\n",
        "iris = datasets.load_iris()\n",
        "\n",
        "# Load the iris data into a pandas dataframe. The `data` and `feature_names`\n",
        "# attributes of the dataset are added by default by sklearn. We use them to\n",
        "# specify the columns of our dataframes.\n",
        "iris_frame = pd.DataFrame(iris.data, columns=iris.feature_names)\n",
        "\n",
        "# Create a \"target\" column in our dataframe, and set the values to the correct\n",
        "# classifications from the dataset.\n",
        "iris_frame['target'] = iris.target"
      ],
      "execution_count": 0,
      "outputs": []
    },
    {
      "cell_type": "code",
      "metadata": {
        "pycharm": {
          "is_executing": false,
          "name": "#%%\n"
        },
        "id": "jAJrdAs4-Jm1",
        "colab_type": "code",
        "colab": {
          "base_uri": "https://localhost:8080/",
          "height": 206
        },
        "outputId": "10277a19-f698-4eaa-ab69-99cf6b5eecd4"
      },
      "source": [
        "# View the first 5 rows of our dataframe.\n",
        "iris_frame.head(5)"
      ],
      "execution_count": 2,
      "outputs": [
        {
          "output_type": "execute_result",
          "data": {
            "text/html": [
              "<div>\n",
              "<style scoped>\n",
              "    .dataframe tbody tr th:only-of-type {\n",
              "        vertical-align: middle;\n",
              "    }\n",
              "\n",
              "    .dataframe tbody tr th {\n",
              "        vertical-align: top;\n",
              "    }\n",
              "\n",
              "    .dataframe thead th {\n",
              "        text-align: right;\n",
              "    }\n",
              "</style>\n",
              "<table border=\"1\" class=\"dataframe\">\n",
              "  <thead>\n",
              "    <tr style=\"text-align: right;\">\n",
              "      <th></th>\n",
              "      <th>sepal length (cm)</th>\n",
              "      <th>sepal width (cm)</th>\n",
              "      <th>petal length (cm)</th>\n",
              "      <th>petal width (cm)</th>\n",
              "      <th>target</th>\n",
              "    </tr>\n",
              "  </thead>\n",
              "  <tbody>\n",
              "    <tr>\n",
              "      <th>0</th>\n",
              "      <td>5.1</td>\n",
              "      <td>3.5</td>\n",
              "      <td>1.4</td>\n",
              "      <td>0.2</td>\n",
              "      <td>0</td>\n",
              "    </tr>\n",
              "    <tr>\n",
              "      <th>1</th>\n",
              "      <td>4.9</td>\n",
              "      <td>3.0</td>\n",
              "      <td>1.4</td>\n",
              "      <td>0.2</td>\n",
              "      <td>0</td>\n",
              "    </tr>\n",
              "    <tr>\n",
              "      <th>2</th>\n",
              "      <td>4.7</td>\n",
              "      <td>3.2</td>\n",
              "      <td>1.3</td>\n",
              "      <td>0.2</td>\n",
              "      <td>0</td>\n",
              "    </tr>\n",
              "    <tr>\n",
              "      <th>3</th>\n",
              "      <td>4.6</td>\n",
              "      <td>3.1</td>\n",
              "      <td>1.5</td>\n",
              "      <td>0.2</td>\n",
              "      <td>0</td>\n",
              "    </tr>\n",
              "    <tr>\n",
              "      <th>4</th>\n",
              "      <td>5.0</td>\n",
              "      <td>3.6</td>\n",
              "      <td>1.4</td>\n",
              "      <td>0.2</td>\n",
              "      <td>0</td>\n",
              "    </tr>\n",
              "  </tbody>\n",
              "</table>\n",
              "</div>"
            ],
            "text/plain": [
              "   sepal length (cm)  sepal width (cm)  ...  petal width (cm)  target\n",
              "0                5.1               3.5  ...               0.2       0\n",
              "1                4.9               3.0  ...               0.2       0\n",
              "2                4.7               3.2  ...               0.2       0\n",
              "3                4.6               3.1  ...               0.2       0\n",
              "4                5.0               3.6  ...               0.2       0\n",
              "\n",
              "[5 rows x 5 columns]"
            ]
          },
          "metadata": {
            "tags": []
          },
          "execution_count": 2
        }
      ]
    },
    {
      "cell_type": "code",
      "metadata": {
        "id": "64pTiHk6-JnI",
        "colab_type": "code",
        "colab": {
          "base_uri": "https://localhost:8080/",
          "height": 300
        },
        "outputId": "5ff81543-26a2-4a0c-f6d5-9a64bd9ffe1a"
      },
      "source": [
        "# View summary statistics for our dataframe.\n",
        "iris_frame.describe()"
      ],
      "execution_count": 3,
      "outputs": [
        {
          "output_type": "execute_result",
          "data": {
            "text/html": [
              "<div>\n",
              "<style scoped>\n",
              "    .dataframe tbody tr th:only-of-type {\n",
              "        vertical-align: middle;\n",
              "    }\n",
              "\n",
              "    .dataframe tbody tr th {\n",
              "        vertical-align: top;\n",
              "    }\n",
              "\n",
              "    .dataframe thead th {\n",
              "        text-align: right;\n",
              "    }\n",
              "</style>\n",
              "<table border=\"1\" class=\"dataframe\">\n",
              "  <thead>\n",
              "    <tr style=\"text-align: right;\">\n",
              "      <th></th>\n",
              "      <th>sepal length (cm)</th>\n",
              "      <th>sepal width (cm)</th>\n",
              "      <th>petal length (cm)</th>\n",
              "      <th>petal width (cm)</th>\n",
              "      <th>target</th>\n",
              "    </tr>\n",
              "  </thead>\n",
              "  <tbody>\n",
              "    <tr>\n",
              "      <th>count</th>\n",
              "      <td>150.000000</td>\n",
              "      <td>150.000000</td>\n",
              "      <td>150.000000</td>\n",
              "      <td>150.000000</td>\n",
              "      <td>150.000000</td>\n",
              "    </tr>\n",
              "    <tr>\n",
              "      <th>mean</th>\n",
              "      <td>5.843333</td>\n",
              "      <td>3.057333</td>\n",
              "      <td>3.758000</td>\n",
              "      <td>1.199333</td>\n",
              "      <td>1.000000</td>\n",
              "    </tr>\n",
              "    <tr>\n",
              "      <th>std</th>\n",
              "      <td>0.828066</td>\n",
              "      <td>0.435866</td>\n",
              "      <td>1.765298</td>\n",
              "      <td>0.762238</td>\n",
              "      <td>0.819232</td>\n",
              "    </tr>\n",
              "    <tr>\n",
              "      <th>min</th>\n",
              "      <td>4.300000</td>\n",
              "      <td>2.000000</td>\n",
              "      <td>1.000000</td>\n",
              "      <td>0.100000</td>\n",
              "      <td>0.000000</td>\n",
              "    </tr>\n",
              "    <tr>\n",
              "      <th>25%</th>\n",
              "      <td>5.100000</td>\n",
              "      <td>2.800000</td>\n",
              "      <td>1.600000</td>\n",
              "      <td>0.300000</td>\n",
              "      <td>0.000000</td>\n",
              "    </tr>\n",
              "    <tr>\n",
              "      <th>50%</th>\n",
              "      <td>5.800000</td>\n",
              "      <td>3.000000</td>\n",
              "      <td>4.350000</td>\n",
              "      <td>1.300000</td>\n",
              "      <td>1.000000</td>\n",
              "    </tr>\n",
              "    <tr>\n",
              "      <th>75%</th>\n",
              "      <td>6.400000</td>\n",
              "      <td>3.300000</td>\n",
              "      <td>5.100000</td>\n",
              "      <td>1.800000</td>\n",
              "      <td>2.000000</td>\n",
              "    </tr>\n",
              "    <tr>\n",
              "      <th>max</th>\n",
              "      <td>7.900000</td>\n",
              "      <td>4.400000</td>\n",
              "      <td>6.900000</td>\n",
              "      <td>2.500000</td>\n",
              "      <td>2.000000</td>\n",
              "    </tr>\n",
              "  </tbody>\n",
              "</table>\n",
              "</div>"
            ],
            "text/plain": [
              "       sepal length (cm)  sepal width (cm)  ...  petal width (cm)      target\n",
              "count         150.000000        150.000000  ...        150.000000  150.000000\n",
              "mean            5.843333          3.057333  ...          1.199333    1.000000\n",
              "std             0.828066          0.435866  ...          0.762238    0.819232\n",
              "min             4.300000          2.000000  ...          0.100000    0.000000\n",
              "25%             5.100000          2.800000  ...          0.300000    0.000000\n",
              "50%             5.800000          3.000000  ...          1.300000    1.000000\n",
              "75%             6.400000          3.300000  ...          1.800000    2.000000\n",
              "max             7.900000          4.400000  ...          2.500000    2.000000\n",
              "\n",
              "[8 rows x 5 columns]"
            ]
          },
          "metadata": {
            "tags": []
          },
          "execution_count": 3
        }
      ]
    },
    {
      "cell_type": "markdown",
      "metadata": {
        "id": "4YVhGZA7-JnV",
        "colab_type": "text"
      },
      "source": [
        "### Now that we have our data loaded, we will create a simplified pipeline.\n",
        "\n",
        "This pipeline is a class for encapsulating all the related functionality for our model. As the course unfolds, we will work with more complex pipelines, including those provided by third party libraries.\n",
        "\n",
        "We train a logistic regression model to classify the flowers from the Iris dataset."
      ]
    },
    {
      "cell_type": "code",
      "metadata": {
        "id": "d9IqAEaG-JnW",
        "colab_type": "code",
        "colab": {}
      },
      "source": [
        "from sklearn.linear_model import LogisticRegression\n",
        "from sklearn.model_selection import train_test_split\n",
        "\n",
        "\n",
        "class SimplePipeline:\n",
        "    def __init__(self):\n",
        "        self.frame = None\n",
        "        # Shorthand to specify that each value should start out as\n",
        "        # None when the class is instantiated.\n",
        "        self.X_train, self.X_test, self.y_train, self.Y_test = None, None, None, None\n",
        "        self.model = None\n",
        "        self.load_dataset()\n",
        "    \n",
        "    def load_dataset(self):\n",
        "        \"\"\"Load the dataset and perform train test split.\"\"\"\n",
        "        # fetch from sklearn\n",
        "        dataset = datasets.load_iris()\n",
        "        \n",
        "        # remove units ' (cm)' from variable names\n",
        "        self.feature_names = [fn[:-5] for fn in dataset.feature_names]\n",
        "        self.frame = pd.DataFrame(dataset.data, columns=self.feature_names)\n",
        "        self.frame['target'] = dataset.target\n",
        "        \n",
        "        # we divide the data set using the train_test_split function from sklearn, \n",
        "        # which takes as parameters, the dataframe with the predictor variables, \n",
        "        # then the target, then the percentage of data to assign to the test set, \n",
        "        # and finally the random_state to ensure reproducibility.\n",
        "        self.X_train, self.X_test, self.y_train, self.y_test = train_test_split(\n",
        "            self.frame[self.feature_names], self.frame.target, test_size=0.65, random_state=42)\n",
        "        \n",
        "    def train(self, algorithm=LogisticRegression):\n",
        "        \n",
        "        # we set up a LogisticRegression classifier with default parameters\n",
        "        self.model = algorithm(solver='lbfgs', multi_class='auto')\n",
        "        self.model.fit(self.X_train, self.y_train)\n",
        "        \n",
        "    def predict(self, input_data):\n",
        "        return self.model.predict(input_data)\n",
        "        \n",
        "    def get_accuracy(self):\n",
        "        \n",
        "        # use our X_test and y_test values generated when we used\n",
        "        # `train_test_split` to test accuracy.\n",
        "        # score is a method on the Logisitic Regression that \n",
        "        # returns the accuracy by default, but can be changed to other metrics, see: \n",
        "        # https://scikit-learn.org/stable/modules/generated/sklearn.linear_model.LogisticRegression.html#sklearn.linear_model.LogisticRegression.score\n",
        "        return self.model.score(X=self.X_test, y=self.y_test)\n",
        "    \n",
        "    def run_pipeline(self):\n",
        "        \"\"\"Helper method to run multiple pipeline methods with one call.\"\"\"\n",
        "        self.load_dataset()\n",
        "        self.train()"
      ],
      "execution_count": 0,
      "outputs": []
    },
    {
      "cell_type": "code",
      "metadata": {
        "id": "9GBosPKT-Jnh",
        "colab_type": "code",
        "colab": {
          "base_uri": "https://localhost:8080/",
          "height": 34
        },
        "outputId": "09d8d243-61f9-403b-e6d5-f83a31c386c8"
      },
      "source": [
        "pipeline = SimplePipeline()\n",
        "pipeline.run_pipeline()\n",
        "accuracy_score = pipeline.get_accuracy()\n",
        "\n",
        "# note that f' string interpolation syntax requires python 3.6\n",
        "# https://www.python.org/dev/peps/pep-0498/\n",
        "print(f'current model accuracy is: {accuracy_score}')"
      ],
      "execution_count": 5,
      "outputs": [
        {
          "output_type": "stream",
          "text": [
            "current model accuracy is: 0.9693877551020408\n"
          ],
          "name": "stdout"
        }
      ]
    },
    {
      "cell_type": "markdown",
      "metadata": {
        "id": "5_8kqOk5-Jnt",
        "colab_type": "text"
      },
      "source": [
        "### Test Inputs\n",
        "\n",
        "Now that we have our basic pipeline, we are in a position to test the input data.\n",
        "\n",
        "Best practice is to use a schema. A schema is a collection of rules which specify the expected values for a set of fields. Below we show a simple schema (just using a nested dictionary) for the Iris dataset. Later in the course we will look at more complex schemas, using some of the common Python libraries for data validation.\n",
        "\n",
        "The schema specifies the maximum and minimum values that can be taken by each variable. We can learn these values from the data, as we have done for this demo, or these values may come from specific domain knowledge of the subject.\n"
      ]
    },
    {
      "cell_type": "code",
      "metadata": {
        "id": "hPGVtjWo-Jnv",
        "colab_type": "code",
        "colab": {}
      },
      "source": [
        "iris_schema = {\n",
        "    'sepal length': {\n",
        "        'range': {\n",
        "            'min': 4.0,  # determined by looking at the dataframe .describe() method\n",
        "            'max': 8.0\n",
        "        },\n",
        "        'dtype': float,\n",
        "    },\n",
        "    'sepal width': {\n",
        "        'range': {\n",
        "            'min': 1.0,\n",
        "            'max': 5.0\n",
        "        },\n",
        "        'dtype': float,\n",
        "    },\n",
        "    'petal length': {\n",
        "        'range': {\n",
        "            'min': 1.0,\n",
        "            'max': 7.0\n",
        "        },\n",
        "        'dtype': float,\n",
        "    },\n",
        "    'petal width': {\n",
        "        'range': {\n",
        "            'min': 0.1,\n",
        "            'max': 3.0\n",
        "        },\n",
        "        'dtype': float,\n",
        "    }\n",
        "}"
      ],
      "execution_count": 0,
      "outputs": []
    },
    {
      "cell_type": "code",
      "metadata": {
        "id": "2sr2Cfym-Jn4",
        "colab_type": "code",
        "colab": {}
      },
      "source": [
        "import unittest\n",
        "import sys\n",
        "\n",
        "class TestIrisInputData(unittest.TestCase):\n",
        "    def setUp(self):\n",
        "        \n",
        "        # `setUp` will be run before each test, ensuring that you\n",
        "        # have a new pipeline to access in your tests. See the \n",
        "        # unittest docs if you are unfamiliar with unittest.\n",
        "        # https://docs.python.org/3/library/unittest.html#unittest.TestCase.setUp\n",
        "        self.pipeline = SimplePipeline()\n",
        "        self.pipeline.run_pipeline()\n",
        "    \n",
        "    def test_input_data_ranges(self):\n",
        "        # get df max and min values for each column\n",
        "        max_values = self.pipeline.frame.max()\n",
        "        min_values = self.pipeline.frame.min()\n",
        "        \n",
        "        # loop over each feature (i.e. all 4 column names)\n",
        "        for feature in self.pipeline.feature_names:\n",
        "            \n",
        "            # use unittest assertions to ensure the max/min values found in the dataset\n",
        "            # are less than/greater than those expected by the schema max/min.\n",
        "            self.assertTrue(max_values[feature] <= iris_schema[feature]['range']['max'])\n",
        "            self.assertTrue(min_values[feature] >= iris_schema[feature]['range']['min'])\n",
        "            \n",
        "    def test_input_data_types(self):\n",
        "        data_types = self.pipeline.frame.dtypes  # pandas dtypes method\n",
        "        \n",
        "        for feature in self.pipeline.feature_names:\n",
        "            self.assertEqual(data_types[feature], iris_schema[feature]['dtype'])\n",
        "        "
      ],
      "execution_count": 0,
      "outputs": []
    },
    {
      "cell_type": "code",
      "metadata": {
        "id": "eXl4-QwP-JoK",
        "colab_type": "code",
        "colab": {
          "base_uri": "https://localhost:8080/",
          "height": 121
        },
        "outputId": "6b16b39c-e8c5-4512-ce44-3935d3038288"
      },
      "source": [
        "# setup code to allow unittest to run the above tests inside the jupyter notebook.\n",
        "suite = unittest.TestLoader().loadTestsFromTestCase(TestIrisInputData)\n",
        "unittest.TextTestRunner(verbosity=1, stream=sys.stderr).run(suite)"
      ],
      "execution_count": 19,
      "outputs": [
        {
          "output_type": "stream",
          "text": [
            "..\n",
            "----------------------------------------------------------------------\n",
            "Ran 2 tests in 0.074s\n",
            "\n",
            "OK\n"
          ],
          "name": "stderr"
        },
        {
          "output_type": "execute_result",
          "data": {
            "text/plain": [
              "<unittest.runner.TextTestResult run=2 errors=0 failures=0>"
            ]
          },
          "metadata": {
            "tags": []
          },
          "execution_count": 19
        }
      ]
    },
    {
      "cell_type": "markdown",
      "metadata": {
        "id": "KtbAuee_-JoY",
        "colab_type": "text"
      },
      "source": [
        "### Data Input Test: Hands-on Exercise\n",
        "Change either the schema or the input data (not the model config) so that the test fails. Do you understand why the test is failing?"
      ]
    },
    {
      "cell_type": "code",
      "metadata": {
        "id": "qN0qbc3d-Job",
        "colab_type": "code",
        "colab": {}
      },
      "source": [
        "iris_schema = {\n",
        "    'sepal length': {\n",
        "        'range': {\n",
        "            'min': 4.0,  # determined by looking at the dataframe .describe() method\n",
        "            'max': 8.0\n",
        "        },\n",
        "        'dtype': str,\n",
        "    },\n",
        "    'sepal width': {\n",
        "        'range': {\n",
        "            'min': 1.0,\n",
        "            'max': 5.0\n",
        "        },\n",
        "        'dtype': float,\n",
        "    },\n",
        "    'petal length': {\n",
        "        'range': {\n",
        "            'min': 1.0,\n",
        "            'max': 7.0\n",
        "        },\n",
        "        'dtype': float,\n",
        "    },\n",
        "    'petal width': {\n",
        "        'range': {\n",
        "            'min': 0.1,\n",
        "            'max': 3.0\n",
        "        },\n",
        "        'dtype': float,\n",
        "    }\n",
        "}"
      ],
      "execution_count": 0,
      "outputs": []
    },
    {
      "cell_type": "code",
      "metadata": {
        "id": "pNU2rZ94YlLq",
        "colab_type": "code",
        "colab": {
          "base_uri": "https://localhost:8080/",
          "height": 260
        },
        "outputId": "f8a17dba-2224-4f1d-fb95-68ed975e650d"
      },
      "source": [
        "# setup code to allow unittest to run the above tests inside the jupyter notebook.\n",
        "suite = unittest.TestLoader().loadTestsFromTestCase(TestIrisInputData)\n",
        "unittest.TextTestRunner(verbosity=1, stream=sys.stderr).run(suite)"
      ],
      "execution_count": 16,
      "outputs": [
        {
          "output_type": "stream",
          "text": [
            ".F\n",
            "======================================================================\n",
            "FAIL: test_input_data_types (__main__.TestIrisInputData)\n",
            "----------------------------------------------------------------------\n",
            "Traceback (most recent call last):\n",
            "  File \"<ipython-input-13-d13e0bef87a2>\", line 31, in test_input_data_types\n",
            "    self.assertEqual(data_types[feature], iris_schema[feature]['dtype'])\n",
            "AssertionError: dtype('float64') != <class 'str'>\n",
            "\n",
            "----------------------------------------------------------------------\n",
            "Ran 2 tests in 0.080s\n",
            "\n",
            "FAILED (failures=1)\n"
          ],
          "name": "stderr"
        },
        {
          "output_type": "execute_result",
          "data": {
            "text/plain": [
              "<unittest.runner.TextTestResult run=2 errors=0 failures=1>"
            ]
          },
          "metadata": {
            "tags": []
          },
          "execution_count": 16
        }
      ]
    }
  ]
}