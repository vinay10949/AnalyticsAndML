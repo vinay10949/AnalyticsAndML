{
  "nbformat": 4,
  "nbformat_minor": 0,
  "metadata": {
    "kernelspec": {
      "display_name": "Python 3",
      "language": "python",
      "name": "python3"
    },
    "language_info": {
      "codemirror_mode": {
        "name": "ipython",
        "version": 3
      },
      "file_extension": ".py",
      "mimetype": "text/x-python",
      "name": "python",
      "nbconvert_exporter": "python",
      "pygments_lexer": "ipython3",
      "version": "3.6.8"
    },
    "colab": {
      "name": "Hyperparameters Optimization with Bayesian Optimization.ipynb",
      "provenance": [],
      "collapsed_sections": [],
      "toc_visible": true,
      "include_colab_link": true
    },
    "accelerator": "GPU"
  },
  "cells": [
    {
      "cell_type": "markdown",
      "metadata": {
        "id": "view-in-github",
        "colab_type": "text"
      },
      "source": [
        "<a href=\"https://colab.research.google.com/github/vinay10949/AnalyticsAndML/blob/master/Python/Hyperparameters_Optimization_with_Bayesian_Optimization.ipynb\" target=\"_parent\"><img src=\"https://colab.research.google.com/assets/colab-badge.svg\" alt=\"Open In Colab\"/></a>"
      ]
    },
    {
      "cell_type": "markdown",
      "metadata": {
        "id": "arSaacTbNR0_",
        "colab_type": "text"
      },
      "source": [
        "<a id=000> </a>\n",
        "# <center style='color:blue;background:yellow'> Hyperparameters Optimization with Bayesian Optimization </center>\n",
        "Author:  [**Dayal Chand Aichara**](https://www.linkedin.com/in/dcaichara/) <div style=\"text-align:left\">Date: 15-08-2019 </div>\n",
        "***  \n",
        "There are three steps to optimize hyperparameters with bayesian optimization.\n",
        "1. Define Objective Function  <br>\n",
        "    Write a function which has model and its output which has be maximized or minimized. \n",
        "2. Define parameters Search range <br>\n",
        "    Write a domain space of parameters in which parameters have to be optimized.\n",
        "3. Define bayesian optimization and optimize.   <br>\n",
        "    Put model function and domain space in Bayesian Optimization function and optimize parameters.\n",
        "\n",
        "\n",
        "***\n",
        "### Install <span style='color:blue;background:orange;font-family:romon;font-size:25px'>[**bayesian-optimization**](https://github.com/fmfn/BayesianOptimization) </span> python package via pip.\n",
        "`pip install bayesian-optimization`\n",
        "\n",
        "##  Notebook Content\n",
        "1. [Import Libraries](#0)\n",
        "1. [Data](#1)\n",
        "1. [Simple Example](#2)\n",
        "1. [LGBM](#3)\n",
        "1. [CatBoost](#4)\n",
        "1. [XGBoost](#5)\n"
      ]
    },
    {
      "cell_type": "markdown",
      "metadata": {
        "id": "UwfBpvf4NR1B",
        "colab_type": "text"
      },
      "source": [
        "<a id=0> </a>\n",
        "##  <span style='color:red;background:gray'>1. </span> <span style='color:blue;background:orange'>Import Libraries </span>"
      ]
    },
    {
      "cell_type": "code",
      "metadata": {
        "id": "NrMQrv9VNaHR",
        "colab_type": "code",
        "outputId": "ceafebd0-b936-46c8-ee51-611b0ab3ca3f",
        "colab": {
          "base_uri": "https://localhost:8080/",
          "height": 489
        }
      },
      "source": [
        "! pip install catboost\n",
        "! pip install bayesian-optimization"
      ],
      "execution_count": 1,
      "outputs": [
        {
          "output_type": "stream",
          "text": [
            "Collecting catboost\n",
            "\u001b[?25l  Downloading https://files.pythonhosted.org/packages/b1/61/2b8106c8870601671d99ca94d8b8d180f2b740b7cdb95c930147508abcf9/catboost-0.23-cp36-none-manylinux1_x86_64.whl (64.7MB)\n",
            "\u001b[K     |████████████████████████████████| 64.8MB 43kB/s \n",
            "\u001b[?25hRequirement already satisfied: six in /usr/local/lib/python3.6/dist-packages (from catboost) (1.12.0)\n",
            "Requirement already satisfied: pandas>=0.24.0 in /usr/local/lib/python3.6/dist-packages (from catboost) (1.0.3)\n",
            "Requirement already satisfied: matplotlib in /usr/local/lib/python3.6/dist-packages (from catboost) (3.2.1)\n",
            "Requirement already satisfied: scipy in /usr/local/lib/python3.6/dist-packages (from catboost) (1.4.1)\n",
            "Requirement already satisfied: numpy>=1.16.0 in /usr/local/lib/python3.6/dist-packages (from catboost) (1.18.4)\n",
            "Requirement already satisfied: graphviz in /usr/local/lib/python3.6/dist-packages (from catboost) (0.10.1)\n",
            "Requirement already satisfied: plotly in /usr/local/lib/python3.6/dist-packages (from catboost) (4.4.1)\n",
            "Requirement already satisfied: python-dateutil>=2.6.1 in /usr/local/lib/python3.6/dist-packages (from pandas>=0.24.0->catboost) (2.8.1)\n",
            "Requirement already satisfied: pytz>=2017.2 in /usr/local/lib/python3.6/dist-packages (from pandas>=0.24.0->catboost) (2018.9)\n",
            "Requirement already satisfied: cycler>=0.10 in /usr/local/lib/python3.6/dist-packages (from matplotlib->catboost) (0.10.0)\n",
            "Requirement already satisfied: kiwisolver>=1.0.1 in /usr/local/lib/python3.6/dist-packages (from matplotlib->catboost) (1.2.0)\n",
            "Requirement already satisfied: pyparsing!=2.0.4,!=2.1.2,!=2.1.6,>=2.0.1 in /usr/local/lib/python3.6/dist-packages (from matplotlib->catboost) (2.4.7)\n",
            "Requirement already satisfied: retrying>=1.3.3 in /usr/local/lib/python3.6/dist-packages (from plotly->catboost) (1.3.3)\n",
            "Installing collected packages: catboost\n",
            "Successfully installed catboost-0.23\n",
            "Collecting bayesian-optimization\n",
            "  Downloading https://files.pythonhosted.org/packages/b5/26/9842333adbb8f17bcb3d699400a8b1ccde0af0b6de8d07224e183728acdf/bayesian_optimization-1.1.0-py3-none-any.whl\n",
            "Requirement already satisfied: scipy>=0.14.0 in /usr/local/lib/python3.6/dist-packages (from bayesian-optimization) (1.4.1)\n",
            "Requirement already satisfied: numpy>=1.9.0 in /usr/local/lib/python3.6/dist-packages (from bayesian-optimization) (1.18.4)\n",
            "Requirement already satisfied: scikit-learn>=0.18.0 in /usr/local/lib/python3.6/dist-packages (from bayesian-optimization) (0.22.2.post1)\n",
            "Requirement already satisfied: joblib>=0.11 in /usr/local/lib/python3.6/dist-packages (from scikit-learn>=0.18.0->bayesian-optimization) (0.14.1)\n",
            "Installing collected packages: bayesian-optimization\n",
            "Successfully installed bayesian-optimization-1.1.0\n"
          ],
          "name": "stdout"
        }
      ]
    },
    {
      "cell_type": "code",
      "metadata": {
        "id": "nwbV_v_ZNR1C",
        "colab_type": "code",
        "colab": {}
      },
      "source": [
        "import pandas as pd\n",
        "import numpy as np\n",
        "import lightgbm as lgb\n",
        "import catboost as cgb\n",
        "import xgboost as xgb\n",
        "from bayes_opt import BayesianOptimization\n",
        "from sklearn.datasets import load_boston\n",
        "from sklearn.metrics import r2_score\n",
        "\n",
        "import warnings\n",
        "warnings.filterwarnings('ignore')\n"
      ],
      "execution_count": 0,
      "outputs": []
    },
    {
      "cell_type": "markdown",
      "metadata": {
        "id": "rT8jv2JSNR1K",
        "colab_type": "text"
      },
      "source": [
        "<a id=1> </a>\n",
        "##  <span style='color:red;background:gray'>2. </span> <span style='color:blue;background:orange'>Data </span>"
      ]
    },
    {
      "cell_type": "code",
      "metadata": {
        "id": "BA850_WENR1L",
        "colab_type": "code",
        "colab": {}
      },
      "source": [
        "boston=load_boston()\n",
        "X =pd.DataFrame(boston.data,columns=boston.feature_names)\n",
        "y = boston.target"
      ],
      "execution_count": 0,
      "outputs": []
    },
    {
      "cell_type": "code",
      "metadata": {
        "id": "wR2cQCS2NR1O",
        "colab_type": "code",
        "outputId": "d3b80cdf-3620-4ab4-9fbd-df19fffc5a34",
        "colab": {
          "base_uri": "https://localhost:8080/",
          "height": 206
        }
      },
      "source": [
        "df= X\n",
        "df['Price'] = y\n",
        "df.head()"
      ],
      "execution_count": 6,
      "outputs": [
        {
          "output_type": "execute_result",
          "data": {
            "text/html": [
              "<div>\n",
              "<style scoped>\n",
              "    .dataframe tbody tr th:only-of-type {\n",
              "        vertical-align: middle;\n",
              "    }\n",
              "\n",
              "    .dataframe tbody tr th {\n",
              "        vertical-align: top;\n",
              "    }\n",
              "\n",
              "    .dataframe thead th {\n",
              "        text-align: right;\n",
              "    }\n",
              "</style>\n",
              "<table border=\"1\" class=\"dataframe\">\n",
              "  <thead>\n",
              "    <tr style=\"text-align: right;\">\n",
              "      <th></th>\n",
              "      <th>CRIM</th>\n",
              "      <th>ZN</th>\n",
              "      <th>INDUS</th>\n",
              "      <th>CHAS</th>\n",
              "      <th>NOX</th>\n",
              "      <th>RM</th>\n",
              "      <th>AGE</th>\n",
              "      <th>DIS</th>\n",
              "      <th>RAD</th>\n",
              "      <th>TAX</th>\n",
              "      <th>PTRATIO</th>\n",
              "      <th>B</th>\n",
              "      <th>LSTAT</th>\n",
              "      <th>Price</th>\n",
              "    </tr>\n",
              "  </thead>\n",
              "  <tbody>\n",
              "    <tr>\n",
              "      <th>0</th>\n",
              "      <td>0.00632</td>\n",
              "      <td>18.0</td>\n",
              "      <td>2.31</td>\n",
              "      <td>0.0</td>\n",
              "      <td>0.538</td>\n",
              "      <td>6.575</td>\n",
              "      <td>65.2</td>\n",
              "      <td>4.0900</td>\n",
              "      <td>1.0</td>\n",
              "      <td>296.0</td>\n",
              "      <td>15.3</td>\n",
              "      <td>396.90</td>\n",
              "      <td>4.98</td>\n",
              "      <td>24.0</td>\n",
              "    </tr>\n",
              "    <tr>\n",
              "      <th>1</th>\n",
              "      <td>0.02731</td>\n",
              "      <td>0.0</td>\n",
              "      <td>7.07</td>\n",
              "      <td>0.0</td>\n",
              "      <td>0.469</td>\n",
              "      <td>6.421</td>\n",
              "      <td>78.9</td>\n",
              "      <td>4.9671</td>\n",
              "      <td>2.0</td>\n",
              "      <td>242.0</td>\n",
              "      <td>17.8</td>\n",
              "      <td>396.90</td>\n",
              "      <td>9.14</td>\n",
              "      <td>21.6</td>\n",
              "    </tr>\n",
              "    <tr>\n",
              "      <th>2</th>\n",
              "      <td>0.02729</td>\n",
              "      <td>0.0</td>\n",
              "      <td>7.07</td>\n",
              "      <td>0.0</td>\n",
              "      <td>0.469</td>\n",
              "      <td>7.185</td>\n",
              "      <td>61.1</td>\n",
              "      <td>4.9671</td>\n",
              "      <td>2.0</td>\n",
              "      <td>242.0</td>\n",
              "      <td>17.8</td>\n",
              "      <td>392.83</td>\n",
              "      <td>4.03</td>\n",
              "      <td>34.7</td>\n",
              "    </tr>\n",
              "    <tr>\n",
              "      <th>3</th>\n",
              "      <td>0.03237</td>\n",
              "      <td>0.0</td>\n",
              "      <td>2.18</td>\n",
              "      <td>0.0</td>\n",
              "      <td>0.458</td>\n",
              "      <td>6.998</td>\n",
              "      <td>45.8</td>\n",
              "      <td>6.0622</td>\n",
              "      <td>3.0</td>\n",
              "      <td>222.0</td>\n",
              "      <td>18.7</td>\n",
              "      <td>394.63</td>\n",
              "      <td>2.94</td>\n",
              "      <td>33.4</td>\n",
              "    </tr>\n",
              "    <tr>\n",
              "      <th>4</th>\n",
              "      <td>0.06905</td>\n",
              "      <td>0.0</td>\n",
              "      <td>2.18</td>\n",
              "      <td>0.0</td>\n",
              "      <td>0.458</td>\n",
              "      <td>7.147</td>\n",
              "      <td>54.2</td>\n",
              "      <td>6.0622</td>\n",
              "      <td>3.0</td>\n",
              "      <td>222.0</td>\n",
              "      <td>18.7</td>\n",
              "      <td>396.90</td>\n",
              "      <td>5.33</td>\n",
              "      <td>36.2</td>\n",
              "    </tr>\n",
              "  </tbody>\n",
              "</table>\n",
              "</div>"
            ],
            "text/plain": [
              "      CRIM    ZN  INDUS  CHAS    NOX  ...    TAX  PTRATIO       B  LSTAT  Price\n",
              "0  0.00632  18.0   2.31   0.0  0.538  ...  296.0     15.3  396.90   4.98   24.0\n",
              "1  0.02731   0.0   7.07   0.0  0.469  ...  242.0     17.8  396.90   9.14   21.6\n",
              "2  0.02729   0.0   7.07   0.0  0.469  ...  242.0     17.8  392.83   4.03   34.7\n",
              "3  0.03237   0.0   2.18   0.0  0.458  ...  222.0     18.7  394.63   2.94   33.4\n",
              "4  0.06905   0.0   2.18   0.0  0.458  ...  222.0     18.7  396.90   5.33   36.2\n",
              "\n",
              "[5 rows x 14 columns]"
            ]
          },
          "metadata": {
            "tags": []
          },
          "execution_count": 6
        }
      ]
    },
    {
      "cell_type": "code",
      "metadata": {
        "id": "x6eDpnHANR1V",
        "colab_type": "code",
        "outputId": "b38e3df2-a11c-4f28-8485-aa770a64e507",
        "colab": {
          "base_uri": "https://localhost:8080/",
          "height": 34
        }
      },
      "source": [
        "X.shape"
      ],
      "execution_count": 7,
      "outputs": [
        {
          "output_type": "execute_result",
          "data": {
            "text/plain": [
              "(506, 14)"
            ]
          },
          "metadata": {
            "tags": []
          },
          "execution_count": 7
        }
      ]
    },
    {
      "cell_type": "markdown",
      "metadata": {
        "id": "kAwQkPiTNR1Y",
        "colab_type": "text"
      },
      "source": [
        "### Data has 14 columns in which 13 are features and <span style='background:blue;color:gray'>**last column is Price**</span>. "
      ]
    },
    {
      "cell_type": "code",
      "metadata": {
        "id": "5BxdaEwCNR1Z",
        "colab_type": "code",
        "colab": {}
      },
      "source": [
        ""
      ],
      "execution_count": 0,
      "outputs": []
    },
    {
      "cell_type": "markdown",
      "metadata": {
        "id": "RE_vC6BkNR1c",
        "colab_type": "text"
      },
      "source": [
        "<a id=2> </a>\n",
        "##  <span style='color:red;background:gray'>3. </span> <span style='color:blue;background:orange'>Simple Example </span>"
      ]
    },
    {
      "cell_type": "code",
      "metadata": {
        "id": "-3NCu1QJNR1d",
        "colab_type": "code",
        "colab": {}
      },
      "source": [
        "# Define objective function\n",
        "def simple_fx(x, y, z ):\n",
        "    return -x ** 2 - (y - 1) -z** 2 + 1"
      ],
      "execution_count": 0,
      "outputs": []
    },
    {
      "cell_type": "code",
      "metadata": {
        "id": "y0jlnrORNR1f",
        "colab_type": "code",
        "colab": {}
      },
      "source": [
        "# Search Space\n",
        "pds = {'x': (1, 4), 'y': (-3, 3), 'z': (1,6)}"
      ],
      "execution_count": 0,
      "outputs": []
    },
    {
      "cell_type": "code",
      "metadata": {
        "id": "YGtyTWdUNR1j",
        "colab_type": "code",
        "outputId": "6605ac3d-dd47-4acd-ea92-199844c6cd61",
        "colab": {
          "base_uri": "https://localhost:8080/",
          "height": 295
        }
      },
      "source": [
        "# optimization function and optimization\n",
        "optimizer = BayesianOptimization(f=simple_fx,\n",
        "                                 pbounds=pds,\n",
        "                                 random_state=1)\n",
        "optimizer.maximize(init_points=3,n_iter=10)"
      ],
      "execution_count": 11,
      "outputs": [
        {
          "output_type": "stream",
          "text": [
            "|   iter    |  target   |     x     |     y     |     z     |\n",
            "-------------------------------------------------------------\n",
            "| \u001b[0m 1       \u001b[0m | \u001b[0m-5.39    \u001b[0m | \u001b[0m 2.251   \u001b[0m | \u001b[0m 1.322   \u001b[0m | \u001b[0m 1.001   \u001b[0m |\n",
            "| \u001b[95m 2       \u001b[0m | \u001b[95m-1.654   \u001b[0m | \u001b[95m 1.907   \u001b[0m | \u001b[95m-2.119   \u001b[0m | \u001b[95m 1.462   \u001b[0m |\n",
            "| \u001b[0m 3       \u001b[0m | \u001b[0m-8.406   \u001b[0m | \u001b[0m 1.559   \u001b[0m | \u001b[0m-0.9266  \u001b[0m | \u001b[0m 2.984   \u001b[0m |\n",
            "| \u001b[0m 4       \u001b[0m | \u001b[0m-28.0    \u001b[0m | \u001b[0m 2.128   \u001b[0m | \u001b[0m 1.739   \u001b[0m | \u001b[0m 4.872   \u001b[0m |\n",
            "| \u001b[0m 5       \u001b[0m | \u001b[0m-2.014   \u001b[0m | \u001b[0m 1.906   \u001b[0m | \u001b[0m-1.845   \u001b[0m | \u001b[0m 1.492   \u001b[0m |\n",
            "| \u001b[95m 6       \u001b[0m | \u001b[95m-1.346   \u001b[0m | \u001b[95m 1.985   \u001b[0m | \u001b[95m-2.067   \u001b[0m | \u001b[95m 1.214   \u001b[0m |\n",
            "| \u001b[95m 7       \u001b[0m | \u001b[95m-0.03446 \u001b[0m | \u001b[95m 1.69    \u001b[0m | \u001b[95m-2.091   \u001b[0m | \u001b[95m 1.126   \u001b[0m |\n",
            "| \u001b[95m 8       \u001b[0m | \u001b[95m 0.3578  \u001b[0m | \u001b[95m 1.508   \u001b[0m | \u001b[95m-1.981   \u001b[0m | \u001b[95m 1.162   \u001b[0m |\n",
            "| \u001b[95m 9       \u001b[0m | \u001b[95m 1.295   \u001b[0m | \u001b[95m 1.345   \u001b[0m | \u001b[95m-2.103   \u001b[0m | \u001b[95m 1.0     \u001b[0m |\n",
            "| \u001b[95m 10      \u001b[0m | \u001b[95m 2.422   \u001b[0m | \u001b[95m 1.0     \u001b[0m | \u001b[95m-2.422   \u001b[0m | \u001b[95m 1.0     \u001b[0m |\n",
            "| \u001b[95m 11      \u001b[0m | \u001b[95m 2.873   \u001b[0m | \u001b[95m 1.0     \u001b[0m | \u001b[95m-2.873   \u001b[0m | \u001b[95m 1.0     \u001b[0m |\n",
            "| \u001b[95m 12      \u001b[0m | \u001b[95m 3.0     \u001b[0m | \u001b[95m 1.0     \u001b[0m | \u001b[95m-3.0     \u001b[0m | \u001b[95m 1.0     \u001b[0m |\n",
            "| \u001b[0m 13      \u001b[0m | \u001b[0m 3.0     \u001b[0m | \u001b[0m 1.0     \u001b[0m | \u001b[0m-3.0     \u001b[0m | \u001b[0m 1.0     \u001b[0m |\n",
            "=============================================================\n"
          ],
          "name": "stdout"
        }
      ]
    },
    {
      "cell_type": "code",
      "metadata": {
        "id": "kAOaOgSyNR1m",
        "colab_type": "code",
        "outputId": "27e21c35-2bcb-4512-f183-decb39eea1d4",
        "colab": {
          "base_uri": "https://localhost:8080/",
          "height": 34
        }
      },
      "source": [
        "# Check best results\n",
        "optimizer.max"
      ],
      "execution_count": 12,
      "outputs": [
        {
          "output_type": "execute_result",
          "data": {
            "text/plain": [
              "{'params': {'x': 1.0, 'y': -3.0, 'z': 1.0}, 'target': 3.0}"
            ]
          },
          "metadata": {
            "tags": []
          },
          "execution_count": 12
        }
      ]
    },
    {
      "cell_type": "code",
      "metadata": {
        "id": "X7slur3wNR1s",
        "colab_type": "code",
        "outputId": "a2e8373c-d2f2-4177-834a-829dc8cd3f59",
        "colab": {
          "base_uri": "https://localhost:8080/",
          "height": 694
        }
      },
      "source": [
        "#Get search history\n",
        "optimizer.res"
      ],
      "execution_count": 13,
      "outputs": [
        {
          "output_type": "execute_result",
          "data": {
            "text/plain": [
              "[{'params': {'x': 2.251066014107722,\n",
              "   'y': 1.3219469606529488,\n",
              "   'z': 1.0005718740867244},\n",
              "  'target': -5.390389235737196},\n",
              " {'params': {'x': 1.9069977178955193,\n",
              "   'y': -2.119464655097322,\n",
              "   'z': 1.461692973843989},\n",
              "  'target': -1.653721990746281},\n",
              " {'params': {'x': 1.5587806341330128,\n",
              "   'y': -0.9266356377417138,\n",
              "   'z': 2.9838373711533497},\n",
              "  'target': -8.406446885097736},\n",
              " {'params': {'x': 2.1275211422930003,\n",
              "   'y': 1.7392712101561543,\n",
              "   'z': 4.872234510476437},\n",
              "  'target': -28.00428654613743},\n",
              " {'params': {'x': 1.9060736160797531,\n",
              "   'y': -1.8448083718893056,\n",
              "   'z': 1.4918239751751468},\n",
              "  'target': -2.0138470309334173},\n",
              " {'params': {'x': 1.9845712352311047,\n",
              "   'y': -2.0671024148912105,\n",
              "   'z': 1.2142710302113944},\n",
              "  'target': -1.3458747076261433},\n",
              " {'params': {'x': 1.6900995572226563,\n",
              "   'y': -2.090698702947696,\n",
              "   'z': 1.1263741333635533},\n",
              "  'target': -0.03445649868701817},\n",
              " {'params': {'x': 1.5080035830943876,\n",
              "   'y': -1.981263949848377,\n",
              "   'z': 1.161633026124484},\n",
              "  'target': 0.357797855839739},\n",
              " {'params': {'x': 1.3449043014540945, 'y': -2.103420340139089, 'z': 1.0},\n",
              "  'target': 1.2946527600693634},\n",
              " {'params': {'x': 1.0, 'y': -2.4220042966640154, 'z': 1.0},\n",
              "  'target': 2.4220042966640154},\n",
              " {'params': {'x': 1.0, 'y': -2.873123784185112, 'z': 1.0},\n",
              "  'target': 2.873123784185112},\n",
              " {'params': {'x': 1.0, 'y': -3.0, 'z': 1.0}, 'target': 3.0}]"
            ]
          },
          "metadata": {
            "tags": []
          },
          "execution_count": 13
        }
      ]
    },
    {
      "cell_type": "markdown",
      "metadata": {
        "id": "LlqK4KA-NR1u",
        "colab_type": "text"
      },
      "source": [
        "<a id=3> </a>\n",
        "##  <span style='color:red;background:gray'>4. </span> <span style='color:blue;background:orange'>LightGBM </span>"
      ]
    },
    {
      "cell_type": "code",
      "metadata": {
        "id": "cStXPkPdNR1v",
        "colab_type": "code",
        "colab": {}
      },
      "source": [
        "dtrain = lgb.Dataset(data=X, label=y)\n",
        "\n"
      ],
      "execution_count": 0,
      "outputs": []
    },
    {
      "cell_type": "code",
      "metadata": {
        "id": "iTKdAj4dNR1y",
        "colab_type": "code",
        "colab": {}
      },
      "source": [
        "def lgb_r2_score(preds, dtrain):\n",
        "    labels = dtrain.get_label()\n",
        "    return 'r2', r2_score(labels, preds), True"
      ],
      "execution_count": 0,
      "outputs": []
    },
    {
      "cell_type": "code",
      "metadata": {
        "id": "7OokIZUcNR10",
        "colab_type": "code",
        "colab": {}
      },
      "source": [
        "# Objective Function\n",
        "def hyp_lgbm(num_leaves, feature_fraction, bagging_fraction, max_depth, min_split_gain, min_child_weight):\n",
        "      \n",
        "        params = {'application':'regression','num_iterations': 200,\n",
        "                  'learning_rate':0.05, 'early_stopping_round':50,\n",
        "                  'metric':'lgb_r2_score'} # Default parameters\n",
        "        params[\"num_leaves\"] = int(round(num_leaves))\n",
        "        params['feature_fraction'] = max(min(feature_fraction, 1), 0)\n",
        "        params['bagging_fraction'] = max(min(bagging_fraction, 1), 0)\n",
        "        params['max_depth'] = int(round(max_depth))\n",
        "        params['min_split_gain'] = min_split_gain\n",
        "        params['min_child_weight'] = min_child_weight\n",
        "        cv_results = lgb.cv(params, dtrain, nfold=5, seed=101,categorical_feature=[], stratified=False,\n",
        "                            verbose_eval =None, feval=lgb_r2_score)\n",
        "        # print(cv_results)\n",
        "        return np.max(cv_results['r2-mean'])"
      ],
      "execution_count": 0,
      "outputs": []
    },
    {
      "cell_type": "code",
      "metadata": {
        "id": "j2f_MQnPNR13",
        "colab_type": "code",
        "colab": {}
      },
      "source": [
        "# Domain space-- Range of hyperparameters \n",
        "pds = {'num_leaves': (80, 100),\n",
        "          'feature_fraction': (0.1, 0.9),\n",
        "          'bagging_fraction': (0.8, 1),\n",
        "          'max_depth': (17, 25),\n",
        "          'min_split_gain': (0.001, 0.1),\n",
        "          'min_child_weight': (10, 25)\n",
        "          }"
      ],
      "execution_count": 0,
      "outputs": []
    },
    {
      "cell_type": "code",
      "metadata": {
        "id": "HUF2FKGgNR16",
        "colab_type": "code",
        "outputId": "88895600-2fd2-4b9b-95c9-ab6f4a568234",
        "colab": {
          "base_uri": "https://localhost:8080/",
          "height": 416
        }
      },
      "source": [
        "# Surrogate model\n",
        "optimizer = BayesianOptimization(hyp_lgbm, pds, random_state=77)\n",
        "                                  \n",
        "# Optimize\n",
        "optimizer.maximize(init_points=5, n_iter=15)"
      ],
      "execution_count": 18,
      "outputs": [
        {
          "output_type": "stream",
          "text": [
            "|   iter    |  target   | baggin... | featur... | max_depth | min_ch... | min_sp... | num_le... |\n",
            "-------------------------------------------------------------------------------------------------\n",
            "| \u001b[0m 1       \u001b[0m | \u001b[0m 0.9766  \u001b[0m | \u001b[0m 0.9838  \u001b[0m | \u001b[0m 0.6138  \u001b[0m | \u001b[0m 23.03   \u001b[0m | \u001b[0m 12.09   \u001b[0m | \u001b[0m 0.009645\u001b[0m | \u001b[0m 95.76   \u001b[0m |\n",
            "| \u001b[0m 2       \u001b[0m | \u001b[0m 0.976   \u001b[0m | \u001b[0m 0.8652  \u001b[0m | \u001b[0m 0.5329  \u001b[0m | \u001b[0m 18.92   \u001b[0m | \u001b[0m 18.18   \u001b[0m | \u001b[0m 0.04065 \u001b[0m | \u001b[0m 94.3    \u001b[0m |\n",
            "| \u001b[0m 3       \u001b[0m | \u001b[0m 0.976   \u001b[0m | \u001b[0m 0.9673  \u001b[0m | \u001b[0m 0.5708  \u001b[0m | \u001b[0m 19.37   \u001b[0m | \u001b[0m 14.22   \u001b[0m | \u001b[0m 0.07085 \u001b[0m | \u001b[0m 88.45   \u001b[0m |\n",
            "| \u001b[95m 4       \u001b[0m | \u001b[95m 0.9848  \u001b[0m | \u001b[95m 0.8115  \u001b[0m | \u001b[95m 0.6976  \u001b[0m | \u001b[95m 20.62   \u001b[0m | \u001b[95m 12.64   \u001b[0m | \u001b[95m 0.005888\u001b[0m | \u001b[95m 85.85   \u001b[0m |\n",
            "| \u001b[95m 5       \u001b[0m | \u001b[95m 0.9848  \u001b[0m | \u001b[95m 0.8134  \u001b[0m | \u001b[95m 0.7009  \u001b[0m | \u001b[95m 17.51   \u001b[0m | \u001b[95m 16.48   \u001b[0m | \u001b[95m 0.03705 \u001b[0m | \u001b[95m 83.04   \u001b[0m |\n",
            "| \u001b[0m 6       \u001b[0m | \u001b[0m 0.8785  \u001b[0m | \u001b[0m 0.834   \u001b[0m | \u001b[0m 0.1361  \u001b[0m | \u001b[0m 24.92   \u001b[0m | \u001b[0m 24.92   \u001b[0m | \u001b[0m 0.01809 \u001b[0m | \u001b[0m 82.81   \u001b[0m |\n",
            "| \u001b[0m 7       \u001b[0m | \u001b[0m 0.9316  \u001b[0m | \u001b[0m 0.8056  \u001b[0m | \u001b[0m 0.1931  \u001b[0m | \u001b[0m 17.05   \u001b[0m | \u001b[0m 11.1    \u001b[0m | \u001b[0m 0.01019 \u001b[0m | \u001b[0m 99.89   \u001b[0m |\n",
            "| \u001b[0m 8       \u001b[0m | \u001b[0m 0.9828  \u001b[0m | \u001b[0m 0.8412  \u001b[0m | \u001b[0m 0.7556  \u001b[0m | \u001b[0m 24.3    \u001b[0m | \u001b[0m 24.94   \u001b[0m | \u001b[0m 0.01528 \u001b[0m | \u001b[0m 99.17   \u001b[0m |\n",
            "| \u001b[0m 9       \u001b[0m | \u001b[0m 0.8838  \u001b[0m | \u001b[0m 1.0     \u001b[0m | \u001b[0m 0.1     \u001b[0m | \u001b[0m 17.51   \u001b[0m | \u001b[0m 10.74   \u001b[0m | \u001b[0m 0.1     \u001b[0m | \u001b[0m 80.0    \u001b[0m |\n",
            "| \u001b[95m 10      \u001b[0m | \u001b[95m 0.9868  \u001b[0m | \u001b[95m 0.8     \u001b[0m | \u001b[95m 0.9     \u001b[0m | \u001b[95m 17.0    \u001b[0m | \u001b[95m 25.0    \u001b[0m | \u001b[95m 0.001   \u001b[0m | \u001b[95m 100.0   \u001b[0m |\n",
            "| \u001b[0m 11      \u001b[0m | \u001b[0m 0.9868  \u001b[0m | \u001b[0m 0.8     \u001b[0m | \u001b[0m 0.9     \u001b[0m | \u001b[0m 17.0    \u001b[0m | \u001b[0m 25.0    \u001b[0m | \u001b[0m 0.001   \u001b[0m | \u001b[0m 87.84   \u001b[0m |\n",
            "| \u001b[95m 12      \u001b[0m | \u001b[95m 0.9921  \u001b[0m | \u001b[95m 0.8     \u001b[0m | \u001b[95m 0.9     \u001b[0m | \u001b[95m 25.0    \u001b[0m | \u001b[95m 16.64   \u001b[0m | \u001b[95m 0.001   \u001b[0m | \u001b[95m 100.0   \u001b[0m |\n",
            "| \u001b[0m 13      \u001b[0m | \u001b[0m 0.9921  \u001b[0m | \u001b[0m 0.9461  \u001b[0m | \u001b[0m 0.8754  \u001b[0m | \u001b[0m 24.99   \u001b[0m | \u001b[0m 12.91   \u001b[0m | \u001b[0m 0.04523 \u001b[0m | \u001b[0m 81.53   \u001b[0m |\n",
            "| \u001b[95m 14      \u001b[0m | \u001b[95m 0.9921  \u001b[0m | \u001b[95m 0.8304  \u001b[0m | \u001b[95m 0.8874  \u001b[0m | \u001b[95m 24.8    \u001b[0m | \u001b[95m 16.54   \u001b[0m | \u001b[95m 0.0209  \u001b[0m | \u001b[95m 89.86   \u001b[0m |\n",
            "| \u001b[0m 15      \u001b[0m | \u001b[0m 0.9848  \u001b[0m | \u001b[0m 0.8173  \u001b[0m | \u001b[0m 0.6977  \u001b[0m | \u001b[0m 24.95   \u001b[0m | \u001b[0m 10.3    \u001b[0m | \u001b[0m 0.005821\u001b[0m | \u001b[0m 87.25   \u001b[0m |\n",
            "| \u001b[0m 16      \u001b[0m | \u001b[0m 0.9827  \u001b[0m | \u001b[0m 0.8238  \u001b[0m | \u001b[0m 0.7379  \u001b[0m | \u001b[0m 17.03   \u001b[0m | \u001b[0m 24.01   \u001b[0m | \u001b[0m 0.01834 \u001b[0m | \u001b[0m 80.08   \u001b[0m |\n",
            "| \u001b[0m 17      \u001b[0m | \u001b[0m 0.9921  \u001b[0m | \u001b[0m 0.9924  \u001b[0m | \u001b[0m 0.8963  \u001b[0m | \u001b[0m 21.13   \u001b[0m | \u001b[0m 18.44   \u001b[0m | \u001b[0m 0.02518 \u001b[0m | \u001b[0m 82.0    \u001b[0m |\n",
            "| \u001b[0m 18      \u001b[0m | \u001b[0m 0.9904  \u001b[0m | \u001b[0m 0.8     \u001b[0m | \u001b[0m 0.9     \u001b[0m | \u001b[0m 17.0    \u001b[0m | \u001b[0m 21.81   \u001b[0m | \u001b[0m 0.001   \u001b[0m | \u001b[0m 85.0    \u001b[0m |\n",
            "| \u001b[0m 19      \u001b[0m | \u001b[0m 0.9905  \u001b[0m | \u001b[0m 0.9782  \u001b[0m | \u001b[0m 0.7887  \u001b[0m | \u001b[0m 24.8    \u001b[0m | \u001b[0m 10.09   \u001b[0m | \u001b[0m 0.08129 \u001b[0m | \u001b[0m 99.92   \u001b[0m |\n",
            "| \u001b[95m 20      \u001b[0m | \u001b[95m 0.9921  \u001b[0m | \u001b[95m 0.808   \u001b[0m | \u001b[95m 0.8887  \u001b[0m | \u001b[95m 24.37   \u001b[0m | \u001b[95m 14.78   \u001b[0m | \u001b[95m 0.007681\u001b[0m | \u001b[95m 84.84   \u001b[0m |\n",
            "=================================================================================================\n"
          ],
          "name": "stdout"
        }
      ]
    },
    {
      "cell_type": "code",
      "metadata": {
        "id": "EL5dZ9ZgNR19",
        "colab_type": "code",
        "outputId": "a11ebad4-251b-49a5-fe05-981ee4902a03",
        "colab": {
          "base_uri": "https://localhost:8080/",
          "height": 139
        }
      },
      "source": [
        "optimizer.max"
      ],
      "execution_count": 19,
      "outputs": [
        {
          "output_type": "execute_result",
          "data": {
            "text/plain": [
              "{'params': {'bagging_fraction': 0.8079975488198999,\n",
              "  'feature_fraction': 0.888668466429874,\n",
              "  'max_depth': 24.36990209738294,\n",
              "  'min_child_weight': 14.780047999821054,\n",
              "  'min_split_gain': 0.007680843341096549,\n",
              "  'num_leaves': 84.8425584516649},\n",
              " 'target': 0.9921436484500147}"
            ]
          },
          "metadata": {
            "tags": []
          },
          "execution_count": 19
        }
      ]
    },
    {
      "cell_type": "code",
      "metadata": {
        "id": "oUBWJDKJfpyH",
        "colab_type": "code",
        "outputId": "94edfb29-4a30-4217-8ae9-cb26e746e8dd",
        "colab": {
          "base_uri": "https://localhost:8080/",
          "height": 416
        }
      },
      "source": [
        "def bayesion_opt_lgbm(X=X, y=y, init_iter=3, n_iters=7, random_state=11, seed = 101, num_iterations = 200):\n",
        "  dtrain = lgb.Dataset(data=X, label=y)\n",
        "  def lgb_r2_score(preds, dtrain):\n",
        "      labels = dtrain.get_label()\n",
        "      return 'r2', r2_score(labels, preds), True\n",
        "  # Objective Function\n",
        "  def hyp_lgbm(num_leaves, feature_fraction, bagging_fraction, max_depth, min_split_gain, min_child_weight):\n",
        "        \n",
        "          params = {'application':'regression','num_iterations': num_iterations,\n",
        "                    'learning_rate':0.05, 'early_stopping_round':50,\n",
        "                    'metric':'lgb_r2_score'} # Default parameters\n",
        "          params[\"num_leaves\"] = int(round(num_leaves))\n",
        "          params['feature_fraction'] = max(min(feature_fraction, 1), 0)\n",
        "          params['bagging_fraction'] = max(min(bagging_fraction, 1), 0)\n",
        "          params['max_depth'] = int(round(max_depth))\n",
        "          params['min_split_gain'] = min_split_gain\n",
        "          params['min_child_weight'] = min_child_weight\n",
        "          cv_results = lgb.cv(params, dtrain, nfold=5, seed=seed,categorical_feature=[], stratified=False,\n",
        "                              verbose_eval =None, feval=lgb_r2_score)\n",
        "          # print(cv_results)\n",
        "          return np.max(cv_results['r2-mean'])\n",
        "  # Domain space-- Range of hyperparameters \n",
        "  pds = {'num_leaves': (50, 70),\n",
        "            'feature_fraction': (0.1, 0.9),\n",
        "            'bagging_fraction': (0.8, 1),\n",
        "            'max_depth': (13, 23),\n",
        "            'min_split_gain': (0.001, 0.1),\n",
        "            'min_child_weight': (10, 25)\n",
        "            }\n",
        "\n",
        "  # Surrogate model\n",
        "  optimizer = BayesianOptimization(hyp_lgbm, pds, random_state=random_state)\n",
        "                                    \n",
        "  # Optimize\n",
        "  optimizer.maximize(init_points=init_iter, n_iter=n_iters)\n",
        "\n",
        "bayesion_opt_lgbm(X=X, y=y, init_iter=5, n_iters=15, random_state=717, seed = 1011, num_iterations = 300)"
      ],
      "execution_count": 20,
      "outputs": [
        {
          "output_type": "stream",
          "text": [
            "|   iter    |  target   | baggin... | featur... | max_depth | min_ch... | min_sp... | num_le... |\n",
            "-------------------------------------------------------------------------------------------------\n",
            "| \u001b[0m 1       \u001b[0m | \u001b[0m 0.9853  \u001b[0m | \u001b[0m 0.9304  \u001b[0m | \u001b[0m 0.6844  \u001b[0m | \u001b[0m 14.93   \u001b[0m | \u001b[0m 17.8    \u001b[0m | \u001b[0m 0.06796 \u001b[0m | \u001b[0m 66.09   \u001b[0m |\n",
            "| \u001b[95m 2       \u001b[0m | \u001b[95m 0.9917  \u001b[0m | \u001b[95m 0.9067  \u001b[0m | \u001b[95m 0.8264  \u001b[0m | \u001b[95m 17.43   \u001b[0m | \u001b[95m 13.84   \u001b[0m | \u001b[95m 0.02859 \u001b[0m | \u001b[95m 50.87   \u001b[0m |\n",
            "| \u001b[0m 3       \u001b[0m | \u001b[0m 0.9862  \u001b[0m | \u001b[0m 0.8938  \u001b[0m | \u001b[0m 0.8533  \u001b[0m | \u001b[0m 19.0    \u001b[0m | \u001b[0m 23.03   \u001b[0m | \u001b[0m 0.03538 \u001b[0m | \u001b[0m 60.4    \u001b[0m |\n",
            "| \u001b[0m 4       \u001b[0m | \u001b[0m 0.9769  \u001b[0m | \u001b[0m 0.8164  \u001b[0m | \u001b[0m 0.5826  \u001b[0m | \u001b[0m 13.68   \u001b[0m | \u001b[0m 16.29   \u001b[0m | \u001b[0m 0.05168 \u001b[0m | \u001b[0m 52.17   \u001b[0m |\n",
            "| \u001b[0m 5       \u001b[0m | \u001b[0m 0.9742  \u001b[0m | \u001b[0m 0.9952  \u001b[0m | \u001b[0m 0.5607  \u001b[0m | \u001b[0m 19.89   \u001b[0m | \u001b[0m 23.38   \u001b[0m | \u001b[0m 0.09741 \u001b[0m | \u001b[0m 58.82   \u001b[0m |\n",
            "| \u001b[95m 6       \u001b[0m | \u001b[95m 0.9933  \u001b[0m | \u001b[95m 0.8     \u001b[0m | \u001b[95m 0.9     \u001b[0m | \u001b[95m 23.0    \u001b[0m | \u001b[95m 10.0    \u001b[0m | \u001b[95m 0.001   \u001b[0m | \u001b[95m 68.03   \u001b[0m |\n",
            "| \u001b[0m 7       \u001b[0m | \u001b[0m 0.9852  \u001b[0m | \u001b[0m 0.8643  \u001b[0m | \u001b[0m 0.8137  \u001b[0m | \u001b[0m 21.96   \u001b[0m | \u001b[0m 24.76   \u001b[0m | \u001b[0m 0.03275 \u001b[0m | \u001b[0m 69.79   \u001b[0m |\n",
            "| \u001b[0m 8       \u001b[0m | \u001b[0m 0.9932  \u001b[0m | \u001b[0m 0.8905  \u001b[0m | \u001b[0m 0.8892  \u001b[0m | \u001b[0m 14.81   \u001b[0m | \u001b[0m 10.01   \u001b[0m | \u001b[0m 0.0164  \u001b[0m | \u001b[0m 59.58   \u001b[0m |\n",
            "| \u001b[95m 9       \u001b[0m | \u001b[95m 0.9933  \u001b[0m | \u001b[95m 0.9371  \u001b[0m | \u001b[95m 0.8717  \u001b[0m | \u001b[95m 22.94   \u001b[0m | \u001b[95m 10.9    \u001b[0m | \u001b[95m 0.04853 \u001b[0m | \u001b[95m 51.95   \u001b[0m |\n",
            "| \u001b[0m 10      \u001b[0m | \u001b[0m 0.9851  \u001b[0m | \u001b[0m 0.8522  \u001b[0m | \u001b[0m 0.8544  \u001b[0m | \u001b[0m 13.04   \u001b[0m | \u001b[0m 24.18   \u001b[0m | \u001b[0m 0.03565 \u001b[0m | \u001b[0m 69.81   \u001b[0m |\n",
            "| \u001b[0m 11      \u001b[0m | \u001b[0m 0.9918  \u001b[0m | \u001b[0m 0.8954  \u001b[0m | \u001b[0m 0.8525  \u001b[0m | \u001b[0m 13.88   \u001b[0m | \u001b[0m 10.2    \u001b[0m | \u001b[0m 0.06018 \u001b[0m | \u001b[0m 69.81   \u001b[0m |\n",
            "| \u001b[0m 12      \u001b[0m | \u001b[0m 0.9932  \u001b[0m | \u001b[0m 0.8021  \u001b[0m | \u001b[0m 0.8653  \u001b[0m | \u001b[0m 16.86   \u001b[0m | \u001b[0m 10.08   \u001b[0m | \u001b[0m 0.02768 \u001b[0m | \u001b[0m 50.66   \u001b[0m |\n",
            "| \u001b[0m 13      \u001b[0m | \u001b[0m 0.9933  \u001b[0m | \u001b[0m 0.8273  \u001b[0m | \u001b[0m 0.8927  \u001b[0m | \u001b[0m 20.05   \u001b[0m | \u001b[0m 12.2    \u001b[0m | \u001b[0m 0.07322 \u001b[0m | \u001b[0m 60.34   \u001b[0m |\n",
            "| \u001b[0m 14      \u001b[0m | \u001b[0m 0.9932  \u001b[0m | \u001b[0m 0.9917  \u001b[0m | \u001b[0m 0.8986  \u001b[0m | \u001b[0m 21.01   \u001b[0m | \u001b[0m 16.75   \u001b[0m | \u001b[0m 0.02432 \u001b[0m | \u001b[0m 69.53   \u001b[0m |\n",
            "| \u001b[0m 15      \u001b[0m | \u001b[0m 0.9932  \u001b[0m | \u001b[0m 0.9639  \u001b[0m | \u001b[0m 0.8857  \u001b[0m | \u001b[0m 17.9    \u001b[0m | \u001b[0m 10.27   \u001b[0m | \u001b[0m 0.02147 \u001b[0m | \u001b[0m 67.36   \u001b[0m |\n",
            "| \u001b[0m 16      \u001b[0m | \u001b[0m 0.9933  \u001b[0m | \u001b[0m 0.8323  \u001b[0m | \u001b[0m 0.8653  \u001b[0m | \u001b[0m 22.45   \u001b[0m | \u001b[0m 13.3    \u001b[0m | \u001b[0m 0.04006 \u001b[0m | \u001b[0m 50.61   \u001b[0m |\n",
            "| \u001b[0m 17      \u001b[0m | \u001b[0m 0.9932  \u001b[0m | \u001b[0m 0.8321  \u001b[0m | \u001b[0m 0.898   \u001b[0m | \u001b[0m 18.49   \u001b[0m | \u001b[0m 11.8    \u001b[0m | \u001b[0m 0.007124\u001b[0m | \u001b[0m 69.81   \u001b[0m |\n",
            "| \u001b[0m 18      \u001b[0m | \u001b[0m 0.9932  \u001b[0m | \u001b[0m 0.9988  \u001b[0m | \u001b[0m 0.8784  \u001b[0m | \u001b[0m 18.58   \u001b[0m | \u001b[0m 10.13   \u001b[0m | \u001b[0m 0.02379 \u001b[0m | \u001b[0m 55.73   \u001b[0m |\n",
            "| \u001b[0m 19      \u001b[0m | \u001b[0m 0.9932  \u001b[0m | \u001b[0m 0.9642  \u001b[0m | \u001b[0m 0.8699  \u001b[0m | \u001b[0m 20.87   \u001b[0m | \u001b[0m 10.1    \u001b[0m | \u001b[0m 0.03776 \u001b[0m | \u001b[0m 50.08   \u001b[0m |\n",
            "| \u001b[0m 20      \u001b[0m | \u001b[0m 0.9932  \u001b[0m | \u001b[0m 0.8603  \u001b[0m | \u001b[0m 0.8902  \u001b[0m | \u001b[0m 22.79   \u001b[0m | \u001b[0m 13.29   \u001b[0m | \u001b[0m 0.008167\u001b[0m | \u001b[0m 63.12   \u001b[0m |\n",
            "=================================================================================================\n"
          ],
          "name": "stdout"
        }
      ]
    },
    {
      "cell_type": "markdown",
      "metadata": {
        "id": "W1v2Yv8jNR2A",
        "colab_type": "text"
      },
      "source": [
        "<a id=4> </a>\n",
        "##  <span style='color:red;background:gray'>5. </span> <span style='color:blue;background:orange'>CatBoost </span>"
      ]
    },
    {
      "cell_type": "code",
      "metadata": {
        "id": "Oppm466UNR2B",
        "colab_type": "code",
        "colab": {}
      },
      "source": [
        "cat_features = []\n",
        "\n",
        "cv_dataset = cgb.Pool(data=X,\n",
        "                  label=y,\n",
        "                  cat_features=cat_features)"
      ],
      "execution_count": 0,
      "outputs": []
    },
    {
      "cell_type": "code",
      "metadata": {
        "id": "KTRkUvq1NR2G",
        "colab_type": "code",
        "colab": {}
      },
      "source": [
        "def hyp_cat(depth, bagging_temperature):\n",
        "    params = {\"iterations\": 300,\n",
        "              \"learning_rate\": 0.05,\n",
        "              \"eval_metric\": \"R2\",\n",
        "              \"verbose\": False}\n",
        "    params[ \"depth\"] = int(round(depth))\n",
        "    params[\"bagging_temperature\"] = bagging_temperature\n",
        "\n",
        "    scores = cgb.cv(cv_dataset,\n",
        "                params,\n",
        "                fold_count=3)\n",
        "    return np.max(scores['test-R2-mean'])"
      ],
      "execution_count": 0,
      "outputs": []
    },
    {
      "cell_type": "code",
      "metadata": {
        "id": "edyVKdw4NR2J",
        "colab_type": "code",
        "colab": {}
      },
      "source": [
        "pds = {'depth': (6, 10),\n",
        "          'bagging_temperature': (1,5),\n",
        "          }"
      ],
      "execution_count": 0,
      "outputs": []
    },
    {
      "cell_type": "code",
      "metadata": {
        "id": "2op74G9RNR2M",
        "colab_type": "code",
        "outputId": "683e1803-5061-4803-8528-2682017e1388",
        "colab": {
          "base_uri": "https://localhost:8080/",
          "height": 243
        }
      },
      "source": [
        "# Surrogate model\n",
        "optimizer = BayesianOptimization(hyp_cat, pds, random_state=100)\n",
        "                                  \n",
        "# Optimize\n",
        "optimizer.maximize(init_points=3, n_iter=7)"
      ],
      "execution_count": 24,
      "outputs": [
        {
          "output_type": "stream",
          "text": [
            "|   iter    |  target   | baggin... |   depth   |\n",
            "-------------------------------------------------\n",
            "| \u001b[0m 1       \u001b[0m | \u001b[0m 0.9412  \u001b[0m | \u001b[0m 3.174   \u001b[0m | \u001b[0m 7.113   \u001b[0m |\n",
            "| \u001b[0m 2       \u001b[0m | \u001b[0m 0.8966  \u001b[0m | \u001b[0m 2.698   \u001b[0m | \u001b[0m 9.379   \u001b[0m |\n",
            "| \u001b[95m 3       \u001b[0m | \u001b[95m 0.963   \u001b[0m | \u001b[95m 1.019   \u001b[0m | \u001b[95m 6.486   \u001b[0m |\n",
            "| \u001b[0m 4       \u001b[0m | \u001b[0m 0.963   \u001b[0m | \u001b[0m 1.0     \u001b[0m | \u001b[0m 6.0     \u001b[0m |\n",
            "| \u001b[0m 5       \u001b[0m | \u001b[0m 0.963   \u001b[0m | \u001b[0m 5.0     \u001b[0m | \u001b[0m 6.0     \u001b[0m |\n",
            "| \u001b[0m 6       \u001b[0m | \u001b[0m 0.963   \u001b[0m | \u001b[0m 3.097   \u001b[0m | \u001b[0m 6.006   \u001b[0m |\n",
            "| \u001b[0m 7       \u001b[0m | \u001b[0m 0.963   \u001b[0m | \u001b[0m 1.988   \u001b[0m | \u001b[0m 6.0     \u001b[0m |\n",
            "| \u001b[0m 8       \u001b[0m | \u001b[0m 0.9302  \u001b[0m | \u001b[0m 1.001   \u001b[0m | \u001b[0m 7.679   \u001b[0m |\n",
            "| \u001b[0m 9       \u001b[0m | \u001b[0m 0.8521  \u001b[0m | \u001b[0m 5.0     \u001b[0m | \u001b[0m 10.0    \u001b[0m |\n",
            "| \u001b[0m 10      \u001b[0m | \u001b[0m 0.963   \u001b[0m | \u001b[0m 4.131   \u001b[0m | \u001b[0m 6.002   \u001b[0m |\n",
            "=================================================\n"
          ],
          "name": "stdout"
        }
      ]
    },
    {
      "cell_type": "code",
      "metadata": {
        "id": "YLXcDMknNR2O",
        "colab_type": "code",
        "outputId": "405722bc-d9ed-486c-d2ba-9701707f1c34",
        "colab": {
          "base_uri": "https://localhost:8080/",
          "height": 69
        }
      },
      "source": [
        "optimizer.max"
      ],
      "execution_count": 25,
      "outputs": [
        {
          "output_type": "execute_result",
          "data": {
            "text/plain": [
              "{'params': {'bagging_temperature': 1.0188754247638903,\n",
              "  'depth': 6.486276483132457},\n",
              " 'target': 0.9629577215514743}"
            ]
          },
          "metadata": {
            "tags": []
          },
          "execution_count": 25
        }
      ]
    },
    {
      "cell_type": "markdown",
      "metadata": {
        "id": "6NpamoxzNR2S",
        "colab_type": "text"
      },
      "source": [
        "<a id=5> </a>\n",
        "##  <span style='color:red;background:gray'>6. </span> <span style='color:blue;background:orange'>XGBoost </span>"
      ]
    },
    {
      "cell_type": "code",
      "metadata": {
        "id": "Ot-o6hwANR2S",
        "colab_type": "code",
        "colab": {}
      },
      "source": [
        "dtrain = xgb.DMatrix(X, y, feature_names=X.columns.values)\n",
        "def xgb_r2(preds, dtrain):\n",
        "    labels = dtrain.get_label()\n",
        "    return 'r2', r2_score(preds, labels)"
      ],
      "execution_count": 0,
      "outputs": []
    },
    {
      "cell_type": "code",
      "metadata": {
        "id": "EGzGaT3rNR2V",
        "colab_type": "code",
        "colab": {}
      },
      "source": [
        "def hyp_xgb(max_depth, subsample, colsample_bytree,min_child_weight, gamma ):\n",
        "    params = {\n",
        "    'n_estimators': 300,\n",
        "    'eta': 0.05,\n",
        "    'objective': 'reg:linear',\n",
        "    'eval_metric':'mae',\n",
        "    'silent': 1\n",
        "     }\n",
        "    params['max_depth'] = int(round(max_depth))\n",
        "    params['subsample'] = max(min(subsample, 1), 0)\n",
        "    params['colsample_bytree'] = max(min(colsample_bytree, 1), 0)\n",
        "    params['min_child_weight'] = int(min_child_weight)\n",
        "    params['gamma'] = max(gamma, 0)\n",
        "    scores = xgb.cv(params, dtrain, num_boost_round=1000,verbose_eval=False, early_stopping_rounds=5, feval=xgb_r2, maximize=True, nfold=5)\n",
        "    return  scores['test-r2-mean'].iloc[-1]"
      ],
      "execution_count": 0,
      "outputs": []
    },
    {
      "cell_type": "code",
      "metadata": {
        "id": "kDGnAqzGNR2X",
        "colab_type": "code",
        "colab": {}
      },
      "source": [
        "pds ={\n",
        "  'min_child_weight':(14, 20),\n",
        "  'gamma':(0, 5),\n",
        "  'subsample':(0.5, 1),\n",
        "  'colsample_bytree':(0.1, 1),\n",
        "  'max_depth': (6, 10)\n",
        "}"
      ],
      "execution_count": 0,
      "outputs": []
    },
    {
      "cell_type": "code",
      "metadata": {
        "id": "dW_Z8TSmNR2a",
        "colab_type": "code",
        "outputId": "4bd1cd5f-db2e-408f-d52c-77c883faf369",
        "colab": {
          "base_uri": "https://localhost:8080/",
          "height": 408
        }
      },
      "source": [
        "# Surrogate model\n",
        "optimizer = BayesianOptimization(hyp_xgb, pds, random_state=103)\n",
        "                                  \n",
        "# Optimize\n",
        "optimizer.maximize(init_points=5, n_iter=15)"
      ],
      "execution_count": 0,
      "outputs": [
        {
          "output_type": "stream",
          "text": [
            "|   iter    |  target   | colsam... |   gamma   | max_depth | min_ch... | subsample |\n",
            "-------------------------------------------------------------------------------------\n",
            "| \u001b[0m 1       \u001b[0m | \u001b[0m 0.9732  \u001b[0m | \u001b[0m 0.4889  \u001b[0m | \u001b[0m 0.8711  \u001b[0m | \u001b[0m 6.684   \u001b[0m | \u001b[0m 18.97   \u001b[0m | \u001b[0m 0.7936  \u001b[0m |\n",
            "| \u001b[95m 2       \u001b[0m | \u001b[95m 0.9774  \u001b[0m | \u001b[95m 0.5134  \u001b[0m | \u001b[95m 4.113   \u001b[0m | \u001b[95m 9.286   \u001b[0m | \u001b[95m 15.84   \u001b[0m | \u001b[95m 0.6004  \u001b[0m |\n",
            "| \u001b[0m 3       \u001b[0m | \u001b[0m 0.97    \u001b[0m | \u001b[0m 0.4629  \u001b[0m | \u001b[0m 4.739   \u001b[0m | \u001b[0m 8.71    \u001b[0m | \u001b[0m 17.65   \u001b[0m | \u001b[0m 0.8362  \u001b[0m |\n",
            "| \u001b[0m 4       \u001b[0m | \u001b[0m 0.8031  \u001b[0m | \u001b[0m 0.1072  \u001b[0m | \u001b[0m 1.683   \u001b[0m | \u001b[0m 7.429   \u001b[0m | \u001b[0m 16.92   \u001b[0m | \u001b[0m 0.9391  \u001b[0m |\n",
            "| \u001b[95m 5       \u001b[0m | \u001b[95m 0.9909  \u001b[0m | \u001b[95m 0.7794  \u001b[0m | \u001b[95m 3.152   \u001b[0m | \u001b[95m 7.506   \u001b[0m | \u001b[95m 17.54   \u001b[0m | \u001b[95m 0.8687  \u001b[0m |\n",
            "| \u001b[95m 6       \u001b[0m | \u001b[95m 0.9919  \u001b[0m | \u001b[95m 1.0     \u001b[0m | \u001b[95m 5.0     \u001b[0m | \u001b[95m 6.0     \u001b[0m | \u001b[95m 14.0    \u001b[0m | \u001b[95m 0.5     \u001b[0m |\n",
            "| \u001b[0m 7       \u001b[0m | \u001b[0m 0.9654  \u001b[0m | \u001b[0m 1.0     \u001b[0m | \u001b[0m 4.441e-1\u001b[0m | \u001b[0m 10.0    \u001b[0m | \u001b[0m 20.0    \u001b[0m | \u001b[0m 0.5     \u001b[0m |\n",
            "| \u001b[0m 8       \u001b[0m | \u001b[0m 0.9654  \u001b[0m | \u001b[0m 1.0     \u001b[0m | \u001b[0m 5.0     \u001b[0m | \u001b[0m 6.0     \u001b[0m | \u001b[0m 20.0    \u001b[0m | \u001b[0m 0.5     \u001b[0m |\n",
            "| \u001b[95m 9       \u001b[0m | \u001b[95m 0.9987  \u001b[0m | \u001b[95m 1.0     \u001b[0m | \u001b[95m 5.0     \u001b[0m | \u001b[95m 10.0    \u001b[0m | \u001b[95m 14.0    \u001b[0m | \u001b[95m 1.0     \u001b[0m |\n",
            "| \u001b[0m 10      \u001b[0m | \u001b[0m 0.9654  \u001b[0m | \u001b[0m 1.0     \u001b[0m | \u001b[0m 5.0     \u001b[0m | \u001b[0m 10.0    \u001b[0m | \u001b[0m 20.0    \u001b[0m | \u001b[0m 0.5     \u001b[0m |\n",
            "| \u001b[0m 11      \u001b[0m | \u001b[0m 0.9676  \u001b[0m | \u001b[0m 1.0     \u001b[0m | \u001b[0m 0.0     \u001b[0m | \u001b[0m 6.0     \u001b[0m | \u001b[0m 20.0    \u001b[0m | \u001b[0m 0.5     \u001b[0m |\n",
            "| \u001b[0m 12      \u001b[0m | \u001b[0m 0.7965  \u001b[0m | \u001b[0m 0.1     \u001b[0m | \u001b[0m 2.482   \u001b[0m | \u001b[0m 7.936   \u001b[0m | \u001b[0m 20.0    \u001b[0m | \u001b[0m 0.5     \u001b[0m |\n",
            "| \u001b[0m 13      \u001b[0m | \u001b[0m 0.9923  \u001b[0m | \u001b[0m 1.0     \u001b[0m | \u001b[0m 0.0     \u001b[0m | \u001b[0m 10.0    \u001b[0m | \u001b[0m 14.0    \u001b[0m | \u001b[0m 0.5     \u001b[0m |\n",
            "| \u001b[0m 14      \u001b[0m | \u001b[0m 0.9923  \u001b[0m | \u001b[0m 1.0     \u001b[0m | \u001b[0m 0.0     \u001b[0m | \u001b[0m 6.0     \u001b[0m | \u001b[0m 14.0    \u001b[0m | \u001b[0m 0.5     \u001b[0m |\n",
            "| \u001b[0m 15      \u001b[0m | \u001b[0m 0.9844  \u001b[0m | \u001b[0m 1.0     \u001b[0m | \u001b[0m 5.0     \u001b[0m | \u001b[0m 10.0    \u001b[0m | \u001b[0m 16.82   \u001b[0m | \u001b[0m 0.5     \u001b[0m |\n",
            "| \u001b[0m 16      \u001b[0m | \u001b[0m 0.9984  \u001b[0m | \u001b[0m 1.0     \u001b[0m | \u001b[0m 5.0     \u001b[0m | \u001b[0m 6.0     \u001b[0m | \u001b[0m 16.91   \u001b[0m | \u001b[0m 1.0     \u001b[0m |\n",
            "| \u001b[0m 17      \u001b[0m | \u001b[0m 0.998   \u001b[0m | \u001b[0m 1.0     \u001b[0m | \u001b[0m 0.0     \u001b[0m | \u001b[0m 10.0    \u001b[0m | \u001b[0m 17.28   \u001b[0m | \u001b[0m 1.0     \u001b[0m |\n",
            "| \u001b[0m 18      \u001b[0m | \u001b[0m 0.9789  \u001b[0m | \u001b[0m 1.0     \u001b[0m | \u001b[0m 0.0     \u001b[0m | \u001b[0m 6.0     \u001b[0m | \u001b[0m 17.38   \u001b[0m | \u001b[0m 0.5     \u001b[0m |\n",
            "| \u001b[95m 19      \u001b[0m | \u001b[95m 0.9989  \u001b[0m | \u001b[95m 1.0     \u001b[0m | \u001b[95m 2.831   \u001b[0m | \u001b[95m 8.202   \u001b[0m | \u001b[95m 14.0    \u001b[0m | \u001b[95m 1.0     \u001b[0m |\n",
            "| \u001b[0m 20      \u001b[0m | \u001b[0m 0.9959  \u001b[0m | \u001b[0m 1.0     \u001b[0m | \u001b[0m 2.25    \u001b[0m | \u001b[0m 6.0     \u001b[0m | \u001b[0m 19.64   \u001b[0m | \u001b[0m 1.0     \u001b[0m |\n",
            "=====================================================================================\n"
          ],
          "name": "stdout"
        }
      ]
    },
    {
      "cell_type": "code",
      "metadata": {
        "id": "JhG3DcmNfq0Z",
        "colab_type": "code",
        "outputId": "b71ea0a6-cea8-4934-d029-5b5428362cb2",
        "colab": {
          "base_uri": "https://localhost:8080/",
          "height": 119
        }
      },
      "source": [
        "optimizer.max"
      ],
      "execution_count": 0,
      "outputs": [
        {
          "output_type": "execute_result",
          "data": {
            "text/plain": [
              "{'params': {'colsample_bytree': 1.0,\n",
              "  'gamma': 2.830706438799185,\n",
              "  'max_depth': 8.201814553535812,\n",
              "  'min_child_weight': 14.0,\n",
              "  'subsample': 1.0},\n",
              " 'target': 0.9989032}"
            ]
          },
          "metadata": {
            "tags": []
          },
          "execution_count": 29
        }
      ]
    },
    {
      "cell_type": "markdown",
      "metadata": {
        "id": "PirO-H4qNR2c",
        "colab_type": "text"
      },
      "source": [
        "<center><span style='color:red;background:pink;font-size:40px'>End of the Notebook </span> </center>\n",
        "\n",
        "***\n",
        "\n",
        "### <center style='color:blue;background:yellow'>  [GOT TO TOP](#000) </center>"
      ]
    },
    {
      "cell_type": "code",
      "metadata": {
        "id": "b4kgfmY0NR2d",
        "colab_type": "code",
        "colab": {}
      },
      "source": [
        ""
      ],
      "execution_count": 0,
      "outputs": []
    }
  ]
}