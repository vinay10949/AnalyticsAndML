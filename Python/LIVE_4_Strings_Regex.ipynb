{
  "nbformat": 4,
  "nbformat_minor": 0,
  "metadata": {
    "kernelspec": {
      "display_name": "Python 3",
      "language": "python",
      "name": "python3"
    },
    "language_info": {
      "codemirror_mode": {
        "name": "ipython",
        "version": 3
      },
      "file_extension": ".py",
      "mimetype": "text/x-python",
      "name": "python",
      "nbconvert_exporter": "python",
      "pygments_lexer": "ipython3",
      "version": "3.7.3"
    },
    "colab": {
      "name": "LIVE_4_Strings_Regex.ipynb",
      "provenance": [],
      "include_colab_link": true
    }
  },
  "cells": [
    {
      "cell_type": "markdown",
      "metadata": {
        "id": "view-in-github",
        "colab_type": "text"
      },
      "source": [
        "<a href=\"https://colab.research.google.com/github/vinay10949/AnalyticsAndML/blob/master/Python/LIVE_4_Strings_Regex.ipynb\" target=\"_parent\"><img src=\"https://colab.research.google.com/assets/colab-badge.svg\" alt=\"Open In Colab\"/></a>"
      ]
    },
    {
      "cell_type": "markdown",
      "metadata": {
        "id": "JYce3lWD8Els",
        "colab_type": "text"
      },
      "source": [
        "## LIVE 4: Strings and Regex \n",
        " - Focus: Basics of strings and regex in Python + Simple problem solving. \n",
        " - Prereq: Basic knowledge of Strings and Regex in Python + previous code-sessions.\n",
        " - Reference for basics: \n",
        "     - https://docs.python.org/3/howto/regex.html\n",
        "     - https://docs.python.org/3/library/re.html\n",
        "     - https://www.w3schools.com/python/python_strings.asp\n",
        "     - https://www.geeksforgeeks.org/python-strings/\n",
        "     "
      ]
    },
    {
      "cell_type": "markdown",
      "metadata": {
        "id": "-vROqp6l8Elw",
        "colab_type": "text"
      },
      "source": [
        "## Quick recap of Regex in Python\n",
        "- Go through multiple examples to understand regex better\n",
        "- Key life-skill: learn from resources on the internet.\n",
        "- https://docs.python.org/3/howto/regex.html\n",
        "- https://www.w3schools.com/python/python_regex.asp\n",
        "- https://www.tutorialspoint.com/python/python_reg_expressions.htm\n"
      ]
    },
    {
      "cell_type": "markdown",
      "metadata": {
        "id": "KvXov4Kb8El0",
        "colab_type": "text"
      },
      "source": [
        "## Problem-1: Mask personal information in email and phone numbers"
      ]
    },
    {
      "cell_type": "markdown",
      "metadata": {
        "id": "Y_hNIEyM8El7",
        "colab_type": "text"
      },
      "source": [
        "- Email: xxxxxxxxx@aaaa.zzzz\n",
        "    - Masked:x#####x@aaaa.zzzz [FIVE # between first and last char of the name]  \n",
        "    \n",
        "    <br>\n",
        "    \n",
        "- Phone:  digits 0-9 or any of the characters from  { '-', '(', ')', ' '} \n",
        "    - Example: 1(234)567-890   --> ###-###-7890\"\n",
        "    "
      ]
    },
    {
      "cell_type": "code",
      "metadata": {
        "id": "YSsivuEG8El_",
        "colab_type": "code",
        "colab": {},
        "outputId": "77902353-a390-48e5-dcd0-26bdb2a025ee"
      },
      "source": [
        "# email-masking\n",
        "s = \"abcd@efgh.com\";\n",
        "\n",
        "#output: a#####d@efgh.com\n",
        "# Any suggestions?\n",
        "#\n",
        "#\n",
        "#\n",
        "#\n",
        "#\n",
        "#\n",
        "#\n",
        "#\n",
        "#\n",
        "#\n",
        "#\n",
        "#\n",
        "#\n",
        "#\n",
        "#\n",
        "#\n",
        "#\n",
        "#\n",
        "#\n",
        "#\n",
        "#\n",
        "#\n",
        "#\n",
        "#\n",
        "#\n",
        "#\n",
        "#\n",
        "#\n",
        "#\n",
        "#\n",
        "#\n",
        "#\n",
        "#\n",
        "#\n",
        "#\n",
        "#\n",
        "#\n",
        "#\n",
        "\n",
        "#simple string formatting : https://www.programiz.com/python-programming/methods/string/format\n",
        "\n",
        "from IPython.display import Image\n",
        "Image(url= \"https://cdn.programiz.com/sites/tutorial2program/files/python-format-positional-argument.jpg\")\n",
        "\n"
      ],
      "execution_count": 0,
      "outputs": [
        {
          "output_type": "execute_result",
          "data": {
            "text/html": [
              "<img src=\"https://cdn.programiz.com/sites/tutorial2program/files/python-format-positional-argument.jpg\"/>"
            ],
            "text/plain": [
              "<IPython.core.display.Image object>"
            ]
          },
          "metadata": {
            "tags": []
          },
          "execution_count": 13
        }
      ]
    },
    {
      "cell_type": "code",
      "metadata": {
        "id": "LnE3wkR38Emf",
        "colab_type": "code",
        "colab": {},
        "outputId": "44cd0e55-4820-4ed3-a67b-61c0399b6789"
      },
      "source": [
        "# boundary case: check if email or not\n",
        "s = \"abcd@efgh.com\";\n",
        "\n",
        "def maskEmail(s):\n",
        "    if '@' in s: \n",
        "        name, domain = s.split('@')\n",
        "        return (\"{0}#####{1}@{2}\".format(name[0], name[-1], domain));\n",
        "\n",
        "print(maskEmail(s))"
      ],
      "execution_count": 0,
      "outputs": [
        {
          "output_type": "stream",
          "text": [
            "a#####d@efgh.com\n"
          ],
          "name": "stdout"
        }
      ]
    },
    {
      "cell_type": "code",
      "metadata": {
        "id": "olIZV5yk8Emx",
        "colab_type": "code",
        "colab": {},
        "outputId": "87ea52b4-ae14-44e7-ae0d-adade9ac8d54"
      },
      "source": [
        "# BOUDNARY CASE: a@bcdef.com\n",
        "print(maskEmail(\"a@bcdef.com\"))"
      ],
      "execution_count": 0,
      "outputs": [
        {
          "output_type": "stream",
          "text": [
            "a#####a@bcdef.com\n"
          ],
          "name": "stdout"
        }
      ]
    },
    {
      "cell_type": "code",
      "metadata": {
        "id": "APoUhZov8EnC",
        "colab_type": "code",
        "colab": {},
        "outputId": "001fd11d-46ef-4b3d-893c-1d7290b9f81a"
      },
      "source": [
        "# BOUDNARY CASE: abcd.com\n",
        "print(maskEmail(\"abcd.com\"))"
      ],
      "execution_count": 0,
      "outputs": [
        {
          "output_type": "stream",
          "text": [
            "None\n"
          ],
          "name": "stdout"
        }
      ]
    },
    {
      "cell_type": "code",
      "metadata": {
        "id": "b0mA0tAg8EnT",
        "colab_type": "code",
        "colab": {},
        "outputId": "86c082f9-dcb5-462b-fe04-b3ad80ac6a09"
      },
      "source": [
        "# BOUDNARY CASE: abcd@cdef\n",
        "print(maskEmail(\"abcd@cdef\"))"
      ],
      "execution_count": 0,
      "outputs": [
        {
          "output_type": "stream",
          "text": [
            "a#####d@cdef\n"
          ],
          "name": "stdout"
        }
      ]
    },
    {
      "cell_type": "code",
      "metadata": {
        "id": "xOFsa02_8Enk",
        "colab_type": "code",
        "colab": {},
        "outputId": "c7053e81-ff45-4bec-d3a7-5e16a96ba5b2"
      },
      "source": [
        "# Check if email is valid is another function.\n",
        "# Any suggestions?\n",
        "#\n",
        "#\n",
        "#\n",
        "#\n",
        "#\n",
        "#\n",
        "#\n",
        "#\n",
        "#\n",
        "#\n",
        "#\n",
        "#\n",
        "#\n",
        "#\n",
        "#\n",
        "#\n",
        "#\n",
        "#\n",
        "#\n",
        "#\n",
        "#\n",
        "#\n",
        "#\n",
        "#\n",
        "#\n",
        "#\n",
        "#\n",
        "#\n",
        "#\n",
        "#\n",
        "#\n",
        "#\n",
        "#\n",
        "#\n",
        "#\n",
        "#\n",
        "#\n",
        "#\n",
        "import re\n",
        "def isValidEmail(s):\n",
        "    #refer:https://www.w3schools.com/python/python_regex.asp for regex syntax\n",
        "    #https://docs.python.org/2/library/re.html\n",
        "    \n",
        "    res = re.search('^\\w+([\\.-]?\\w+)*@\\w+([\\.-]?\\w+)*(\\.\\w{2,3})+$', s, re.IGNORECASE)   #https://www.geeksforgeeks.org/check-if-email-address-valid-or-not-in-python/   \n",
        "    print(res)\n",
        "    \n",
        "    if(res):\n",
        "        return True;\n",
        "    else:\n",
        "        return False;\n",
        "\n",
        "print(isValidEmail(\"abcd@cdef\"))"
      ],
      "execution_count": 0,
      "outputs": [
        {
          "output_type": "stream",
          "text": [
            "None\n",
            "False\n"
          ],
          "name": "stdout"
        }
      ]
    },
    {
      "cell_type": "code",
      "metadata": {
        "id": "38JTVpUn8En0",
        "colab_type": "code",
        "colab": {},
        "outputId": "c2e35ad9-caa3-49cf-d1f1-0673016cd408"
      },
      "source": [
        "print(isValidEmail(\"abcd@cdef.c\"))"
      ],
      "execution_count": 0,
      "outputs": [
        {
          "output_type": "stream",
          "text": [
            "None\n",
            "False\n"
          ],
          "name": "stdout"
        }
      ]
    },
    {
      "cell_type": "code",
      "metadata": {
        "id": "I5hU3HBI8EoB",
        "colab_type": "code",
        "colab": {},
        "outputId": "5f6951b2-e3c1-47b4-cc01-190f36f47896"
      },
      "source": [
        "print(isValidEmail(\"a@cdef.com\"))"
      ],
      "execution_count": 0,
      "outputs": [
        {
          "output_type": "stream",
          "text": [
            "<re.Match object; span=(0, 10), match='a@cdef.com'>\n",
            "True\n"
          ],
          "name": "stdout"
        }
      ]
    },
    {
      "cell_type": "code",
      "metadata": {
        "id": "aNFl9M6Y8EoP",
        "colab_type": "code",
        "colab": {},
        "outputId": "da19ff4e-548e-4f21-9c07-44e97596fc20"
      },
      "source": [
        "print(isValidEmail(\"abcd@iisc.ac.in\"))"
      ],
      "execution_count": 0,
      "outputs": [
        {
          "output_type": "stream",
          "text": [
            "<re.Match object; span=(0, 15), match='abcd@iisc.ac.in'>\n",
            "True\n"
          ],
          "name": "stdout"
        }
      ]
    },
    {
      "cell_type": "code",
      "metadata": {
        "id": "_KyxBbzX8Eoe",
        "colab_type": "code",
        "colab": {},
        "outputId": "da485faa-f43a-44d1-8446-d8a01a73827c"
      },
      "source": [
        "regex = '^\\w+([\\.-]?\\w+)*@\\w+([\\.-]?\\w+)*(\\.\\w{2,3})+$' # highly non-readbale code\n",
        "\n",
        "#https://docs.python.org/2/library/re.html\n",
        "regex_verbose = re.compile(r\"\"\"                  # VERY readable and easy to understand. Software maintanability.\n",
        "            ^\\w+([\\.-]?\\w+)*              # start, \\w+, \n",
        "            @                             # single @ sign \n",
        "            \\w+([\\.-]?\\w+)*               # Domain name \n",
        "            (\\.\\w{2,3})+$                 # .com, .ac.in,    \n",
        "             \"\"\",re.VERBOSE | re.IGNORECASE)          \n",
        "\n",
        "\n",
        "res = regex_verbose.match(\"abcd@iisc.ac.in\");\n",
        "\n",
        "print(res.string)\n",
        "print(res)"
      ],
      "execution_count": 0,
      "outputs": [
        {
          "output_type": "stream",
          "text": [
            "abcd@iisc.ac.in\n",
            "<re.Match object; span=(0, 15), match='abcd@iisc.ac.in'>\n"
          ],
          "name": "stdout"
        }
      ]
    },
    {
      "cell_type": "code",
      "metadata": {
        "id": "JXFdImlY8Eop",
        "colab_type": "code",
        "colab": {},
        "outputId": "fc945881-e158-4225-e998-bcc783df6551"
      },
      "source": [
        "# PHONE NUMBER MASKING\n",
        "#Example: 1(234)567-890 --> ###-###-7890\"\n",
        "\n",
        "\n",
        "ph = \"1(234)567-890\"\n",
        "\n",
        "\n",
        "digits = re.sub(\"\\D\", \"\", ph)  # \\D=>non-decimal, re.substitute, https://docs.python.org/3/library/re.html \n",
        "\n",
        "print(digits)\n",
        "    \n",
        "masked =  \"###-###-{}\".format(digits[-4:])\n",
        "print(masked)\n",
        "\n"
      ],
      "execution_count": 0,
      "outputs": [
        {
          "output_type": "stream",
          "text": [
            "1234567890\n",
            "###-###-7890\n"
          ],
          "name": "stdout"
        }
      ]
    },
    {
      "cell_type": "code",
      "metadata": {
        "id": "Ns2zVo_a8Eo5",
        "colab_type": "code",
        "colab": {},
        "outputId": "8dcf7c16-43d6-463e-e4c6-b5b1c13f3223"
      },
      "source": [
        "def maskPhoneNum(ph):\n",
        "    digits = re.sub(\"\\D\", \"\", ph)  # \\D=>non-decimal, re.substitute, https://docs.python.org/3/library/re.html \n",
        "    if len(digits) != 10: # BOUNDARY CASE\n",
        "        return None;\n",
        "    else:\n",
        "        masked =  \"###-###-{}\".format(digits[-4:])\n",
        "        return masked\n",
        "\n",
        "print(maskPhoneNum(\"1(234)567-890\"))\n"
      ],
      "execution_count": 0,
      "outputs": [
        {
          "output_type": "stream",
          "text": [
            "###-###-7890\n"
          ],
          "name": "stdout"
        }
      ]
    },
    {
      "cell_type": "markdown",
      "metadata": {
        "id": "t9propqm8EpI",
        "colab_type": "text"
      },
      "source": [
        "print(maskPhoneNum(\"1(234)567-89\"))"
      ]
    },
    {
      "cell_type": "markdown",
      "metadata": {
        "id": "5Ew6TGjY8EpK",
        "colab_type": "text"
      },
      "source": [
        "#### Exercise:  12 digit phone numbers with 2 digits of ISD  code strtaing with + \n",
        "- e.g: +86-(99)12345678    ---->  (+86)-###-###-5678\n",
        "************\n",
        "************\n",
        "************************\n",
        "************\n",
        "************\n",
        "************\n",
        "************\n"
      ]
    },
    {
      "cell_type": "markdown",
      "metadata": {
        "id": "51vlNG1D8EpL",
        "colab_type": "text"
      },
      "source": [
        "## Problem 2: Extract data from a PDF invoice"
      ]
    },
    {
      "cell_type": "markdown",
      "metadata": {
        "id": "NzV9sEvb8EpO",
        "colab_type": "text"
      },
      "source": [
        "- Given a PDF [https://slicedinvoices.com/pdf/wordpress-pdf-invoice-plugin-sample.pdf], extract predefined key fields from this PDF\n",
        "- Assume the format is fixed.\n"
      ]
    },
    {
      "cell_type": "markdown",
      "metadata": {
        "id": "f1jEyxdn8EpS",
        "colab_type": "text"
      },
      "source": [
        "#### NOTE: Download and save the above PDF as invoice.pdf in the same folder as your iPython notebook for the following code to work\n"
      ]
    },
    {
      "cell_type": "code",
      "metadata": {
        "id": "4-y6GuhB8EpV",
        "colab_type": "code",
        "colab": {},
        "outputId": "f30cc63f-e91f-4706-83e0-88c9e2d3a7d3"
      },
      "source": [
        "# https://realpython.com/pdf-python/#history-of-pypdf-pypdf2-and-pypdf4\n",
        "\n",
        "!pip3 install pyPDF4\n"
      ],
      "execution_count": 0,
      "outputs": [
        {
          "output_type": "stream",
          "text": [
            "Collecting pyPDF4\n",
            "\u001b[?25l  Downloading https://files.pythonhosted.org/packages/4f/1f/509b44850c475c101aa5b5c9b81755cedd363389d6fbb5c53be6fa915a61/PyPDF4-1.27.0.tar.gz (63kB)\n",
            "\u001b[K    100% |████████████████████████████████| 71kB 1.5MB/s ta 0:00:011\n",
            "\u001b[?25hBuilding wheels for collected packages: pyPDF4\n",
            "  Building wheel for pyPDF4 (setup.py) ... \u001b[?25ldone\n",
            "\u001b[?25h  Stored in directory: /Users/varma/Library/Caches/pip/wheels/eb/4f/15/c64d533cb496fd874f56045fe30e8cc0ac59f99ecdd718040d\n",
            "Successfully built pyPDF4\n",
            "Installing collected packages: pyPDF4\n",
            "Successfully installed pyPDF4-1.27.0\n"
          ],
          "name": "stdout"
        }
      ]
    },
    {
      "cell_type": "code",
      "metadata": {
        "id": "GsEbisnA8Epj",
        "colab_type": "code",
        "colab": {},
        "outputId": "2b2cdb69-a30b-4d8c-8f1d-492296cf2eed"
      },
      "source": [
        "# Google \"pyPDF extract text\" ---> https://www.soudegesu.com/en/post/python/extract-text-from-pdf-with-pypdf2/\n",
        "import PyPDF4\n",
        "\n",
        "FILE_PATH = './invoice.pdf'\n",
        "\n",
        "with open(FILE_PATH, mode='rb') as f:\n",
        "    reader = PyPDF4.PdfFileReader(f)\n",
        "    page = reader.getPage(0)\n",
        "    print(page.extractText())\n"
      ],
      "execution_count": 0,
      "outputs": [
        {
          "output_type": "stream",
          "text": [
            "Invoice\n",
            "Payment is due within 30 days from date of invoice. Late payment is subject to fees of 5% per month.\n",
            "Thanks for choosing \n",
            "DEMO - Sliced Invoices\n",
            " | \n",
            "admin@slicedinvoices.com\n",
            "Page 1/1\n",
            "From:\n",
            "DEMO - Sliced Invoices\n",
            "Suite 5A-1204\n",
            "123 Somewhere Street\n",
            "Your City AZ 12345\n",
            "admin@slicedinvoices.com\n",
            "Invoice Number\n",
            "INV-3337\n",
            "Order Number\n",
            "12345\n",
            "Invoice Date\n",
            "January 25, 2016\n",
            "Due Date\n",
            "January 31, 2016\n",
            "Total Due\n",
            "$93.50\n",
            "To:\n",
            "Test Business\n",
            "123 Somewhere St\n",
            "Melbourne, VIC 3000\n",
            "test@test.com\n",
            "Hrs/Qty\n",
            "Service\n",
            "Rate/Price\n",
            "Adjust\n",
            "Sub Total\n",
            "1.00\n",
            "Web Design\n",
            "This is a sample description...\n",
            "$85.00\n",
            "0.00%\n",
            "$85.00\n",
            "Sub Total\n",
            "$85.00\n",
            "Tax\n",
            "$8.50\n",
            "Total\n",
            "$93.50\n",
            "ANZ Bank\n",
            "ACC # 1234 1234\n",
            "BSB # 4321 432\n",
            "Paid\n",
            "\n"
          ],
          "name": "stdout"
        }
      ]
    },
    {
      "cell_type": "code",
      "metadata": {
        "id": "5xewzK7I8Epy",
        "colab_type": "code",
        "colab": {}
      },
      "source": [
        "import PyPDF4\n",
        "\n",
        "FILE_PATH = './invoice.pdf'\n",
        "\n",
        "with open(FILE_PATH, mode='rb') as f:\n",
        "    reader = PyPDF4.PdfFileReader(f)\n",
        "    page = reader.getPage(0)\n",
        "    txt = page.extractText();"
      ],
      "execution_count": 0,
      "outputs": []
    },
    {
      "cell_type": "code",
      "metadata": {
        "id": "1CCfnoBC8Ep6",
        "colab_type": "code",
        "colab": {},
        "outputId": "2721cdf1-5326-41b7-fdc3-18d711b01f95"
      },
      "source": [
        "# extract invoice number\n",
        "\n",
        "m = re.findall(\"INV-[0-9]*\", txt)\n",
        "print(m)\n"
      ],
      "execution_count": 0,
      "outputs": [
        {
          "output_type": "stream",
          "text": [
            "['INV-3337']\n"
          ],
          "name": "stdout"
        }
      ]
    },
    {
      "cell_type": "code",
      "metadata": {
        "id": "wWgxWPvt8EqG",
        "colab_type": "code",
        "colab": {},
        "outputId": "e8036775-0c18-48b6-a311-3d36f8bd24f0"
      },
      "source": [
        "# extract amounts\n",
        "m = re.findall(\"$[0-9]*\\.[0-9]*\", txt)\n",
        "print(m)\n"
      ],
      "execution_count": 0,
      "outputs": [
        {
          "output_type": "stream",
          "text": [
            "[]\n"
          ],
          "name": "stdout"
        }
      ]
    },
    {
      "cell_type": "code",
      "metadata": {
        "id": "edS1-MiB8EqQ",
        "colab_type": "code",
        "colab": {}
      },
      "source": [
        ""
      ],
      "execution_count": 0,
      "outputs": []
    },
    {
      "cell_type": "code",
      "metadata": {
        "id": "HOS-phMg8Eql",
        "colab_type": "code",
        "colab": {},
        "outputId": "659f62eb-77fc-4022-8928-8558dcfb0bd2"
      },
      "source": [
        "\n",
        "# extract amounts\n",
        "m = re.findall(\"\\$[0-9]*\\.[0-9]*\", txt)\n",
        "print(m)\n"
      ],
      "execution_count": 0,
      "outputs": [
        {
          "output_type": "stream",
          "text": [
            "['$93.50', '$85.00', '$85.00', '$85.00', '$8.50', '$93.50']\n"
          ],
          "name": "stdout"
        }
      ]
    },
    {
      "cell_type": "markdown",
      "metadata": {
        "id": "CydTPDQZ8Eqv",
        "colab_type": "text"
      },
      "source": [
        "*********\n",
        "*********\n",
        "*********\n",
        "*********\n",
        "*********\n",
        "******************\n",
        "*********\n",
        "*********\n",
        "******************\n",
        "*********\n"
      ]
    },
    {
      "cell_type": "code",
      "metadata": {
        "id": "ei--p1UT8Eqx",
        "colab_type": "code",
        "colab": {},
        "outputId": "aad8b018-e24a-4fc4-d946-8e91ee4dffcf"
      },
      "source": [
        "# Extract Total Due:\n",
        "m = re.findall(\"Total Due\\$[0-9]*\\.[0-9]*\", txt)\n",
        "print(m)\n",
        "\n"
      ],
      "execution_count": 0,
      "outputs": [
        {
          "output_type": "stream",
          "text": [
            "[]\n"
          ],
          "name": "stdout"
        }
      ]
    },
    {
      "cell_type": "code",
      "metadata": {
        "id": "mxCm5IR08Eq7",
        "colab_type": "code",
        "colab": {},
        "outputId": "f4b220b0-1ddd-4ba7-e96f-b87b6e70d887"
      },
      "source": [
        "# Any suggestions?\n",
        "#\n",
        "#\n",
        "#\n",
        "#\n",
        "#\n",
        "#\n",
        "#\n",
        "#\n",
        "#\n",
        "#\n",
        "#\n",
        "#\n",
        "#\n",
        "#\n",
        "#\n",
        "#\n",
        "#\n",
        "#\n",
        "#\n",
        "#\n",
        "#\n",
        "#\n",
        "#\n",
        "#\n",
        "#\n",
        "#\n",
        "#\n",
        "#\n",
        "#\n",
        "#\n",
        "#\n",
        "#\n",
        "#\n",
        "#\n",
        "#\n",
        "#\n",
        "#\n",
        "#\n",
        "# Extract Total Due:\n",
        "m = re.findall(\"Total Due\\n\\$[0-9]*\\.[0-9]*\", txt)\n",
        "print(m)"
      ],
      "execution_count": 0,
      "outputs": [
        {
          "output_type": "stream",
          "text": [
            "['Total Due\\n$93.50']\n"
          ],
          "name": "stdout"
        }
      ]
    },
    {
      "cell_type": "code",
      "metadata": {
        "id": "Mkkxv4ju8ErH",
        "colab_type": "code",
        "colab": {},
        "outputId": "e4c9ccc6-f7f3-42f0-e08b-663109aa8106"
      },
      "source": [
        "print(re.findall(\"\\$[0-9]*\\.[0-9]*\",m[0]))"
      ],
      "execution_count": 0,
      "outputs": [
        {
          "output_type": "stream",
          "text": [
            "['$93.50']\n"
          ],
          "name": "stdout"
        }
      ]
    },
    {
      "cell_type": "markdown",
      "metadata": {
        "id": "7IDEKVtw8ErP",
        "colab_type": "text"
      },
      "source": [
        "### Ques: How do we handle cases where we want to extract data from multiple invoice formats?\n",
        "\n",
        "\n",
        "#### Assignment: Extract email-addresses from the PDF\n",
        "\n",
        "#### We will continue from here tomorrow. Pelase go through regex- referecnes in detail for tomorrow's session. We will solve a few product based company interview questions."
      ]
    },
    {
      "cell_type": "code",
      "metadata": {
        "id": "DSOIUod98ErR",
        "colab_type": "code",
        "colab": {}
      },
      "source": [
        ""
      ],
      "execution_count": 0,
      "outputs": []
    }
  ]
}