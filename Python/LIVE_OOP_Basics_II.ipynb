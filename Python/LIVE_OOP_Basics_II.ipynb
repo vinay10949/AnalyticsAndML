{
  "nbformat": 4,
  "nbformat_minor": 0,
  "metadata": {
    "celltoolbar": "Slideshow",
    "kernelspec": {
      "display_name": "Python 3",
      "language": "python",
      "name": "python3"
    },
    "language_info": {
      "codemirror_mode": {
        "name": "ipython",
        "version": 3
      },
      "file_extension": ".py",
      "mimetype": "text/x-python",
      "name": "python",
      "nbconvert_exporter": "python",
      "pygments_lexer": "ipython3",
      "version": "3.7.3"
    },
    "colab": {
      "name": "LIVE_OOP_Basics_II.ipynb",
      "provenance": [],
      "include_colab_link": true
    }
  },
  "cells": [
    {
      "cell_type": "markdown",
      "metadata": {
        "id": "view-in-github",
        "colab_type": "text"
      },
      "source": [
        "<a href=\"https://colab.research.google.com/github/vinay10949/AnalyticsAndML/blob/master/Python/LIVE_OOP_Basics_II.ipynb\" target=\"_parent\"><img src=\"https://colab.research.google.com/assets/colab-badge.svg\" alt=\"Open In Colab\"/></a>"
      ]
    },
    {
      "cell_type": "markdown",
      "metadata": {
        "id": "GGvpgY2iFBEF",
        "colab_type": "text"
      },
      "source": [
        "# OOP- II\n",
        "- Multiple-inheritence, Polymorphism, iterator-objects\n",
        "- Will answer a key questions from yesterday's live chat window. \n",
        "- Will cover a few good ideas like dir() that others suggested in the chat window yesterday.\n",
        "\n",
        "Pre-requisites: previous live-sessions in this series."
      ]
    },
    {
      "cell_type": "markdown",
      "metadata": {
        "id": "U5iKnzFhFBEI",
        "colab_type": "text"
      },
      "source": [
        "### How is OOP typically used in an ML role:\n",
        "- Using existing Classes.\n",
        "- Reading documentation to understand how to use a fucntion/class/module.\n",
        "- Fixing code bugs and understanding error messages.\n",
        "- Extending existing classes to modify some fucntionality in an existing class\n",
        "- Working with Software enigneers to build some ML classes for them to use in the larger software.\n",
        "- Do not perform OOD without understanding it well. Typically done by senior engineers/architects. A good beginner's book: https://learning.oreilly.com/library/view/head-first-design/0596007124/"
      ]
    },
    {
      "cell_type": "markdown",
      "metadata": {
        "id": "UA07-UShFBEN",
        "colab_type": "text"
      },
      "source": [
        "### Multiple-inheritence\n",
        "\n",
        "https://docs.python.org/3/tutorial/classes.html#multiple-inheritance\n",
        "\n",
        "class DerivedClassName(Base1, Base2, Base3):\n",
        "    <br>....\n",
        "    <br>....\n",
        "    \n"
      ]
    },
    {
      "cell_type": "code",
      "metadata": {
        "id": "_zDiP0LiFBER",
        "colab_type": "code",
        "colab": {},
        "outputId": "16521947-fb07-41a8-f02c-092ad5d05798"
      },
      "source": [
        "# toy-example: Modifications on https://overiq.com/python-101/inheritance-and-polymorphism-in-python/\n",
        "\n",
        "class A:\n",
        "    def explore(self):\n",
        "        print(\"explore in A  called\")\n",
        "class B:\n",
        "    def search(self):\n",
        "        print(\"search in B  called\")\n",
        "\n",
        "    def explore(self):\n",
        "        print(\"explore in B called\")\n",
        "\n",
        "class C:\n",
        "    def discover(self):\n",
        "        print(\"discover() in C  called\")\n",
        "\n",
        "class D(A, B, C): # multiple inheritence\n",
        "    def test(self):\n",
        "        print(\"test() in D called\")\n",
        " \n",
        " \n",
        "d_obj = D()\n",
        "d_obj.explore()\n",
        "d_obj.search()\n",
        "d_obj.discover()\n",
        "d_obj.test()"
      ],
      "execution_count": null,
      "outputs": [
        {
          "output_type": "stream",
          "text": [
            "explore in A  called\n",
            "search in B  called\n",
            "discover() in C  called\n",
            "test() in D called\n"
          ],
          "name": "stdout"
        }
      ]
    },
    {
      "cell_type": "code",
      "metadata": {
        "id": "nVFRvnALFBEm",
        "colab_type": "code",
        "colab": {},
        "outputId": "9284cb8f-5aec-4c2b-c536-c20deb45c715"
      },
      "source": [
        "# toy-example: Diamond inheritence a.k.a. Deadly dimaond\n",
        "\n",
        "class A:\n",
        "    def explore(self):\n",
        "        print(\"explore in A  called\")\n",
        "\n",
        "class B(A):\n",
        "\n",
        "    def explore(self):\n",
        "        print(\"explore in B called\")\n",
        "\n",
        "class C(A):\n",
        "    def explore(self):\n",
        "        print(\"explore in C  called\")\n",
        "\n",
        "class D(B, C): # multiple inheritence\n",
        "    pass;\n",
        " \n",
        "\n",
        "d_obj = D()\n",
        "d_obj.explore()\n"
      ],
      "execution_count": null,
      "outputs": [
        {
          "output_type": "stream",
          "text": [
            "explore in B called\n"
          ],
          "name": "stdout"
        }
      ]
    },
    {
      "cell_type": "markdown",
      "metadata": {
        "id": "87uxb7OnFBEy",
        "colab_type": "text"
      },
      "source": [
        "### Polymorphism\n",
        "- Different forms\n",
        "- Operator level Polymorphism: 2+3, \"abc\" + \"def\"\n",
        "- Function level Polymorphism: len([1,2,3]), len (\"abcdef\"), len({1,2,3,4})\n",
        "- Class level Polymorphism"
      ]
    },
    {
      "cell_type": "code",
      "metadata": {
        "id": "Nn6mfgJgFBE1",
        "colab_type": "code",
        "colab": {},
        "outputId": "ef2be8c6-f5ad-4a89-a3f7-146a36afb90c"
      },
      "source": [
        "print(len([1,2,3]));\n",
        "print(len(\"abcdef\"))\n",
        "print(len({1,2,3,4}))"
      ],
      "execution_count": null,
      "outputs": [
        {
          "output_type": "stream",
          "text": [
            "3\n",
            "6\n",
            "4\n"
          ],
          "name": "stdout"
        }
      ]
    },
    {
      "cell_type": "code",
      "metadata": {
        "id": "eDMMHV7FFBE-",
        "colab_type": "code",
        "colab": {},
        "outputId": "de537605-7ffc-4a30-dd5d-9fb38f1845c7"
      },
      "source": [
        "#class level Polymorphism\n",
        "\n",
        "class A:\n",
        "    def p(self):\n",
        "        return \"function p in A\"\n",
        "\n",
        "class B:\n",
        "    def p(self):\n",
        "        return \"function p in B\"\n",
        "    \n",
        "\n",
        "a = A();\n",
        "b = B();\n",
        "\n",
        "for i in (a,b):\n",
        "    print(i.p()) # the function that runs depends on the object type making this code much more elegant and crisp\n",
        "\n",
        "print(\"##########################\")\n",
        "\n",
        "x=a;\n",
        "print(x.p());\n",
        "\n",
        "x=b;\n",
        "print(x.p());"
      ],
      "execution_count": null,
      "outputs": [
        {
          "output_type": "stream",
          "text": [
            "function p in A\n",
            "function p in B\n",
            "##########################\n",
            "function p in A\n",
            "function p in B\n"
          ],
          "name": "stdout"
        }
      ]
    },
    {
      "cell_type": "code",
      "metadata": {
        "id": "G1W-y6Z1FBFJ",
        "colab_type": "code",
        "colab": {},
        "outputId": "f23bac26-561a-4891-d1ec-dd2709f347d4"
      },
      "source": [
        "# Polymorphism + Inheritence\n",
        "\n",
        "# example seen earlier: [Source: https://overiq.com/python-101/inheritance-and-polymorphism-in-python/]\n",
        "import math\n",
        " \n",
        "class Shape:\n",
        " \n",
        "    def __init__(self, color='black', filled=False):\n",
        "        self.__color = color\n",
        "        self.__filled = filled\n",
        " \n",
        "    def get_color(self):\n",
        "        return self.__color\n",
        " \n",
        "    def set_color(self, color):\n",
        "        self.__color = color\n",
        " \n",
        "    def get_filled(self):\n",
        "        return self.__filled\n",
        " \n",
        "    def set_filled(self, filled):\n",
        "        self.__filled = filled\n",
        " \n",
        " \n",
        "class Rectangle(Shape):\n",
        " \n",
        "    def __init__(self, length, breadth):\n",
        "        super().__init__()\n",
        "        self.__length = length\n",
        "        self.__breadth = breadth\n",
        " \n",
        "    def get_length(self):\n",
        "        return self.__length\n",
        " \n",
        "    def set_length(self, length):\n",
        "        self.__length = length\n",
        " \n",
        "    def get_breadth(self):\n",
        "        return self.__breadth\n",
        " \n",
        "    def set_breadth(self, breadth):\n",
        "        self.__breadth = breadth\n",
        " \n",
        "    def get_area(self):\n",
        "        return self.__length * self.__breadth\n",
        " \n",
        "    def get_perimeter(self):\n",
        "        return 2 * (self.__length + self.__breadth)\n",
        " \n",
        " \n",
        "class Circle(Shape):\n",
        "    def __init__(self, radius):\n",
        "        super().__init__()\n",
        "        self.__radius = radius\n",
        " \n",
        "    def get_radius(self):\n",
        "        return self.__radius\n",
        " \n",
        "    def set_radius(self, radius):\n",
        "        self.__radius = radius\n",
        " \n",
        "    def get_area(self):\n",
        "        return math.pi * self.__radius ** 2\n",
        " \n",
        "    def get_perimeter(self):\n",
        "        return 2 * math.pi * self.__radius\n",
        "\n",
        "s = Shape();\n",
        "r = Rectangle(10,20);\n",
        "c = Circle(2);\n",
        "\n",
        "for i in (s, r,c):\n",
        "    print(i.get_color())\n",
        "    \n",
        "for i in (r,c):\n",
        "    print(i.get_area())"
      ],
      "execution_count": null,
      "outputs": [
        {
          "output_type": "stream",
          "text": [
            "black\n",
            "black\n",
            "black\n",
            "200\n",
            "12.566370614359172\n"
          ],
          "name": "stdout"
        }
      ]
    },
    {
      "cell_type": "code",
      "metadata": {
        "id": "2Xak_aDpFBFW",
        "colab_type": "code",
        "colab": {},
        "outputId": "bc3a0d57-c959-49da-ffd9-1b8b8bf00c93"
      },
      "source": [
        "# Polymorphism + Inheritence [inbuilt-DS]\n",
        "\n",
        "d = {'a':1, 'b':2}\n",
        "l = [1,2,3,4]\n",
        "s = {1,2,3,4}\n",
        "\n",
        "for i in (d,l,s):\n",
        "    print(i) # polymorphism + inheritence [__str__ from object]\n"
      ],
      "execution_count": null,
      "outputs": [
        {
          "output_type": "stream",
          "text": [
            "{'a': 1, 'b': 2}\n",
            "[1, 2, 3, 4]\n",
            "{1, 2, 3, 4}\n"
          ],
          "name": "stdout"
        }
      ]
    },
    {
      "cell_type": "markdown",
      "metadata": {
        "id": "0wjSzF6pFBFd",
        "colab_type": "text"
      },
      "source": [
        "### Iterable objects"
      ]
    },
    {
      "cell_type": "code",
      "metadata": {
        "id": "W5pg4xOcFBFf",
        "colab_type": "code",
        "colab": {},
        "outputId": "9bec9106-e41a-40ca-d51e-8befa086aa6b"
      },
      "source": [
        "### Iteratable objects in Python\n",
        "for i in [1,2,3,4]:\n",
        "    print(i)"
      ],
      "execution_count": null,
      "outputs": [
        {
          "output_type": "stream",
          "text": [
            "1\n",
            "2\n",
            "3\n",
            "4\n"
          ],
          "name": "stdout"
        }
      ]
    },
    {
      "cell_type": "code",
      "metadata": {
        "id": "SnvVWTc5FBFo",
        "colab_type": "code",
        "colab": {}
      },
      "source": [
        "# How to make objects of a class iteratable?\n",
        "# Source: https://docs.python.org/3/tutorial/classes.html#iterators\n",
        "\n",
        "class Reverse:\n",
        "    \"\"\"Iterator for looping over a sequence backwards.\"\"\"\n",
        "    def __init__(self, data): # data can be list or tuple or string\n",
        "        self.data = data\n",
        "        self.index = len(data)\n",
        "\n",
        "    def __iter__(self):\n",
        "        return self\n",
        "\n",
        "    def __next__(self):\n",
        "        if self.index == 0:\n",
        "            raise StopIteration\n",
        "        self.index = self.index - 1\n",
        "        return self.data[self.index]"
      ],
      "execution_count": null,
      "outputs": []
    },
    {
      "cell_type": "code",
      "metadata": {
        "id": "cfESCOytFBFw",
        "colab_type": "code",
        "colab": {},
        "outputId": "bfa2a585-cced-4c6b-89a3-be66bc012a22"
      },
      "source": [
        "r = Reverse([1,2,3,4]);\n",
        "for i in r:\n",
        "    print(i)"
      ],
      "execution_count": null,
      "outputs": [
        {
          "output_type": "stream",
          "text": [
            "4\n",
            "3\n",
            "2\n",
            "1\n"
          ],
          "name": "stdout"
        }
      ]
    },
    {
      "cell_type": "code",
      "metadata": {
        "id": "KT0zdUuYFBF4",
        "colab_type": "code",
        "colab": {},
        "outputId": "640e3e3f-fc5a-4a2b-d2e8-b5aa75898cfa"
      },
      "source": [
        "r = Reverse((1,2,3,4,5));\n",
        "for i in r:\n",
        "    print(i)"
      ],
      "execution_count": null,
      "outputs": [
        {
          "output_type": "stream",
          "text": [
            "5\n",
            "4\n",
            "3\n",
            "2\n",
            "1\n"
          ],
          "name": "stdout"
        }
      ]
    },
    {
      "cell_type": "code",
      "metadata": {
        "id": "Av5efdv8FBGC",
        "colab_type": "code",
        "colab": {},
        "outputId": "b24d8487-ff05-40ee-c8ce-9748e679710a"
      },
      "source": [
        "r = Reverse(\"abcdef\");\n",
        "for i in r:\n",
        "    print(i)http://localhost:8888/notebooks/CodeWalkthroughSessions/LIVE_OOP_Basics_II.ipynb#"
      ],
      "execution_count": null,
      "outputs": [
        {
          "output_type": "stream",
          "text": [
            "f\n",
            "e\n",
            "d\n",
            "c\n",
            "b\n",
            "a\n"
          ],
          "name": "stdout"
        }
      ]
    },
    {
      "cell_type": "code",
      "metadata": {
        "id": "nTL15nVyFBGL",
        "colab_type": "code",
        "colab": {},
        "outputId": "929d73b9-fa2d-49b6-f9fb-192a39614057"
      },
      "source": [
        "r = Reverse({1,2,3,4,5});\n",
        "for i in r:\n",
        "    print(i)"
      ],
      "execution_count": null,
      "outputs": [
        {
          "output_type": "error",
          "ename": "TypeError",
          "evalue": "'set' object is not subscriptable",
          "traceback": [
            "\u001b[0;31m---------------------------------------------------------------------------\u001b[0m",
            "\u001b[0;31mTypeError\u001b[0m                                 Traceback (most recent call last)",
            "\u001b[0;32m<ipython-input-149-28ae62154c2b>\u001b[0m in \u001b[0;36m<module>\u001b[0;34m\u001b[0m\n\u001b[1;32m      1\u001b[0m \u001b[0mr\u001b[0m \u001b[0;34m=\u001b[0m \u001b[0mReverse\u001b[0m\u001b[0;34m(\u001b[0m\u001b[0;34m{\u001b[0m\u001b[0;36m1\u001b[0m\u001b[0;34m,\u001b[0m\u001b[0;36m2\u001b[0m\u001b[0;34m,\u001b[0m\u001b[0;36m3\u001b[0m\u001b[0;34m,\u001b[0m\u001b[0;36m4\u001b[0m\u001b[0;34m,\u001b[0m\u001b[0;36m5\u001b[0m\u001b[0;34m}\u001b[0m\u001b[0;34m)\u001b[0m\u001b[0;34m;\u001b[0m\u001b[0;34m\u001b[0m\u001b[0;34m\u001b[0m\u001b[0m\n\u001b[0;32m----> 2\u001b[0;31m \u001b[0;32mfor\u001b[0m \u001b[0mi\u001b[0m \u001b[0;32min\u001b[0m \u001b[0mr\u001b[0m\u001b[0;34m:\u001b[0m\u001b[0;34m\u001b[0m\u001b[0;34m\u001b[0m\u001b[0m\n\u001b[0m\u001b[1;32m      3\u001b[0m     \u001b[0mprint\u001b[0m\u001b[0;34m(\u001b[0m\u001b[0mi\u001b[0m\u001b[0;34m)\u001b[0m\u001b[0;34m\u001b[0m\u001b[0;34m\u001b[0m\u001b[0m\n",
            "\u001b[0;32m<ipython-input-145-f14c16d18755>\u001b[0m in \u001b[0;36m__next__\u001b[0;34m(self)\u001b[0m\n\u001b[1;32m     15\u001b[0m             \u001b[0;32mraise\u001b[0m \u001b[0mStopIteration\u001b[0m\u001b[0;34m\u001b[0m\u001b[0;34m\u001b[0m\u001b[0m\n\u001b[1;32m     16\u001b[0m         \u001b[0mself\u001b[0m\u001b[0;34m.\u001b[0m\u001b[0mindex\u001b[0m \u001b[0;34m=\u001b[0m \u001b[0mself\u001b[0m\u001b[0;34m.\u001b[0m\u001b[0mindex\u001b[0m \u001b[0;34m-\u001b[0m \u001b[0;36m1\u001b[0m\u001b[0;34m\u001b[0m\u001b[0;34m\u001b[0m\u001b[0m\n\u001b[0;32m---> 17\u001b[0;31m         \u001b[0;32mreturn\u001b[0m \u001b[0mself\u001b[0m\u001b[0;34m.\u001b[0m\u001b[0mdata\u001b[0m\u001b[0;34m[\u001b[0m\u001b[0mself\u001b[0m\u001b[0;34m.\u001b[0m\u001b[0mindex\u001b[0m\u001b[0;34m]\u001b[0m\u001b[0;34m\u001b[0m\u001b[0;34m\u001b[0m\u001b[0m\n\u001b[0m",
            "\u001b[0;31mTypeError\u001b[0m: 'set' object is not subscriptable"
          ]
        }
      ]
    },
    {
      "cell_type": "markdown",
      "metadata": {
        "id": "jM1wH3lbFBGW",
        "colab_type": "text"
      },
      "source": [
        "### Few questions from Yesterday's live session in the chat window"
      ]
    },
    {
      "cell_type": "code",
      "metadata": {
        "id": "PEncqgItFBGX",
        "colab_type": "code",
        "colab": {},
        "outputId": "aa9e28c9-308a-4358-f9d5-058fcdcf9b5d"
      },
      "source": [
        "# Empty classes as a structure.\n",
        "\n",
        "class E:\n",
        "    pass\n",
        "\n",
        "e1 = E();\n",
        "e1.name=\"abc\" # name and no attributes for e1\n",
        "e1.no = 123\n",
        "\n",
        "\n",
        "e2 = E(); # name and addr attrib for e2\n",
        "e2.name = \"xyz\"\n",
        "e2.addr = \"abcdefghijklmnop\"\n",
        "\n",
        "\n",
        "print(e1.name, e1.no)\n",
        "print(e2.name, e2.addr)"
      ],
      "execution_count": null,
      "outputs": [
        {
          "output_type": "stream",
          "text": [
            "abc 123\n",
            "xyz abcdefghijklmnop\n"
          ],
          "name": "stdout"
        }
      ]
    },
    {
      "cell_type": "code",
      "metadata": {
        "id": "BhFvbv7yFBGd",
        "colab_type": "code",
        "colab": {},
        "outputId": "762b0c5c-e3e2-4172-fcaf-4707cdf11b1f"
      },
      "source": [
        "# function within __init__\n",
        "class A:\n",
        "    def __init__(self):\n",
        "        \n",
        "        def function_within(x):\n",
        "            return x+1\n",
        "        \n",
        "        i =10;\n",
        "        print(function_within(i))\n",
        "        \n",
        "\n",
        "a = A();"
      ],
      "execution_count": null,
      "outputs": [
        {
          "output_type": "stream",
          "text": [
            "11\n"
          ],
          "name": "stdout"
        }
      ]
    },
    {
      "cell_type": "code",
      "metadata": {
        "id": "MnC9JpQCFBGo",
        "colab_type": "code",
        "colab": {},
        "outputId": "46d3530b-69de-4277-f036-e085d75c8f39"
      },
      "source": [
        "# dir() is a powerful inbuilt function in Python3, \n",
        "# which returns list of the attributes and methods of any object\n",
        "# like classes , modules, strings, lists, dictionaries etc.\n",
        "\n",
        "import math\n",
        "print(dir(math)) # module\n",
        "\n"
      ],
      "execution_count": null,
      "outputs": [
        {
          "output_type": "stream",
          "text": [
            "['__doc__', '__file__', '__loader__', '__name__', '__package__', '__spec__', 'acos', 'acosh', 'asin', 'asinh', 'atan', 'atan2', 'atanh', 'ceil', 'copysign', 'cos', 'cosh', 'degrees', 'e', 'erf', 'erfc', 'exp', 'expm1', 'fabs', 'factorial', 'floor', 'fmod', 'frexp', 'fsum', 'gamma', 'gcd', 'hypot', 'inf', 'isclose', 'isfinite', 'isinf', 'isnan', 'ldexp', 'lgamma', 'log', 'log10', 'log1p', 'log2', 'modf', 'nan', 'pi', 'pow', 'radians', 'remainder', 'sin', 'sinh', 'sqrt', 'tan', 'tanh', 'tau', 'trunc']\n"
          ],
          "name": "stdout"
        }
      ]
    },
    {
      "cell_type": "code",
      "metadata": {
        "id": "_AbPWuH4FBGx",
        "colab_type": "code",
        "colab": {},
        "outputId": "2df16305-dd2a-4239-82ed-0e2b9df22dc1"
      },
      "source": [
        "class B:\n",
        "    def f():\n",
        "        print(\"Hi\");\n",
        "\n",
        "print(dir(B))"
      ],
      "execution_count": null,
      "outputs": [
        {
          "output_type": "stream",
          "text": [
            "['__class__', '__delattr__', '__dict__', '__dir__', '__doc__', '__eq__', '__format__', '__ge__', '__getattribute__', '__gt__', '__hash__', '__init__', '__init_subclass__', '__le__', '__lt__', '__module__', '__ne__', '__new__', '__reduce__', '__reduce_ex__', '__repr__', '__setattr__', '__sizeof__', '__str__', '__subclasshook__', '__weakref__', 'f']\n"
          ],
          "name": "stdout"
        }
      ]
    },
    {
      "cell_type": "code",
      "metadata": {
        "id": "3GHQetuIFBG6",
        "colab_type": "code",
        "colab": {},
        "outputId": "ba6f6649-f392-4e3f-dfe3-6fbec21add73"
      },
      "source": [
        "# use tab to autofill, differs from one IDE to another.\n",
        "print(math.pi)"
      ],
      "execution_count": null,
      "outputs": [
        {
          "output_type": "stream",
          "text": [
            "3.141592653589793\n"
          ],
          "name": "stdout"
        }
      ]
    },
    {
      "cell_type": "code",
      "metadata": {
        "id": "NMOqBKvgFBG_",
        "colab_type": "code",
        "colab": {},
        "outputId": "47265018-78e8-4092-ccc9-8e68deaa09b8"
      },
      "source": [
        "import sys\n",
        "print(sys.version)"
      ],
      "execution_count": null,
      "outputs": [
        {
          "output_type": "stream",
          "text": [
            "3.7.3 (default, Mar 27 2019, 09:23:15) \n",
            "[Clang 10.0.1 (clang-1001.0.46.3)]\n"
          ],
          "name": "stdout"
        }
      ]
    },
    {
      "cell_type": "code",
      "metadata": {
        "id": "1cBAik6iFBHH",
        "colab_type": "code",
        "colab": {},
        "outputId": "18fd2509-dbb0-4d96-f754-56bf1fe16c25"
      },
      "source": [
        "# private methods are just like private attributes that we saw earlier \"__function()\"\n",
        "\n",
        "class C:\n",
        "    def __pr(self, i):\n",
        "        return 2**i;\n",
        "    \n",
        "    def pu(self, x):\n",
        "        return self.__pr(x)+1;\n",
        "\n",
        "c = C();\n",
        "\n",
        "print(c.pu(4))\n",
        "\n",
        "print(c.__pr(4))\n",
        "    "
      ],
      "execution_count": null,
      "outputs": [
        {
          "output_type": "stream",
          "text": [
            "17\n"
          ],
          "name": "stdout"
        },
        {
          "output_type": "error",
          "ename": "AttributeError",
          "evalue": "'C' object has no attribute '__pr'",
          "traceback": [
            "\u001b[0;31m---------------------------------------------------------------------------\u001b[0m",
            "\u001b[0;31mAttributeError\u001b[0m                            Traceback (most recent call last)",
            "\u001b[0;32m<ipython-input-71-070461f56116>\u001b[0m in \u001b[0;36m<module>\u001b[0;34m\u001b[0m\n\u001b[1;32m     12\u001b[0m \u001b[0mprint\u001b[0m\u001b[0;34m(\u001b[0m\u001b[0mc\u001b[0m\u001b[0;34m.\u001b[0m\u001b[0mpu\u001b[0m\u001b[0;34m(\u001b[0m\u001b[0;36m4\u001b[0m\u001b[0;34m)\u001b[0m\u001b[0;34m)\u001b[0m\u001b[0;34m\u001b[0m\u001b[0;34m\u001b[0m\u001b[0m\n\u001b[1;32m     13\u001b[0m \u001b[0;34m\u001b[0m\u001b[0m\n\u001b[0;32m---> 14\u001b[0;31m \u001b[0mprint\u001b[0m\u001b[0;34m(\u001b[0m\u001b[0mc\u001b[0m\u001b[0;34m.\u001b[0m\u001b[0m__pr\u001b[0m\u001b[0;34m(\u001b[0m\u001b[0;36m4\u001b[0m\u001b[0;34m)\u001b[0m\u001b[0;34m)\u001b[0m\u001b[0;34m\u001b[0m\u001b[0;34m\u001b[0m\u001b[0m\n\u001b[0m\u001b[1;32m     15\u001b[0m \u001b[0;34m\u001b[0m\u001b[0m\n",
            "\u001b[0;31mAttributeError\u001b[0m: 'C' object has no attribute '__pr'"
          ]
        }
      ]
    },
    {
      "cell_type": "code",
      "metadata": {
        "id": "UO4lNq40FBHO",
        "colab_type": "code",
        "colab": {},
        "outputId": "df8b23c5-106d-4656-de9a-78cfd4151a17"
      },
      "source": [
        "print(dir(C))"
      ],
      "execution_count": null,
      "outputs": [
        {
          "output_type": "stream",
          "text": [
            "['_C__pr', '__class__', '__delattr__', '__dict__', '__dir__', '__doc__', '__eq__', '__format__', '__ge__', '__getattribute__', '__gt__', '__hash__', '__init__', '__init_subclass__', '__le__', '__lt__', '__module__', '__ne__', '__new__', '__reduce__', '__reduce_ex__', '__repr__', '__setattr__', '__sizeof__', '__str__', '__subclasshook__', '__weakref__', 'pu']\n"
          ],
          "name": "stdout"
        }
      ]
    },
    {
      "cell_type": "code",
      "metadata": {
        "id": "50pQaEbJFBHZ",
        "colab_type": "code",
        "colab": {},
        "outputId": "df7346a7-ad6f-49a9-ba5a-617d2f37951a"
      },
      "source": [
        "print(c._C__pr(4))"
      ],
      "execution_count": null,
      "outputs": [
        {
          "output_type": "stream",
          "text": [
            "16\n"
          ],
          "name": "stdout"
        }
      ]
    },
    {
      "cell_type": "code",
      "metadata": {
        "id": "5Owpj0CNFBHh",
        "colab_type": "code",
        "colab": {},
        "outputId": "a3cbe616-21d0-40d7-b7b1-a4a774051deb"
      },
      "source": [
        "# Inheritence of private members\n",
        "# C++ has public, private, protected [accessible in all sub-classes but not outside the class]\n",
        "\n",
        "class C:\n",
        "    def __pr(self, i): # private due to TWO underscores, implementation dependent, suggested \n",
        "        return 2**i;\n",
        "    \n",
        "    def pu(self, x):\n",
        "        return self.__pr(x)+1;\n",
        "\n",
        "print(dir(C))\n",
        "print(\"\\n\\n***************************************************************************\\n\\n\")\n",
        "    \n",
        "class D(C):\n",
        "    def f1(self, i):\n",
        "        return self._C__pr(i) # accessing private member of base class\n",
        "    \n",
        "    def f2(self, i):\n",
        "        return self.pu(i) # accessing private member of base class\n",
        "    \n",
        "d = D();\n",
        "print(dir(D))\n",
        "\n",
        "print(d.f2(4))\n"
      ],
      "execution_count": null,
      "outputs": [
        {
          "output_type": "stream",
          "text": [
            "['_C__pr', '__class__', '__delattr__', '__dict__', '__dir__', '__doc__', '__eq__', '__format__', '__ge__', '__getattribute__', '__gt__', '__hash__', '__init__', '__init_subclass__', '__le__', '__lt__', '__module__', '__ne__', '__new__', '__reduce__', '__reduce_ex__', '__repr__', '__setattr__', '__sizeof__', '__str__', '__subclasshook__', '__weakref__', 'pu']\n",
            "\n",
            "\n",
            "***************************************************************************\n",
            "\n",
            "\n",
            "['_C__pr', '__class__', '__delattr__', '__dict__', '__dir__', '__doc__', '__eq__', '__format__', '__ge__', '__getattribute__', '__gt__', '__hash__', '__init__', '__init_subclass__', '__le__', '__lt__', '__module__', '__ne__', '__new__', '__reduce__', '__reduce_ex__', '__repr__', '__setattr__', '__sizeof__', '__str__', '__subclasshook__', '__weakref__', 'f1', 'f2', 'pu']\n",
            "17\n"
          ],
          "name": "stdout"
        }
      ]
    },
    {
      "cell_type": "code",
      "metadata": {
        "id": "9HeT1FXjFBHq",
        "colab_type": "code",
        "colab": {},
        "outputId": "5e2c2041-50ce-4efe-d2bf-15d1d0bf9fe3"
      },
      "source": [
        "print(d.f1(4))"
      ],
      "execution_count": null,
      "outputs": [
        {
          "output_type": "stream",
          "text": [
            "16\n"
          ],
          "name": "stdout"
        }
      ]
    },
    {
      "cell_type": "code",
      "metadata": {
        "id": "E3TnFrz4FBHx",
        "colab_type": "code",
        "colab": {},
        "outputId": "c4208a1d-4347-4063-cb37-f6f7cd4d86a4"
      },
      "source": [
        "# Protected in Python: ONE _\n",
        "# Public: NO _\n",
        "# Private: TWO _\n",
        "# Convention and not a feature of the programming language. Implementation dependent\n",
        "# Refer: https://docs.python.org/3/tutorial/classes.html#private-variables\n",
        "\n",
        "class C:\n",
        "    def _pr(self, i): # protected due to ONE underscore, implementation dependent, suggested \n",
        "        return 2**i;\n",
        "    \n",
        "    def pu(self, x):\n",
        "        return self._pr(x)+1;\n",
        "\n",
        "print(dir(C))\n",
        "print(\"\\n\\n***************************************************************************\\n\\n\")\n",
        "    \n",
        "class D(C):\n",
        "    def f1(self, i):\n",
        "        return self._pr(i) # accessing private member of base class\n",
        "    \n",
        "    def f2(self, i):\n",
        "        return self.pu(i) # accessing private member of base class\n",
        "    \n",
        "d = D();\n",
        "print(dir(D))\n",
        "\n",
        "print(d.f1(4)) # calling a protected member in base calss from derived class\n"
      ],
      "execution_count": null,
      "outputs": [
        {
          "output_type": "stream",
          "text": [
            "['__class__', '__delattr__', '__dict__', '__dir__', '__doc__', '__eq__', '__format__', '__ge__', '__getattribute__', '__gt__', '__hash__', '__init__', '__init_subclass__', '__le__', '__lt__', '__module__', '__ne__', '__new__', '__reduce__', '__reduce_ex__', '__repr__', '__setattr__', '__sizeof__', '__str__', '__subclasshook__', '__weakref__', '_pr', 'pu']\n",
            "\n",
            "\n",
            "***************************************************************************\n",
            "\n",
            "\n",
            "['__class__', '__delattr__', '__dict__', '__dir__', '__doc__', '__eq__', '__format__', '__ge__', '__getattribute__', '__gt__', '__hash__', '__init__', '__init_subclass__', '__le__', '__lt__', '__module__', '__ne__', '__new__', '__reduce__', '__reduce_ex__', '__repr__', '__setattr__', '__sizeof__', '__str__', '__subclasshook__', '__weakref__', '_pr', 'f1', 'f2', 'pu']\n",
            "16\n"
          ],
          "name": "stdout"
        }
      ]
    },
    {
      "cell_type": "code",
      "metadata": {
        "id": "jKRBv8_xFBH5",
        "colab_type": "code",
        "colab": {},
        "outputId": "7cb4b819-f6d3-408b-c641-0609072b014f"
      },
      "source": [
        "c = C();\n",
        "print (c._pr(3))"
      ],
      "execution_count": null,
      "outputs": [
        {
          "output_type": "stream",
          "text": [
            "8\n"
          ],
          "name": "stdout"
        }
      ]
    },
    {
      "cell_type": "code",
      "metadata": {
        "id": "LmUjukQPFBIF",
        "colab_type": "code",
        "colab": {},
        "outputId": "5f970769-6f40-4635-c011-6378c7e0e1f6"
      },
      "source": [
        "# Constructor overloading:\n",
        "\n",
        "class A:\n",
        "    def __init__(self, i):\n",
        "        self.var1 = i;\n",
        "        self.var2 = 0;\n",
        "        \n",
        "    def __init__(self, i,j):\n",
        "        self.var1 = i;\n",
        "        self.var2 = j;\n",
        "        \n",
        "    def __str__(self):\n",
        "        return \"\\ni=\"+str(self.var1)+\"\\t\"+\"j=\"+str(self.var2)\n",
        "        \n",
        "a1 = A(10);\n",
        "print(a1)\n",
        "\n",
        "# We can overload but can only use the most recent function definition\n",
        "        "
      ],
      "execution_count": null,
      "outputs": [
        {
          "output_type": "error",
          "ename": "TypeError",
          "evalue": "__init__() missing 1 required positional argument: 'j'",
          "traceback": [
            "\u001b[0;31m---------------------------------------------------------------------------\u001b[0m",
            "\u001b[0;31mTypeError\u001b[0m                                 Traceback (most recent call last)",
            "\u001b[0;32m<ipython-input-42-a4511922906c>\u001b[0m in \u001b[0;36m<module>\u001b[0;34m\u001b[0m\n\u001b[1;32m     13\u001b[0m         \u001b[0;32mreturn\u001b[0m \u001b[0;34m\"\\ni=\"\u001b[0m\u001b[0;34m+\u001b[0m\u001b[0mstr\u001b[0m\u001b[0;34m(\u001b[0m\u001b[0mself\u001b[0m\u001b[0;34m.\u001b[0m\u001b[0mvar1\u001b[0m\u001b[0;34m)\u001b[0m\u001b[0;34m+\u001b[0m\u001b[0;34m\"\\t\"\u001b[0m\u001b[0;34m+\u001b[0m\u001b[0;34m\"j=\"\u001b[0m\u001b[0;34m+\u001b[0m\u001b[0mstr\u001b[0m\u001b[0;34m(\u001b[0m\u001b[0mself\u001b[0m\u001b[0;34m.\u001b[0m\u001b[0mvar2\u001b[0m\u001b[0;34m)\u001b[0m\u001b[0;34m\u001b[0m\u001b[0;34m\u001b[0m\u001b[0m\n\u001b[1;32m     14\u001b[0m \u001b[0;34m\u001b[0m\u001b[0m\n\u001b[0;32m---> 15\u001b[0;31m \u001b[0ma1\u001b[0m \u001b[0;34m=\u001b[0m \u001b[0mA\u001b[0m\u001b[0;34m(\u001b[0m\u001b[0;36m10\u001b[0m\u001b[0;34m)\u001b[0m\u001b[0;34m;\u001b[0m\u001b[0;34m\u001b[0m\u001b[0;34m\u001b[0m\u001b[0m\n\u001b[0m\u001b[1;32m     16\u001b[0m \u001b[0mprint\u001b[0m\u001b[0;34m(\u001b[0m\u001b[0ma1\u001b[0m\u001b[0;34m)\u001b[0m\u001b[0;34m\u001b[0m\u001b[0;34m\u001b[0m\u001b[0m\n\u001b[1;32m     17\u001b[0m \u001b[0;34m\u001b[0m\u001b[0m\n",
            "\u001b[0;31mTypeError\u001b[0m: __init__() missing 1 required positional argument: 'j'"
          ]
        }
      ]
    },
    {
      "cell_type": "code",
      "metadata": {
        "id": "CBnKxtQUFBIN",
        "colab_type": "code",
        "colab": {},
        "outputId": "c5460f68-afcb-4c05-f229-7d1fad2a91d6"
      },
      "source": [
        "a1 = A(10,20);\n",
        "print(a1)"
      ],
      "execution_count": null,
      "outputs": [
        {
          "output_type": "stream",
          "text": [
            "\n",
            "i=10\tj=20\n"
          ],
          "name": "stdout"
        }
      ]
    },
    {
      "cell_type": "code",
      "metadata": {
        "id": "1ziQEo_qFBIU",
        "colab_type": "code",
        "colab": {},
        "outputId": "72842ce4-690f-4a24-ade8-89d91603f4ce"
      },
      "source": [
        "# Can we call other functions inside __init__?\n",
        "\n",
        "class A:\n",
        "    def __init__(self, i,j):\n",
        "        f(i,j)\n",
        "        \n",
        "    def f(self, i,j):\n",
        "        self.var1 = i;\n",
        "        self.var2 = j;\n",
        "        \n",
        "    def __str__(self):\n",
        "        return \"\\ni=\"+str(self.var1)+\"\\t\"+\"j=\"+str(self.var2)\n",
        "        \n",
        "a1 = A(10,20);\n",
        "print(a1)"
      ],
      "execution_count": null,
      "outputs": [
        {
          "output_type": "error",
          "ename": "NameError",
          "evalue": "name 'f' is not defined",
          "traceback": [
            "\u001b[0;31m---------------------------------------------------------------------------\u001b[0m",
            "\u001b[0;31mNameError\u001b[0m                                 Traceback (most recent call last)",
            "\u001b[0;32m<ipython-input-61-b8f3ad544ae8>\u001b[0m in \u001b[0;36m<module>\u001b[0;34m\u001b[0m\n\u001b[1;32m     12\u001b[0m         \u001b[0;32mreturn\u001b[0m \u001b[0;34m\"\\ni=\"\u001b[0m\u001b[0;34m+\u001b[0m\u001b[0mstr\u001b[0m\u001b[0;34m(\u001b[0m\u001b[0mself\u001b[0m\u001b[0;34m.\u001b[0m\u001b[0mvar1\u001b[0m\u001b[0;34m)\u001b[0m\u001b[0;34m+\u001b[0m\u001b[0;34m\"\\t\"\u001b[0m\u001b[0;34m+\u001b[0m\u001b[0;34m\"j=\"\u001b[0m\u001b[0;34m+\u001b[0m\u001b[0mstr\u001b[0m\u001b[0;34m(\u001b[0m\u001b[0mself\u001b[0m\u001b[0;34m.\u001b[0m\u001b[0mvar2\u001b[0m\u001b[0;34m)\u001b[0m\u001b[0;34m\u001b[0m\u001b[0;34m\u001b[0m\u001b[0m\n\u001b[1;32m     13\u001b[0m \u001b[0;34m\u001b[0m\u001b[0m\n\u001b[0;32m---> 14\u001b[0;31m \u001b[0ma1\u001b[0m \u001b[0;34m=\u001b[0m \u001b[0mA\u001b[0m\u001b[0;34m(\u001b[0m\u001b[0;36m10\u001b[0m\u001b[0;34m,\u001b[0m\u001b[0;36m20\u001b[0m\u001b[0;34m)\u001b[0m\u001b[0;34m;\u001b[0m\u001b[0;34m\u001b[0m\u001b[0;34m\u001b[0m\u001b[0m\n\u001b[0m\u001b[1;32m     15\u001b[0m \u001b[0mprint\u001b[0m\u001b[0;34m(\u001b[0m\u001b[0ma1\u001b[0m\u001b[0;34m)\u001b[0m\u001b[0;34m\u001b[0m\u001b[0;34m\u001b[0m\u001b[0m\n",
            "\u001b[0;32m<ipython-input-61-b8f3ad544ae8>\u001b[0m in \u001b[0;36m__init__\u001b[0;34m(self, i, j)\u001b[0m\n\u001b[1;32m      3\u001b[0m \u001b[0;32mclass\u001b[0m \u001b[0mA\u001b[0m\u001b[0;34m:\u001b[0m\u001b[0;34m\u001b[0m\u001b[0;34m\u001b[0m\u001b[0m\n\u001b[1;32m      4\u001b[0m     \u001b[0;32mdef\u001b[0m \u001b[0m__init__\u001b[0m\u001b[0;34m(\u001b[0m\u001b[0mself\u001b[0m\u001b[0;34m,\u001b[0m \u001b[0mi\u001b[0m\u001b[0;34m,\u001b[0m\u001b[0mj\u001b[0m\u001b[0;34m)\u001b[0m\u001b[0;34m:\u001b[0m\u001b[0;34m\u001b[0m\u001b[0;34m\u001b[0m\u001b[0m\n\u001b[0;32m----> 5\u001b[0;31m         \u001b[0mf\u001b[0m\u001b[0;34m(\u001b[0m\u001b[0mi\u001b[0m\u001b[0;34m,\u001b[0m\u001b[0mj\u001b[0m\u001b[0;34m)\u001b[0m\u001b[0;34m\u001b[0m\u001b[0;34m\u001b[0m\u001b[0m\n\u001b[0m\u001b[1;32m      6\u001b[0m \u001b[0;34m\u001b[0m\u001b[0m\n\u001b[1;32m      7\u001b[0m     \u001b[0;32mdef\u001b[0m \u001b[0mf\u001b[0m\u001b[0;34m(\u001b[0m\u001b[0mself\u001b[0m\u001b[0;34m,\u001b[0m \u001b[0mi\u001b[0m\u001b[0;34m,\u001b[0m\u001b[0mj\u001b[0m\u001b[0;34m)\u001b[0m\u001b[0;34m:\u001b[0m\u001b[0;34m\u001b[0m\u001b[0;34m\u001b[0m\u001b[0m\n",
            "\u001b[0;31mNameError\u001b[0m: name 'f' is not defined"
          ]
        }
      ]
    },
    {
      "cell_type": "code",
      "metadata": {
        "id": "PsuHoNHsFBIs",
        "colab_type": "code",
        "colab": {},
        "outputId": "e42e491f-7e41-4ed6-f7c6-ed5b9938251f"
      },
      "source": [
        "class A:\n",
        "        \n",
        "    def __init__(self, i,j):\n",
        "        self.f(i,j)\n",
        "    \n",
        "    def f(self, i,j):\n",
        "        self.var1 = i;\n",
        "        self.var2 = j;\n",
        "        \n",
        "    def __str__(self):\n",
        "        return \"\\ni=\"+str(self.var1)+\"\\t\"+\"j=\"+str(self.var2)\n",
        "        \n",
        "a1 = A(10,20);\n",
        "print(a1)"
      ],
      "execution_count": null,
      "outputs": [
        {
          "output_type": "stream",
          "text": [
            "\n",
            "i=10\tj=20\n"
          ],
          "name": "stdout"
        }
      ]
    },
    {
      "cell_type": "markdown",
      "metadata": {
        "id": "s9NSi8MaFBI1",
        "colab_type": "text"
      },
      "source": [
        "- In later sections, we will use many major libraries where we will revisit OOP-concepts again and again\n",
        "- We will extend some classes from major libraries (ML/DS/Plotting/Stats/DL) to suit our needs"
      ]
    }
  ]
}