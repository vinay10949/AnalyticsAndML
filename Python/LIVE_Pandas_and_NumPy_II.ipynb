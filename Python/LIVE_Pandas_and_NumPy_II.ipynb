{
  "nbformat": 4,
  "nbformat_minor": 0,
  "metadata": {
    "colab": {
      "name": "LIVE: Pandas and NumPy-II.ipynb",
      "provenance": [],
      "collapsed_sections": [],
      "include_colab_link": true
    },
    "kernelspec": {
      "name": "python3",
      "display_name": "Python 3"
    }
  },
  "cells": [
    {
      "cell_type": "markdown",
      "metadata": {
        "id": "view-in-github",
        "colab_type": "text"
      },
      "source": [
        "<a href=\"https://colab.research.google.com/github/vinay10949/AnalyticsAndML/blob/master/Python/LIVE_Pandas_and_NumPy_II.ipynb\" target=\"_parent\"><img src=\"https://colab.research.google.com/assets/colab-badge.svg\" alt=\"Open In Colab\"/></a>"
      ]
    },
    {
      "cell_type": "markdown",
      "metadata": {
        "id": "qDgHS-7j4xbD",
        "colab_type": "text"
      },
      "source": [
        "## Pandas & NumPy -II\n",
        "\n",
        "- For Pandas: https://www.machinelearningplus.com/python/101-pandas-exercises-python/\n",
        "- For NumPy: https://www.machinelearningplus.com/python/101-numpy-exercises-python/\n",
        "- L1, L2 and L3:\n",
        "- Readability over Pythonic code if no hit to time and space complexity, especially when they are important.\n",
        "- We will see many more examples in the next Code-Walkthrough sessions when we use Pandas in other chapters.\n",
        "\n",
        "Pre-requisites: Sessions in Python programming + Course videos\n",
        "\n",
        "\n"
      ]
    },
    {
      "cell_type": "markdown",
      "metadata": {
        "id": "121c2L-67WPM",
        "colab_type": "text"
      },
      "source": [
        "## Pandas Problems"
      ]
    },
    {
      "cell_type": "markdown",
      "metadata": {
        "id": "dRMEYhsj6UjT",
        "colab_type": "text"
      },
      "source": [
        "### Difficulty Level: L1\n",
        "\n",
        "#### Combine ser1 and ser2 to form a dataframe."
      ]
    },
    {
      "cell_type": "code",
      "metadata": {
        "id": "zN_6cRa_5BtG",
        "colab_type": "code",
        "colab": {
          "base_uri": "https://localhost:8080/",
          "height": 943
        },
        "outputId": "580ca5b3-8aa2-4ca3-dd79-95e80ea1886a"
      },
      "source": [
        "\n",
        "import numpy as np\n",
        "import pandas as pd\n",
        "ser1 = pd.Series(list('abcedfghijklmnopqrstuvwxyz'))\n",
        "ser2 = pd.Series(np.arange(26))\n",
        "print(ser1)\n",
        "print(ser2)"
      ],
      "execution_count": null,
      "outputs": [
        {
          "output_type": "stream",
          "text": [
            "0     a\n",
            "1     b\n",
            "2     c\n",
            "3     e\n",
            "4     d\n",
            "5     f\n",
            "6     g\n",
            "7     h\n",
            "8     i\n",
            "9     j\n",
            "10    k\n",
            "11    l\n",
            "12    m\n",
            "13    n\n",
            "14    o\n",
            "15    p\n",
            "16    q\n",
            "17    r\n",
            "18    s\n",
            "19    t\n",
            "20    u\n",
            "21    v\n",
            "22    w\n",
            "23    x\n",
            "24    y\n",
            "25    z\n",
            "dtype: object\n",
            "0      0\n",
            "1      1\n",
            "2      2\n",
            "3      3\n",
            "4      4\n",
            "5      5\n",
            "6      6\n",
            "7      7\n",
            "8      8\n",
            "9      9\n",
            "10    10\n",
            "11    11\n",
            "12    12\n",
            "13    13\n",
            "14    14\n",
            "15    15\n",
            "16    16\n",
            "17    17\n",
            "18    18\n",
            "19    19\n",
            "20    20\n",
            "21    21\n",
            "22    22\n",
            "23    23\n",
            "24    24\n",
            "25    25\n",
            "dtype: int64\n"
          ],
          "name": "stdout"
        }
      ]
    },
    {
      "cell_type": "code",
      "metadata": {
        "id": "kUxDTbt55TZf",
        "colab_type": "code",
        "colab": {
          "base_uri": "https://localhost:8080/",
          "height": 1000
        },
        "outputId": "faddac51-37f7-4174-b3ed-de2a2f572cc3"
      },
      "source": [
        "# Solution 1\n",
        "df = pd.concat([ser1, ser2], axis=1) #https://pandas.pydata.org/pandas-docs/stable/reference/api/pandas.concat.html\n",
        "print(df)\n",
        "print(\"***********************************************************\")\n",
        "\n",
        "print(pd.concat([ser1, ser2]))\n"
      ],
      "execution_count": null,
      "outputs": [
        {
          "output_type": "stream",
          "text": [
            "    0   1\n",
            "0   a   0\n",
            "1   b   1\n",
            "2   c   2\n",
            "3   e   3\n",
            "4   d   4\n",
            "5   f   5\n",
            "6   g   6\n",
            "7   h   7\n",
            "8   i   8\n",
            "9   j   9\n",
            "10  k  10\n",
            "11  l  11\n",
            "12  m  12\n",
            "13  n  13\n",
            "14  o  14\n",
            "15  p  15\n",
            "16  q  16\n",
            "17  r  17\n",
            "18  s  18\n",
            "19  t  19\n",
            "20  u  20\n",
            "21  v  21\n",
            "22  w  22\n",
            "23  x  23\n",
            "24  y  24\n",
            "25  z  25\n",
            "***********************************************************\n",
            "0      a\n",
            "1      b\n",
            "2      c\n",
            "3      e\n",
            "4      d\n",
            "5      f\n",
            "6      g\n",
            "7      h\n",
            "8      i\n",
            "9      j\n",
            "10     k\n",
            "11     l\n",
            "12     m\n",
            "13     n\n",
            "14     o\n",
            "15     p\n",
            "16     q\n",
            "17     r\n",
            "18     s\n",
            "19     t\n",
            "20     u\n",
            "21     v\n",
            "22     w\n",
            "23     x\n",
            "24     y\n",
            "25     z\n",
            "0      0\n",
            "1      1\n",
            "2      2\n",
            "3      3\n",
            "4      4\n",
            "5      5\n",
            "6      6\n",
            "7      7\n",
            "8      8\n",
            "9      9\n",
            "10    10\n",
            "11    11\n",
            "12    12\n",
            "13    13\n",
            "14    14\n",
            "15    15\n",
            "16    16\n",
            "17    17\n",
            "18    18\n",
            "19    19\n",
            "20    20\n",
            "21    21\n",
            "22    22\n",
            "23    23\n",
            "24    24\n",
            "25    25\n",
            "dtype: object\n"
          ],
          "name": "stdout"
        }
      ]
    },
    {
      "cell_type": "code",
      "metadata": {
        "id": "rJ2raakE5WIy",
        "colab_type": "code",
        "colab": {
          "base_uri": "https://localhost:8080/",
          "height": 489
        },
        "outputId": "bbbc6fee-ae13-4a6d-b572-5636d48afe67"
      },
      "source": [
        "# Solution 2\n",
        "df = pd.DataFrame({'col1': ser1, 'col2': ser2})\n",
        "print(df)"
      ],
      "execution_count": null,
      "outputs": [
        {
          "output_type": "stream",
          "text": [
            "   col1  col2\n",
            "0     a     0\n",
            "1     b     1\n",
            "2     c     2\n",
            "3     e     3\n",
            "4     d     4\n",
            "5     f     5\n",
            "6     g     6\n",
            "7     h     7\n",
            "8     i     8\n",
            "9     j     9\n",
            "10    k    10\n",
            "11    l    11\n",
            "12    m    12\n",
            "13    n    13\n",
            "14    o    14\n",
            "15    p    15\n",
            "16    q    16\n",
            "17    r    17\n",
            "18    s    18\n",
            "19    t    19\n",
            "20    u    20\n",
            "21    v    21\n",
            "22    w    22\n",
            "23    x    23\n",
            "24    y    24\n",
            "25    z    25\n"
          ],
          "name": "stdout"
        }
      ]
    },
    {
      "cell_type": "markdown",
      "metadata": {
        "id": "IOPK8L6g6KSO",
        "colab_type": "text"
      },
      "source": [
        "### Difficulty Level: L2\n",
        "\n",
        "####  From ser1 remove items present in ser2."
      ]
    },
    {
      "cell_type": "code",
      "metadata": {
        "id": "-SNayTAv6C_H",
        "colab_type": "code",
        "colab": {}
      },
      "source": [
        "ser1 = pd.Series([1, 2, 3, 4, 5])\n",
        "ser2 = pd.Series([4, 5, 6, 7, 8])"
      ],
      "execution_count": null,
      "outputs": []
    },
    {
      "cell_type": "code",
      "metadata": {
        "id": "boekKYo66hOo",
        "colab_type": "code",
        "colab": {
          "base_uri": "https://localhost:8080/",
          "height": 122
        },
        "outputId": "a90d2092-a930-419f-9ff2-395c15c4efb0"
      },
      "source": [
        "# Google search: \"pandas series set difference\" ----> https://medium.com/@rodwan.bakkar/pandas-set-difference-fde7f4381b53\n",
        "\n",
        "print(ser1.isin(ser2)) # https://pandas.pydata.org/pandas-docs/stable/reference/api/pandas.Series.isin.html\n"
      ],
      "execution_count": null,
      "outputs": [
        {
          "output_type": "stream",
          "text": [
            "0    False\n",
            "1    False\n",
            "2    False\n",
            "3     True\n",
            "4     True\n",
            "dtype: bool\n"
          ],
          "name": "stdout"
        }
      ]
    },
    {
      "cell_type": "code",
      "metadata": {
        "id": "HXdodiCk68Bc",
        "colab_type": "code",
        "colab": {
          "base_uri": "https://localhost:8080/",
          "height": 87
        },
        "outputId": "c2ca5850-bd89-4a20-fa2e-be76064221ff"
      },
      "source": [
        "print( ser1[ ~ ser1.isin(ser2) ] )"
      ],
      "execution_count": null,
      "outputs": [
        {
          "output_type": "stream",
          "text": [
            "0    1\n",
            "1    2\n",
            "2    3\n",
            "dtype: int64\n"
          ],
          "name": "stdout"
        }
      ]
    },
    {
      "cell_type": "markdown",
      "metadata": {
        "id": "fqqlLDkV7JEQ",
        "colab_type": "text"
      },
      "source": [
        "### Diffculty Level: L3\n",
        "#### Extract the valid emails from the series emails. The regex pattern for valid emails is provided as reference.\n",
        "\n"
      ]
    },
    {
      "cell_type": "code",
      "metadata": {
        "id": "NO12Sh-C7TlO",
        "colab_type": "code",
        "colab": {}
      },
      "source": [
        "emails = pd.Series(['buying books at amazom.com', 'rameses@egypt.com', 'matt@t.co', 'narendra@modi.com'])\n",
        "pattern ='[A-Za-z0-9._%+-]+@[A-Za-z0-9.-]+\\\\.[A-Za-z]{2,4}'"
      ],
      "execution_count": null,
      "outputs": []
    },
    {
      "cell_type": "code",
      "metadata": {
        "id": "4BDS_aJW8BJm",
        "colab_type": "code",
        "colab": {
          "base_uri": "https://localhost:8080/",
          "height": 122
        },
        "outputId": "9c7154c5-1659-4e46-ab94-baf895ca7353"
      },
      "source": [
        "# Google \"Pandas regex\" ---> https://kanoki.org/2019/11/12/how-to-use-regex-in-pandas/\n",
        "\n",
        "import re\n",
        "print(emails.str.findall(pattern, flags=re.IGNORECASE))\n",
        "\n",
        "print(type(emails.str))"
      ],
      "execution_count": null,
      "outputs": [
        {
          "output_type": "stream",
          "text": [
            "0                     []\n",
            "1    [rameses@egypt.com]\n",
            "2            [matt@t.co]\n",
            "3    [narendra@modi.com]\n",
            "dtype: object\n",
            "<class 'pandas.core.strings.StringMethods'>\n"
          ],
          "name": "stdout"
        }
      ]
    },
    {
      "cell_type": "markdown",
      "metadata": {
        "id": "NTMl7TZw8UaV",
        "colab_type": "text"
      },
      "source": [
        "### Difficiulty Level: L3\n",
        "\n",
        "#### Get the positions of peaks (values surrounded by smaller values on both sides) in ser.\n",
        "\n",
        "- We can apply the same logic we used earlier on NumPy arrays and lists earlier using loops\n",
        "- I perfer easy to read code if the time-complexity doesnot change much.\n",
        "- We will also a see pythonic code\n"
      ]
    },
    {
      "cell_type": "code",
      "metadata": {
        "id": "GQK1-HIa8k3_",
        "colab_type": "code",
        "colab": {
          "base_uri": "https://localhost:8080/",
          "height": 34
        },
        "outputId": "c7bfe624-e729-4f9a-ee39-8fd8e13a4120"
      },
      "source": [
        "## PYTHONIC CODE\n",
        "\n",
        "# https://docs.scipy.org/doc/numpy-1.10.0/reference/generated/numpy.diff.html\n",
        "# array-like: series also works\n",
        "ser = pd.Series([2, 10, 5, 4, 9, 10, 2, 7, 3])\n",
        "\n",
        "print(np.diff(ser))"
      ],
      "execution_count": null,
      "outputs": [
        {
          "output_type": "stream",
          "text": [
            "[ 8 -5 -1  5  1 -8  5 -4]\n"
          ],
          "name": "stdout"
        }
      ]
    },
    {
      "cell_type": "code",
      "metadata": {
        "id": "TngzUUc28zAb",
        "colab_type": "code",
        "colab": {
          "base_uri": "https://localhost:8080/",
          "height": 34
        },
        "outputId": "db29c971-3a1e-400c-c220-7a01af3ea00d"
      },
      "source": [
        "np.sign(np.diff(ser))"
      ],
      "execution_count": null,
      "outputs": [
        {
          "output_type": "execute_result",
          "data": {
            "text/plain": [
              "array([ 1, -1, -1,  1,  1, -1,  1, -1])"
            ]
          },
          "metadata": {
            "tags": []
          },
          "execution_count": 7
        }
      ]
    },
    {
      "cell_type": "code",
      "metadata": {
        "id": "PlU1tuBe84nK",
        "colab_type": "code",
        "colab": {
          "base_uri": "https://localhost:8080/",
          "height": 34
        },
        "outputId": "e58bf428-4200-496d-a89d-d877b4560516"
      },
      "source": [
        "dd = np.diff(np.sign(np.diff(ser)))\n",
        "print(dd)"
      ],
      "execution_count": null,
      "outputs": [
        {
          "output_type": "stream",
          "text": [
            "[-2  0  2  0 -2  2 -2]\n"
          ],
          "name": "stdout"
        }
      ]
    },
    {
      "cell_type": "code",
      "metadata": {
        "id": "olqnPeWZ88eE",
        "colab_type": "code",
        "colab": {
          "base_uri": "https://localhost:8080/",
          "height": 34
        },
        "outputId": "33ddc364-c84d-4f27-bed3-1d65bb6dcec3"
      },
      "source": [
        "#print(np.where(dd == -2))\n",
        "peak_locs = np.where(dd == -2)[0] + 1\n",
        "print(peak_locs)"
      ],
      "execution_count": null,
      "outputs": [
        {
          "output_type": "stream",
          "text": [
            "[1 5 7]\n"
          ],
          "name": "stdout"
        }
      ]
    },
    {
      "cell_type": "code",
      "metadata": {
        "id": "iS0fI7lZa5t9",
        "colab_type": "code",
        "colab": {
          "base_uri": "https://localhost:8080/",
          "height": 34
        },
        "outputId": "b9e056cd-64fe-4b91-df9b-df26399c2586"
      },
      "source": [
        "# Alternative solution using Scipy\n",
        "from scipy.signal import find_peaks\n",
        "peaks, _ = find_peaks(ser)\n",
        "print(peaks)"
      ],
      "execution_count": null,
      "outputs": [
        {
          "output_type": "stream",
          "text": [
            "[1 5 7]\n"
          ],
          "name": "stdout"
        }
      ]
    },
    {
      "cell_type": "code",
      "metadata": {
        "id": "anCPUUnt9akO",
        "colab_type": "code",
        "colab": {
          "base_uri": "https://localhost:8080/",
          "height": 34
        },
        "outputId": "cc1e9857-6811-440d-c71d-a96d074f8492"
      },
      "source": [
        "# NON-PYTHONIC CODE\n",
        "def findPeaks(s):\n",
        "  r = []; # resultant peak indices\n",
        "  \n",
        "  if s[0] > s[1]: # boundary case\n",
        "    r.append(0)\n",
        "  \n",
        "  for i in range(1,s.size-1): # GOOGLE: \"length of a series\"\n",
        "    if (s[i] > s[i-1]) and (s[i] > s[i+1]):\n",
        "      r.append(i)\n",
        "\n",
        "  if s[s.size-1] > s[s.size-2]: # boundary case\n",
        "    r.append(s.size-1)\n",
        "\n",
        "  return r\n",
        "\n",
        "findPeaks(ser)"
      ],
      "execution_count": null,
      "outputs": [
        {
          "output_type": "execute_result",
          "data": {
            "text/plain": [
              "[1, 5, 7]"
            ]
          },
          "metadata": {
            "tags": []
          },
          "execution_count": 15
        }
      ]
    },
    {
      "cell_type": "code",
      "metadata": {
        "id": "BXx4s40f-8PU",
        "colab_type": "code",
        "colab": {
          "base_uri": "https://localhost:8080/",
          "height": 34
        },
        "outputId": "757380dd-b914-417a-94ea-9087a249747e"
      },
      "source": [
        "# PYTHONIC FUNCTIOn\n",
        "def findPeaksPythonic(ser):\n",
        "  #NOTE: Numpy Operations are inplementated in C and hence will be much faster.\n",
        "  dd = np.diff(np.sign(np.diff(ser))) # additional space O(n)\n",
        "  peak_locs = np.where(dd == -2)[0] + 1 \n",
        "  return peak_locs\n",
        "\n",
        "findPeaksPythonic(ser)\n"
      ],
      "execution_count": null,
      "outputs": [
        {
          "output_type": "execute_result",
          "data": {
            "text/plain": [
              "array([1, 5, 7])"
            ]
          },
          "metadata": {
            "tags": []
          },
          "execution_count": 16
        }
      ]
    },
    {
      "cell_type": "code",
      "metadata": {
        "id": "IK7C178FAGw8",
        "colab_type": "code",
        "colab": {
          "base_uri": "https://localhost:8080/",
          "height": 240
        },
        "outputId": "106e0f52-b078-4fef-abeb-31df060b9d8f"
      },
      "source": [
        "\n",
        "# Measure time taken to run\n",
        "\n",
        "sRand  = pd.Series(np.random.randint(0,100, size=500))\n",
        "print(sRand)\n",
        "\n",
        "import time\n",
        "start_time = time.time()\n",
        "\n",
        "for i in range(1000):\n",
        "  findPeaks(sRand)\n",
        "\n",
        "end_time = time.time()\n",
        "print(\"--- %s seconds ---\" % (end_time - start_time))"
      ],
      "execution_count": null,
      "outputs": [
        {
          "output_type": "stream",
          "text": [
            "0      98\n",
            "1      27\n",
            "2      24\n",
            "3      34\n",
            "4      80\n",
            "       ..\n",
            "495    28\n",
            "496    32\n",
            "497    30\n",
            "498    64\n",
            "499    64\n",
            "Length: 500, dtype: int64\n",
            "--- 18.57629704475403 seconds ---\n"
          ],
          "name": "stdout"
        }
      ]
    },
    {
      "cell_type": "code",
      "metadata": {
        "id": "8t7EfdnTCbml",
        "colab_type": "code",
        "colab": {
          "base_uri": "https://localhost:8080/",
          "height": 34
        },
        "outputId": "1ee0cb13-a51f-487e-d3d8-e7165890c0e7"
      },
      "source": [
        "import time\n",
        "start_time = time.time()\n",
        "\n",
        "for i in range(1000):\n",
        "  findPeaksPythonic(sRand)\n",
        "\n",
        "end_time = time.time()\n",
        "print(\"--- %s seconds ---\" % (end_time - start_time))"
      ],
      "execution_count": null,
      "outputs": [
        {
          "output_type": "stream",
          "text": [
            "--- 0.026500463485717773 seconds ---\n"
          ],
          "name": "stdout"
        }
      ]
    },
    {
      "cell_type": "code",
      "metadata": {
        "id": "3GrNj0b9eMJI",
        "colab_type": "code",
        "colab": {
          "base_uri": "https://localhost:8080/",
          "height": 34
        },
        "outputId": "4da38335-1b8a-4c10-88ae-53f1e2a0e67d"
      },
      "source": [
        "import time\n",
        "start_time = time.time()\n",
        "\n",
        "for i in range(1000):\n",
        "  find_peaks(sRand)\n",
        "\n",
        "end_time = time.time()\n",
        "print(\"--- %s seconds ---\" % (end_time - start_time))"
      ],
      "execution_count": null,
      "outputs": [
        {
          "output_type": "stream",
          "text": [
            "--- 0.03279685974121094 seconds ---\n"
          ],
          "name": "stdout"
        }
      ]
    },
    {
      "cell_type": "markdown",
      "metadata": {
        "id": "XBx2otd9C_lQ",
        "colab_type": "text"
      },
      "source": [
        "- Speed of Pythonic code >> Speed of non-pythonic code [in this case due to NumPy arrays being heavily optimized]\n",
        "- Space complexity of Pythonic > Space complexity of simple code\n",
        "- Tradeoffs: Time, Space and Readability\n"
      ]
    },
    {
      "cell_type": "markdown",
      "metadata": {
        "id": "Qh05iyv7DmhA",
        "colab_type": "text"
      },
      "source": [
        "### Difficulty Level: L2\n",
        "\n",
        "- From a series, keep the top 2 most frequent \n",
        "items as it is and replace everything else as ‘Other’."
      ]
    },
    {
      "cell_type": "code",
      "metadata": {
        "id": "kGmXB1EXDXuG",
        "colab_type": "code",
        "colab": {
          "base_uri": "https://localhost:8080/",
          "height": 384
        },
        "outputId": "9196e767-392e-4849-8906-4f0de0055b71"
      },
      "source": [
        "np.random.RandomState(100)\n",
        "ser = pd.Series(np.random.randint(1, 10, [20]))\n",
        "print(ser)"
      ],
      "execution_count": null,
      "outputs": [
        {
          "output_type": "stream",
          "text": [
            "0     3\n",
            "1     7\n",
            "2     7\n",
            "3     9\n",
            "4     3\n",
            "5     5\n",
            "6     2\n",
            "7     6\n",
            "8     4\n",
            "9     4\n",
            "10    7\n",
            "11    8\n",
            "12    3\n",
            "13    1\n",
            "14    2\n",
            "15    4\n",
            "16    4\n",
            "17    3\n",
            "18    5\n",
            "19    8\n",
            "dtype: int64\n"
          ],
          "name": "stdout"
        }
      ]
    },
    {
      "cell_type": "code",
      "metadata": {
        "id": "rgW6-37-Da9_",
        "colab_type": "code",
        "colab": {
          "base_uri": "https://localhost:8080/",
          "height": 209
        },
        "outputId": "8d259a46-41cb-4867-a4a1-76fcdbab4703"
      },
      "source": [
        "print(ser.value_counts())\n",
        "print(type(ser.value_counts()))"
      ],
      "execution_count": null,
      "outputs": [
        {
          "output_type": "stream",
          "text": [
            "4    4\n",
            "3    4\n",
            "7    3\n",
            "8    2\n",
            "5    2\n",
            "2    2\n",
            "9    1\n",
            "6    1\n",
            "1    1\n",
            "dtype: int64\n",
            "<class 'pandas.core.series.Series'>\n"
          ],
          "name": "stdout"
        }
      ]
    },
    {
      "cell_type": "code",
      "metadata": {
        "id": "q90zmcQAD89T",
        "colab_type": "code",
        "colab": {
          "base_uri": "https://localhost:8080/",
          "height": 34
        },
        "outputId": "8ddc3403-ef7c-453e-ba04-cd8718cb94e3"
      },
      "source": [
        "print(ser.value_counts().index) \n",
        "#https://pandas.pydata.org/pandas-docs/stable/reference/api/pandas.Series.index.html"
      ],
      "execution_count": null,
      "outputs": [
        {
          "output_type": "stream",
          "text": [
            "Int64Index([4, 3, 7, 8, 5, 2, 9, 6, 1], dtype='int64')\n"
          ],
          "name": "stdout"
        }
      ]
    },
    {
      "cell_type": "code",
      "metadata": {
        "id": "yhNrFvTdENGQ",
        "colab_type": "code",
        "colab": {
          "base_uri": "https://localhost:8080/",
          "height": 34
        },
        "outputId": "003a0f47-bd3b-4654-e13f-bc2584b03efc"
      },
      "source": [
        "print(ser.value_counts().index[:2])"
      ],
      "execution_count": null,
      "outputs": [
        {
          "output_type": "stream",
          "text": [
            "Int64Index([4, 3], dtype='int64')\n"
          ],
          "name": "stdout"
        }
      ]
    },
    {
      "cell_type": "code",
      "metadata": {
        "id": "ByW92SnoEZem",
        "colab_type": "code",
        "colab": {
          "base_uri": "https://localhost:8080/",
          "height": 384
        },
        "outputId": "1b72d635-792e-457e-b351-485601fc8505"
      },
      "source": [
        "ser[~ser.isin(ser.value_counts().index[:2])] = 'Other'\n",
        "print(ser)"
      ],
      "execution_count": null,
      "outputs": [
        {
          "output_type": "stream",
          "text": [
            "0         3\n",
            "1     Other\n",
            "2     Other\n",
            "3     Other\n",
            "4         3\n",
            "5     Other\n",
            "6     Other\n",
            "7     Other\n",
            "8         4\n",
            "9         4\n",
            "10    Other\n",
            "11    Other\n",
            "12        3\n",
            "13    Other\n",
            "14    Other\n",
            "15        4\n",
            "16        4\n",
            "17        3\n",
            "18    Other\n",
            "19    Other\n",
            "dtype: object\n"
          ],
          "name": "stdout"
        }
      ]
    },
    {
      "cell_type": "markdown",
      "metadata": {
        "id": "5uFICQ19GTP8",
        "colab_type": "text"
      },
      "source": [
        "## NumPy Problems\n"
      ]
    },
    {
      "cell_type": "markdown",
      "metadata": {
        "id": "g_Hi9WL3LFbh",
        "colab_type": "text"
      },
      "source": [
        "### Difficulty Level: L2\n",
        "\n",
        "#### Replace all odd numbers in arr with -1 without changing arr"
      ]
    },
    {
      "cell_type": "code",
      "metadata": {
        "id": "VkrHunLyGXum",
        "colab_type": "code",
        "colab": {}
      },
      "source": [
        "arr = np.array([0, 1, 2, 3, 4, 5, 6, 7, 8, 9])"
      ],
      "execution_count": null,
      "outputs": []
    },
    {
      "cell_type": "code",
      "metadata": {
        "id": "eeLgOXUBLQvP",
        "colab_type": "code",
        "colab": {
          "base_uri": "https://localhost:8080/",
          "height": 51
        },
        "outputId": "ea5a6f2a-59b9-4753-d856-f8fb62d1110f"
      },
      "source": [
        "out = np.where(arr % 2 == 1, -1, arr) #https://docs.scipy.org/doc/numpy/reference/generated/numpy.where.html\n",
        "print(out)\n",
        "print(arr)"
      ],
      "execution_count": null,
      "outputs": [
        {
          "output_type": "stream",
          "text": [
            "[ 0 -1  2 -1  4 -1  6 -1  8 -1]\n",
            "[0 1 2 3 4 5 6 7 8 9]\n"
          ],
          "name": "stdout"
        }
      ]
    },
    {
      "cell_type": "markdown",
      "metadata": {
        "id": "qy7SGWgyL5iP",
        "colab_type": "text"
      },
      "source": [
        "### Difficulty Level : L3\n",
        "#### Filter the rows of iris_2d that has petallength (3rd column) > 1.5 and sepallength (1st column) < 5.0"
      ]
    },
    {
      "cell_type": "code",
      "metadata": {
        "id": "jOBbqBfkL3gq",
        "colab_type": "code",
        "colab": {
          "base_uri": "https://localhost:8080/",
          "height": 1000
        },
        "outputId": "998e0c7e-ce5b-438b-887a-636d5f9c49e4"
      },
      "source": [
        "url = 'https://archive.ics.uci.edu/ml/machine-learning-databases/iris/iris.data'\n",
        "iris_2d = np.genfromtxt(url, delimiter=',', dtype='float', usecols=[0,1,2,3])\n",
        "print(iris_2d)"
      ],
      "execution_count": null,
      "outputs": [
        {
          "output_type": "stream",
          "text": [
            "[[5.1 3.5 1.4 0.2]\n",
            " [4.9 3.  1.4 0.2]\n",
            " [4.7 3.2 1.3 0.2]\n",
            " [4.6 3.1 1.5 0.2]\n",
            " [5.  3.6 1.4 0.2]\n",
            " [5.4 3.9 1.7 0.4]\n",
            " [4.6 3.4 1.4 0.3]\n",
            " [5.  3.4 1.5 0.2]\n",
            " [4.4 2.9 1.4 0.2]\n",
            " [4.9 3.1 1.5 0.1]\n",
            " [5.4 3.7 1.5 0.2]\n",
            " [4.8 3.4 1.6 0.2]\n",
            " [4.8 3.  1.4 0.1]\n",
            " [4.3 3.  1.1 0.1]\n",
            " [5.8 4.  1.2 0.2]\n",
            " [5.7 4.4 1.5 0.4]\n",
            " [5.4 3.9 1.3 0.4]\n",
            " [5.1 3.5 1.4 0.3]\n",
            " [5.7 3.8 1.7 0.3]\n",
            " [5.1 3.8 1.5 0.3]\n",
            " [5.4 3.4 1.7 0.2]\n",
            " [5.1 3.7 1.5 0.4]\n",
            " [4.6 3.6 1.  0.2]\n",
            " [5.1 3.3 1.7 0.5]\n",
            " [4.8 3.4 1.9 0.2]\n",
            " [5.  3.  1.6 0.2]\n",
            " [5.  3.4 1.6 0.4]\n",
            " [5.2 3.5 1.5 0.2]\n",
            " [5.2 3.4 1.4 0.2]\n",
            " [4.7 3.2 1.6 0.2]\n",
            " [4.8 3.1 1.6 0.2]\n",
            " [5.4 3.4 1.5 0.4]\n",
            " [5.2 4.1 1.5 0.1]\n",
            " [5.5 4.2 1.4 0.2]\n",
            " [4.9 3.1 1.5 0.1]\n",
            " [5.  3.2 1.2 0.2]\n",
            " [5.5 3.5 1.3 0.2]\n",
            " [4.9 3.1 1.5 0.1]\n",
            " [4.4 3.  1.3 0.2]\n",
            " [5.1 3.4 1.5 0.2]\n",
            " [5.  3.5 1.3 0.3]\n",
            " [4.5 2.3 1.3 0.3]\n",
            " [4.4 3.2 1.3 0.2]\n",
            " [5.  3.5 1.6 0.6]\n",
            " [5.1 3.8 1.9 0.4]\n",
            " [4.8 3.  1.4 0.3]\n",
            " [5.1 3.8 1.6 0.2]\n",
            " [4.6 3.2 1.4 0.2]\n",
            " [5.3 3.7 1.5 0.2]\n",
            " [5.  3.3 1.4 0.2]\n",
            " [7.  3.2 4.7 1.4]\n",
            " [6.4 3.2 4.5 1.5]\n",
            " [6.9 3.1 4.9 1.5]\n",
            " [5.5 2.3 4.  1.3]\n",
            " [6.5 2.8 4.6 1.5]\n",
            " [5.7 2.8 4.5 1.3]\n",
            " [6.3 3.3 4.7 1.6]\n",
            " [4.9 2.4 3.3 1. ]\n",
            " [6.6 2.9 4.6 1.3]\n",
            " [5.2 2.7 3.9 1.4]\n",
            " [5.  2.  3.5 1. ]\n",
            " [5.9 3.  4.2 1.5]\n",
            " [6.  2.2 4.  1. ]\n",
            " [6.1 2.9 4.7 1.4]\n",
            " [5.6 2.9 3.6 1.3]\n",
            " [6.7 3.1 4.4 1.4]\n",
            " [5.6 3.  4.5 1.5]\n",
            " [5.8 2.7 4.1 1. ]\n",
            " [6.2 2.2 4.5 1.5]\n",
            " [5.6 2.5 3.9 1.1]\n",
            " [5.9 3.2 4.8 1.8]\n",
            " [6.1 2.8 4.  1.3]\n",
            " [6.3 2.5 4.9 1.5]\n",
            " [6.1 2.8 4.7 1.2]\n",
            " [6.4 2.9 4.3 1.3]\n",
            " [6.6 3.  4.4 1.4]\n",
            " [6.8 2.8 4.8 1.4]\n",
            " [6.7 3.  5.  1.7]\n",
            " [6.  2.9 4.5 1.5]\n",
            " [5.7 2.6 3.5 1. ]\n",
            " [5.5 2.4 3.8 1.1]\n",
            " [5.5 2.4 3.7 1. ]\n",
            " [5.8 2.7 3.9 1.2]\n",
            " [6.  2.7 5.1 1.6]\n",
            " [5.4 3.  4.5 1.5]\n",
            " [6.  3.4 4.5 1.6]\n",
            " [6.7 3.1 4.7 1.5]\n",
            " [6.3 2.3 4.4 1.3]\n",
            " [5.6 3.  4.1 1.3]\n",
            " [5.5 2.5 4.  1.3]\n",
            " [5.5 2.6 4.4 1.2]\n",
            " [6.1 3.  4.6 1.4]\n",
            " [5.8 2.6 4.  1.2]\n",
            " [5.  2.3 3.3 1. ]\n",
            " [5.6 2.7 4.2 1.3]\n",
            " [5.7 3.  4.2 1.2]\n",
            " [5.7 2.9 4.2 1.3]\n",
            " [6.2 2.9 4.3 1.3]\n",
            " [5.1 2.5 3.  1.1]\n",
            " [5.7 2.8 4.1 1.3]\n",
            " [6.3 3.3 6.  2.5]\n",
            " [5.8 2.7 5.1 1.9]\n",
            " [7.1 3.  5.9 2.1]\n",
            " [6.3 2.9 5.6 1.8]\n",
            " [6.5 3.  5.8 2.2]\n",
            " [7.6 3.  6.6 2.1]\n",
            " [4.9 2.5 4.5 1.7]\n",
            " [7.3 2.9 6.3 1.8]\n",
            " [6.7 2.5 5.8 1.8]\n",
            " [7.2 3.6 6.1 2.5]\n",
            " [6.5 3.2 5.1 2. ]\n",
            " [6.4 2.7 5.3 1.9]\n",
            " [6.8 3.  5.5 2.1]\n",
            " [5.7 2.5 5.  2. ]\n",
            " [5.8 2.8 5.1 2.4]\n",
            " [6.4 3.2 5.3 2.3]\n",
            " [6.5 3.  5.5 1.8]\n",
            " [7.7 3.8 6.7 2.2]\n",
            " [7.7 2.6 6.9 2.3]\n",
            " [6.  2.2 5.  1.5]\n",
            " [6.9 3.2 5.7 2.3]\n",
            " [5.6 2.8 4.9 2. ]\n",
            " [7.7 2.8 6.7 2. ]\n",
            " [6.3 2.7 4.9 1.8]\n",
            " [6.7 3.3 5.7 2.1]\n",
            " [7.2 3.2 6.  1.8]\n",
            " [6.2 2.8 4.8 1.8]\n",
            " [6.1 3.  4.9 1.8]\n",
            " [6.4 2.8 5.6 2.1]\n",
            " [7.2 3.  5.8 1.6]\n",
            " [7.4 2.8 6.1 1.9]\n",
            " [7.9 3.8 6.4 2. ]\n",
            " [6.4 2.8 5.6 2.2]\n",
            " [6.3 2.8 5.1 1.5]\n",
            " [6.1 2.6 5.6 1.4]\n",
            " [7.7 3.  6.1 2.3]\n",
            " [6.3 3.4 5.6 2.4]\n",
            " [6.4 3.1 5.5 1.8]\n",
            " [6.  3.  4.8 1.8]\n",
            " [6.9 3.1 5.4 2.1]\n",
            " [6.7 3.1 5.6 2.4]\n",
            " [6.9 3.1 5.1 2.3]\n",
            " [5.8 2.7 5.1 1.9]\n",
            " [6.8 3.2 5.9 2.3]\n",
            " [6.7 3.3 5.7 2.5]\n",
            " [6.7 3.  5.2 2.3]\n",
            " [6.3 2.5 5.  1.9]\n",
            " [6.5 3.  5.2 2. ]\n",
            " [6.2 3.4 5.4 2.3]\n",
            " [5.9 3.  5.1 1.8]]\n"
          ],
          "name": "stdout"
        }
      ]
    },
    {
      "cell_type": "code",
      "metadata": {
        "id": "OIi1LmI_MSl5",
        "colab_type": "code",
        "colab": {
          "base_uri": "https://localhost:8080/",
          "height": 257
        },
        "outputId": "c555a786-0c3b-4396-94a8-1089d06f818f"
      },
      "source": [
        "condition = (iris_2d[:, 2] > 1.5) & (iris_2d[:, 0] < 5.0)\n",
        "print(condition)\n",
        "print(type(condition))"
      ],
      "execution_count": null,
      "outputs": [
        {
          "output_type": "stream",
          "text": [
            "[False False False False False False False False False False False  True\n",
            " False False False False False False False False False False False False\n",
            "  True False False False False  True  True False False False False False\n",
            " False False False False False False False False False False False False\n",
            " False False False False False False False False False  True False False\n",
            " False False False False False False False False False False False False\n",
            " False False False False False False False False False False False False\n",
            " False False False False False False False False False False False False\n",
            " False False False False False False False False False False  True False\n",
            " False False False False False False False False False False False False\n",
            " False False False False False False False False False False False False\n",
            " False False False False False False False False False False False False\n",
            " False False False False False False]\n",
            "<class 'numpy.ndarray'>\n"
          ],
          "name": "stdout"
        }
      ]
    },
    {
      "cell_type": "code",
      "metadata": {
        "id": "GXDbQ3bfNBO1",
        "colab_type": "code",
        "colab": {
          "base_uri": "https://localhost:8080/",
          "height": 122
        },
        "outputId": "43baf509-4918-4061-e143-4dbb4b0dd986"
      },
      "source": [
        "iris_2d[condition]"
      ],
      "execution_count": null,
      "outputs": [
        {
          "output_type": "execute_result",
          "data": {
            "text/plain": [
              "array([[4.8, 3.4, 1.6, 0.2],\n",
              "       [4.8, 3.4, 1.9, 0.2],\n",
              "       [4.7, 3.2, 1.6, 0.2],\n",
              "       [4.8, 3.1, 1.6, 0.2],\n",
              "       [4.9, 2.4, 3.3, 1. ],\n",
              "       [4.9, 2.5, 4.5, 1.7]])"
            ]
          },
          "metadata": {
            "tags": []
          },
          "execution_count": 82
        }
      ]
    },
    {
      "cell_type": "markdown",
      "metadata": {
        "id": "z2Ynh4itNHC8",
        "colab_type": "text"
      },
      "source": [
        "### Difficulty Level: L3\n",
        "#### Select the rows of iris_2d that does not have any nan value."
      ]
    },
    {
      "cell_type": "code",
      "metadata": {
        "id": "ZeUO1eLVNYUk",
        "colab_type": "code",
        "colab": {
          "base_uri": "https://localhost:8080/",
          "height": 1000
        },
        "outputId": "b6cf2a01-f0b9-43ea-f623-b5903365d52f"
      },
      "source": [
        "url = 'https://archive.ics.uci.edu/ml/machine-learning-databases/iris/iris.data'\n",
        "iris_2d = np.genfromtxt(url, delimiter=',', dtype='float', usecols=[0,1,2,3])\n",
        "print(iris_2d)\n"
      ],
      "execution_count": null,
      "outputs": [
        {
          "output_type": "stream",
          "text": [
            "[[5.1 3.5 1.4 0.2]\n",
            " [4.9 3.  1.4 0.2]\n",
            " [4.7 3.2 1.3 0.2]\n",
            " [4.6 3.1 1.5 0.2]\n",
            " [5.  3.6 1.4 0.2]\n",
            " [5.4 3.9 1.7 0.4]\n",
            " [4.6 3.4 1.4 0.3]\n",
            " [5.  3.4 1.5 0.2]\n",
            " [4.4 2.9 1.4 0.2]\n",
            " [4.9 3.1 1.5 0.1]\n",
            " [5.4 3.7 1.5 0.2]\n",
            " [4.8 3.4 1.6 0.2]\n",
            " [4.8 3.  1.4 0.1]\n",
            " [4.3 3.  1.1 0.1]\n",
            " [5.8 4.  1.2 0.2]\n",
            " [5.7 4.4 1.5 0.4]\n",
            " [5.4 3.9 1.3 0.4]\n",
            " [5.1 3.5 1.4 0.3]\n",
            " [5.7 3.8 1.7 0.3]\n",
            " [5.1 3.8 1.5 0.3]\n",
            " [5.4 3.4 1.7 0.2]\n",
            " [5.1 3.7 1.5 0.4]\n",
            " [4.6 3.6 1.  0.2]\n",
            " [5.1 3.3 1.7 0.5]\n",
            " [4.8 3.4 1.9 0.2]\n",
            " [5.  3.  1.6 0.2]\n",
            " [5.  3.4 1.6 0.4]\n",
            " [5.2 3.5 1.5 0.2]\n",
            " [5.2 3.4 1.4 0.2]\n",
            " [4.7 3.2 1.6 0.2]\n",
            " [4.8 3.1 1.6 0.2]\n",
            " [5.4 3.4 1.5 0.4]\n",
            " [5.2 4.1 1.5 0.1]\n",
            " [5.5 4.2 1.4 0.2]\n",
            " [4.9 3.1 1.5 0.1]\n",
            " [5.  3.2 1.2 0.2]\n",
            " [5.5 3.5 1.3 0.2]\n",
            " [4.9 3.1 1.5 0.1]\n",
            " [4.4 3.  1.3 0.2]\n",
            " [5.1 3.4 1.5 0.2]\n",
            " [5.  3.5 1.3 0.3]\n",
            " [4.5 2.3 1.3 0.3]\n",
            " [4.4 3.2 1.3 0.2]\n",
            " [5.  3.5 1.6 0.6]\n",
            " [5.1 3.8 1.9 0.4]\n",
            " [4.8 3.  1.4 0.3]\n",
            " [5.1 3.8 1.6 0.2]\n",
            " [4.6 3.2 1.4 0.2]\n",
            " [5.3 3.7 1.5 0.2]\n",
            " [5.  3.3 1.4 0.2]\n",
            " [7.  3.2 4.7 1.4]\n",
            " [6.4 3.2 4.5 1.5]\n",
            " [6.9 3.1 4.9 1.5]\n",
            " [5.5 2.3 4.  1.3]\n",
            " [6.5 2.8 4.6 1.5]\n",
            " [5.7 2.8 4.5 1.3]\n",
            " [6.3 3.3 4.7 1.6]\n",
            " [4.9 2.4 3.3 1. ]\n",
            " [6.6 2.9 4.6 1.3]\n",
            " [5.2 2.7 3.9 1.4]\n",
            " [5.  2.  3.5 1. ]\n",
            " [5.9 3.  4.2 1.5]\n",
            " [6.  2.2 4.  1. ]\n",
            " [6.1 2.9 4.7 1.4]\n",
            " [5.6 2.9 3.6 1.3]\n",
            " [6.7 3.1 4.4 1.4]\n",
            " [5.6 3.  4.5 1.5]\n",
            " [5.8 2.7 4.1 1. ]\n",
            " [6.2 2.2 4.5 1.5]\n",
            " [5.6 2.5 3.9 1.1]\n",
            " [5.9 3.2 4.8 1.8]\n",
            " [6.1 2.8 4.  1.3]\n",
            " [6.3 2.5 4.9 1.5]\n",
            " [6.1 2.8 4.7 1.2]\n",
            " [6.4 2.9 4.3 1.3]\n",
            " [6.6 3.  4.4 1.4]\n",
            " [6.8 2.8 4.8 1.4]\n",
            " [6.7 3.  5.  1.7]\n",
            " [6.  2.9 4.5 1.5]\n",
            " [5.7 2.6 3.5 1. ]\n",
            " [5.5 2.4 3.8 1.1]\n",
            " [5.5 2.4 3.7 1. ]\n",
            " [5.8 2.7 3.9 1.2]\n",
            " [6.  2.7 5.1 1.6]\n",
            " [5.4 3.  4.5 1.5]\n",
            " [6.  3.4 4.5 1.6]\n",
            " [6.7 3.1 4.7 1.5]\n",
            " [6.3 2.3 4.4 1.3]\n",
            " [5.6 3.  4.1 1.3]\n",
            " [5.5 2.5 4.  1.3]\n",
            " [5.5 2.6 4.4 1.2]\n",
            " [6.1 3.  4.6 1.4]\n",
            " [5.8 2.6 4.  1.2]\n",
            " [5.  2.3 3.3 1. ]\n",
            " [5.6 2.7 4.2 1.3]\n",
            " [5.7 3.  4.2 1.2]\n",
            " [5.7 2.9 4.2 1.3]\n",
            " [6.2 2.9 4.3 1.3]\n",
            " [5.1 2.5 3.  1.1]\n",
            " [5.7 2.8 4.1 1.3]\n",
            " [6.3 3.3 6.  2.5]\n",
            " [5.8 2.7 5.1 1.9]\n",
            " [7.1 3.  5.9 2.1]\n",
            " [6.3 2.9 5.6 1.8]\n",
            " [6.5 3.  5.8 2.2]\n",
            " [7.6 3.  6.6 2.1]\n",
            " [4.9 2.5 4.5 1.7]\n",
            " [7.3 2.9 6.3 1.8]\n",
            " [6.7 2.5 5.8 1.8]\n",
            " [7.2 3.6 6.1 2.5]\n",
            " [6.5 3.2 5.1 2. ]\n",
            " [6.4 2.7 5.3 1.9]\n",
            " [6.8 3.  5.5 2.1]\n",
            " [5.7 2.5 5.  2. ]\n",
            " [5.8 2.8 5.1 2.4]\n",
            " [6.4 3.2 5.3 2.3]\n",
            " [6.5 3.  5.5 1.8]\n",
            " [7.7 3.8 6.7 2.2]\n",
            " [7.7 2.6 6.9 2.3]\n",
            " [6.  2.2 5.  1.5]\n",
            " [6.9 3.2 5.7 2.3]\n",
            " [5.6 2.8 4.9 2. ]\n",
            " [7.7 2.8 6.7 2. ]\n",
            " [6.3 2.7 4.9 1.8]\n",
            " [6.7 3.3 5.7 2.1]\n",
            " [7.2 3.2 6.  1.8]\n",
            " [6.2 2.8 4.8 1.8]\n",
            " [6.1 3.  4.9 1.8]\n",
            " [6.4 2.8 5.6 2.1]\n",
            " [7.2 3.  5.8 1.6]\n",
            " [7.4 2.8 6.1 1.9]\n",
            " [7.9 3.8 6.4 2. ]\n",
            " [6.4 2.8 5.6 2.2]\n",
            " [6.3 2.8 5.1 1.5]\n",
            " [6.1 2.6 5.6 1.4]\n",
            " [7.7 3.  6.1 2.3]\n",
            " [6.3 3.4 5.6 2.4]\n",
            " [6.4 3.1 5.5 1.8]\n",
            " [6.  3.  4.8 1.8]\n",
            " [6.9 3.1 5.4 2.1]\n",
            " [6.7 3.1 5.6 2.4]\n",
            " [6.9 3.1 5.1 2.3]\n",
            " [5.8 2.7 5.1 1.9]\n",
            " [6.8 3.2 5.9 2.3]\n",
            " [6.7 3.3 5.7 2.5]\n",
            " [6.7 3.  5.2 2.3]\n",
            " [6.3 2.5 5.  1.9]\n",
            " [6.5 3.  5.2 2. ]\n",
            " [6.2 3.4 5.4 2.3]\n",
            " [5.9 3.  5.1 1.8]]\n"
          ],
          "name": "stdout"
        }
      ]
    },
    {
      "cell_type": "code",
      "metadata": {
        "id": "a1KlmDd6Nmfn",
        "colab_type": "code",
        "colab": {
          "base_uri": "https://localhost:8080/",
          "height": 1000
        },
        "outputId": "4390c81d-4dbb-42f6-a670-c11370320d23"
      },
      "source": [
        "# make values in random columns and rows = NAN\n",
        "iris_2d[np.random.randint(150, size=20), np.random.randint(4, size=20)] = np.nan\n",
        "print(iris_2d)"
      ],
      "execution_count": null,
      "outputs": [
        {
          "output_type": "stream",
          "text": [
            "[[5.1 3.5 1.4 0.2]\n",
            " [nan 3.  1.4 0.2]\n",
            " [4.7 3.2 1.3 0.2]\n",
            " [nan 3.1 1.5 0.2]\n",
            " [5.  3.6 1.4 0.2]\n",
            " [5.4 3.9 1.7 0.4]\n",
            " [4.6 3.4 1.4 0.3]\n",
            " [5.  3.4 1.5 0.2]\n",
            " [4.4 2.9 1.4 0.2]\n",
            " [4.9 3.1 1.5 0.1]\n",
            " [5.4 3.7 1.5 0.2]\n",
            " [4.8 3.4 1.6 0.2]\n",
            " [4.8 3.  1.4 0.1]\n",
            " [4.3 3.  1.1 0.1]\n",
            " [5.8 4.  1.2 0.2]\n",
            " [5.7 4.4 1.5 0.4]\n",
            " [5.4 3.9 1.3 nan]\n",
            " [5.1 3.5 1.4 0.3]\n",
            " [5.7 3.8 1.7 0.3]\n",
            " [5.1 3.8 1.5 0.3]\n",
            " [nan 3.4 1.7 0.2]\n",
            " [5.1 3.7 1.5 0.4]\n",
            " [4.6 3.6 1.  0.2]\n",
            " [5.1 3.3 1.7 nan]\n",
            " [4.8 3.4 1.9 0.2]\n",
            " [5.  3.  1.6 0.2]\n",
            " [5.  3.4 1.6 0.4]\n",
            " [5.2 3.5 1.5 0.2]\n",
            " [5.2 3.4 1.4 0.2]\n",
            " [4.7 3.2 1.6 0.2]\n",
            " [4.8 3.1 1.6 0.2]\n",
            " [5.4 3.4 1.5 0.4]\n",
            " [5.2 4.1 1.5 0.1]\n",
            " [5.5 4.2 1.4 0.2]\n",
            " [4.9 3.1 1.5 0.1]\n",
            " [5.  3.2 1.2 0.2]\n",
            " [5.5 3.5 1.3 0.2]\n",
            " [4.9 3.1 1.5 0.1]\n",
            " [4.4 3.  1.3 nan]\n",
            " [5.1 3.4 1.5 0.2]\n",
            " [5.  3.5 1.3 0.3]\n",
            " [4.5 2.3 1.3 0.3]\n",
            " [4.4 3.2 1.3 0.2]\n",
            " [5.  3.5 nan 0.6]\n",
            " [nan 3.8 1.9 0.4]\n",
            " [4.8 3.  1.4 0.3]\n",
            " [5.1 3.8 1.6 0.2]\n",
            " [4.6 3.2 1.4 0.2]\n",
            " [5.3 3.7 1.5 0.2]\n",
            " [5.  3.3 1.4 0.2]\n",
            " [7.  3.2 4.7 1.4]\n",
            " [nan 3.2 4.5 1.5]\n",
            " [6.9 3.1 4.9 1.5]\n",
            " [5.5 2.3 4.  1.3]\n",
            " [6.5 2.8 4.6 1.5]\n",
            " [5.7 2.8 4.5 1.3]\n",
            " [6.3 3.3 4.7 1.6]\n",
            " [4.9 2.4 3.3 1. ]\n",
            " [6.6 2.9 4.6 1.3]\n",
            " [5.2 2.7 3.9 1.4]\n",
            " [5.  2.  3.5 1. ]\n",
            " [5.9 3.  4.2 1.5]\n",
            " [6.  2.2 4.  1. ]\n",
            " [6.1 2.9 4.7 1.4]\n",
            " [5.6 2.9 3.6 1.3]\n",
            " [6.7 3.1 4.4 1.4]\n",
            " [5.6 3.  4.5 1.5]\n",
            " [5.8 2.7 4.1 1. ]\n",
            " [6.2 2.2 4.5 1.5]\n",
            " [5.6 2.5 3.9 1.1]\n",
            " [5.9 3.2 4.8 1.8]\n",
            " [6.1 2.8 4.  1.3]\n",
            " [6.3 2.5 4.9 1.5]\n",
            " [6.1 2.8 4.7 1.2]\n",
            " [6.4 2.9 4.3 1.3]\n",
            " [6.6 3.  4.4 nan]\n",
            " [6.8 2.8 4.8 1.4]\n",
            " [6.7 3.  5.  1.7]\n",
            " [6.  2.9 4.5 1.5]\n",
            " [5.7 2.6 3.5 1. ]\n",
            " [5.5 2.4 3.8 1.1]\n",
            " [5.5 2.4 3.7 1. ]\n",
            " [5.8 2.7 3.9 1.2]\n",
            " [6.  2.7 5.1 1.6]\n",
            " [5.4 3.  4.5 1.5]\n",
            " [6.  3.4 4.5 1.6]\n",
            " [6.7 3.1 4.7 1.5]\n",
            " [6.3 2.3 4.4 1.3]\n",
            " [5.6 3.  4.1 1.3]\n",
            " [5.5 2.5 4.  1.3]\n",
            " [5.5 2.6 4.4 1.2]\n",
            " [nan 3.  4.6 1.4]\n",
            " [5.8 2.6 4.  1.2]\n",
            " [5.  2.3 3.3 1. ]\n",
            " [5.6 nan 4.2 1.3]\n",
            " [5.7 3.  4.2 1.2]\n",
            " [5.7 2.9 4.2 1.3]\n",
            " [6.2 2.9 4.3 1.3]\n",
            " [5.1 2.5 3.  1.1]\n",
            " [5.7 2.8 4.1 1.3]\n",
            " [6.3 nan nan 2.5]\n",
            " [5.8 2.7 nan 1.9]\n",
            " [7.1 3.  5.9 2.1]\n",
            " [6.3 2.9 5.6 1.8]\n",
            " [6.5 3.  5.8 2.2]\n",
            " [7.6 3.  6.6 2.1]\n",
            " [4.9 2.5 4.5 1.7]\n",
            " [7.3 2.9 6.3 1.8]\n",
            " [6.7 2.5 5.8 1.8]\n",
            " [7.2 3.6 6.1 2.5]\n",
            " [6.5 3.2 5.1 2. ]\n",
            " [6.4 2.7 5.3 1.9]\n",
            " [6.8 3.  5.5 2.1]\n",
            " [5.7 2.5 5.  2. ]\n",
            " [nan 2.8 5.1 2.4]\n",
            " [6.4 3.2 5.3 2.3]\n",
            " [6.5 3.  5.5 1.8]\n",
            " [7.7 3.8 6.7 2.2]\n",
            " [7.7 2.6 6.9 2.3]\n",
            " [6.  2.2 5.  1.5]\n",
            " [6.9 3.2 5.7 2.3]\n",
            " [5.6 2.8 4.9 2. ]\n",
            " [nan 2.8 6.7 2. ]\n",
            " [6.3 2.7 4.9 1.8]\n",
            " [6.7 3.3 5.7 2.1]\n",
            " [7.2 3.2 6.  1.8]\n",
            " [6.2 nan 4.8 1.8]\n",
            " [6.1 3.  4.9 1.8]\n",
            " [6.4 2.8 5.6 2.1]\n",
            " [7.2 3.  5.8 1.6]\n",
            " [7.4 2.8 6.1 1.9]\n",
            " [7.9 3.8 6.4 2. ]\n",
            " [6.4 2.8 5.6 2.2]\n",
            " [6.3 2.8 5.1 1.5]\n",
            " [6.1 2.6 5.6 1.4]\n",
            " [7.7 3.  6.1 2.3]\n",
            " [6.3 3.4 5.6 2.4]\n",
            " [6.4 3.1 5.5 1.8]\n",
            " [6.  3.  4.8 1.8]\n",
            " [6.9 3.1 5.4 2.1]\n",
            " [6.7 3.1 5.6 2.4]\n",
            " [6.9 nan 5.1 2.3]\n",
            " [5.8 2.7 5.1 1.9]\n",
            " [6.8 3.2 5.9 2.3]\n",
            " [6.7 3.3 5.7 2.5]\n",
            " [6.7 3.  5.2 2.3]\n",
            " [6.3 2.5 5.  1.9]\n",
            " [6.5 3.  5.2 2. ]\n",
            " [6.2 3.4 5.4 2.3]\n",
            " [5.9 3.  5.1 1.8]]\n"
          ],
          "name": "stdout"
        }
      ]
    },
    {
      "cell_type": "code",
      "metadata": {
        "id": "9937K77RW4JO",
        "colab_type": "code",
        "colab": {
          "base_uri": "https://localhost:8080/",
          "height": 34
        },
        "outputId": "2d956bc0-d12a-433e-b8c0-392cf8c9dc75"
      },
      "source": [
        "\n",
        "print(~np.any(np.isnan(row)) for row in iris_2d)"
      ],
      "execution_count": null,
      "outputs": [
        {
          "output_type": "stream",
          "text": [
            "<generator object <genexpr> at 0x7f28fee525c8>\n"
          ],
          "name": "stdout"
        }
      ]
    },
    {
      "cell_type": "code",
      "metadata": {
        "id": "w_EezmeVXcyO",
        "colab_type": "code",
        "colab": {
          "base_uri": "https://localhost:8080/",
          "height": 1000
        },
        "outputId": "ee8b1d6a-e5e6-4543-c28f-c5c424503789"
      },
      "source": [
        "op = np.array([~np.any(np.isnan(row)) for row in iris_2d])\n",
        "\n",
        "print(iris_2d[op])"
      ],
      "execution_count": null,
      "outputs": [
        {
          "output_type": "stream",
          "text": [
            "[[5.1 3.5 1.4 0.2]\n",
            " [4.7 3.2 1.3 0.2]\n",
            " [5.  3.6 1.4 0.2]\n",
            " [5.4 3.9 1.7 0.4]\n",
            " [4.6 3.4 1.4 0.3]\n",
            " [5.  3.4 1.5 0.2]\n",
            " [4.4 2.9 1.4 0.2]\n",
            " [4.9 3.1 1.5 0.1]\n",
            " [5.4 3.7 1.5 0.2]\n",
            " [4.8 3.4 1.6 0.2]\n",
            " [4.8 3.  1.4 0.1]\n",
            " [4.3 3.  1.1 0.1]\n",
            " [5.8 4.  1.2 0.2]\n",
            " [5.7 4.4 1.5 0.4]\n",
            " [5.1 3.5 1.4 0.3]\n",
            " [5.7 3.8 1.7 0.3]\n",
            " [5.1 3.8 1.5 0.3]\n",
            " [5.1 3.7 1.5 0.4]\n",
            " [4.6 3.6 1.  0.2]\n",
            " [4.8 3.4 1.9 0.2]\n",
            " [5.  3.  1.6 0.2]\n",
            " [5.  3.4 1.6 0.4]\n",
            " [5.2 3.5 1.5 0.2]\n",
            " [5.2 3.4 1.4 0.2]\n",
            " [4.7 3.2 1.6 0.2]\n",
            " [4.8 3.1 1.6 0.2]\n",
            " [5.4 3.4 1.5 0.4]\n",
            " [5.2 4.1 1.5 0.1]\n",
            " [5.5 4.2 1.4 0.2]\n",
            " [4.9 3.1 1.5 0.1]\n",
            " [5.  3.2 1.2 0.2]\n",
            " [5.5 3.5 1.3 0.2]\n",
            " [4.9 3.1 1.5 0.1]\n",
            " [5.1 3.4 1.5 0.2]\n",
            " [5.  3.5 1.3 0.3]\n",
            " [4.5 2.3 1.3 0.3]\n",
            " [4.4 3.2 1.3 0.2]\n",
            " [4.8 3.  1.4 0.3]\n",
            " [5.1 3.8 1.6 0.2]\n",
            " [4.6 3.2 1.4 0.2]\n",
            " [5.3 3.7 1.5 0.2]\n",
            " [5.  3.3 1.4 0.2]\n",
            " [7.  3.2 4.7 1.4]\n",
            " [6.9 3.1 4.9 1.5]\n",
            " [5.5 2.3 4.  1.3]\n",
            " [6.5 2.8 4.6 1.5]\n",
            " [5.7 2.8 4.5 1.3]\n",
            " [6.3 3.3 4.7 1.6]\n",
            " [4.9 2.4 3.3 1. ]\n",
            " [6.6 2.9 4.6 1.3]\n",
            " [5.2 2.7 3.9 1.4]\n",
            " [5.  2.  3.5 1. ]\n",
            " [5.9 3.  4.2 1.5]\n",
            " [6.  2.2 4.  1. ]\n",
            " [6.1 2.9 4.7 1.4]\n",
            " [5.6 2.9 3.6 1.3]\n",
            " [6.7 3.1 4.4 1.4]\n",
            " [5.6 3.  4.5 1.5]\n",
            " [5.8 2.7 4.1 1. ]\n",
            " [6.2 2.2 4.5 1.5]\n",
            " [5.6 2.5 3.9 1.1]\n",
            " [5.9 3.2 4.8 1.8]\n",
            " [6.1 2.8 4.  1.3]\n",
            " [6.3 2.5 4.9 1.5]\n",
            " [6.1 2.8 4.7 1.2]\n",
            " [6.4 2.9 4.3 1.3]\n",
            " [6.8 2.8 4.8 1.4]\n",
            " [6.7 3.  5.  1.7]\n",
            " [6.  2.9 4.5 1.5]\n",
            " [5.7 2.6 3.5 1. ]\n",
            " [5.5 2.4 3.8 1.1]\n",
            " [5.5 2.4 3.7 1. ]\n",
            " [5.8 2.7 3.9 1.2]\n",
            " [6.  2.7 5.1 1.6]\n",
            " [5.4 3.  4.5 1.5]\n",
            " [6.  3.4 4.5 1.6]\n",
            " [6.7 3.1 4.7 1.5]\n",
            " [6.3 2.3 4.4 1.3]\n",
            " [5.6 3.  4.1 1.3]\n",
            " [5.5 2.5 4.  1.3]\n",
            " [5.5 2.6 4.4 1.2]\n",
            " [5.8 2.6 4.  1.2]\n",
            " [5.  2.3 3.3 1. ]\n",
            " [5.7 3.  4.2 1.2]\n",
            " [5.7 2.9 4.2 1.3]\n",
            " [6.2 2.9 4.3 1.3]\n",
            " [5.1 2.5 3.  1.1]\n",
            " [5.7 2.8 4.1 1.3]\n",
            " [7.1 3.  5.9 2.1]\n",
            " [6.3 2.9 5.6 1.8]\n",
            " [6.5 3.  5.8 2.2]\n",
            " [7.6 3.  6.6 2.1]\n",
            " [4.9 2.5 4.5 1.7]\n",
            " [7.3 2.9 6.3 1.8]\n",
            " [6.7 2.5 5.8 1.8]\n",
            " [7.2 3.6 6.1 2.5]\n",
            " [6.5 3.2 5.1 2. ]\n",
            " [6.4 2.7 5.3 1.9]\n",
            " [6.8 3.  5.5 2.1]\n",
            " [5.7 2.5 5.  2. ]\n",
            " [6.4 3.2 5.3 2.3]\n",
            " [6.5 3.  5.5 1.8]\n",
            " [7.7 3.8 6.7 2.2]\n",
            " [7.7 2.6 6.9 2.3]\n",
            " [6.  2.2 5.  1.5]\n",
            " [6.9 3.2 5.7 2.3]\n",
            " [5.6 2.8 4.9 2. ]\n",
            " [6.3 2.7 4.9 1.8]\n",
            " [6.7 3.3 5.7 2.1]\n",
            " [7.2 3.2 6.  1.8]\n",
            " [6.1 3.  4.9 1.8]\n",
            " [6.4 2.8 5.6 2.1]\n",
            " [7.2 3.  5.8 1.6]\n",
            " [7.4 2.8 6.1 1.9]\n",
            " [7.9 3.8 6.4 2. ]\n",
            " [6.4 2.8 5.6 2.2]\n",
            " [6.3 2.8 5.1 1.5]\n",
            " [6.1 2.6 5.6 1.4]\n",
            " [7.7 3.  6.1 2.3]\n",
            " [6.3 3.4 5.6 2.4]\n",
            " [6.4 3.1 5.5 1.8]\n",
            " [6.  3.  4.8 1.8]\n",
            " [6.9 3.1 5.4 2.1]\n",
            " [6.7 3.1 5.6 2.4]\n",
            " [5.8 2.7 5.1 1.9]\n",
            " [6.8 3.2 5.9 2.3]\n",
            " [6.7 3.3 5.7 2.5]\n",
            " [6.7 3.  5.2 2.3]\n",
            " [6.3 2.5 5.  1.9]\n",
            " [6.5 3.  5.2 2. ]\n",
            " [6.2 3.4 5.4 2.3]\n",
            " [5.9 3.  5.1 1.8]]\n"
          ],
          "name": "stdout"
        }
      ]
    },
    {
      "cell_type": "markdown",
      "metadata": {
        "id": "6GHf3aOeXywC",
        "colab_type": "text"
      },
      "source": [
        "### Difficulty Level: L2\n",
        "\n",
        "#### Sort the iris dataset based on sepallength column."
      ]
    },
    {
      "cell_type": "code",
      "metadata": {
        "id": "ck40S1ikXxpe",
        "colab_type": "code",
        "colab": {}
      },
      "source": [
        "url = 'https://archive.ics.uci.edu/ml/machine-learning-databases/iris/iris.data'\n",
        "iris = np.genfromtxt(url, delimiter=',', dtype='object')\n",
        "names = ('sepallength', 'sepalwidth', 'petallength', 'petalwidth', 'species')"
      ],
      "execution_count": null,
      "outputs": []
    },
    {
      "cell_type": "code",
      "metadata": {
        "id": "7NhJWSbbYC7U",
        "colab_type": "code",
        "colab": {
          "base_uri": "https://localhost:8080/",
          "height": 1000
        },
        "outputId": "022bd851-d698-4983-812b-abc65cc810db"
      },
      "source": [
        "print(iris)\n",
        "print(\"*****************************************************\")\n",
        "print(iris[:,0].argsort()) #https://docs.scipy.org/doc/numpy/reference/generated/numpy.argsort.html"
      ],
      "execution_count": null,
      "outputs": [
        {
          "output_type": "stream",
          "text": [
            "[[b'5.1' b'3.5' b'1.4' b'0.2' b'Iris-setosa']\n",
            " [b'4.9' b'3.0' b'1.4' b'0.2' b'Iris-setosa']\n",
            " [b'4.7' b'3.2' b'1.3' b'0.2' b'Iris-setosa']\n",
            " [b'4.6' b'3.1' b'1.5' b'0.2' b'Iris-setosa']\n",
            " [b'5.0' b'3.6' b'1.4' b'0.2' b'Iris-setosa']\n",
            " [b'5.4' b'3.9' b'1.7' b'0.4' b'Iris-setosa']\n",
            " [b'4.6' b'3.4' b'1.4' b'0.3' b'Iris-setosa']\n",
            " [b'5.0' b'3.4' b'1.5' b'0.2' b'Iris-setosa']\n",
            " [b'4.4' b'2.9' b'1.4' b'0.2' b'Iris-setosa']\n",
            " [b'4.9' b'3.1' b'1.5' b'0.1' b'Iris-setosa']\n",
            " [b'5.4' b'3.7' b'1.5' b'0.2' b'Iris-setosa']\n",
            " [b'4.8' b'3.4' b'1.6' b'0.2' b'Iris-setosa']\n",
            " [b'4.8' b'3.0' b'1.4' b'0.1' b'Iris-setosa']\n",
            " [b'4.3' b'3.0' b'1.1' b'0.1' b'Iris-setosa']\n",
            " [b'5.8' b'4.0' b'1.2' b'0.2' b'Iris-setosa']\n",
            " [b'5.7' b'4.4' b'1.5' b'0.4' b'Iris-setosa']\n",
            " [b'5.4' b'3.9' b'1.3' b'0.4' b'Iris-setosa']\n",
            " [b'5.1' b'3.5' b'1.4' b'0.3' b'Iris-setosa']\n",
            " [b'5.7' b'3.8' b'1.7' b'0.3' b'Iris-setosa']\n",
            " [b'5.1' b'3.8' b'1.5' b'0.3' b'Iris-setosa']\n",
            " [b'5.4' b'3.4' b'1.7' b'0.2' b'Iris-setosa']\n",
            " [b'5.1' b'3.7' b'1.5' b'0.4' b'Iris-setosa']\n",
            " [b'4.6' b'3.6' b'1.0' b'0.2' b'Iris-setosa']\n",
            " [b'5.1' b'3.3' b'1.7' b'0.5' b'Iris-setosa']\n",
            " [b'4.8' b'3.4' b'1.9' b'0.2' b'Iris-setosa']\n",
            " [b'5.0' b'3.0' b'1.6' b'0.2' b'Iris-setosa']\n",
            " [b'5.0' b'3.4' b'1.6' b'0.4' b'Iris-setosa']\n",
            " [b'5.2' b'3.5' b'1.5' b'0.2' b'Iris-setosa']\n",
            " [b'5.2' b'3.4' b'1.4' b'0.2' b'Iris-setosa']\n",
            " [b'4.7' b'3.2' b'1.6' b'0.2' b'Iris-setosa']\n",
            " [b'4.8' b'3.1' b'1.6' b'0.2' b'Iris-setosa']\n",
            " [b'5.4' b'3.4' b'1.5' b'0.4' b'Iris-setosa']\n",
            " [b'5.2' b'4.1' b'1.5' b'0.1' b'Iris-setosa']\n",
            " [b'5.5' b'4.2' b'1.4' b'0.2' b'Iris-setosa']\n",
            " [b'4.9' b'3.1' b'1.5' b'0.1' b'Iris-setosa']\n",
            " [b'5.0' b'3.2' b'1.2' b'0.2' b'Iris-setosa']\n",
            " [b'5.5' b'3.5' b'1.3' b'0.2' b'Iris-setosa']\n",
            " [b'4.9' b'3.1' b'1.5' b'0.1' b'Iris-setosa']\n",
            " [b'4.4' b'3.0' b'1.3' b'0.2' b'Iris-setosa']\n",
            " [b'5.1' b'3.4' b'1.5' b'0.2' b'Iris-setosa']\n",
            " [b'5.0' b'3.5' b'1.3' b'0.3' b'Iris-setosa']\n",
            " [b'4.5' b'2.3' b'1.3' b'0.3' b'Iris-setosa']\n",
            " [b'4.4' b'3.2' b'1.3' b'0.2' b'Iris-setosa']\n",
            " [b'5.0' b'3.5' b'1.6' b'0.6' b'Iris-setosa']\n",
            " [b'5.1' b'3.8' b'1.9' b'0.4' b'Iris-setosa']\n",
            " [b'4.8' b'3.0' b'1.4' b'0.3' b'Iris-setosa']\n",
            " [b'5.1' b'3.8' b'1.6' b'0.2' b'Iris-setosa']\n",
            " [b'4.6' b'3.2' b'1.4' b'0.2' b'Iris-setosa']\n",
            " [b'5.3' b'3.7' b'1.5' b'0.2' b'Iris-setosa']\n",
            " [b'5.0' b'3.3' b'1.4' b'0.2' b'Iris-setosa']\n",
            " [b'7.0' b'3.2' b'4.7' b'1.4' b'Iris-versicolor']\n",
            " [b'6.4' b'3.2' b'4.5' b'1.5' b'Iris-versicolor']\n",
            " [b'6.9' b'3.1' b'4.9' b'1.5' b'Iris-versicolor']\n",
            " [b'5.5' b'2.3' b'4.0' b'1.3' b'Iris-versicolor']\n",
            " [b'6.5' b'2.8' b'4.6' b'1.5' b'Iris-versicolor']\n",
            " [b'5.7' b'2.8' b'4.5' b'1.3' b'Iris-versicolor']\n",
            " [b'6.3' b'3.3' b'4.7' b'1.6' b'Iris-versicolor']\n",
            " [b'4.9' b'2.4' b'3.3' b'1.0' b'Iris-versicolor']\n",
            " [b'6.6' b'2.9' b'4.6' b'1.3' b'Iris-versicolor']\n",
            " [b'5.2' b'2.7' b'3.9' b'1.4' b'Iris-versicolor']\n",
            " [b'5.0' b'2.0' b'3.5' b'1.0' b'Iris-versicolor']\n",
            " [b'5.9' b'3.0' b'4.2' b'1.5' b'Iris-versicolor']\n",
            " [b'6.0' b'2.2' b'4.0' b'1.0' b'Iris-versicolor']\n",
            " [b'6.1' b'2.9' b'4.7' b'1.4' b'Iris-versicolor']\n",
            " [b'5.6' b'2.9' b'3.6' b'1.3' b'Iris-versicolor']\n",
            " [b'6.7' b'3.1' b'4.4' b'1.4' b'Iris-versicolor']\n",
            " [b'5.6' b'3.0' b'4.5' b'1.5' b'Iris-versicolor']\n",
            " [b'5.8' b'2.7' b'4.1' b'1.0' b'Iris-versicolor']\n",
            " [b'6.2' b'2.2' b'4.5' b'1.5' b'Iris-versicolor']\n",
            " [b'5.6' b'2.5' b'3.9' b'1.1' b'Iris-versicolor']\n",
            " [b'5.9' b'3.2' b'4.8' b'1.8' b'Iris-versicolor']\n",
            " [b'6.1' b'2.8' b'4.0' b'1.3' b'Iris-versicolor']\n",
            " [b'6.3' b'2.5' b'4.9' b'1.5' b'Iris-versicolor']\n",
            " [b'6.1' b'2.8' b'4.7' b'1.2' b'Iris-versicolor']\n",
            " [b'6.4' b'2.9' b'4.3' b'1.3' b'Iris-versicolor']\n",
            " [b'6.6' b'3.0' b'4.4' b'1.4' b'Iris-versicolor']\n",
            " [b'6.8' b'2.8' b'4.8' b'1.4' b'Iris-versicolor']\n",
            " [b'6.7' b'3.0' b'5.0' b'1.7' b'Iris-versicolor']\n",
            " [b'6.0' b'2.9' b'4.5' b'1.5' b'Iris-versicolor']\n",
            " [b'5.7' b'2.6' b'3.5' b'1.0' b'Iris-versicolor']\n",
            " [b'5.5' b'2.4' b'3.8' b'1.1' b'Iris-versicolor']\n",
            " [b'5.5' b'2.4' b'3.7' b'1.0' b'Iris-versicolor']\n",
            " [b'5.8' b'2.7' b'3.9' b'1.2' b'Iris-versicolor']\n",
            " [b'6.0' b'2.7' b'5.1' b'1.6' b'Iris-versicolor']\n",
            " [b'5.4' b'3.0' b'4.5' b'1.5' b'Iris-versicolor']\n",
            " [b'6.0' b'3.4' b'4.5' b'1.6' b'Iris-versicolor']\n",
            " [b'6.7' b'3.1' b'4.7' b'1.5' b'Iris-versicolor']\n",
            " [b'6.3' b'2.3' b'4.4' b'1.3' b'Iris-versicolor']\n",
            " [b'5.6' b'3.0' b'4.1' b'1.3' b'Iris-versicolor']\n",
            " [b'5.5' b'2.5' b'4.0' b'1.3' b'Iris-versicolor']\n",
            " [b'5.5' b'2.6' b'4.4' b'1.2' b'Iris-versicolor']\n",
            " [b'6.1' b'3.0' b'4.6' b'1.4' b'Iris-versicolor']\n",
            " [b'5.8' b'2.6' b'4.0' b'1.2' b'Iris-versicolor']\n",
            " [b'5.0' b'2.3' b'3.3' b'1.0' b'Iris-versicolor']\n",
            " [b'5.6' b'2.7' b'4.2' b'1.3' b'Iris-versicolor']\n",
            " [b'5.7' b'3.0' b'4.2' b'1.2' b'Iris-versicolor']\n",
            " [b'5.7' b'2.9' b'4.2' b'1.3' b'Iris-versicolor']\n",
            " [b'6.2' b'2.9' b'4.3' b'1.3' b'Iris-versicolor']\n",
            " [b'5.1' b'2.5' b'3.0' b'1.1' b'Iris-versicolor']\n",
            " [b'5.7' b'2.8' b'4.1' b'1.3' b'Iris-versicolor']\n",
            " [b'6.3' b'3.3' b'6.0' b'2.5' b'Iris-virginica']\n",
            " [b'5.8' b'2.7' b'5.1' b'1.9' b'Iris-virginica']\n",
            " [b'7.1' b'3.0' b'5.9' b'2.1' b'Iris-virginica']\n",
            " [b'6.3' b'2.9' b'5.6' b'1.8' b'Iris-virginica']\n",
            " [b'6.5' b'3.0' b'5.8' b'2.2' b'Iris-virginica']\n",
            " [b'7.6' b'3.0' b'6.6' b'2.1' b'Iris-virginica']\n",
            " [b'4.9' b'2.5' b'4.5' b'1.7' b'Iris-virginica']\n",
            " [b'7.3' b'2.9' b'6.3' b'1.8' b'Iris-virginica']\n",
            " [b'6.7' b'2.5' b'5.8' b'1.8' b'Iris-virginica']\n",
            " [b'7.2' b'3.6' b'6.1' b'2.5' b'Iris-virginica']\n",
            " [b'6.5' b'3.2' b'5.1' b'2.0' b'Iris-virginica']\n",
            " [b'6.4' b'2.7' b'5.3' b'1.9' b'Iris-virginica']\n",
            " [b'6.8' b'3.0' b'5.5' b'2.1' b'Iris-virginica']\n",
            " [b'5.7' b'2.5' b'5.0' b'2.0' b'Iris-virginica']\n",
            " [b'5.8' b'2.8' b'5.1' b'2.4' b'Iris-virginica']\n",
            " [b'6.4' b'3.2' b'5.3' b'2.3' b'Iris-virginica']\n",
            " [b'6.5' b'3.0' b'5.5' b'1.8' b'Iris-virginica']\n",
            " [b'7.7' b'3.8' b'6.7' b'2.2' b'Iris-virginica']\n",
            " [b'7.7' b'2.6' b'6.9' b'2.3' b'Iris-virginica']\n",
            " [b'6.0' b'2.2' b'5.0' b'1.5' b'Iris-virginica']\n",
            " [b'6.9' b'3.2' b'5.7' b'2.3' b'Iris-virginica']\n",
            " [b'5.6' b'2.8' b'4.9' b'2.0' b'Iris-virginica']\n",
            " [b'7.7' b'2.8' b'6.7' b'2.0' b'Iris-virginica']\n",
            " [b'6.3' b'2.7' b'4.9' b'1.8' b'Iris-virginica']\n",
            " [b'6.7' b'3.3' b'5.7' b'2.1' b'Iris-virginica']\n",
            " [b'7.2' b'3.2' b'6.0' b'1.8' b'Iris-virginica']\n",
            " [b'6.2' b'2.8' b'4.8' b'1.8' b'Iris-virginica']\n",
            " [b'6.1' b'3.0' b'4.9' b'1.8' b'Iris-virginica']\n",
            " [b'6.4' b'2.8' b'5.6' b'2.1' b'Iris-virginica']\n",
            " [b'7.2' b'3.0' b'5.8' b'1.6' b'Iris-virginica']\n",
            " [b'7.4' b'2.8' b'6.1' b'1.9' b'Iris-virginica']\n",
            " [b'7.9' b'3.8' b'6.4' b'2.0' b'Iris-virginica']\n",
            " [b'6.4' b'2.8' b'5.6' b'2.2' b'Iris-virginica']\n",
            " [b'6.3' b'2.8' b'5.1' b'1.5' b'Iris-virginica']\n",
            " [b'6.1' b'2.6' b'5.6' b'1.4' b'Iris-virginica']\n",
            " [b'7.7' b'3.0' b'6.1' b'2.3' b'Iris-virginica']\n",
            " [b'6.3' b'3.4' b'5.6' b'2.4' b'Iris-virginica']\n",
            " [b'6.4' b'3.1' b'5.5' b'1.8' b'Iris-virginica']\n",
            " [b'6.0' b'3.0' b'4.8' b'1.8' b'Iris-virginica']\n",
            " [b'6.9' b'3.1' b'5.4' b'2.1' b'Iris-virginica']\n",
            " [b'6.7' b'3.1' b'5.6' b'2.4' b'Iris-virginica']\n",
            " [b'6.9' b'3.1' b'5.1' b'2.3' b'Iris-virginica']\n",
            " [b'5.8' b'2.7' b'5.1' b'1.9' b'Iris-virginica']\n",
            " [b'6.8' b'3.2' b'5.9' b'2.3' b'Iris-virginica']\n",
            " [b'6.7' b'3.3' b'5.7' b'2.5' b'Iris-virginica']\n",
            " [b'6.7' b'3.0' b'5.2' b'2.3' b'Iris-virginica']\n",
            " [b'6.3' b'2.5' b'5.0' b'1.9' b'Iris-virginica']\n",
            " [b'6.5' b'3.0' b'5.2' b'2.0' b'Iris-virginica']\n",
            " [b'6.2' b'3.4' b'5.4' b'2.3' b'Iris-virginica']\n",
            " [b'5.9' b'3.0' b'5.1' b'1.8' b'Iris-virginica']]\n",
            "*****************************************************\n",
            "[ 13  42  38   8  41  22   3   6  47   2  29  12  45  24  11  30  57 106\n",
            "  34   9  37   1  40  26  49  35  43  60   7  93   4  25  44  46  98   0\n",
            "  39  17  23  21  19  32  28  27  59  48  84   5  20  31  10  16  36  90\n",
            "  33  53  81  80  89  88 121  66  69  94  64  79  96  99  15  55 113  18\n",
            "  95  67  14  92 114 142  82 101 149  61  70  78  83 138  85  62 119 127\n",
            " 134  71  63  73  91  68  97 148 126  72 123 146  56 133 100  87 136 103\n",
            " 132 128 137  51 115  74 111 104 116 147  54 110  58  75  86 140 108  77\n",
            "  65 144 145 124 143  76 112 139 141  52 120  50 102 129 125 109 107 130\n",
            " 105 122 118 117 135 131]\n"
          ],
          "name": "stdout"
        }
      ]
    },
    {
      "cell_type": "code",
      "metadata": {
        "id": "7GCKk3_4YvDA",
        "colab_type": "code",
        "colab": {
          "base_uri": "https://localhost:8080/",
          "height": 1000
        },
        "outputId": "25b085b4-a20a-498e-9af0-613e2051de56"
      },
      "source": [
        "print(iris[iris[:,0].argsort()])"
      ],
      "execution_count": null,
      "outputs": [
        {
          "output_type": "stream",
          "text": [
            "[[b'4.3' b'3.0' b'1.1' b'0.1' b'Iris-setosa']\n",
            " [b'4.4' b'3.2' b'1.3' b'0.2' b'Iris-setosa']\n",
            " [b'4.4' b'3.0' b'1.3' b'0.2' b'Iris-setosa']\n",
            " [b'4.4' b'2.9' b'1.4' b'0.2' b'Iris-setosa']\n",
            " [b'4.5' b'2.3' b'1.3' b'0.3' b'Iris-setosa']\n",
            " [b'4.6' b'3.6' b'1.0' b'0.2' b'Iris-setosa']\n",
            " [b'4.6' b'3.1' b'1.5' b'0.2' b'Iris-setosa']\n",
            " [b'4.6' b'3.4' b'1.4' b'0.3' b'Iris-setosa']\n",
            " [b'4.6' b'3.2' b'1.4' b'0.2' b'Iris-setosa']\n",
            " [b'4.7' b'3.2' b'1.3' b'0.2' b'Iris-setosa']\n",
            " [b'4.7' b'3.2' b'1.6' b'0.2' b'Iris-setosa']\n",
            " [b'4.8' b'3.0' b'1.4' b'0.1' b'Iris-setosa']\n",
            " [b'4.8' b'3.0' b'1.4' b'0.3' b'Iris-setosa']\n",
            " [b'4.8' b'3.4' b'1.9' b'0.2' b'Iris-setosa']\n",
            " [b'4.8' b'3.4' b'1.6' b'0.2' b'Iris-setosa']\n",
            " [b'4.8' b'3.1' b'1.6' b'0.2' b'Iris-setosa']\n",
            " [b'4.9' b'2.4' b'3.3' b'1.0' b'Iris-versicolor']\n",
            " [b'4.9' b'2.5' b'4.5' b'1.7' b'Iris-virginica']\n",
            " [b'4.9' b'3.1' b'1.5' b'0.1' b'Iris-setosa']\n",
            " [b'4.9' b'3.1' b'1.5' b'0.1' b'Iris-setosa']\n",
            " [b'4.9' b'3.1' b'1.5' b'0.1' b'Iris-setosa']\n",
            " [b'4.9' b'3.0' b'1.4' b'0.2' b'Iris-setosa']\n",
            " [b'5.0' b'3.5' b'1.3' b'0.3' b'Iris-setosa']\n",
            " [b'5.0' b'3.4' b'1.6' b'0.4' b'Iris-setosa']\n",
            " [b'5.0' b'3.3' b'1.4' b'0.2' b'Iris-setosa']\n",
            " [b'5.0' b'3.2' b'1.2' b'0.2' b'Iris-setosa']\n",
            " [b'5.0' b'3.5' b'1.6' b'0.6' b'Iris-setosa']\n",
            " [b'5.0' b'2.0' b'3.5' b'1.0' b'Iris-versicolor']\n",
            " [b'5.0' b'3.4' b'1.5' b'0.2' b'Iris-setosa']\n",
            " [b'5.0' b'2.3' b'3.3' b'1.0' b'Iris-versicolor']\n",
            " [b'5.0' b'3.6' b'1.4' b'0.2' b'Iris-setosa']\n",
            " [b'5.0' b'3.0' b'1.6' b'0.2' b'Iris-setosa']\n",
            " [b'5.1' b'3.8' b'1.9' b'0.4' b'Iris-setosa']\n",
            " [b'5.1' b'3.8' b'1.6' b'0.2' b'Iris-setosa']\n",
            " [b'5.1' b'2.5' b'3.0' b'1.1' b'Iris-versicolor']\n",
            " [b'5.1' b'3.5' b'1.4' b'0.2' b'Iris-setosa']\n",
            " [b'5.1' b'3.4' b'1.5' b'0.2' b'Iris-setosa']\n",
            " [b'5.1' b'3.5' b'1.4' b'0.3' b'Iris-setosa']\n",
            " [b'5.1' b'3.3' b'1.7' b'0.5' b'Iris-setosa']\n",
            " [b'5.1' b'3.7' b'1.5' b'0.4' b'Iris-setosa']\n",
            " [b'5.1' b'3.8' b'1.5' b'0.3' b'Iris-setosa']\n",
            " [b'5.2' b'4.1' b'1.5' b'0.1' b'Iris-setosa']\n",
            " [b'5.2' b'3.4' b'1.4' b'0.2' b'Iris-setosa']\n",
            " [b'5.2' b'3.5' b'1.5' b'0.2' b'Iris-setosa']\n",
            " [b'5.2' b'2.7' b'3.9' b'1.4' b'Iris-versicolor']\n",
            " [b'5.3' b'3.7' b'1.5' b'0.2' b'Iris-setosa']\n",
            " [b'5.4' b'3.0' b'4.5' b'1.5' b'Iris-versicolor']\n",
            " [b'5.4' b'3.9' b'1.7' b'0.4' b'Iris-setosa']\n",
            " [b'5.4' b'3.4' b'1.7' b'0.2' b'Iris-setosa']\n",
            " [b'5.4' b'3.4' b'1.5' b'0.4' b'Iris-setosa']\n",
            " [b'5.4' b'3.7' b'1.5' b'0.2' b'Iris-setosa']\n",
            " [b'5.4' b'3.9' b'1.3' b'0.4' b'Iris-setosa']\n",
            " [b'5.5' b'3.5' b'1.3' b'0.2' b'Iris-setosa']\n",
            " [b'5.5' b'2.6' b'4.4' b'1.2' b'Iris-versicolor']\n",
            " [b'5.5' b'4.2' b'1.4' b'0.2' b'Iris-setosa']\n",
            " [b'5.5' b'2.3' b'4.0' b'1.3' b'Iris-versicolor']\n",
            " [b'5.5' b'2.4' b'3.7' b'1.0' b'Iris-versicolor']\n",
            " [b'5.5' b'2.4' b'3.8' b'1.1' b'Iris-versicolor']\n",
            " [b'5.5' b'2.5' b'4.0' b'1.3' b'Iris-versicolor']\n",
            " [b'5.6' b'3.0' b'4.1' b'1.3' b'Iris-versicolor']\n",
            " [b'5.6' b'2.8' b'4.9' b'2.0' b'Iris-virginica']\n",
            " [b'5.6' b'3.0' b'4.5' b'1.5' b'Iris-versicolor']\n",
            " [b'5.6' b'2.5' b'3.9' b'1.1' b'Iris-versicolor']\n",
            " [b'5.6' b'2.7' b'4.2' b'1.3' b'Iris-versicolor']\n",
            " [b'5.6' b'2.9' b'3.6' b'1.3' b'Iris-versicolor']\n",
            " [b'5.7' b'2.6' b'3.5' b'1.0' b'Iris-versicolor']\n",
            " [b'5.7' b'2.9' b'4.2' b'1.3' b'Iris-versicolor']\n",
            " [b'5.7' b'2.8' b'4.1' b'1.3' b'Iris-versicolor']\n",
            " [b'5.7' b'4.4' b'1.5' b'0.4' b'Iris-setosa']\n",
            " [b'5.7' b'2.8' b'4.5' b'1.3' b'Iris-versicolor']\n",
            " [b'5.7' b'2.5' b'5.0' b'2.0' b'Iris-virginica']\n",
            " [b'5.7' b'3.8' b'1.7' b'0.3' b'Iris-setosa']\n",
            " [b'5.7' b'3.0' b'4.2' b'1.2' b'Iris-versicolor']\n",
            " [b'5.8' b'2.7' b'4.1' b'1.0' b'Iris-versicolor']\n",
            " [b'5.8' b'4.0' b'1.2' b'0.2' b'Iris-setosa']\n",
            " [b'5.8' b'2.6' b'4.0' b'1.2' b'Iris-versicolor']\n",
            " [b'5.8' b'2.8' b'5.1' b'2.4' b'Iris-virginica']\n",
            " [b'5.8' b'2.7' b'5.1' b'1.9' b'Iris-virginica']\n",
            " [b'5.8' b'2.7' b'3.9' b'1.2' b'Iris-versicolor']\n",
            " [b'5.8' b'2.7' b'5.1' b'1.9' b'Iris-virginica']\n",
            " [b'5.9' b'3.0' b'5.1' b'1.8' b'Iris-virginica']\n",
            " [b'5.9' b'3.0' b'4.2' b'1.5' b'Iris-versicolor']\n",
            " [b'5.9' b'3.2' b'4.8' b'1.8' b'Iris-versicolor']\n",
            " [b'6.0' b'2.9' b'4.5' b'1.5' b'Iris-versicolor']\n",
            " [b'6.0' b'2.7' b'5.1' b'1.6' b'Iris-versicolor']\n",
            " [b'6.0' b'3.0' b'4.8' b'1.8' b'Iris-virginica']\n",
            " [b'6.0' b'3.4' b'4.5' b'1.6' b'Iris-versicolor']\n",
            " [b'6.0' b'2.2' b'4.0' b'1.0' b'Iris-versicolor']\n",
            " [b'6.0' b'2.2' b'5.0' b'1.5' b'Iris-virginica']\n",
            " [b'6.1' b'3.0' b'4.9' b'1.8' b'Iris-virginica']\n",
            " [b'6.1' b'2.6' b'5.6' b'1.4' b'Iris-virginica']\n",
            " [b'6.1' b'2.8' b'4.0' b'1.3' b'Iris-versicolor']\n",
            " [b'6.1' b'2.9' b'4.7' b'1.4' b'Iris-versicolor']\n",
            " [b'6.1' b'2.8' b'4.7' b'1.2' b'Iris-versicolor']\n",
            " [b'6.1' b'3.0' b'4.6' b'1.4' b'Iris-versicolor']\n",
            " [b'6.2' b'2.2' b'4.5' b'1.5' b'Iris-versicolor']\n",
            " [b'6.2' b'2.9' b'4.3' b'1.3' b'Iris-versicolor']\n",
            " [b'6.2' b'3.4' b'5.4' b'2.3' b'Iris-virginica']\n",
            " [b'6.2' b'2.8' b'4.8' b'1.8' b'Iris-virginica']\n",
            " [b'6.3' b'2.5' b'4.9' b'1.5' b'Iris-versicolor']\n",
            " [b'6.3' b'2.7' b'4.9' b'1.8' b'Iris-virginica']\n",
            " [b'6.3' b'2.5' b'5.0' b'1.9' b'Iris-virginica']\n",
            " [b'6.3' b'3.3' b'4.7' b'1.6' b'Iris-versicolor']\n",
            " [b'6.3' b'2.8' b'5.1' b'1.5' b'Iris-virginica']\n",
            " [b'6.3' b'3.3' b'6.0' b'2.5' b'Iris-virginica']\n",
            " [b'6.3' b'2.3' b'4.4' b'1.3' b'Iris-versicolor']\n",
            " [b'6.3' b'3.4' b'5.6' b'2.4' b'Iris-virginica']\n",
            " [b'6.3' b'2.9' b'5.6' b'1.8' b'Iris-virginica']\n",
            " [b'6.4' b'2.8' b'5.6' b'2.2' b'Iris-virginica']\n",
            " [b'6.4' b'2.8' b'5.6' b'2.1' b'Iris-virginica']\n",
            " [b'6.4' b'3.1' b'5.5' b'1.8' b'Iris-virginica']\n",
            " [b'6.4' b'3.2' b'4.5' b'1.5' b'Iris-versicolor']\n",
            " [b'6.4' b'3.2' b'5.3' b'2.3' b'Iris-virginica']\n",
            " [b'6.4' b'2.9' b'4.3' b'1.3' b'Iris-versicolor']\n",
            " [b'6.4' b'2.7' b'5.3' b'1.9' b'Iris-virginica']\n",
            " [b'6.5' b'3.0' b'5.8' b'2.2' b'Iris-virginica']\n",
            " [b'6.5' b'3.0' b'5.5' b'1.8' b'Iris-virginica']\n",
            " [b'6.5' b'3.0' b'5.2' b'2.0' b'Iris-virginica']\n",
            " [b'6.5' b'2.8' b'4.6' b'1.5' b'Iris-versicolor']\n",
            " [b'6.5' b'3.2' b'5.1' b'2.0' b'Iris-virginica']\n",
            " [b'6.6' b'2.9' b'4.6' b'1.3' b'Iris-versicolor']\n",
            " [b'6.6' b'3.0' b'4.4' b'1.4' b'Iris-versicolor']\n",
            " [b'6.7' b'3.1' b'4.7' b'1.5' b'Iris-versicolor']\n",
            " [b'6.7' b'3.1' b'5.6' b'2.4' b'Iris-virginica']\n",
            " [b'6.7' b'2.5' b'5.8' b'1.8' b'Iris-virginica']\n",
            " [b'6.7' b'3.0' b'5.0' b'1.7' b'Iris-versicolor']\n",
            " [b'6.7' b'3.1' b'4.4' b'1.4' b'Iris-versicolor']\n",
            " [b'6.7' b'3.3' b'5.7' b'2.5' b'Iris-virginica']\n",
            " [b'6.7' b'3.0' b'5.2' b'2.3' b'Iris-virginica']\n",
            " [b'6.7' b'3.3' b'5.7' b'2.1' b'Iris-virginica']\n",
            " [b'6.8' b'3.2' b'5.9' b'2.3' b'Iris-virginica']\n",
            " [b'6.8' b'2.8' b'4.8' b'1.4' b'Iris-versicolor']\n",
            " [b'6.8' b'3.0' b'5.5' b'2.1' b'Iris-virginica']\n",
            " [b'6.9' b'3.1' b'5.4' b'2.1' b'Iris-virginica']\n",
            " [b'6.9' b'3.1' b'5.1' b'2.3' b'Iris-virginica']\n",
            " [b'6.9' b'3.1' b'4.9' b'1.5' b'Iris-versicolor']\n",
            " [b'6.9' b'3.2' b'5.7' b'2.3' b'Iris-virginica']\n",
            " [b'7.0' b'3.2' b'4.7' b'1.4' b'Iris-versicolor']\n",
            " [b'7.1' b'3.0' b'5.9' b'2.1' b'Iris-virginica']\n",
            " [b'7.2' b'3.0' b'5.8' b'1.6' b'Iris-virginica']\n",
            " [b'7.2' b'3.2' b'6.0' b'1.8' b'Iris-virginica']\n",
            " [b'7.2' b'3.6' b'6.1' b'2.5' b'Iris-virginica']\n",
            " [b'7.3' b'2.9' b'6.3' b'1.8' b'Iris-virginica']\n",
            " [b'7.4' b'2.8' b'6.1' b'1.9' b'Iris-virginica']\n",
            " [b'7.6' b'3.0' b'6.6' b'2.1' b'Iris-virginica']\n",
            " [b'7.7' b'2.8' b'6.7' b'2.0' b'Iris-virginica']\n",
            " [b'7.7' b'2.6' b'6.9' b'2.3' b'Iris-virginica']\n",
            " [b'7.7' b'3.8' b'6.7' b'2.2' b'Iris-virginica']\n",
            " [b'7.7' b'3.0' b'6.1' b'2.3' b'Iris-virginica']\n",
            " [b'7.9' b'3.8' b'6.4' b'2.0' b'Iris-virginica']]\n"
          ],
          "name": "stdout"
        }
      ]
    },
    {
      "cell_type": "markdown",
      "metadata": {
        "id": "26LNVGt3Y3dl",
        "colab_type": "text"
      },
      "source": [
        "### Difficulty Level: L3\n",
        "\n",
        "#### Find the duplicate entries (2nd occurrence onwards) in the given numpy array and mark them as True. First time occurrences should be False."
      ]
    },
    {
      "cell_type": "code",
      "metadata": {
        "id": "1kYROLDQY3IB",
        "colab_type": "code",
        "colab": {
          "base_uri": "https://localhost:8080/",
          "height": 34
        },
        "outputId": "fe3f51ee-6be8-4cb4-cda6-0fe801c37f9b"
      },
      "source": [
        "np.random.seed(100)\n",
        "a = np.random.randint(0, 5, 10)\n",
        "print(a)\n",
        "\n",
        "#Output: [False  True False  True False False  True  True  True  True]"
      ],
      "execution_count": null,
      "outputs": [
        {
          "output_type": "stream",
          "text": [
            "[0 0 3 0 2 4 2 2 2 2]\n"
          ],
          "name": "stdout"
        }
      ]
    },
    {
      "cell_type": "code",
      "metadata": {
        "id": "-rJT89lYZpHk",
        "colab_type": "code",
        "colab": {
          "base_uri": "https://localhost:8080/",
          "height": 86
        },
        "outputId": "1f2dca3d-650c-4876-c3cb-bc267a1eae60"
      },
      "source": [
        "# Create an all True array\n",
        "out = np.full(a.shape[0], True) # all True\n",
        "print(out)\n",
        "\n",
        "# Find the index positions of unique elements\n",
        "print(np.unique(a, return_index=True))\n",
        "print(type(np.unique(a, return_index=True)))\n",
        "\n",
        "unique_positions = np.unique(a, return_index=True)[1]\n",
        "\n",
        "# Mark those positions as False\n",
        "out[unique_positions] = False\n",
        "\n",
        "print(out)"
      ],
      "execution_count": null,
      "outputs": [
        {
          "output_type": "stream",
          "text": [
            "[ True  True  True  True  True  True  True  True  True  True]\n",
            "(array([0, 2, 3, 4]), array([0, 4, 2, 5]))\n",
            "<class 'tuple'>\n",
            "[False  True False  True False False  True  True  True  True]\n"
          ],
          "name": "stdout"
        }
      ]
    },
    {
      "cell_type": "markdown",
      "metadata": {
        "id": "IMTQSQKVZ8p7",
        "colab_type": "text"
      },
      "source": [
        "### Takeaways\n",
        "#### 1. Break a problem into its sub components\n",
        "#### 2. Try to write pythonic code if you can for each sub-component\n",
        "\n",
        "#### 3. Else, use loops and other control flow statements. \n"
      ]
    },
    {
      "cell_type": "markdown",
      "metadata": {
        "id": "oJJUBCENaNiF",
        "colab_type": "text"
      },
      "source": [
        ""
      ]
    }
  ]
}