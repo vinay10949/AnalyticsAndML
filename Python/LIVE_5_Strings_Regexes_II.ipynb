{
  "nbformat": 4,
  "nbformat_minor": 0,
  "metadata": {
    "celltoolbar": "Slideshow",
    "kernelspec": {
      "display_name": "Python 3",
      "language": "python",
      "name": "python3"
    },
    "language_info": {
      "codemirror_mode": {
        "name": "ipython",
        "version": 3
      },
      "file_extension": ".py",
      "mimetype": "text/x-python",
      "name": "python",
      "nbconvert_exporter": "python",
      "pygments_lexer": "ipython3",
      "version": "3.7.3"
    },
    "colab": {
      "name": "LIVE_5_Strings_Regexes_II.ipynb",
      "provenance": [],
      "include_colab_link": true
    }
  },
  "cells": [
    {
      "cell_type": "markdown",
      "metadata": {
        "id": "view-in-github",
        "colab_type": "text"
      },
      "source": [
        "<a href=\"https://colab.research.google.com/github/vinay10949/AnalyticsAndML/blob/master/Python/LIVE_5_Strings_Regexes_II.ipynb\" target=\"_parent\"><img src=\"https://colab.research.google.com/assets/colab-badge.svg\" alt=\"Open In Colab\"/></a>"
      ]
    },
    {
      "cell_type": "markdown",
      "metadata": {
        "id": "FLsF-lQLB1cc",
        "colab_type": "text"
      },
      "source": [
        "## LIVE 5: Strings and Regex-II\n",
        " - Focus: Basics of strings and regex in Python +  interesting problem solving. \n",
        " - Prereq: Basic knowledge of Strings and Regex in Python + previous code-sessions.\n",
        " - Reference for basics: \n",
        "     - https://docs.python.org/3/howto/regex.html\n",
        "     - https://docs.python.org/3/library/re.html\n",
        "     - https://www.w3schools.com/python/python_strings.asp\n",
        "     - https://www.geeksforgeeks.org/python-strings/\n",
        "     \n",
        "     \n",
        "Slide-show: https://medium.com/@mjspeck/presenting-code-using-jupyter-notebook-slides-a8a3c3b59d67\n"
      ]
    },
    {
      "cell_type": "markdown",
      "metadata": {
        "id": "pMZtLAU2B1ch",
        "colab_type": "text"
      },
      "source": [
        "## Problem 2: Extract data from a PDF invoice\n",
        "- Given a PDF [https://slicedinvoices.com/pdf/wordpress-pdf-invoice-plugin-sample.pdf], extract predefined key fields from this PDF\n",
        "- Assume the format is fixed.\n",
        "\n"
      ]
    },
    {
      "cell_type": "code",
      "metadata": {
        "id": "RjLvdqBzB1co",
        "colab_type": "code",
        "colab": {},
        "outputId": "b7f6f317-043d-4473-fe2e-7a969801ceb6"
      },
      "source": [
        "# https://realpython.com/pdf-python/#history-of-pypdf-pypdf2-and-pypdf4\n",
        "\n",
        "!pip3 install pyPDF4\n"
      ],
      "execution_count": null,
      "outputs": [
        {
          "output_type": "stream",
          "text": [
            "Requirement already satisfied: pyPDF4 in /usr/local/lib/python3.7/site-packages (1.27.0)\r\n"
          ],
          "name": "stdout"
        }
      ]
    },
    {
      "cell_type": "code",
      "metadata": {
        "id": "XwbpxxrVB1dR",
        "colab_type": "code",
        "colab": {},
        "outputId": "dbaa9b89-7c61-4a29-b8a9-4ab3dece78cb"
      },
      "source": [
        "# Google \"pyPDF extract text\" ---> https://www.soudegesu.com/en/post/python/extract-text-from-pdf-with-pypdf2/\n",
        "import PyPDF4\n",
        "\n",
        "FILE_PATH = './invoice.pdf'\n",
        "\n",
        "with open(FILE_PATH, mode='rb') as f:\n",
        "    reader = PyPDF4.PdfFileReader(f)\n",
        "    page = reader.getPage(0)\n",
        "    print(page.extractText())\n"
      ],
      "execution_count": null,
      "outputs": [
        {
          "output_type": "stream",
          "text": [
            "Invoice\n",
            "Payment is due within 30 days from date of invoice. Late payment is subject to fees of 5% per month.\n",
            "Thanks for choosing \n",
            "DEMO - Sliced Invoices\n",
            " | \n",
            "admin@slicedinvoices.com\n",
            "Page 1/1\n",
            "From:\n",
            "DEMO - Sliced Invoices\n",
            "Suite 5A-1204\n",
            "123 Somewhere Street\n",
            "Your City AZ 12345\n",
            "admin@slicedinvoices.com\n",
            "Invoice Number\n",
            "INV-3337\n",
            "Order Number\n",
            "12345\n",
            "Invoice Date\n",
            "January 25, 2016\n",
            "Due Date\n",
            "January 31, 2016\n",
            "Total Due\n",
            "$93.50\n",
            "To:\n",
            "Test Business\n",
            "123 Somewhere St\n",
            "Melbourne, VIC 3000\n",
            "test@test.com\n",
            "Hrs/Qty\n",
            "Service\n",
            "Rate/Price\n",
            "Adjust\n",
            "Sub Total\n",
            "1.00\n",
            "Web Design\n",
            "This is a sample description...\n",
            "$85.00\n",
            "0.00%\n",
            "$85.00\n",
            "Sub Total\n",
            "$85.00\n",
            "Tax\n",
            "$8.50\n",
            "Total\n",
            "$93.50\n",
            "ANZ Bank\n",
            "ACC # 1234 1234\n",
            "BSB # 4321 432\n",
            "Paid\n",
            "\n"
          ],
          "name": "stdout"
        }
      ]
    },
    {
      "cell_type": "code",
      "metadata": {
        "id": "R_UTBtwBB1dl",
        "colab_type": "code",
        "colab": {}
      },
      "source": [
        "import PyPDF4\n",
        "\n",
        "FILE_PATH = './invoice.pdf'\n",
        "\n",
        "with open(FILE_PATH, mode='rb') as f:\n",
        "    reader = PyPDF4.PdfFileReader(f)\n",
        "    page = reader.getPage(0)\n",
        "    txt = page.extractText();"
      ],
      "execution_count": null,
      "outputs": []
    },
    {
      "cell_type": "code",
      "metadata": {
        "id": "bmjMXcvaB1dz",
        "colab_type": "code",
        "colab": {},
        "outputId": "6fd53059-a175-4a77-8d60-74e47da96d8b"
      },
      "source": [
        "# extract invoice number\n",
        "\n",
        "m = re.findall(\"INV-[0-9]*\", txt)\n",
        "print(m)\n"
      ],
      "execution_count": null,
      "outputs": [
        {
          "output_type": "stream",
          "text": [
            "['INV-3337']\n"
          ],
          "name": "stdout"
        }
      ]
    },
    {
      "cell_type": "code",
      "metadata": {
        "id": "0Vc6AET4B1eM",
        "colab_type": "code",
        "colab": {},
        "outputId": "c70c0df6-5171-4eef-a4e4-1b168d9d096e"
      },
      "source": [
        "# extract amounts\n",
        "m = re.findall(\"$[0-9]*\\.[0-9]*\", txt)\n",
        "print(m)\n"
      ],
      "execution_count": null,
      "outputs": [
        {
          "output_type": "stream",
          "text": [
            "[]\n"
          ],
          "name": "stdout"
        }
      ]
    },
    {
      "cell_type": "code",
      "metadata": {
        "id": "4hpcj3RGB1eh",
        "colab_type": "code",
        "colab": {},
        "outputId": "3aae7287-5cbb-4d4b-db56-92f70731662a"
      },
      "source": [
        "\n",
        "# extract amounts\n",
        "m = re.findall(\"\\$[0-9]*\\.[0-9]*\", txt)\n",
        "print(m)\n"
      ],
      "execution_count": null,
      "outputs": [
        {
          "output_type": "stream",
          "text": [
            "['$93.50', '$85.00', '$85.00', '$85.00', '$8.50', '$93.50']\n"
          ],
          "name": "stdout"
        }
      ]
    },
    {
      "cell_type": "code",
      "metadata": {
        "id": "NQHYmmnsB1e-",
        "colab_type": "code",
        "colab": {},
        "outputId": "8366304c-9baa-41a5-b13c-6a3e51162496"
      },
      "source": [
        "# Extract Total Due:\n",
        "m = re.findall(\"Total Due\\$[0-9]*\\.[0-9]*\", txt)\n",
        "print(m)\n",
        "\n",
        "# Any suggestions?"
      ],
      "execution_count": null,
      "outputs": [
        {
          "output_type": "stream",
          "text": [
            "[]\n"
          ],
          "name": "stdout"
        }
      ]
    },
    {
      "cell_type": "code",
      "metadata": {
        "id": "5qAKnJ4ZB1fO",
        "colab_type": "code",
        "colab": {},
        "outputId": "7962b260-f652-4983-8241-97e346f2ec9d"
      },
      "source": [
        "\n",
        "# Extract Total Due:\n",
        "m = re.findall(\"Total Due\\n\\$[0-9]*\\.[0-9]*\", txt)\n",
        "print(m)"
      ],
      "execution_count": null,
      "outputs": [
        {
          "output_type": "stream",
          "text": [
            "['Total Due\\n$93.50']\n"
          ],
          "name": "stdout"
        }
      ]
    },
    {
      "cell_type": "code",
      "metadata": {
        "id": "4V0KMdY1B1fW",
        "colab_type": "code",
        "colab": {},
        "outputId": "6a596098-0552-412e-d114-a76704e28b9c"
      },
      "source": [
        "print(re.findall(\"\\$[0-9]*\\.[0-9]*\",m[0]))"
      ],
      "execution_count": null,
      "outputs": [
        {
          "output_type": "stream",
          "text": [
            "['$93.50']\n"
          ],
          "name": "stdout"
        }
      ]
    },
    {
      "cell_type": "code",
      "metadata": {
        "id": "_ic1emmOB1fn",
        "colab_type": "code",
        "colab": {},
        "outputId": "204bb966-ba89-4f8e-8d9a-44fb44f8b55f"
      },
      "source": [
        "# Extract dates in this doc gieven a fixed format using line number\n",
        "res = re.split(\"\\n\", txt);\n",
        "print(res)\n",
        "\n",
        "print(\"\\n\\n Invoice date:\" +res[18])"
      ],
      "execution_count": null,
      "outputs": [
        {
          "output_type": "stream",
          "text": [
            "['Invoice', 'Payment is due within 30 days from date of invoice. Late payment is subject to fees of 5% per month.', 'Thanks for choosing ', 'DEMO - Sliced Invoices', ' | ', 'admin@slicedinvoices.com', 'Page 1/1', 'From:', 'DEMO - Sliced Invoices', 'Suite 5A-1204', '123 Somewhere Street', 'Your City AZ 12345', 'admin@slicedinvoices.com', 'Invoice Number', 'INV-3337', 'Order Number', '12345', 'Invoice Date', 'January 25, 2016', 'Due Date', 'January 31, 2016', 'Total Due', '$93.50', 'To:', 'Test Business', '123 Somewhere St', 'Melbourne, VIC 3000', 'test@test.com', 'Hrs/Qty', 'Service', 'Rate/Price', 'Adjust', 'Sub Total', '1.00', 'Web Design', 'This is a sample description...', '$85.00', '0.00%', '$85.00', 'Sub Total', '$85.00', 'Tax', '$8.50', 'Total', '$93.50', 'ANZ Bank', 'ACC # 1234 1234', 'BSB # 4321 432', 'Paid', '']\n",
            "\n",
            "\n",
            " Invocie date:January 25, 2016\n"
          ],
          "name": "stdout"
        }
      ]
    },
    {
      "cell_type": "markdown",
      "metadata": {
        "id": "Qc-JpC0PB1f1",
        "colab_type": "text"
      },
      "source": [
        "#### NOTE: Web-scarping\n",
        "- We can use \"re\" for extracting data from web-scarping. \n",
        "- But, it is better to sue ebautiful-soup like libraries as they use the structure of HTML \n",
        "- https://www.crummy.com/software/BeautifulSoup/bs4/doc/\n",
        "- We have done an earlier live session on web-scraping: https://youtu.be/EYzTeb_VXoI"
      ]
    },
    {
      "cell_type": "markdown",
      "metadata": {
        "id": "0AcrLgVpB1f4",
        "colab_type": "text"
      },
      "source": [
        "### Ques: How do we handle cases where we want to extract data from multiple invoice formats?\n",
        "\n",
        "\n",
        "#### Assignment: Extract email-addresses from the PDF\n"
      ]
    },
    {
      "cell_type": "markdown",
      "metadata": {
        "id": "kUQCNGEcB1f5",
        "colab_type": "text"
      },
      "source": [
        "## Problem 3: Check if a number is a valid integer or float\n",
        "- TRUE: 12, 12.5, 1e10, 1e+6, 1e-10, -2.3, -2.4e-4 \n",
        "- FALSE: abc, -2.4e4.5, 1b2.4\n",
        "- TRICKY: Handle all the cases carefully.\n",
        "- Easy problem to code. But, hard not to miss cases.\n",
        "- Popular interview question to understand handling boundary cases.\n"
      ]
    },
    {
      "cell_type": "code",
      "metadata": {
        "id": "lchD4FRwB1f7",
        "colab_type": "code",
        "colab": {}
      },
      "source": [
        "# Source: https://www.geeksforgeeks.org/check-given-string-valid-number-integer-floating-point/\n",
        "# Sometimes, reading other's code is a good way to learn.\n",
        "# Explanatory comments are very important in your code. \n",
        "# We added more comments and clearly listed cases handled for better interpretability.\n",
        "\n",
        "\n",
        "# This code elimiates each of the FALSE cases and finally limits to only TRUE cases.\n",
        "# is a valid number \n",
        "def valid_number(str): \n",
        "    i = 0\n",
        "    j = len(str) - 1\n",
        "  \n",
        "    # Handling whitespaces: \"   123   \"\n",
        "    while i<len(str) and str[i] == ' ': # remove  whitespaces int he beginning\n",
        "        i += 1\n",
        "    \n",
        "    while j >= 0 and str[j] == ' ': # remove whitespaces at the end\n",
        "        j -= 1\n",
        "  \n",
        "    if i > j: # if only whitespaces in the given string\n",
        "        return False\n",
        "    \n",
        "    #str[i...j] is a whitespace removed (from beginning and end) string \n",
        "  \n",
        "    # if string is of length 1 and the only \n",
        "    # character is not a digit \n",
        "    if (i == j and not(str[i] >= '0' and \n",
        "                       str[i] <= '9')): \n",
        "        return False\n",
        "  \n",
        "    \n",
        "    # If the 1st char is not '+', '-', '.' or digit \n",
        "    if (str[i] != '.' and str[i] != '+' and \n",
        "        str[i] != '-' and not(str[i] >= '0' and \n",
        "        str[i] <= '9')): \n",
        "        return False\n",
        "  \n",
        "    # To check if a '.' or 'e' is found in given \n",
        "    # string.We use this flag to make sure that \n",
        "    # either of them appear only once. \n",
        "    flagDotOrE = False\n",
        "  \n",
        "    for i in range(j + 1): \n",
        "          \n",
        "        # If any of the char does not belong to \n",
        "        # {digit, +, -,., e} \n",
        "        if (str[i] != 'e' and str[i] != '.' and \n",
        "            str[i] != '+' and str[i] != '-' and not\n",
        "           (str[i] >= '0' and str[i] <= '9')): \n",
        "            return False # \"a123\" good to write cases eliminated\n",
        "  \n",
        "        if str[i] == '.': \n",
        "            \n",
        "            # check if the char e has already \n",
        "            # occured before '.' If yes, return 0 \n",
        "            if flagDotOrE: \n",
        "                return False #\"1e2.3\", \"1.2.3\"\n",
        "            \n",
        "            if i + 1 > len(str): \n",
        "                return False # \"123.\"\n",
        "            \n",
        "            if (not(str[i + 1] >= '0' and \n",
        "                    str[i + 1] <= '9')): \n",
        "                return False # \"123a\"\n",
        "\n",
        "            flagDotOrE = True\n",
        "            \n",
        "        elif str[i] == 'e': \n",
        "              \n",
        "            # set flagDotOrE = 1 when e is encountered. \n",
        "            flagDotOrE = True\n",
        "  \n",
        "            # if there is no digit before e \n",
        "            if (not(str[i - 1] >= '0' and \n",
        "                    str[i - 1] <= '9')): \n",
        "                return False # \"e123\"\n",
        "                  \n",
        "            # if e is the last character \n",
        "            if i + 1 > len(str): \n",
        "                return False # \"123e\"\n",
        "                  \n",
        "            # if e is not followed by \n",
        "            # '+', '-' or a digit \n",
        "            if (str[i + 1] != '+' and str[i + 1] != '-' and \n",
        "               (str[i + 1] >= '0' and str[i] <= '9')): \n",
        "                return False # \"1e.\" \"1ea\"\n",
        "                  \n",
        "    # If the string skips all the \n",
        "    # above cases, it must be a numeric string \n",
        "    return True\n",
        "  "
      ],
      "execution_count": null,
      "outputs": []
    },
    {
      "cell_type": "code",
      "metadata": {
        "id": "ZVYthYyOB1gD",
        "colab_type": "code",
        "colab": {},
        "outputId": "afa9339f-635c-41e7-8ba9-bc786cec3833"
      },
      "source": [
        "print(valid_number(\"1e5\"))"
      ],
      "execution_count": null,
      "outputs": [
        {
          "output_type": "stream",
          "text": [
            "True\n"
          ],
          "name": "stdout"
        }
      ]
    },
    {
      "cell_type": "code",
      "metadata": {
        "id": "2bbNSDtdB1gN",
        "colab_type": "code",
        "colab": {},
        "outputId": "9d95b841-828f-48b2-b539-3eeb0dae3934"
      },
      "source": [
        "print(valid_number(\"1e1.5\"))"
      ],
      "execution_count": null,
      "outputs": [
        {
          "output_type": "stream",
          "text": [
            "False\n"
          ],
          "name": "stdout"
        }
      ]
    },
    {
      "cell_type": "code",
      "metadata": {
        "id": "ll-z1ESqB1gV",
        "colab_type": "code",
        "colab": {},
        "outputId": "65abf5dc-5e5d-4a83-9886-2883b1769f71"
      },
      "source": [
        "print(valid_number(\"1e+15\"))"
      ],
      "execution_count": null,
      "outputs": [
        {
          "output_type": "stream",
          "text": [
            "True\n"
          ],
          "name": "stdout"
        }
      ]
    },
    {
      "cell_type": "code",
      "metadata": {
        "id": "PsEE8_cUB1gd",
        "colab_type": "code",
        "colab": {},
        "outputId": "889a61d2-e0a1-4e9b-9228-bc02c2d3bc14"
      },
      "source": [
        "print(valid_number(\"-1.2e-15\"))"
      ],
      "execution_count": null,
      "outputs": [
        {
          "output_type": "stream",
          "text": [
            "True\n"
          ],
          "name": "stdout"
        }
      ]
    },
    {
      "cell_type": "markdown",
      "metadata": {
        "id": "S_HZNeIIB1gl",
        "colab_type": "text"
      },
      "source": [
        "## Problem 4:  Regex matching problem\n",
        "- \"?\" matches a single character\n",
        "- \"*\" matches zero or more charcters\n",
        "- Given a pattern(p) and a string(s), does p match s?\n",
        "- examples: \n",
        "    - TRUE: (\"\\*\", \"ab\"), (\"?a\" ,\"ba\"), (\"?a\" ,\"aa\"), (\"a\\*\" ,\"a\")\n",
        "    - FALSE: (\"\\*a\", \"ab\"), (\"?a\" ,\"baa\"), (\"?a\" ,\"a\"), (\"a\\*\" ,\"ba\")\n",
        "\n",
        "- Very popular interview question at product-based companies for SDEs.\n",
        "- Small variations of this are often used in interviews\n",
        "\n",
        "- Any suggestions?\n"
      ]
    },
    {
      "cell_type": "code",
      "metadata": {
        "id": "XsmoMf8YB1gn",
        "colab_type": "code",
        "colab": {}
      },
      "source": [
        "# Handle all cases of recursion thoroughly.\n",
        "\n",
        "def isMatch(p,s):\n",
        "    \n",
        "    print(p,s) # print statemnt for debugging\n",
        "    \n",
        "    # boundary cases of recursion\n",
        "    if p == s:\n",
        "        return True\n",
        "    \n",
        "    if p == \"*\":\n",
        "        return True\n",
        "    \n",
        "    if p == \"\" or s == \"\":\n",
        "        return False\n",
        "    \n",
        "    # recursion case-1\n",
        "    if p[0] == s[0] or p[0] == '?':\n",
        "        return isMatch(p[1:], s[1:])\n",
        "    \n",
        "    # recursion-case-2\n",
        "    if p[0] == '*':\n",
        "        return ( isMatch( p[1:], s) or isMatch( p, s[1:]))\n",
        "    \n",
        "    # last case: if p[0] is a character\n",
        "    if  p[0] != s[0]:\n",
        "        return False;\n",
        "        "
      ],
      "execution_count": null,
      "outputs": []
    },
    {
      "cell_type": "code",
      "metadata": {
        "id": "jRC57RwnB1gv",
        "colab_type": "code",
        "colab": {},
        "outputId": "207d891d-cee5-4c9b-8523-03e630b63023"
      },
      "source": [
        "print(isMatch(\"*\",\"ab\"))\n"
      ],
      "execution_count": null,
      "outputs": [
        {
          "output_type": "stream",
          "text": [
            "* ab\n",
            "True\n"
          ],
          "name": "stdout"
        }
      ]
    },
    {
      "cell_type": "code",
      "metadata": {
        "id": "MHd7SKLTB1g1",
        "colab_type": "code",
        "colab": {},
        "outputId": "d5b18870-42e3-4c70-8856-388768dbc206"
      },
      "source": [
        "print(isMatch(\"?a\" ,\"baa\"))"
      ],
      "execution_count": null,
      "outputs": [
        {
          "output_type": "stream",
          "text": [
            "?a baa\n",
            "a aa\n",
            " a\n",
            "False\n"
          ],
          "name": "stdout"
        }
      ]
    },
    {
      "cell_type": "code",
      "metadata": {
        "id": "_mKqv2Y6B1g7",
        "colab_type": "code",
        "colab": {},
        "outputId": "41104ea1-f532-4238-a40c-bc5239b1ec0f"
      },
      "source": [
        "print(isMatch(\"a*\" ,\"ba\"))"
      ],
      "execution_count": null,
      "outputs": [
        {
          "output_type": "stream",
          "text": [
            "a* ba\n",
            "False\n"
          ],
          "name": "stdout"
        }
      ]
    },
    {
      "cell_type": "code",
      "metadata": {
        "id": "-CjNOTSLB1hE",
        "colab_type": "code",
        "colab": {},
        "outputId": "021963d3-03a7-4164-edb9-b072f584a6cb"
      },
      "source": [
        "# Worst case Time Complexity: T(n) = T(n-1) + T(n-1) = 2* T(n-1)\n",
        "\n",
        "# => T(n) = 0(2^n) [as shown below]\n",
        "\n",
        "\n",
        "from IPython.display import Image\n",
        "Image(url= \"https://i.imgur.com/dse47H3.png\")\n"
      ],
      "execution_count": null,
      "outputs": [
        {
          "output_type": "execute_result",
          "data": {
            "text/html": [
              "<img src=\"https://i.imgur.com/dse47H3.png\"/>"
            ],
            "text/plain": [
              "<IPython.core.display.Image object>"
            ]
          },
          "metadata": {
            "tags": []
          },
          "execution_count": 153
        }
      ]
    },
    {
      "cell_type": "code",
      "metadata": {
        "id": "GYyCkm9qB1hM",
        "colab_type": "code",
        "colab": {},
        "outputId": "6881fdc4-7923-405a-cde5-60e39f3e34b1"
      },
      "source": [
        "# Can we do better?\n",
        "\n",
        "Image(url= \"https://i.imgur.com/Rx6tN8a.png\")"
      ],
      "execution_count": null,
      "outputs": [
        {
          "output_type": "execute_result",
          "data": {
            "text/html": [
              "<img src=\"https://i.imgur.com/Rx6tN8a.png\"/>"
            ],
            "text/plain": [
              "<IPython.core.display.Image object>"
            ]
          },
          "metadata": {
            "tags": []
          },
          "execution_count": 155
        }
      ]
    },
    {
      "cell_type": "code",
      "metadata": {
        "id": "CZCnFUxYB1hY",
        "colab_type": "code",
        "colab": {},
        "outputId": "ad89bf37-a649-4e82-a784-34f27a64e661"
      },
      "source": [
        "# Overlapping sub-problems: \n",
        "# Why not store solutions to already solved problems in a 2D array of [0...m-1][0...n-1]\n",
        "# Dynamic programming: Recursion + overlapping subproblems\n",
        "\n",
        "# We discussed this in our course when we learn back-propogation in DL.\n",
        "\n",
        "# DONOT need to use recursion also now. Can solve iteratively.\n",
        "\n",
        "Image(url= \"https://i.imgur.com/k6ZTMcm.png\")\n"
      ],
      "execution_count": null,
      "outputs": [
        {
          "output_type": "execute_result",
          "data": {
            "text/html": [
              "<img src=\"https://i.imgur.com/k6ZTMcm.png\"/>"
            ],
            "text/plain": [
              "<IPython.core.display.Image object>"
            ]
          },
          "metadata": {
            "tags": []
          },
          "execution_count": 164
        }
      ]
    },
    {
      "cell_type": "code",
      "metadata": {
        "id": "PjFbkQ0VB1he",
        "colab_type": "code",
        "colab": {}
      },
      "source": [
        "# Source: https://leetcode.com/problems/wildcard-matching/solution/\n",
        "# GIVEN THE ABOVE INUTITON, READING THIS CODE SHOULD BE STRAIGHT FORWARD\n",
        "# Time Complx: O(m*n).\n",
        "\n",
        "# Exercise: Go through this code line by line while keeping the logic in mind!\n",
        "\n",
        "def isMatchDP(p,s):\n",
        "    s_len = len(s)\n",
        "    p_len = len(p)\n",
        "        \n",
        "    # base cases\n",
        "    if p == s or p == '*':\n",
        "        return True\n",
        "    if p == '' or s == '':\n",
        "        return False\n",
        "        \n",
        "    # init all matrix except [0][0] element as False\n",
        "    d = [ [False] * (s_len + 1) for _ in range(p_len + 1)]\n",
        "    d[0][0] = True\n",
        "        \n",
        "    # DP compute \n",
        "    for p_idx in range(1, p_len + 1):\n",
        "        \n",
        "        # the current character in the pattern is '*'\n",
        "        if p[p_idx - 1] == '*':\n",
        "            \n",
        "            s_idx = 1\n",
        "            \n",
        "            # d[p_idx - 1][s_idx - 1] is a string-pattern match \n",
        "            # on the previous step, i.e. one character before.\n",
        "            # Find the first idx in string with the previous math. \n",
        "\n",
        "            # p=abcd*  s=abcdefg\n",
        "            while not d[p_idx - 1][s_idx - 1] and s_idx < s_len + 1:\n",
        "                s_idx += 1\n",
        "                \n",
        "            # If (string) matches (pattern), \n",
        "            # when (string) matches (pattern)* as well\n",
        "            d[p_idx][s_idx - 1] = d[p_idx - 1][s_idx - 1]\n",
        "            \n",
        "            # If (string) matches (pattern), \n",
        "            # when (string)(whatever_characters) matches (pattern)* as well\n",
        "            while s_idx < s_len + 1:\n",
        "                d[p_idx][s_idx] = True\n",
        "                s_idx += 1\n",
        "                \n",
        "        # the current character in the pattern is '?'\n",
        "        elif p[p_idx - 1] == '?':\n",
        "            for s_idx in range(1, s_len + 1): \n",
        "                d[p_idx][s_idx] = d[p_idx - 1][s_idx - 1] \n",
        "        \n",
        "        # the current character in the pattern is not '*' or '?'\n",
        "        else:\n",
        "            for s_idx in range(1, s_len + 1): \n",
        "                # Match is possible if there is a previous match\n",
        "                # and current characters are the same\n",
        "                d[p_idx][s_idx] = \\\n",
        "                d[p_idx - 1][s_idx - 1] and p[p_idx - 1] == s[s_idx - 1]  \n",
        "                                                               \n",
        "        return d[p_len][s_len]"
      ],
      "execution_count": null,
      "outputs": []
    },
    {
      "cell_type": "code",
      "metadata": {
        "id": "y6Wu--VeB1hl",
        "colab_type": "code",
        "colab": {},
        "outputId": "55e8211a-b6df-4a4f-b67c-1d9902c45d1a"
      },
      "source": [
        "print(isMatchDP(\"a*\" ,\"ba\"))"
      ],
      "execution_count": null,
      "outputs": [
        {
          "output_type": "stream",
          "text": [
            "False\n"
          ],
          "name": "stdout"
        }
      ]
    },
    {
      "cell_type": "markdown",
      "metadata": {
        "id": "npONi1j0B1hs",
        "colab_type": "text"
      },
      "source": [
        "### Next session: Python's inbuilt data-structures: List, Dict, Set, Tuple "
      ]
    }
  ]
}