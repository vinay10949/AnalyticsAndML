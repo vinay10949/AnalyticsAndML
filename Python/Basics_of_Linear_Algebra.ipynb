{
  "nbformat": 4,
  "nbformat_minor": 0,
  "metadata": {
    "colab": {
      "name": " Basics of Linear Algebra.ipynb",
      "provenance": [],
      "collapsed_sections": [],
      "include_colab_link": true
    },
    "kernelspec": {
      "name": "python3",
      "display_name": "Python 3"
    }
  },
  "cells": [
    {
      "cell_type": "markdown",
      "metadata": {
        "id": "view-in-github",
        "colab_type": "text"
      },
      "source": [
        "<a href=\"https://colab.research.google.com/github/vinay10949/AnalyticsAndML/blob/master/Python/Basics_of_Linear_Algebra.ipynb\" target=\"_parent\"><img src=\"https://colab.research.google.com/assets/colab-badge.svg\" alt=\"Open In Colab\"/></a>"
      ]
    },
    {
      "cell_type": "markdown",
      "metadata": {
        "id": "H2_2-mWy0uLj",
        "colab_type": "text"
      },
      "source": [
        "## Code-walkthrough: Basics of Linear Algebra\n",
        "\n",
        "- Prerequisites: Mathematical concepts \n",
        "- Agenda: Math ---> Code + Simple concepts\n",
        "\n",
        "- I will try to cover this in future:\n",
        "  - Data Matrix operations\n",
        "  - PCA, SVD, NMF\n",
        "  - Linear Algebra, Linear Optimization\n",
        "\n",
        "\n",
        "  "
      ]
    },
    {
      "cell_type": "markdown",
      "metadata": {
        "id": "N49XmQxr1eUS",
        "colab_type": "text"
      },
      "source": [
        "### Vectors and Hyper-planes:\n",
        "- Representation\n",
        "- Unit vector \n",
        "- Angle between 2 vectors\n",
        "- Distance from point to plane\n",
        "- Half-spaces\n"
      ]
    },
    {
      "cell_type": "code",
      "metadata": {
        "id": "05Pt8RsJ12H2",
        "colab_type": "code",
        "outputId": "1a055c7a-ee3b-4cb9-fbfd-e1cfd4443626",
        "colab": {
          "base_uri": "https://localhost:8080/",
          "height": 412
        }
      },
      "source": [
        "from IPython.display import Image\n",
        "from IPython.core.display import HTML \n",
        "Image(url= \"https://i.imgur.com/OR21M2N.png\", width=700)\n",
        "\n",
        "# Question: What data-structure can we use to represent a plane?"
      ],
      "execution_count": 1,
      "outputs": [
        {
          "output_type": "execute_result",
          "data": {
            "text/html": [
              "<img src=\"https://i.imgur.com/OR21M2N.png\" width=\"700\"/>"
            ],
            "text/plain": [
              "<IPython.core.display.Image object>"
            ]
          },
          "metadata": {
            "tags": []
          },
          "execution_count": 1
        }
      ]
    },
    {
      "cell_type": "code",
      "metadata": {
        "id": "qB3ZunJlXXWK",
        "colab_type": "code",
        "outputId": "f6f8e688-8df8-4c16-dfeb-09c8b8ea8113",
        "colab": {
          "base_uri": "https://localhost:8080/",
          "height": 52
        }
      },
      "source": [
        "import numpy as np\n",
        "\n",
        "w = np.array([1.2,0,1.1,0,1.4,1.5])\n",
        "b = 1.2\n",
        "\n",
        "pi = (w,b) \n",
        "\n",
        "print(type(w))\n",
        "print(w.size)\n",
        "\n",
        "pi_0 = (w,0)\n",
        "#NOTE: pi_0 and pi are parallel to each other."
      ],
      "execution_count": 5,
      "outputs": [
        {
          "output_type": "stream",
          "text": [
            "<class 'numpy.ndarray'>\n",
            "6\n"
          ],
          "name": "stdout"
        }
      ]
    },
    {
      "cell_type": "code",
      "metadata": {
        "id": "7AsmJxQ4hn90",
        "colab_type": "code",
        "outputId": "b73f8745-0c0b-470b-c3f9-592347cbd4b9",
        "colab": {
          "base_uri": "https://localhost:8080/",
          "height": 276
        }
      },
      "source": [
        "# unit vector: w_hat from w\n",
        "Image(url= \"https://i.imgur.com/w2lNsYq.png\", width=700)\n"
      ],
      "execution_count": 6,
      "outputs": [
        {
          "output_type": "execute_result",
          "data": {
            "text/html": [
              "<img src=\"https://i.imgur.com/w2lNsYq.png\" width=\"700\"/>"
            ],
            "text/plain": [
              "<IPython.core.display.Image object>"
            ]
          },
          "metadata": {
            "tags": []
          },
          "execution_count": 6
        }
      ]
    },
    {
      "cell_type": "code",
      "metadata": {
        "id": "dbVulWh_YMxw",
        "colab_type": "code",
        "outputId": "c8a8a111-0876-49eb-e392-9b0bc75461bf",
        "colab": {
          "base_uri": "https://localhost:8080/",
          "height": 86
        }
      },
      "source": [
        "# unit vector: w_hat from w\n",
        "import math\n",
        "w_norm = math.sqrt(np.dot(w,w)) # Google:\"NumPy Dot product of vctors\" ---> https://docs.scipy.org/doc/numpy/reference/generated/numpy.dot.html\n",
        "print(w_norm)\n",
        "\n",
        "print(np.linalg.norm(w, 2)) # Google: \"NumPy norm of a vector\" --> https://docs.scipy.org/doc/numpy/reference/generated/numpy.linalg.norm.html\n",
        "\n",
        "w_hat = w/w_norm\n",
        "\n",
        "print(w_hat)\n",
        "print(np.linalg.norm(w_hat, 2))"
      ],
      "execution_count": 7,
      "outputs": [
        {
          "output_type": "stream",
          "text": [
            "2.619160170741759\n",
            "2.619160170741759\n",
            "[0.45816213 0.         0.41998195 0.         0.53452248 0.57270266]\n",
            "1.0\n"
          ],
          "name": "stdout"
        }
      ]
    },
    {
      "cell_type": "code",
      "metadata": {
        "id": "hJ-KWs43i4pZ",
        "colab_type": "code",
        "outputId": "ae2d2233-627f-49a8-b768-567db10769ae",
        "colab": {
          "base_uri": "https://localhost:8080/",
          "height": 250
        }
      },
      "source": [
        "# Angle between 2 vectors v1 and v2.\n",
        "Image(url= \"https://i.imgur.com/zvFu6Du.png\", width=400)"
      ],
      "execution_count": 0,
      "outputs": [
        {
          "output_type": "execute_result",
          "data": {
            "text/html": [
              "<img src=\"https://i.imgur.com/zvFu6Du.png\" width=\"400\"/>"
            ],
            "text/plain": [
              "<IPython.core.display.Image object>"
            ]
          },
          "metadata": {
            "tags": []
          },
          "execution_count": 9
        }
      ]
    },
    {
      "cell_type": "code",
      "metadata": {
        "id": "Rz1_vDcFZcnh",
        "colab_type": "code",
        "outputId": "ee821e98-d88a-436e-f71c-b3f2598298cb",
        "colab": {
          "base_uri": "https://localhost:8080/",
          "height": 34
        }
      },
      "source": [
        "# angle between 2 vectors\n",
        "np.random.seed(100)\n",
        "\n",
        "v1 = np.random.rand(6) # a random vector of 6-dim\n",
        "v2 = np.random.rand(6)\n",
        "\n",
        "angle_12 = math.acos(np.dot(v1,v2)/(np.linalg.norm(v1, 2) * np.linalg.norm(v2, 2)))\n",
        "print(angle_12) # in radians\n"
      ],
      "execution_count": 0,
      "outputs": [
        {
          "output_type": "stream",
          "text": [
            "0.8265770779885587\n"
          ],
          "name": "stdout"
        }
      ]
    },
    {
      "cell_type": "code",
      "metadata": {
        "id": "i52iE2ScbIDW",
        "colab_type": "code",
        "outputId": "1b2b14e5-302e-4945-bfce-7f5fbd313911",
        "colab": {
          "base_uri": "https://localhost:8080/",
          "height": 245
        }
      },
      "source": [
        "# Distance from point to a plane.\n",
        "Image(url= \"https://i.imgur.com/SXT6ct1.png\", width=500)"
      ],
      "execution_count": 0,
      "outputs": [
        {
          "output_type": "execute_result",
          "data": {
            "text/html": [
              "<img src=\"https://i.imgur.com/SXT6ct1.png\" width=\"500\"/>"
            ],
            "text/plain": [
              "<IPython.core.display.Image object>"
            ]
          },
          "metadata": {
            "tags": []
          },
          "execution_count": 11
        }
      ]
    },
    {
      "cell_type": "code",
      "metadata": {
        "id": "MA-3h8AupEBg",
        "colab_type": "code",
        "outputId": "892adb61-8edd-4082-fddc-5ffc6bac8c39",
        "colab": {
          "base_uri": "https://localhost:8080/",
          "height": 34
        }
      },
      "source": [
        "import math\n",
        "np.random.seed(100)\n",
        "\n",
        "w = np.random.rand(6)\n",
        "b = 1.2\n",
        "\n",
        "x = np.random.rand(6)\n",
        "\n",
        "d = abs( (np.dot(w,x)+b)/ np.linalg.norm(w,2) )\n",
        "print(d)\n",
        "\n",
        "#How would you test if this code is correct?\n"
      ],
      "execution_count": 0,
      "outputs": [
        {
          "output_type": "stream",
          "text": [
            "2.091751043283853\n"
          ],
          "name": "stdout"
        }
      ]
    },
    {
      "cell_type": "code",
      "metadata": {
        "id": "XNxNd65Npvg5",
        "colab_type": "code",
        "outputId": "26e70856-792d-45f7-ca4f-efe34c4929c5",
        "colab": {
          "base_uri": "https://localhost:8080/",
          "height": 34
        }
      },
      "source": [
        "# simple test-cases\n",
        "import math\n",
        "np.random.seed(100)\n",
        "\n",
        "w = np.array([1,0,0,0,0,0])\n",
        "b = 0\n",
        "\n",
        "x = np.array([23,0,0,0,0,0])\n",
        "\n",
        "d = abs( (np.dot(w,x)+b)/ np.linalg.norm(w,2) )\n",
        "print(d)"
      ],
      "execution_count": 0,
      "outputs": [
        {
          "output_type": "stream",
          "text": [
            "23.0\n"
          ],
          "name": "stdout"
        }
      ]
    },
    {
      "cell_type": "code",
      "metadata": {
        "colab_type": "code",
        "outputId": "46f61b5a-f99e-4f69-f4a8-3953e28aeb94",
        "id": "M1KUeGnnpyTC",
        "colab": {
          "base_uri": "https://localhost:8080/",
          "height": 322
        }
      },
      "source": [
        "# +ve or -ve halfspace\n",
        "Image(url= \"https://i.imgur.com/7QEOe2D.png\", width=500)"
      ],
      "execution_count": 0,
      "outputs": [
        {
          "output_type": "execute_result",
          "data": {
            "text/html": [
              "<img src=\"https://i.imgur.com/7QEOe2D.png\" width=\"500\"/>"
            ],
            "text/plain": [
              "<IPython.core.display.Image object>"
            ]
          },
          "metadata": {
            "tags": []
          },
          "execution_count": 39
        }
      ]
    },
    {
      "cell_type": "code",
      "metadata": {
        "id": "nwQGnrMMquSD",
        "colab_type": "code",
        "outputId": "72eddada-7f0c-4628-ad29-9774376b6742",
        "colab": {
          "base_uri": "https://localhost:8080/",
          "height": 34
        }
      },
      "source": [
        "import math\n",
        "np.random.seed(100)\n",
        "\n",
        "w = np.random.rand(6)\n",
        "b = 1.2\n",
        "\n",
        "x = np.random.rand(6)\n",
        "\n",
        "sign =  np.sign( (np.dot(w,x)+b)/ np.linalg.norm(w,2) )\n",
        "print(sign)\n",
        "\n",
        "# How to test it?"
      ],
      "execution_count": 0,
      "outputs": [
        {
          "output_type": "stream",
          "text": [
            "1.0\n"
          ],
          "name": "stdout"
        }
      ]
    },
    {
      "cell_type": "code",
      "metadata": {
        "id": "HUeAat0dq-Oq",
        "colab_type": "code",
        "outputId": "8d2c0625-2c30-4a84-9155-c06ed590771c",
        "colab": {
          "base_uri": "https://localhost:8080/",
          "height": 34
        }
      },
      "source": [
        "import math\n",
        "np.random.seed(100)\n",
        "\n",
        "w = np.random.rand(6)\n",
        "b = 1.2\n",
        "\n",
        "x = np.array([0,0,0,0,0,0])\n",
        "\n",
        "sign =  np.sign( (np.dot(w,x)+b)/ np.linalg.norm(w,2) )\n",
        "print(sign)\n",
        "\n",
        "# GOOD IDEA: Implement all of these above snippets as functions so taht we can reuse them"
      ],
      "execution_count": 0,
      "outputs": [
        {
          "output_type": "stream",
          "text": [
            "1.0\n"
          ],
          "name": "stdout"
        }
      ]
    },
    {
      "cell_type": "markdown",
      "metadata": {
        "id": "ZIAZLD9o10wc",
        "colab_type": "text"
      },
      "source": [
        "### Matrices\n",
        "- Often used to represent data: data matrices\n",
        "- Basic Operations: Add, Multiply\n",
        "- Frobenius norm\n",
        "- Haddarmard product\n"
      ]
    },
    {
      "cell_type": "code",
      "metadata": {
        "id": "C2cSF1OwF_dJ",
        "colab_type": "code",
        "outputId": "38a72d82-fa3b-4fa2-897c-95698c40f7e1",
        "colab": {
          "base_uri": "https://localhost:8080/",
          "height": 990
        }
      },
      "source": [
        "# Basic opearations \n",
        "import numpy as np\n",
        "import math\n",
        "\n",
        "np.random.seed(100)\n",
        "\n",
        "n=10\n",
        "d=4\n",
        "\n",
        "X1 = np.random.rand(n,d) # n data points of d-dim each\n",
        "X2 = np.random.rand(n,d) # n data points of d-dim each\n",
        "\n",
        "w = np.random.rand(d)  # a d-dim vector\n",
        "\n",
        "print(X1)\n",
        "print(\"************************************************************\")\n",
        "print(X2)\n",
        "print(\"************************************************************\")\n",
        "print(X1+X2)\n",
        "print(\"************************************************************\")\n",
        "\n",
        "print(X1*X2) # hadammard product (or) element wise product\n",
        "print(\"************************************************************\")\n",
        "\n",
        "print(np.matmul(X1,X2)) #https://docs.scipy.org/doc/numpy/reference/generated/numpy.matmul.html#numpy.matmul\n",
        "print(\"************************************************************\")\n"
      ],
      "execution_count": 0,
      "outputs": [
        {
          "output_type": "stream",
          "text": [
            "[[0.54340494 0.27836939 0.42451759 0.84477613]\n",
            " [0.00471886 0.12156912 0.67074908 0.82585276]\n",
            " [0.13670659 0.57509333 0.89132195 0.20920212]\n",
            " [0.18532822 0.10837689 0.21969749 0.97862378]\n",
            " [0.81168315 0.17194101 0.81622475 0.27407375]\n",
            " [0.43170418 0.94002982 0.81764938 0.33611195]\n",
            " [0.17541045 0.37283205 0.00568851 0.25242635]\n",
            " [0.79566251 0.01525497 0.59884338 0.60380454]\n",
            " [0.10514769 0.38194344 0.03647606 0.89041156]\n",
            " [0.98092086 0.05994199 0.89054594 0.5769015 ]]\n",
            "************************************************************\n",
            "[[0.74247969 0.63018394 0.58184219 0.02043913]\n",
            " [0.21002658 0.54468488 0.76911517 0.25069523]\n",
            " [0.28589569 0.85239509 0.97500649 0.88485329]\n",
            " [0.35950784 0.59885895 0.35479561 0.34019022]\n",
            " [0.17808099 0.23769421 0.04486228 0.50543143]\n",
            " [0.37625245 0.5928054  0.62994188 0.14260031]\n",
            " [0.9338413  0.94637988 0.60229666 0.38776628]\n",
            " [0.363188   0.20434528 0.27676506 0.24653588]\n",
            " [0.173608   0.96660969 0.9570126  0.59797368]\n",
            " [0.73130075 0.34038522 0.0920556  0.46349802]]\n",
            "************************************************************\n",
            "[[1.28588463 0.90855332 1.00635978 0.86521526]\n",
            " [0.21474543 0.666254   1.43986426 1.07654798]\n",
            " [0.42260228 1.42748842 1.86632845 1.09405542]\n",
            " [0.54483606 0.70723584 0.5744931  1.318814  ]\n",
            " [0.98976414 0.40963522 0.86108703 0.77950518]\n",
            " [0.80795664 1.53283522 1.44759125 0.47871226]\n",
            " [1.10925175 1.31921193 0.60798517 0.64019263]\n",
            " [1.15885051 0.21960025 0.87560844 0.85034042]\n",
            " [0.27875569 1.34855314 0.99348866 1.48838525]\n",
            " [1.71222161 0.40032721 0.98260155 1.04039952]]\n",
            "************************************************************\n",
            "[[0.40346713 0.17542391 0.24700225 0.01726649]\n",
            " [0.00099109 0.06621686 0.5158833  0.20703735]\n",
            " [0.03908382 0.49020673 0.86904469 0.18511319]\n",
            " [0.06662695 0.06490247 0.07794771 0.33291824]\n",
            " [0.14454534 0.04086938 0.03661771 0.13852549]\n",
            " [0.16242976 0.55725475 0.51507158 0.04792967]\n",
            " [0.16380553 0.35284075 0.00342617 0.09788243]\n",
            " [0.28897508 0.00311728 0.16573892 0.14885948]\n",
            " [0.01825448 0.36919024 0.03490805 0.53244268]\n",
            " [0.71734816 0.02040337 0.08197974 0.2673927 ]]\n",
            "************************************************************\n"
          ],
          "name": "stdout"
        },
        {
          "output_type": "error",
          "ename": "ValueError",
          "evalue": "ignored",
          "traceback": [
            "\u001b[0;31m---------------------------------------------------------------------------\u001b[0m",
            "\u001b[0;31mValueError\u001b[0m                                Traceback (most recent call last)",
            "\u001b[0;32m<ipython-input-54-449ede28a145>\u001b[0m in \u001b[0;36m<module>\u001b[0;34m()\u001b[0m\n\u001b[1;32m     22\u001b[0m \u001b[0mprint\u001b[0m\u001b[0;34m(\u001b[0m\u001b[0;34m\"************************************************************\"\u001b[0m\u001b[0;34m)\u001b[0m\u001b[0;34m\u001b[0m\u001b[0;34m\u001b[0m\u001b[0m\n\u001b[1;32m     23\u001b[0m \u001b[0;34m\u001b[0m\u001b[0m\n\u001b[0;32m---> 24\u001b[0;31m \u001b[0mprint\u001b[0m\u001b[0;34m(\u001b[0m\u001b[0mnp\u001b[0m\u001b[0;34m.\u001b[0m\u001b[0mmatmul\u001b[0m\u001b[0;34m(\u001b[0m\u001b[0mX1\u001b[0m\u001b[0;34m,\u001b[0m\u001b[0mX2\u001b[0m\u001b[0;34m)\u001b[0m\u001b[0;34m)\u001b[0m \u001b[0;31m#https://docs.scipy.org/doc/numpy/reference/generated/numpy.matmul.html#numpy.matmul\u001b[0m\u001b[0;34m\u001b[0m\u001b[0;34m\u001b[0m\u001b[0m\n\u001b[0m\u001b[1;32m     25\u001b[0m \u001b[0mprint\u001b[0m\u001b[0;34m(\u001b[0m\u001b[0;34m\"************************************************************\"\u001b[0m\u001b[0;34m)\u001b[0m\u001b[0;34m\u001b[0m\u001b[0;34m\u001b[0m\u001b[0m\n",
            "\u001b[0;31mValueError\u001b[0m: matmul: Input operand 1 has a mismatch in its core dimension 0, with gufunc signature (n?,k),(k,m?)->(n?,m?) (size 10 is different from 4)"
          ]
        }
      ]
    },
    {
      "cell_type": "code",
      "metadata": {
        "id": "aSJxMiqmIaSY",
        "colab_type": "code",
        "outputId": "b3660f99-e68b-4d86-ed20-4f22e6de4b7f",
        "colab": {
          "base_uri": "https://localhost:8080/",
          "height": 51
        }
      },
      "source": [
        "print((np.matmul(X1,X2.T)).shape) #https://docs.scipy.org/doc/numpy/reference/generated/numpy.matmul.html#numpy.matmul\n",
        "print(\"************************************************************\")"
      ],
      "execution_count": 0,
      "outputs": [
        {
          "output_type": "stream",
          "text": [
            "(10, 10)\n",
            "************************************************************\n"
          ],
          "name": "stdout"
        }
      ]
    },
    {
      "cell_type": "code",
      "metadata": {
        "id": "geCE3L4_Iuj3",
        "colab_type": "code",
        "outputId": "c6adc684-0135-476e-86ee-4605c71b3c06",
        "colab": {
          "base_uri": "https://localhost:8080/",
          "height": 304
        }
      },
      "source": [
        "# w.X\n",
        "\n",
        "print(np.dot(w,X1[0,:]))\n",
        "\n",
        "print(np.matmul(w,X1.T)) # alwasys make sure the dimensions match.\n",
        "\n",
        "print(np.matmul(X1, w.T))\n",
        "\n",
        "print(np.matmul(w,X1))"
      ],
      "execution_count": 0,
      "outputs": [
        {
          "output_type": "stream",
          "text": [
            "1.3633657660004666\n",
            "[1.36336577 1.18671009 0.7986263  1.19082077 1.13103214 1.06798649\n",
            " 0.37566246 1.32138202 0.98996493 1.54691292]\n",
            "[1.36336577 1.18671009 0.7986263  1.19082077 1.13103214 1.06798649\n",
            " 0.37566246 1.32138202 0.98996493 1.54691292]\n"
          ],
          "name": "stdout"
        },
        {
          "output_type": "error",
          "ename": "ValueError",
          "evalue": "ignored",
          "traceback": [
            "\u001b[0;31m---------------------------------------------------------------------------\u001b[0m",
            "\u001b[0;31mValueError\u001b[0m                                Traceback (most recent call last)",
            "\u001b[0;32m<ipython-input-69-86e1f702c2d3>\u001b[0m in \u001b[0;36m<module>\u001b[0;34m()\u001b[0m\n\u001b[1;32m      6\u001b[0m \u001b[0mprint\u001b[0m\u001b[0;34m(\u001b[0m\u001b[0mnp\u001b[0m\u001b[0;34m.\u001b[0m\u001b[0mmatmul\u001b[0m\u001b[0;34m(\u001b[0m\u001b[0mX1\u001b[0m\u001b[0;34m,\u001b[0m \u001b[0mw\u001b[0m\u001b[0;34m.\u001b[0m\u001b[0mT\u001b[0m\u001b[0;34m)\u001b[0m\u001b[0;34m)\u001b[0m\u001b[0;34m\u001b[0m\u001b[0;34m\u001b[0m\u001b[0m\n\u001b[1;32m      7\u001b[0m \u001b[0;34m\u001b[0m\u001b[0m\n\u001b[0;32m----> 8\u001b[0;31m \u001b[0mprint\u001b[0m\u001b[0;34m(\u001b[0m\u001b[0mnp\u001b[0m\u001b[0;34m.\u001b[0m\u001b[0mmatmul\u001b[0m\u001b[0;34m(\u001b[0m\u001b[0mw\u001b[0m\u001b[0;34m,\u001b[0m\u001b[0mX1\u001b[0m\u001b[0;34m)\u001b[0m\u001b[0;34m)\u001b[0m\u001b[0;34m\u001b[0m\u001b[0;34m\u001b[0m\u001b[0m\n\u001b[0m",
            "\u001b[0;31mValueError\u001b[0m: matmul: Input operand 1 has a mismatch in its core dimension 0, with gufunc signature (n?,k),(k,m?)->(n?,m?) (size 10 is different from 4)"
          ]
        }
      ]
    },
    {
      "cell_type": "code",
      "metadata": {
        "id": "ndc0AuEfJXrO",
        "colab_type": "code",
        "outputId": "0f796965-1d14-4000-bc81-6bced27ed1ac",
        "colab": {
          "base_uri": "https://localhost:8080/",
          "height": 168
        }
      },
      "source": [
        "# Forebnius norm: \n",
        "Image(url= \"https://i.imgur.com/hNSMzzE.png\", width=300)"
      ],
      "execution_count": 0,
      "outputs": [
        {
          "output_type": "execute_result",
          "data": {
            "text/html": [
              "<img src=\"https://i.imgur.com/hNSMzzE.png\" width=\"300\"/>"
            ],
            "text/plain": [
              "<IPython.core.display.Image object>"
            ]
          },
          "metadata": {
            "tags": []
          },
          "execution_count": 71
        }
      ]
    },
    {
      "cell_type": "code",
      "metadata": {
        "id": "HPsFDx2tKEgG",
        "colab_type": "code",
        "outputId": "de7b51f2-1911-45ee-ee0c-1c66325c675a",
        "colab": {
          "base_uri": "https://localhost:8080/",
          "height": 68
        }
      },
      "source": [
        "#https://docs.scipy.org/doc/numpy/reference/generated/numpy.linalg.norm.html\n",
        "print(np.linalg.norm(X1, 'fro'))\n",
        "\n",
        "\n",
        "# implement using the formula\n",
        "sh = X1.shape;\n",
        "print(sh)\n",
        "\n",
        "sum = 0\n",
        "for i in range(sh[0]):\n",
        "  for j in range(sh[1]):\n",
        "    sum += X1[i,j]**2\n",
        "\n",
        "print(math.sqrt(sum))\n"
      ],
      "execution_count": 0,
      "outputs": [
        {
          "output_type": "stream",
          "text": [
            "3.5450215353341896\n",
            "(10, 4)\n",
            "3.54502153533419\n"
          ],
          "name": "stdout"
        }
      ]
    },
    {
      "cell_type": "code",
      "metadata": {
        "id": "AOnL2YDxKzjR",
        "colab_type": "code",
        "colab": {}
      },
      "source": [
        "#NOTE: We will see many other operations on Data-Matrices in future sessions/chapters."
      ],
      "execution_count": 0,
      "outputs": []
    },
    {
      "cell_type": "markdown",
      "metadata": {
        "id": "brmcM2mpeGv-",
        "colab_type": "text"
      },
      "source": [
        "### Convolution \n",
        "- Used in Deep-learning and Computer-Vision a lot\n",
        "- Image: Matrix of pixel values\n"
      ]
    },
    {
      "cell_type": "code",
      "metadata": {
        "id": "pBKONrv1d8xG",
        "colab_type": "code",
        "outputId": "ace5eeb9-9c2b-406b-c521-168671a3598e",
        "colab": {
          "base_uri": "https://localhost:8080/",
          "height": 314
        }
      },
      "source": [
        "# Convolution: Google Image search ---> Apple's developer blog.\n",
        "\n",
        "Image(url= \"https://docs-assets.developer.apple.com/published/09348c5368/a55b1477-4f79-4221-8aa1-ab3ae9f01f89.png\", width=400)"
      ],
      "execution_count": 0,
      "outputs": [
        {
          "output_type": "execute_result",
          "data": {
            "text/html": [
              "<img src=\"https://docs-assets.developer.apple.com/published/09348c5368/a55b1477-4f79-4221-8aa1-ab3ae9f01f89.png\" width=\"400\"/>"
            ],
            "text/plain": [
              "<IPython.core.display.Image object>"
            ]
          },
          "metadata": {
            "tags": []
          },
          "execution_count": 105
        }
      ]
    },
    {
      "cell_type": "code",
      "metadata": {
        "id": "BPwV3ZgBfCWS",
        "colab_type": "code",
        "outputId": "c3b52091-626e-4d2c-e401-5295a5323b9d",
        "colab": {
          "base_uri": "https://localhost:8080/",
          "height": 303
        }
      },
      "source": [
        "from scipy import signal\n",
        "from scipy import misc\n",
        "\n",
        "ascent = scipy.misc.ascent() # inbuilt image in Scipy\n",
        "print(type(ascent))\n",
        "print(ascent.shape)\n",
        "\n",
        "import matplotlib.pyplot as plt\n",
        "img_plot = plt.imshow(ascent, cmap='gray', vmin=0, vmax=255)\n",
        "\n"
      ],
      "execution_count": 0,
      "outputs": [
        {
          "output_type": "stream",
          "text": [
            "<class 'numpy.ndarray'>\n",
            "(512, 512)\n"
          ],
          "name": "stdout"
        },
        {
          "output_type": "display_data",
          "data": {
            "image/png": "[encoded data removed]",
            "text/plain": [
              "<Figure size 432x288 with 1 Axes>"
            ]
          },
          "metadata": {
            "tags": [],
            "needs_background": "light"
          }
        }
      ]
    },
    {
      "cell_type": "code",
      "metadata": {
        "id": "THqjZaWmi7Kd",
        "colab_type": "code",
        "outputId": "026c1031-dbd8-46d9-b629-bd178accd902",
        "colab": {
          "base_uri": "https://localhost:8080/",
          "height": 955
        }
      },
      "source": [
        "k=20\n",
        "kernel = np.ones((k,k))\n",
        "kernel /= np.sum(kernel)\n",
        "\n",
        "print(kernel)\n",
        "\n",
        "blurred = signal.convolve2d(ascent, kernel) # https://docs.scipy.org/doc/scipy/reference/generated/scipy.signal.convolve2d.html\n",
        "\n",
        "plt.imshow(blurred , cmap='gray')\n",
        "plt.show()"
      ],
      "execution_count": 0,
      "outputs": [
        {
          "output_type": "stream",
          "text": [
            "[[0.0025 0.0025 0.0025 0.0025 0.0025 0.0025 0.0025 0.0025 0.0025 0.0025\n",
            "  0.0025 0.0025 0.0025 0.0025 0.0025 0.0025 0.0025 0.0025 0.0025 0.0025]\n",
            " [0.0025 0.0025 0.0025 0.0025 0.0025 0.0025 0.0025 0.0025 0.0025 0.0025\n",
            "  0.0025 0.0025 0.0025 0.0025 0.0025 0.0025 0.0025 0.0025 0.0025 0.0025]\n",
            " [0.0025 0.0025 0.0025 0.0025 0.0025 0.0025 0.0025 0.0025 0.0025 0.0025\n",
            "  0.0025 0.0025 0.0025 0.0025 0.0025 0.0025 0.0025 0.0025 0.0025 0.0025]\n",
            " [0.0025 0.0025 0.0025 0.0025 0.0025 0.0025 0.0025 0.0025 0.0025 0.0025\n",
            "  0.0025 0.0025 0.0025 0.0025 0.0025 0.0025 0.0025 0.0025 0.0025 0.0025]\n",
            " [0.0025 0.0025 0.0025 0.0025 0.0025 0.0025 0.0025 0.0025 0.0025 0.0025\n",
            "  0.0025 0.0025 0.0025 0.0025 0.0025 0.0025 0.0025 0.0025 0.0025 0.0025]\n",
            " [0.0025 0.0025 0.0025 0.0025 0.0025 0.0025 0.0025 0.0025 0.0025 0.0025\n",
            "  0.0025 0.0025 0.0025 0.0025 0.0025 0.0025 0.0025 0.0025 0.0025 0.0025]\n",
            " [0.0025 0.0025 0.0025 0.0025 0.0025 0.0025 0.0025 0.0025 0.0025 0.0025\n",
            "  0.0025 0.0025 0.0025 0.0025 0.0025 0.0025 0.0025 0.0025 0.0025 0.0025]\n",
            " [0.0025 0.0025 0.0025 0.0025 0.0025 0.0025 0.0025 0.0025 0.0025 0.0025\n",
            "  0.0025 0.0025 0.0025 0.0025 0.0025 0.0025 0.0025 0.0025 0.0025 0.0025]\n",
            " [0.0025 0.0025 0.0025 0.0025 0.0025 0.0025 0.0025 0.0025 0.0025 0.0025\n",
            "  0.0025 0.0025 0.0025 0.0025 0.0025 0.0025 0.0025 0.0025 0.0025 0.0025]\n",
            " [0.0025 0.0025 0.0025 0.0025 0.0025 0.0025 0.0025 0.0025 0.0025 0.0025\n",
            "  0.0025 0.0025 0.0025 0.0025 0.0025 0.0025 0.0025 0.0025 0.0025 0.0025]\n",
            " [0.0025 0.0025 0.0025 0.0025 0.0025 0.0025 0.0025 0.0025 0.0025 0.0025\n",
            "  0.0025 0.0025 0.0025 0.0025 0.0025 0.0025 0.0025 0.0025 0.0025 0.0025]\n",
            " [0.0025 0.0025 0.0025 0.0025 0.0025 0.0025 0.0025 0.0025 0.0025 0.0025\n",
            "  0.0025 0.0025 0.0025 0.0025 0.0025 0.0025 0.0025 0.0025 0.0025 0.0025]\n",
            " [0.0025 0.0025 0.0025 0.0025 0.0025 0.0025 0.0025 0.0025 0.0025 0.0025\n",
            "  0.0025 0.0025 0.0025 0.0025 0.0025 0.0025 0.0025 0.0025 0.0025 0.0025]\n",
            " [0.0025 0.0025 0.0025 0.0025 0.0025 0.0025 0.0025 0.0025 0.0025 0.0025\n",
            "  0.0025 0.0025 0.0025 0.0025 0.0025 0.0025 0.0025 0.0025 0.0025 0.0025]\n",
            " [0.0025 0.0025 0.0025 0.0025 0.0025 0.0025 0.0025 0.0025 0.0025 0.0025\n",
            "  0.0025 0.0025 0.0025 0.0025 0.0025 0.0025 0.0025 0.0025 0.0025 0.0025]\n",
            " [0.0025 0.0025 0.0025 0.0025 0.0025 0.0025 0.0025 0.0025 0.0025 0.0025\n",
            "  0.0025 0.0025 0.0025 0.0025 0.0025 0.0025 0.0025 0.0025 0.0025 0.0025]\n",
            " [0.0025 0.0025 0.0025 0.0025 0.0025 0.0025 0.0025 0.0025 0.0025 0.0025\n",
            "  0.0025 0.0025 0.0025 0.0025 0.0025 0.0025 0.0025 0.0025 0.0025 0.0025]\n",
            " [0.0025 0.0025 0.0025 0.0025 0.0025 0.0025 0.0025 0.0025 0.0025 0.0025\n",
            "  0.0025 0.0025 0.0025 0.0025 0.0025 0.0025 0.0025 0.0025 0.0025 0.0025]\n",
            " [0.0025 0.0025 0.0025 0.0025 0.0025 0.0025 0.0025 0.0025 0.0025 0.0025\n",
            "  0.0025 0.0025 0.0025 0.0025 0.0025 0.0025 0.0025 0.0025 0.0025 0.0025]\n",
            " [0.0025 0.0025 0.0025 0.0025 0.0025 0.0025 0.0025 0.0025 0.0025 0.0025\n",
            "  0.0025 0.0025 0.0025 0.0025 0.0025 0.0025 0.0025 0.0025 0.0025 0.0025]]\n"
          ],
          "name": "stdout"
        },
        {
          "output_type": "display_data",
          "data": {
            "image/png": "[encoded data removed]",
            "text/plain": [
              "<Figure size 432x288 with 1 Axes>"
            ]
          },
          "metadata": {
            "tags": [],
            "needs_background": "light"
          }
        }
      ]
    },
    {
      "cell_type": "markdown",
      "metadata": {
        "id": "JkvrolNLgngH",
        "colab_type": "text"
      },
      "source": [
        " **Will revsit these kernels again when we learn basics of Computer Vision and Image processing**\n",
        "<br>\n",
        "Further reading: http://www.degeneratestate.org/posts/2016/Oct/23/image-processing-with-numpy/"
      ]
    },
    {
      "cell_type": "markdown",
      "metadata": {
        "id": "zTThc6WwIPQm",
        "colab_type": "text"
      },
      "source": [
        "### Hyper-Sphere\n",
        "- Simple extension to a Circle to d-dim space\n",
        "- Representation\n",
        "- Inside/Outside\n",
        "- Distance from point to Hyper-Sphere\n",
        "\n"
      ]
    },
    {
      "cell_type": "code",
      "metadata": {
        "id": "bPwciG1IT_wt",
        "colab_type": "code",
        "outputId": "5a718fac-1e94-4845-cd9f-3e9a2348f193",
        "colab": {
          "base_uri": "https://localhost:8080/",
          "height": 388
        }
      },
      "source": [
        "\n",
        "Image(url= \"https://i.imgur.com/6ub3S4v.png\", width=500)"
      ],
      "execution_count": 0,
      "outputs": [
        {
          "output_type": "execute_result",
          "data": {
            "text/html": [
              "<img src=\"https://i.imgur.com/6ub3S4v.png\" width=\"500\"/>"
            ],
            "text/plain": [
              "<IPython.core.display.Image object>"
            ]
          },
          "metadata": {
            "tags": []
          },
          "execution_count": 84
        }
      ]
    },
    {
      "cell_type": "code",
      "metadata": {
        "id": "0ekxdXpsShs2",
        "colab_type": "code",
        "outputId": "b2321f7c-4d5f-4e2c-8799-33f468f1855f",
        "colab": {
          "base_uri": "https://localhost:8080/",
          "height": 68
        }
      },
      "source": [
        "# Representation:\n",
        "\n",
        "np.random.seed(100)\n",
        "\n",
        "c = np.random.rand(10)\n",
        "r = 10;\n",
        "print(c)\n",
        "print(r)\n",
        "\n",
        "circle = (c,r)\n",
        "\n",
        "\n"
      ],
      "execution_count": 0,
      "outputs": [
        {
          "output_type": "stream",
          "text": [
            "[0.54340494 0.27836939 0.42451759 0.84477613 0.00471886 0.12156912\n",
            " 0.67074908 0.82585276 0.13670659 0.57509333]\n",
            "10\n"
          ],
          "name": "stdout"
        }
      ]
    },
    {
      "cell_type": "code",
      "metadata": {
        "id": "YdK8yyFMVRQj",
        "colab_type": "code",
        "outputId": "c4a801f8-da70-4601-9b64-afd86cdd9821",
        "colab": {
          "base_uri": "https://localhost:8080/",
          "height": 51
        }
      },
      "source": [
        "#inside/outside\n",
        "\n",
        "x1 = c + np.zeros(10);\n",
        "\n",
        "d_x1_c = np.linalg.norm(x1-c)\n",
        "print(d_x1_c)\n",
        "\n",
        "\n",
        "x2 = c + r + (np.ones(10)*0.1) ;\n",
        "d_x2_c = np.linalg.norm(x2-c)\n",
        "print(d_x2_c)\n",
        "\n",
        "\n"
      ],
      "execution_count": 0,
      "outputs": [
        {
          "output_type": "stream",
          "text": [
            "0.0\n",
            "31.93900436770063\n"
          ],
          "name": "stdout"
        }
      ]
    },
    {
      "cell_type": "code",
      "metadata": {
        "id": "VpxvphN4Viwf",
        "colab_type": "code",
        "outputId": "4f28f5a0-12cc-4c8a-dcbc-137abb194ce1",
        "colab": {
          "base_uri": "https://localhost:8080/",
          "height": 34
        }
      },
      "source": [
        "# distance from a point to hyper-sphere\n",
        "x2 = c + r + (np.ones(10)*0.1) ;\n",
        "d_x2 = np.linalg.norm(x2-c) - r \n",
        "print(d_x2)"
      ],
      "execution_count": 0,
      "outputs": [
        {
          "output_type": "stream",
          "text": [
            "21.93900436770063\n"
          ],
          "name": "stdout"
        }
      ]
    }
  ]
}