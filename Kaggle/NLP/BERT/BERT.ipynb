{
  "nbformat": 4,
  "nbformat_minor": 0,
  "metadata": {
    "colab": {
      "name": "BERT.ipynb",
      "provenance": [],
      "collapsed_sections": [],
      "include_colab_link": true
    },
    "kernelspec": {
      "name": "python3",
      "display_name": "Python 3"
    },
    "widgets": {
      "application/vnd.jupyter.widget-state+json": {
        "2d09ec4602314529ab7832c65588473f": {
          "model_module": "@jupyter-widgets/controls",
          "model_name": "HBoxModel",
          "state": {
            "_view_name": "HBoxView",
            "_dom_classes": [],
            "_model_name": "HBoxModel",
            "_view_module": "@jupyter-widgets/controls",
            "_model_module_version": "1.5.0",
            "_view_count": null,
            "_view_module_version": "1.5.0",
            "box_style": "",
            "layout": "IPY_MODEL_d060242033684f9491c2683741245d23",
            "_model_module": "@jupyter-widgets/controls",
            "children": [
              "IPY_MODEL_35680c93ef1d4a5cb28115fc73faf404",
              "IPY_MODEL_a5ddc660737141ed993e240c12089f75"
            ]
          }
        },
        "d060242033684f9491c2683741245d23": {
          "model_module": "@jupyter-widgets/base",
          "model_name": "LayoutModel",
          "state": {
            "_view_name": "LayoutView",
            "grid_template_rows": null,
            "right": null,
            "justify_content": null,
            "_view_module": "@jupyter-widgets/base",
            "overflow": null,
            "_model_module_version": "1.2.0",
            "_view_count": null,
            "flex_flow": null,
            "width": null,
            "min_width": null,
            "border": null,
            "align_items": null,
            "bottom": null,
            "_model_module": "@jupyter-widgets/base",
            "top": null,
            "grid_column": null,
            "overflow_y": null,
            "overflow_x": null,
            "grid_auto_flow": null,
            "grid_area": null,
            "grid_template_columns": null,
            "flex": null,
            "_model_name": "LayoutModel",
            "justify_items": null,
            "grid_row": null,
            "max_height": null,
            "align_content": null,
            "visibility": null,
            "align_self": null,
            "height": null,
            "min_height": null,
            "padding": null,
            "grid_auto_rows": null,
            "grid_gap": null,
            "max_width": null,
            "order": null,
            "_view_module_version": "1.2.0",
            "grid_template_areas": null,
            "object_position": null,
            "object_fit": null,
            "grid_auto_columns": null,
            "margin": null,
            "display": null,
            "left": null
          }
        },
        "35680c93ef1d4a5cb28115fc73faf404": {
          "model_module": "@jupyter-widgets/controls",
          "model_name": "FloatProgressModel",
          "state": {
            "_view_name": "ProgressView",
            "style": "IPY_MODEL_9a20bafdacab43838ba0c89f86edb9f4",
            "_dom_classes": [],
            "description": "Downloading: 100%",
            "_model_name": "FloatProgressModel",
            "bar_style": "success",
            "max": 363423424,
            "_view_module": "@jupyter-widgets/controls",
            "_model_module_version": "1.5.0",
            "value": 363423424,
            "_view_count": null,
            "_view_module_version": "1.5.0",
            "orientation": "horizontal",
            "min": 0,
            "description_tooltip": null,
            "_model_module": "@jupyter-widgets/controls",
            "layout": "IPY_MODEL_bd933334afcd44fb8c2931aa59ce1bd2"
          }
        },
        "a5ddc660737141ed993e240c12089f75": {
          "model_module": "@jupyter-widgets/controls",
          "model_name": "HTMLModel",
          "state": {
            "_view_name": "HTMLView",
            "style": "IPY_MODEL_bd10d2d729bb4d929857052be55cfbb8",
            "_dom_classes": [],
            "description": "",
            "_model_name": "HTMLModel",
            "placeholder": "​",
            "_view_module": "@jupyter-widgets/controls",
            "_model_module_version": "1.5.0",
            "value": " 363M/363M [00:14&lt;00:00, 24.9MB/s]",
            "_view_count": null,
            "_view_module_version": "1.5.0",
            "description_tooltip": null,
            "_model_module": "@jupyter-widgets/controls",
            "layout": "IPY_MODEL_cc11cce8ebe14d38ab1f1505dd6d1ff4"
          }
        },
        "9a20bafdacab43838ba0c89f86edb9f4": {
          "model_module": "@jupyter-widgets/controls",
          "model_name": "ProgressStyleModel",
          "state": {
            "_view_name": "StyleView",
            "_model_name": "ProgressStyleModel",
            "description_width": "initial",
            "_view_module": "@jupyter-widgets/base",
            "_model_module_version": "1.5.0",
            "_view_count": null,
            "_view_module_version": "1.2.0",
            "bar_color": null,
            "_model_module": "@jupyter-widgets/controls"
          }
        },
        "bd933334afcd44fb8c2931aa59ce1bd2": {
          "model_module": "@jupyter-widgets/base",
          "model_name": "LayoutModel",
          "state": {
            "_view_name": "LayoutView",
            "grid_template_rows": null,
            "right": null,
            "justify_content": null,
            "_view_module": "@jupyter-widgets/base",
            "overflow": null,
            "_model_module_version": "1.2.0",
            "_view_count": null,
            "flex_flow": null,
            "width": null,
            "min_width": null,
            "border": null,
            "align_items": null,
            "bottom": null,
            "_model_module": "@jupyter-widgets/base",
            "top": null,
            "grid_column": null,
            "overflow_y": null,
            "overflow_x": null,
            "grid_auto_flow": null,
            "grid_area": null,
            "grid_template_columns": null,
            "flex": null,
            "_model_name": "LayoutModel",
            "justify_items": null,
            "grid_row": null,
            "max_height": null,
            "align_content": null,
            "visibility": null,
            "align_self": null,
            "height": null,
            "min_height": null,
            "padding": null,
            "grid_auto_rows": null,
            "grid_gap": null,
            "max_width": null,
            "order": null,
            "_view_module_version": "1.2.0",
            "grid_template_areas": null,
            "object_position": null,
            "object_fit": null,
            "grid_auto_columns": null,
            "margin": null,
            "display": null,
            "left": null
          }
        },
        "bd10d2d729bb4d929857052be55cfbb8": {
          "model_module": "@jupyter-widgets/controls",
          "model_name": "DescriptionStyleModel",
          "state": {
            "_view_name": "StyleView",
            "_model_name": "DescriptionStyleModel",
            "description_width": "",
            "_view_module": "@jupyter-widgets/base",
            "_model_module_version": "1.5.0",
            "_view_count": null,
            "_view_module_version": "1.2.0",
            "_model_module": "@jupyter-widgets/controls"
          }
        },
        "cc11cce8ebe14d38ab1f1505dd6d1ff4": {
          "model_module": "@jupyter-widgets/base",
          "model_name": "LayoutModel",
          "state": {
            "_view_name": "LayoutView",
            "grid_template_rows": null,
            "right": null,
            "justify_content": null,
            "_view_module": "@jupyter-widgets/base",
            "overflow": null,
            "_model_module_version": "1.2.0",
            "_view_count": null,
            "flex_flow": null,
            "width": null,
            "min_width": null,
            "border": null,
            "align_items": null,
            "bottom": null,
            "_model_module": "@jupyter-widgets/base",
            "top": null,
            "grid_column": null,
            "overflow_y": null,
            "overflow_x": null,
            "grid_auto_flow": null,
            "grid_area": null,
            "grid_template_columns": null,
            "flex": null,
            "_model_name": "LayoutModel",
            "justify_items": null,
            "grid_row": null,
            "max_height": null,
            "align_content": null,
            "visibility": null,
            "align_self": null,
            "height": null,
            "min_height": null,
            "padding": null,
            "grid_auto_rows": null,
            "grid_gap": null,
            "max_width": null,
            "order": null,
            "_view_module_version": "1.2.0",
            "grid_template_areas": null,
            "object_position": null,
            "object_fit": null,
            "grid_auto_columns": null,
            "margin": null,
            "display": null,
            "left": null
          }
        }
      }
    }
  },
  "cells": [
    {
      "cell_type": "markdown",
      "metadata": {
        "id": "view-in-github",
        "colab_type": "text"
      },
      "source": [
        "<a href=\"https://colab.research.google.com/github/vinay10949/AnalyticsAndML/blob/master/Kaggle/NLP/BERT/BERT.ipynb\" target=\"_parent\"><img src=\"https://colab.research.google.com/assets/colab-badge.svg\" alt=\"Open In Colab\"/></a>"
      ]
    },
    {
      "cell_type": "code",
      "metadata": {
        "id": "i_TziN069euC",
        "colab_type": "code",
        "outputId": "17916bc6-270a-409b-ca6b-d43ecbd965b9",
        "colab": {
          "base_uri": "https://localhost:8080/",
          "height": 334
        }
      },
      "source": [
        "# install huggingface Transformers [https://huggingface.co/transformers/installation.html]\n",
        "\n",
        "# Many transformer based models in a single library: https://github.com/huggingface/transformers#model-architectures\n",
        "! pip install transformers\n",
        "\n",
        "# This week: we will use HuggingFace BERT implementations.\n",
        "# Next sessions: Build an encoder-decoder seq-seq Transfomer from scratch using TF/Keras."
      ],
      "execution_count": 0,
      "outputs": [
        {
          "output_type": "stream",
          "text": [
            "Requirement already satisfied: transformers in /usr/local/lib/python3.6/dist-packages (2.9.1)\n",
            "Requirement already satisfied: tqdm>=4.27 in /usr/local/lib/python3.6/dist-packages (from transformers) (4.41.1)\n",
            "Requirement already satisfied: filelock in /usr/local/lib/python3.6/dist-packages (from transformers) (3.0.12)\n",
            "Requirement already satisfied: numpy in /usr/local/lib/python3.6/dist-packages (from transformers) (1.18.4)\n",
            "Requirement already satisfied: regex!=2019.12.17 in /usr/local/lib/python3.6/dist-packages (from transformers) (2019.12.20)\n",
            "Requirement already satisfied: tokenizers==0.7.0 in /usr/local/lib/python3.6/dist-packages (from transformers) (0.7.0)\n",
            "Requirement already satisfied: sacremoses in /usr/local/lib/python3.6/dist-packages (from transformers) (0.0.43)\n",
            "Requirement already satisfied: dataclasses; python_version < \"3.7\" in /usr/local/lib/python3.6/dist-packages (from transformers) (0.7)\n",
            "Requirement already satisfied: requests in /usr/local/lib/python3.6/dist-packages (from transformers) (2.23.0)\n",
            "Requirement already satisfied: sentencepiece in /usr/local/lib/python3.6/dist-packages (from transformers) (0.1.90)\n",
            "Requirement already satisfied: click in /usr/local/lib/python3.6/dist-packages (from sacremoses->transformers) (7.1.2)\n",
            "Requirement already satisfied: joblib in /usr/local/lib/python3.6/dist-packages (from sacremoses->transformers) (0.14.1)\n",
            "Requirement already satisfied: six in /usr/local/lib/python3.6/dist-packages (from sacremoses->transformers) (1.12.0)\n",
            "Requirement already satisfied: idna<3,>=2.5 in /usr/local/lib/python3.6/dist-packages (from requests->transformers) (2.9)\n",
            "Requirement already satisfied: chardet<4,>=3.0.2 in /usr/local/lib/python3.6/dist-packages (from requests->transformers) (3.0.4)\n",
            "Requirement already satisfied: urllib3!=1.25.0,!=1.25.1,<1.26,>=1.21.1 in /usr/local/lib/python3.6/dist-packages (from requests->transformers) (1.24.3)\n",
            "Requirement already satisfied: certifi>=2017.4.17 in /usr/local/lib/python3.6/dist-packages (from requests->transformers) (2020.4.5.1)\n"
          ],
          "name": "stdout"
        }
      ]
    },
    {
      "cell_type": "code",
      "metadata": {
        "id": "M4O7AVSr-GA1",
        "colab_type": "code",
        "colab": {}
      },
      "source": [
        "# Reference: https://medium.com/tensorflow/using-tensorflow-2-for-state-of-the-art-natural-language-processing-102445cda54a\n",
        "# Ref: https://huggingface.co/transformers/notebooks.html"
      ],
      "execution_count": 0,
      "outputs": []
    },
    {
      "cell_type": "code",
      "metadata": {
        "id": "BMvKYmV48aHi",
        "colab_type": "code",
        "outputId": "1906f773-e28f-4499-ce06-7d1529a16709",
        "colab": {
          "base_uri": "https://localhost:8080/",
          "height": 34
        }
      },
      "source": [
        "%tensorflow_version 2.x\n",
        "import tensorflow as tf\n",
        "print(tf.__version__)"
      ],
      "execution_count": 0,
      "outputs": [
        {
          "output_type": "stream",
          "text": [
            "2.2.0\n"
          ],
          "name": "stdout"
        }
      ]
    },
    {
      "cell_type": "markdown",
      "metadata": {
        "id": "sBkJIsJzBDLb",
        "colab_type": "text"
      },
      "source": [
        "## Tokenization"
      ]
    },
    {
      "cell_type": "code",
      "metadata": {
        "id": "8aihC2QV6IXk",
        "colab_type": "code",
        "outputId": "3e736d15-c09f-4703-aed3-3e75689259fa",
        "colab": {
          "base_uri": "https://localhost:8080/",
          "height": 34
        }
      },
      "source": [
        "# Tokenization: map words to ids\n",
        "# Refer: https://colab.research.google.com/github/huggingface/transformers/blob/master/notebooks/01-training-tokenizers.ipynb#scrollTo=LgktNYt7ADPS\n",
        "\n",
        "# simple example\n",
        "s = \"very long corpus...\"\n",
        "words = s.split(\" \")  # Split over space\n",
        "vocabulary = dict(enumerate(set(words)))  # Map storing the word to it's corresponding id\n",
        "\n",
        "print(vocabulary)\n",
        "\n",
        "# Problems: cat(1123) vs cats(1346)"
      ],
      "execution_count": 0,
      "outputs": [
        {
          "output_type": "stream",
          "text": [
            "{0: 'corpus...', 1: 'very', 2: 'long'}\n"
          ],
          "name": "stdout"
        }
      ]
    },
    {
      "cell_type": "markdown",
      "metadata": {
        "id": "XMts2iRpCQ82",
        "colab_type": "text"
      },
      "source": [
        "### Sub-tokenization\n",
        "\n",
        "- Why? : fast vs faster, cat vs cats\n",
        "- example: cats --**bold text**> [cat, ##s]\n",
        "- Image: https://nlp.fast.ai/images/multifit_vocabularies.png\n",
        "\n",
        "<img src=\"https://nlp.fast.ai/images/multifit_vocabularies.png\" alt=\"Smiley face\" height=\"75%\" width=\"75%\">\n"
      ]
    },
    {
      "cell_type": "markdown",
      "metadata": {
        "id": "GAg56L9zB7QY",
        "colab_type": "text"
      },
      "source": [
        "\n",
        "\n"
      ]
    },
    {
      "cell_type": "markdown",
      "metadata": {
        "id": "N6JpUezDDLOw",
        "colab_type": "text"
      },
      "source": [
        "### Tokenization in huggingface\n",
        "**bold text**"
      ]
    },
    {
      "cell_type": "code",
      "metadata": {
        "id": "8ug084UQCbM9",
        "colab_type": "code",
        "colab": {}
      },
      "source": [
        "from transformers import BertTokenizer\n",
        "bert_tokenizer = BertTokenizer.from_pretrained(\"bert-base-cased\") "
      ],
      "execution_count": 0,
      "outputs": []
    },
    {
      "cell_type": "code",
      "metadata": {
        "id": "ipBz-0-3p8c6",
        "colab_type": "code",
        "outputId": "518a86e2-1384-45d6-f9ff-3f7238b710d8",
        "colab": {
          "base_uri": "https://localhost:8080/",
          "height": 34
        }
      },
      "source": [
        "# Refer BERT architecture from the previous videos in the course.\n",
        "\n",
        "#https://huggingface.co/transformers/main_classes/tokenizer.html\n",
        "print(bert_tokenizer.cls_token)"
      ],
      "execution_count": 0,
      "outputs": [
        {
          "output_type": "stream",
          "text": [
            "[CLS]\n"
          ],
          "name": "stdout"
        }
      ]
    },
    {
      "cell_type": "code",
      "metadata": {
        "id": "S6oLFVcu8iAK",
        "colab_type": "code",
        "outputId": "e87f2bad-fc5d-4328-9950-36f85063658b",
        "colab": {
          "base_uri": "https://localhost:8080/",
          "height": 52
        }
      },
      "source": [
        "enc = bert_tokenizer.encode(\"Hi, I am James bond !\")\n",
        "print(enc)\n",
        "\n",
        "print(bert_tokenizer.decode(enc))"
      ],
      "execution_count": 0,
      "outputs": [
        {
          "output_type": "stream",
          "text": [
            "[101, 8790, 117, 146, 1821, 1600, 7069, 106, 102]\n",
            "[CLS] Hi, I am James bond! [SEP]\n"
          ],
          "name": "stdout"
        }
      ]
    },
    {
      "cell_type": "code",
      "metadata": {
        "id": "vkaeZATw9DpI",
        "colab_type": "code",
        "outputId": "6949437b-f376-4227-9b01-d1fc43d8159b",
        "colab": {
          "base_uri": "https://localhost:8080/",
          "height": 52
        }
      },
      "source": [
        "print(bert_tokenizer.decode([117]))\n",
        "print(bert_tokenizer.decode([106]))"
      ],
      "execution_count": 0,
      "outputs": [
        {
          "output_type": "stream",
          "text": [
            ",\n",
            "!\n"
          ],
          "name": "stdout"
        }
      ]
    },
    {
      "cell_type": "code",
      "metadata": {
        "id": "k2qSy-ZB9ZOT",
        "colab_type": "code",
        "outputId": "b2327a40-1ebc-4b85-a3e0-72342a8089ca",
        "colab": {
          "base_uri": "https://localhost:8080/",
          "height": 52
        }
      },
      "source": [
        "enc = bert_tokenizer.encode(\"I see many cats and dogs\")\n",
        "print(enc)\n",
        "\n",
        "print(bert_tokenizer.decode(enc))"
      ],
      "execution_count": 0,
      "outputs": [
        {
          "output_type": "stream",
          "text": [
            "[101, 146, 1267, 1242, 11771, 1105, 6363, 102]\n",
            "[CLS] I see many cats and dogs [SEP]\n"
          ],
          "name": "stdout"
        }
      ]
    },
    {
      "cell_type": "markdown",
      "metadata": {
        "id": "SPtLW4caAOo4",
        "colab_type": "text"
      },
      "source": [
        ""
      ]
    },
    {
      "cell_type": "markdown",
      "metadata": {
        "id": "FK31Jni1-d5b",
        "colab_type": "text"
      },
      "source": [
        "## BERT Models\n",
        "- DistillBERT\n",
        "- RoBERTa\n",
        "- https://miro.medium.com/max/2000/1*IFVX74cEe8U5D1GveL1uZA.png \n",
        "<img src=\"https://miro.medium.com/max/2000/1*IFVX74cEe8U5D1GveL1uZA.png \" alt=\"Smiley face\" height=\"75%\" width=\"75%\">\n",
        "\n",
        "- https://miro.medium.com/max/1400/1*bSUO_Qib4te1xQmBlQjWaw.png\n",
        "<img src=\"https://miro.medium.com/max/1400/1*bSUO_Qib4te1xQmBlQjWaw.png \" alt=\"Smiley face\" height=\"75%\" width=\"75%\">\n",
        "\n",
        "- General Language Understanding Evaluation (GLUE)  : https://gluebenchmark.com/\n"
      ]
    },
    {
      "cell_type": "code",
      "metadata": {
        "id": "OOLvZ1um-nLV",
        "colab_type": "code",
        "outputId": "c7470d2b-4fc6-4244-8f80-93397649e348",
        "colab": {
          "base_uri": "https://localhost:8080/",
          "height": 66,
          "referenced_widgets": [
            "2d09ec4602314529ab7832c65588473f",
            "d060242033684f9491c2683741245d23",
            "35680c93ef1d4a5cb28115fc73faf404",
            "a5ddc660737141ed993e240c12089f75",
            "9a20bafdacab43838ba0c89f86edb9f4",
            "bd933334afcd44fb8c2931aa59ce1bd2",
            "bd10d2d729bb4d929857052be55cfbb8",
            "cc11cce8ebe14d38ab1f1505dd6d1ff4"
          ]
        }
      },
      "source": [
        "import tensorflow as tf\n",
        "\n",
        "# Refer: https://huggingface.co/transformers/model_doc/distilbert.html#\n",
        "\n",
        "from transformers import DistilBertTokenizer, TFDistilBertModel\n",
        "\n",
        "distil_bert = 'distilbert-base-uncased' # Name of the pretrained models\n",
        "\n",
        "#DistilBERT \n",
        "tokenizer = DistilBertTokenizer.from_pretrained(distil_bert)\n",
        "model = TFDistilBertModel.from_pretrained(distil_bert)"
      ],
      "execution_count": 0,
      "outputs": [
        {
          "output_type": "display_data",
          "data": {
            "application/vnd.jupyter.widget-view+json": {
              "model_id": "2d09ec4602314529ab7832c65588473f",
              "version_minor": 0,
              "version_major": 2
            },
            "text/plain": [
              "HBox(children=(FloatProgress(value=0.0, description='Downloading', max=363423424.0, style=ProgressStyle(descri…"
            ]
          },
          "metadata": {
            "tags": []
          }
        },
        {
          "output_type": "stream",
          "text": [
            "\n"
          ],
          "name": "stdout"
        }
      ]
    },
    {
      "cell_type": "markdown",
      "metadata": {
        "id": "YIKTHZgYozXV",
        "colab_type": "text"
      },
      "source": [
        "### Extract features using BERT"
      ]
    },
    {
      "cell_type": "code",
      "metadata": {
        "id": "uGyAieE8JI1F",
        "colab_type": "code",
        "outputId": "3856c0f9-8e64-4ca5-edf7-35edc8c90e31",
        "colab": {
          "base_uri": "https://localhost:8080/",
          "height": 387
        }
      },
      "source": [
        "# obtain the 768-dim vector correpsoding to [CLS] which is a sentence vector\n",
        "\n",
        "e = tokenizer.encode(\"Hello, my dog is cute\")\n",
        "print(e)\n",
        "\n",
        "input = tf.constant(e)[None, :]  # Batch size 1 \n",
        "print(input)\n",
        "print(type(input)) # shape: [1,8]\n",
        "\n",
        "output = model(input)\n",
        "\n",
        "print(type(output))\n",
        "print(len(output))\n",
        "print(output) #shape[1,8,768]\n"
      ],
      "execution_count": 0,
      "outputs": [
        {
          "output_type": "stream",
          "text": [
            "[101, 7592, 1010, 2026, 3899, 2003, 10140, 102]\n",
            "tf.Tensor([[  101  7592  1010  2026  3899  2003 10140   102]], shape=(1, 8), dtype=int32)\n",
            "<class 'tensorflow.python.framework.ops.EagerTensor'>\n",
            "<class 'tuple'>\n",
            "1\n",
            "(<tf.Tensor: shape=(1, 8, 768), dtype=float32, numpy=\n",
            "array([[[-1.82963982e-01, -7.40541294e-02,  5.02676778e-02, ...,\n",
            "         -1.12606876e-01,  4.44931060e-01,  4.09413189e-01],\n",
            "        [ 7.05925748e-04,  1.48253545e-01,  3.43282759e-01, ...,\n",
            "         -8.60396028e-02,  6.94747746e-01,  4.33529206e-02],\n",
            "        [-5.07205963e-01,  5.30855298e-01,  3.71626914e-01, ...,\n",
            "         -5.62874496e-01,  1.37557149e-01,  2.84752548e-01],\n",
            "        ...,\n",
            "        [-4.22513545e-01,  5.73149137e-02,  2.43383065e-01, ...,\n",
            "         -1.52226850e-01,  2.44624346e-01,  6.41548634e-01],\n",
            "        [-4.93844777e-01, -1.88954517e-01,  1.26408130e-01, ...,\n",
            "          6.32405952e-02,  3.69128466e-01, -5.82522973e-02],\n",
            "        [ 8.32686663e-01,  2.49482125e-01, -4.54395115e-01, ...,\n",
            "          1.19975321e-01, -3.92573118e-01, -2.77853817e-01]]],\n",
            "      dtype=float32)>,)\n"
          ],
          "name": "stdout"
        }
      ]
    },
    {
      "cell_type": "code",
      "metadata": {
        "id": "ZO0dlA-hMXay",
        "colab_type": "code",
        "outputId": "853a9e3d-2da9-4071-8914-45b015172ec9",
        "colab": {
          "base_uri": "https://localhost:8080/",
          "height": 1000
        }
      },
      "source": [
        "#[CLS] corresponding vector\n",
        "print((output[0])[0,0,:])  # shape: 768 dim vector"
      ],
      "execution_count": 0,
      "outputs": [
        {
          "output_type": "stream",
          "text": [
            "tf.Tensor(\n",
            "[-1.82963982e-01 -7.40541294e-02  5.02676778e-02 -3.49530637e-01\n",
            " -7.28532523e-02 -2.63872653e-01  2.39293337e-01  4.79842186e-01\n",
            " -2.14802593e-01 -1.89516500e-01  8.99828300e-02 -1.29189074e-01\n",
            " -1.11275867e-01  3.16634685e-01 -8.25903937e-02  9.26223695e-02\n",
            " -2.09081769e-02  4.74876165e-01  1.28833622e-01  3.18728387e-03\n",
            " -1.53505668e-01 -3.57001841e-01  9.89340246e-04 -3.92747205e-03\n",
            "  1.38443485e-02 -5.49410284e-02  8.45261216e-02  1.36564597e-01\n",
            "  2.18252391e-01 -1.96798936e-01  2.47997623e-02  1.75569624e-01\n",
            " -3.97218093e-02 -1.10777304e-01  5.48526347e-02  6.07530251e-02\n",
            "  1.71999484e-02 -1.07415274e-01 -8.76947269e-02  2.12042019e-01\n",
            " -4.05892804e-02 -3.17958817e-02  1.37657121e-01 -1.39004737e-01\n",
            " -4.68869507e-03 -3.97633314e-01 -2.60034633e+00 -1.08741753e-01\n",
            "  4.86706719e-02 -3.61387670e-01  3.71814489e-01 -7.61096478e-02\n",
            "  3.23910415e-02  2.31666267e-01  2.63016045e-01  3.18299890e-01\n",
            " -3.87970746e-01  2.98111081e-01 -4.93029132e-02 -3.59300710e-02\n",
            "  1.58540592e-01  6.64178804e-02 -1.98168367e-01  2.01570671e-02\n",
            " -3.06719661e-01  2.75268435e-01 -5.75725660e-02  1.99012399e-01\n",
            " -1.81322545e-01  5.15817344e-01 -2.86956057e-02 -1.18355885e-01\n",
            "  1.32884383e-01 -7.50625134e-02  1.13556959e-01 -4.68251035e-02\n",
            "  1.44346096e-02  2.31869817e-01 -1.80278450e-01  2.84714878e-01\n",
            " -1.01262540e-01  2.02373639e-01  4.91598189e-01  2.72795707e-01\n",
            "  4.77181301e-02  1.66064397e-01 -2.38973856e-01 -9.58862826e-02\n",
            "  2.39367530e-01  3.80264014e-01 -2.34181747e-01 -1.66364938e-01\n",
            " -4.13462669e-02  2.57076204e-01  4.31303859e-01 -3.15999508e-01\n",
            " -7.02402443e-02  1.14386469e-01  2.16973305e-01  1.96187302e-01\n",
            "  8.51509869e-02 -1.42221421e-01  2.56942987e-01 -2.17944682e-01\n",
            " -6.99555129e-03 -2.12191388e-01  1.43578529e-01 -4.75275338e-01\n",
            "  5.17552868e-02 -2.40377760e+00  2.53657669e-01  9.18113589e-02\n",
            " -9.21670794e-02 -4.41745818e-01 -5.84073067e-02  6.90732419e-01\n",
            "  4.17964637e-01 -8.59422050e-03 -1.34421632e-01  5.17782718e-02\n",
            " -1.08743981e-01  8.65202397e-02 -1.71955004e-02 -3.32326412e-01\n",
            "  1.51767135e-01  3.29324871e-01 -6.66767061e-02 -9.02034268e-02\n",
            "  2.35938698e-01  2.36411020e-01  3.33305418e-01  4.67729896e-01\n",
            "  4.28327248e-02 -1.42506391e-01 -1.08116291e-01  2.27771297e-01\n",
            "  2.94073611e-01 -1.39985129e-01 -1.00884683e-01 -4.09683771e-03\n",
            " -2.31504768e-01  1.21926591e-01 -2.90576887e+00  2.96339691e-01\n",
            "  4.99315739e-01  6.20902516e-02 -2.88699180e-01  5.02856188e-02\n",
            "  5.06077334e-03  1.55305952e-01  7.64142424e-02  1.15471259e-01\n",
            " -2.38395452e-01  4.13820855e-02 -3.14426601e-01  4.59133349e-02\n",
            " -3.75107467e-01  5.39005846e-02  2.24994928e-01  2.77922869e-01\n",
            "  1.78462207e-01 -9.54105929e-02 -1.94173157e-01  6.76062852e-02\n",
            " -1.60752401e-01  2.29953915e-01  5.06648660e-01  7.67759979e-02\n",
            "  4.87566218e-02  4.56533991e-02 -3.77924591e-02  3.41985486e-02\n",
            "  4.74492371e-01  2.37052049e-02  2.66929597e-01 -5.50254583e-02\n",
            "  3.91382068e-01  8.17276984e-02 -1.15859218e-01 -1.70160681e-01\n",
            " -5.73058128e-02  1.40598938e-01  1.23220652e-01  1.65379658e-01\n",
            "  9.10500288e-02 -1.43808201e-02  3.66103888e-01 -1.63923934e-01\n",
            " -8.08841437e-02  2.59248018e-01  2.10394338e-02 -2.05531672e-01\n",
            "  1.09672785e-01  1.14644103e-01  3.32335889e-01  7.59404153e-02\n",
            "  1.22674718e-01 -5.73982596e-01  1.60009727e-01  6.82829022e-02\n",
            " -1.73093989e-01 -1.99944213e-01  1.59826577e-01  2.52872348e-01\n",
            " -1.70128971e-01  3.64887691e+00 -1.38967752e-01  3.33111398e-02\n",
            "  1.82072535e-01  2.70485729e-01 -1.21637881e-01  1.05418049e-01\n",
            "  1.55247748e-03 -1.30045116e-02  3.18015553e-02  5.77493720e-02\n",
            "  3.96896541e-01 -6.14845119e-02 -1.15160033e-01 -1.08272620e-01\n",
            "  2.36324053e-02  1.32242277e-01 -3.08492839e-01  1.41128555e-01\n",
            "  1.90406032e-02  1.97923675e-01  2.07062811e-01  2.50906855e-01\n",
            "  5.68702221e-02 -1.19319987e+00  9.20891017e-02 -2.82067180e-01\n",
            " -2.16925107e-02  2.61802971e-01 -3.48175704e-01  1.96769163e-02\n",
            "  1.83203638e-01 -1.95327356e-01  2.11400211e-01  8.50236267e-02\n",
            " -1.28696874e-01  3.18605483e-01  2.86378533e-01  1.88539907e-01\n",
            " -2.98403919e-01  2.20937446e-01  1.31015435e-01 -1.02820396e-02\n",
            " -2.68581398e-02 -8.13294128e-02  2.68621176e-01 -1.62331671e-01\n",
            "  1.27714574e-01 -2.98873723e-01  7.01923892e-02 -4.89652157e-02\n",
            "  3.95201892e-02  2.76600480e-01 -3.53134602e-01 -2.21711665e-01\n",
            " -1.68480217e-01 -1.10793695e-01  2.35944852e-01  4.53584157e-02\n",
            " -4.02560890e-01  4.27890643e-02  7.54594356e-02 -2.55471259e-01\n",
            "  9.60167944e-02 -1.43931091e-01 -8.94934833e-02 -7.46151358e-02\n",
            " -3.30272347e-01 -3.46625066e+00  1.24227367e-02 -1.36048764e-01\n",
            "  3.26260030e-01  2.83859283e-01 -2.74549276e-02 -1.36380643e-01\n",
            "  1.31227955e-01  3.47973585e-01 -6.24993503e-01  3.13480258e-01\n",
            "  1.04717843e-01 -6.62786365e-02  1.48699075e-01 -3.66201878e-01\n",
            "  1.69892445e-01  1.43028181e-02 -1.90093547e-01 -5.20565659e-02\n",
            " -1.67159125e-01  8.08383226e-02  1.35975808e-01 -1.30081490e-01\n",
            "  3.54059011e-01  3.65888923e-02 -3.24268788e-02 -1.42222628e-01\n",
            " -1.36649892e-01 -6.62393644e-02 -4.30206954e-02 -1.54817328e-02\n",
            " -2.47256562e-01  2.64774799e-01 -1.90627486e-01 -5.61647892e-01\n",
            " -2.63370371e+00 -6.13706112e-02  7.83850811e-03 -2.00945452e-01\n",
            "  5.77971265e-02 -7.98273534e-02  3.88860911e-01 -1.92673981e-01\n",
            " -1.52788103e-01  2.18081936e-01  1.38541728e-01  5.15477955e-02\n",
            "  5.93838878e-02 -3.63190286e-02  2.52486199e-01 -1.68904334e-01\n",
            "  3.03935975e-01 -2.93073893e-01  9.53445584e-02  2.13944346e-01\n",
            "  7.78932571e-02  6.87415600e-02 -4.60771471e-02 -4.81728129e-02\n",
            "  1.31043896e-01  4.89196807e-01 -2.47311056e-01 -1.25176668e-01\n",
            " -2.68888980e-01  1.69905424e-02  3.04140635e-02 -2.75137663e-01\n",
            "  9.71508399e-02 -5.26915565e-02 -2.99963683e-01 -1.53514147e-01\n",
            "  1.30863458e-01  1.34220198e-01  3.82058680e-01  8.38407576e-02\n",
            "  6.31514788e-02  4.47511315e-01  1.67282790e-01 -7.88344815e-03\n",
            "  4.77932781e-01  8.44852179e-02 -3.11315954e-02 -2.30320051e-01\n",
            " -7.93987960e-02  1.05453536e-01 -6.53301775e-02  1.43372774e-01\n",
            "  1.18262160e+00 -4.21139412e-02  3.34063858e-01 -7.57571906e-02\n",
            "  3.29937875e-01  9.94220152e-02  6.47704378e-02  4.58264351e-03\n",
            "  4.66040760e-01 -5.74505478e-02  8.35537836e-02 -7.57397711e-02\n",
            "  2.60544196e-02 -3.39902312e-01  2.42829360e-02 -4.51532066e-01\n",
            " -1.08395725e-01  1.43879414e-01 -6.19363971e-04  2.22206358e-02\n",
            " -1.85182184e-01 -9.67316449e-01 -2.76358068e-01  2.32634157e-01\n",
            " -2.04712227e-01 -8.55462551e-02 -1.02017790e-01  3.67730334e-02\n",
            " -2.87895709e-01 -2.69007623e-01 -6.31037056e-02  4.66198683e-01\n",
            " -4.17007685e-01 -1.28478557e-01 -2.35913426e-01 -6.02071136e-02\n",
            " -3.66599202e-01  3.29858474e-02 -1.72640026e-01  1.16484493e-01\n",
            " -5.45546636e-02  2.00879633e-01  8.09609666e-02  6.14780746e-02\n",
            "  2.20724925e-01 -7.03784108e-01  1.63218498e-01 -2.42775857e-01\n",
            "  2.94259638e-02 -3.64928171e-02 -1.15544379e-01  1.19456872e-01\n",
            " -2.35308241e-02 -8.58266950e-02 -2.42629096e-01  3.13685566e-01\n",
            "  5.36964908e-02  2.81631291e-01 -1.55662507e-01 -3.08808148e-01\n",
            " -1.67348340e-01  1.49587363e-01  1.02405667e+00 -5.33009693e-02\n",
            "  2.61224899e-02  4.29241657e-01 -1.19601935e-02  3.26767683e-01\n",
            "  2.23125234e-01  1.57708019e-01 -2.33969882e-01 -3.87821123e-02\n",
            " -8.93776715e-02 -8.95165950e-02 -1.58061981e-02 -2.76408702e-01\n",
            " -2.30500504e-01  5.20574488e-02  2.42815614e-01 -1.51047111e-03\n",
            " -3.67174447e-01 -5.44695318e-01  1.83679014e-01 -2.98035711e-01\n",
            " -3.45235735e-01 -1.07845969e-01  3.23619038e-01  3.10017392e-02\n",
            "  1.72840640e-01  1.98269621e-01 -1.32516503e-01  3.18925411e-01\n",
            " -1.70470551e-01  4.16734725e-01 -1.78098306e-02 -5.34221157e-02\n",
            " -2.10133269e-02  1.33843929e-01 -1.26934648e-01 -3.35949332e-01\n",
            "  6.02968857e-02 -3.20586383e-01  2.28375658e-01  1.57170504e-01\n",
            "  1.07503176e-01  4.52577658e-02 -1.44067958e-01  1.25556886e-01\n",
            "  1.17120393e-01  3.68679687e-02 -1.44092941e+00  4.55319881e-01\n",
            "  2.65809335e-03  6.85981736e-02  1.79716736e-01 -5.60321175e-02\n",
            " -6.82102516e-02  2.66576767e-01  2.44327426e-01  1.17831707e-01\n",
            " -7.86482617e-02  1.50259688e-01 -1.98004559e-01  2.23428719e-02\n",
            "  5.40101603e-02 -6.52766898e-02  8.17406476e-02 -1.52527571e-01\n",
            " -2.41477378e-02 -3.05540413e-02  1.89112984e-02  3.25063050e-01\n",
            "  1.07241727e-01  2.36948729e-02  5.40227890e-02 -6.59271404e-02\n",
            "  1.45882025e-01  1.73729718e-01  3.97377536e-02  3.04216743e-01\n",
            "  2.57307589e-02 -2.33873904e-01 -7.23413706e-01 -2.36845553e-01\n",
            "  2.15696782e-01 -9.78178829e-02 -1.07706562e-02 -5.42446524e-02\n",
            "  1.60678178e-02  1.34032249e-01 -4.90798026e-01  2.40851104e-01\n",
            "  1.25754714e-01 -1.04106896e-01  5.20355940e-01  1.66526586e-01\n",
            " -1.65266365e-01  2.95299411e-01  1.62014924e-02 -2.91153014e-01\n",
            "  1.46822512e-01 -1.80530012e-01 -3.49399149e-02 -1.96046636e-01\n",
            " -7.65724108e-05 -1.21094584e-01 -8.96760076e-02  5.56596220e-02\n",
            " -3.61946166e-01 -1.90506913e-02  3.58558089e-01 -2.30404437e-01\n",
            " -3.64994437e-01  8.36466402e-02 -3.69088084e-01 -4.55816537e-01\n",
            " -2.51596212e-01 -2.95682311e-01  6.57209828e-02 -9.50318500e-02\n",
            "  4.98333186e-01  1.02289736e-01 -2.63921201e-01  2.01748788e-01\n",
            " -2.99779624e-01  1.08137123e-01  7.19924420e-02  3.94287646e-01\n",
            "  3.48317415e-01 -1.83384776e-01  1.04481414e-01 -3.31908494e-01\n",
            " -3.20174068e-01  3.27167749e-01 -1.68593571e-01  1.33826122e-01\n",
            " -2.06089318e-02  6.99828863e-02 -2.75660455e-02  1.54763699e-01\n",
            " -1.75365478e-01 -1.56792253e-01 -4.90044728e-02 -5.61800972e-02\n",
            " -2.34200001e-01  2.16859400e-01  5.50556295e-02 -1.01618491e-01\n",
            " -1.43520415e-01 -1.09908171e-01 -1.85715526e-01  4.40243542e-01\n",
            "  2.83944905e-01  1.27737582e-01  3.48632857e-02  1.28400385e-01\n",
            "  1.25560194e-01  1.79128721e-01 -3.51552039e-01 -1.79564565e-01\n",
            "  1.27473086e-01 -5.33760935e-02 -6.86722696e-02  9.85211134e-03\n",
            "  6.14891909e-02 -1.57977909e-01 -2.51014829e-01 -2.38530427e-01\n",
            "  1.99463785e+00  5.30797958e-01 -3.62982340e-02 -1.19774498e-01\n",
            "  3.54485393e-01 -1.36348411e-01 -1.06468298e-01  1.90662384e-01\n",
            " -1.81350738e-01  4.38782990e-01 -1.52347028e-01  2.97309935e-01\n",
            "  4.85185906e-03  1.84560627e-01  5.39814353e-01  2.61829078e-01\n",
            "  2.01008201e-01 -7.66812712e-02 -6.73805356e-01 -1.22319520e-01\n",
            " -3.35514903e-01  1.67748272e-01  3.59637588e-01 -1.95419174e-02\n",
            " -8.59107077e-02  1.83777109e-01  8.31620693e-02 -2.20169947e-02\n",
            " -1.09846428e-01  3.16786826e-01 -1.39384925e-01 -2.47806646e-02\n",
            "  1.76724330e-01  3.52304906e-01 -1.92155331e-01  1.35768428e-01\n",
            "  1.40878484e-01 -3.26478422e-01 -3.32517147e-01  2.78262217e-02\n",
            "  6.72171712e-02 -4.32631999e-01  2.43450388e-01  1.65119663e-01\n",
            " -1.40644416e-01  4.77837950e-01 -1.96698055e-01 -1.46622941e-01\n",
            "  4.71871495e-01  3.83241504e-01 -2.47310683e-01 -1.77689344e-01\n",
            " -2.20501542e-01  2.84740567e-01  5.84800169e-02 -3.75218093e-02\n",
            " -1.52474381e-02 -1.88273057e-01 -8.67710188e-02  2.55617023e-01\n",
            " -2.63450891e-01  2.89569885e-01  1.39412344e-01  7.61569664e-02\n",
            "  3.36094648e-01  6.99161962e-02 -3.14997703e-01  1.18950740e-01\n",
            "  2.26661086e-01 -3.60733062e-01 -5.41631132e-04  5.06484628e-01\n",
            "  2.20257878e-01  4.64702435e-02  1.89109400e-01  8.76349360e-02\n",
            "  2.78846145e-01 -1.29932269e-01 -1.64784536e-01 -2.74102402e+00\n",
            "  1.67531278e-02  1.83713548e-02  6.84271455e-02  1.71558857e-01\n",
            "  3.03114533e-01  3.01918030e-01  4.01072875e-02  2.54131854e-01\n",
            " -3.53494734e-02  2.71484047e-01  1.81621850e-01  4.48273182e-01\n",
            "  3.20001170e-02  4.39897299e-01 -5.78282550e-02  3.16760093e-01\n",
            " -1.94126293e-01 -2.04067379e-01 -4.19521779e-02 -2.94577181e-02\n",
            "  8.93058926e-02  2.27591634e-01 -3.44705075e-01 -4.46881354e-01\n",
            "  1.86224252e-01 -1.47318929e-01 -2.28073791e-01 -9.07056704e-02\n",
            "  1.94503367e-02 -1.23446107e-01  4.36208576e-01 -3.18929732e-01\n",
            " -1.00709014e-02 -4.69479002e-02 -7.06077814e-02 -2.75076479e-01\n",
            " -1.39118154e-02  1.31018817e-01  2.14773059e-01 -1.57196134e-01\n",
            "  5.24374068e-01  3.01649049e-03  2.12966979e-01  5.55384113e-03\n",
            "  4.07888331e-02  2.34339133e-01 -6.88106641e-02  2.27949262e-01\n",
            " -1.57655612e-01 -7.67242089e-02  6.78141266e-02  3.18949342e-01\n",
            "  1.98623359e-01  8.13002363e-02  1.77703559e-01 -3.74093652e-03\n",
            " -5.91555424e-03 -1.41101703e-02 -5.09403944e-01 -1.06276855e-01\n",
            "  2.34553933e-01 -1.86714716e-02  1.10224135e-01  2.10318089e-01\n",
            " -7.98710808e-02 -8.10481906e-02  3.20952386e-03 -1.42225385e-01\n",
            " -2.60842353e-01 -3.67441982e-01 -1.90870687e-02  4.14406598e-01\n",
            "  1.01791799e-01  1.76624767e-02 -9.82005000e-02  4.08166379e-01\n",
            "  2.69283056e-01  2.51792893e-02  3.05708408e-01 -1.29841492e-01\n",
            "  3.09760682e-03 -2.47816350e-02 -1.44122154e-01  1.71705395e-01\n",
            " -7.39391756e+00 -8.13186169e-02  2.41188128e-02 -2.42936149e-01\n",
            " -2.46015653e-01 -4.92817909e-01 -1.13992199e-01 -3.30208033e-01\n",
            "  1.46629363e-01 -1.87319413e-01  2.01923355e-01 -4.60678898e-02\n",
            " -2.09270656e-01 -1.12606876e-01  4.44931060e-01  4.09413189e-01], shape=(768,), dtype=float32)\n"
          ],
          "name": "stdout"
        }
      ]
    },
    {
      "cell_type": "code",
      "metadata": {
        "id": "kQTWhdSoOJMH",
        "colab_type": "code",
        "outputId": "c9714733-5c61-4334-ff59-0e388096039b",
        "colab": {
          "base_uri": "https://localhost:8080/",
          "height": 419
        }
      },
      "source": [
        "# How about hidden layer outputs\n",
        "\n",
        "#https://huggingface.co/transformers/model_doc/distilbert.html#distilbertconfig\n",
        "from transformers import  DistilBertConfig\n",
        "\n",
        "config = DistilBertConfig.from_pretrained(distil_bert, output_hidden_states=True)\n",
        "\n",
        "\n",
        "e = tokenizer.encode(\"Hello, my dog is cute\")\n",
        "input = tf.constant(e)[None, :]  # Batch size 1 \n",
        "model = TFDistilBertModel.from_pretrained(distil_bert, config=config)\n",
        "print(model.config) # Every model has a config file \n",
        "\n"
      ],
      "execution_count": 0,
      "outputs": [
        {
          "output_type": "stream",
          "text": [
            "DistilBertConfig {\n",
            "  \"activation\": \"gelu\",\n",
            "  \"architectures\": [\n",
            "    \"DistilBertForMaskedLM\"\n",
            "  ],\n",
            "  \"attention_dropout\": 0.1,\n",
            "  \"dim\": 768,\n",
            "  \"dropout\": 0.1,\n",
            "  \"hidden_dim\": 3072,\n",
            "  \"initializer_range\": 0.02,\n",
            "  \"max_position_embeddings\": 512,\n",
            "  \"model_type\": \"distilbert\",\n",
            "  \"n_heads\": 12,\n",
            "  \"n_layers\": 6,\n",
            "  \"output_hidden_states\": true,\n",
            "  \"pad_token_id\": 0,\n",
            "  \"qa_dropout\": 0.1,\n",
            "  \"seq_classif_dropout\": 0.2,\n",
            "  \"sinusoidal_pos_embds\": false,\n",
            "  \"tie_weights_\": true,\n",
            "  \"vocab_size\": 30522\n",
            "}\n",
            "\n"
          ],
          "name": "stdout"
        }
      ]
    },
    {
      "cell_type": "code",
      "metadata": {
        "id": "36Ot-PcHQLsA",
        "colab_type": "code",
        "outputId": "fd6c1552-65e2-4a4f-f099-d884119d1348",
        "colab": {
          "base_uri": "https://localhost:8080/",
          "height": 34
        }
      },
      "source": [
        "output = model(input)\n",
        "print(len(output))"
      ],
      "execution_count": 0,
      "outputs": [
        {
          "output_type": "stream",
          "text": [
            "2\n"
          ],
          "name": "stdout"
        }
      ]
    },
    {
      "cell_type": "code",
      "metadata": {
        "id": "m20ikTgZRhgx",
        "colab_type": "code",
        "outputId": "61719055-cabd-479c-afc9-db5f4030e0f8",
        "colab": {
          "base_uri": "https://localhost:8080/",
          "height": 262
        }
      },
      "source": [
        "print(output[0])"
      ],
      "execution_count": 0,
      "outputs": [
        {
          "output_type": "stream",
          "text": [
            "tf.Tensor(\n",
            "[[[-1.82963982e-01 -7.40541294e-02  5.02676778e-02 ... -1.12606876e-01\n",
            "    4.44931060e-01  4.09413189e-01]\n",
            "  [ 7.05925748e-04  1.48253545e-01  3.43282759e-01 ... -8.60396028e-02\n",
            "    6.94747746e-01  4.33529206e-02]\n",
            "  [-5.07205963e-01  5.30855298e-01  3.71626914e-01 ... -5.62874496e-01\n",
            "    1.37557149e-01  2.84752548e-01]\n",
            "  ...\n",
            "  [-4.22513545e-01  5.73149137e-02  2.43383065e-01 ... -1.52226850e-01\n",
            "    2.44624346e-01  6.41548634e-01]\n",
            "  [-4.93844777e-01 -1.88954517e-01  1.26408130e-01 ...  6.32405952e-02\n",
            "    3.69128466e-01 -5.82522973e-02]\n",
            "  [ 8.32686663e-01  2.49482125e-01 -4.54395115e-01 ...  1.19975321e-01\n",
            "   -3.92573118e-01 -2.77853817e-01]]], shape=(1, 8, 768), dtype=float32)\n"
          ],
          "name": "stdout"
        }
      ]
    },
    {
      "cell_type": "code",
      "metadata": {
        "id": "LKP1FJRSRkV0",
        "colab_type": "code",
        "outputId": "a9507a20-2f6e-42a3-e4b6-a669fad59d59",
        "colab": {
          "base_uri": "https://localhost:8080/",
          "height": 297
        }
      },
      "source": [
        "print(type(output[1]))\n",
        "print(len(output[1])) # 7 Why?\n",
        "print(output[1][0]) # Shape:(1,8,768)"
      ],
      "execution_count": 0,
      "outputs": [
        {
          "output_type": "stream",
          "text": [
            "<class 'tuple'>\n",
            "7\n",
            "tf.Tensor(\n",
            "[[[ 0.3469352  -0.16263762 -0.23334563 ...  0.14869013  0.08653456\n",
            "    0.14215374]\n",
            "  [ 0.07189059 -0.07270843 -0.29645342 ... -0.30408904  0.75935036\n",
            "   -0.5568752 ]\n",
            "  [-0.2266272  -0.06833443 -0.02030379 ...  0.3494217   0.59173024\n",
            "    0.19666305]\n",
            "  ...\n",
            "  [-0.71145713 -0.5655291  -0.59169155 ...  0.3092698   0.46315265\n",
            "    0.6692429 ]\n",
            "  [-1.6721641  -0.04439694  0.72651184 ... -0.3427156   0.8009167\n",
            "    0.01589048]\n",
            "  [-0.2762845  -0.34943795 -0.18642375 ... -0.34279847  0.36574972\n",
            "   -0.1593638 ]]], shape=(1, 8, 768), dtype=float32)\n"
          ],
          "name": "stdout"
        }
      ]
    },
    {
      "cell_type": "markdown",
      "metadata": {
        "id": "kHMQIaouS1r1",
        "colab_type": "text"
      },
      "source": [
        " **Same steps as above, for any Transformer /BERT like model**"
      ]
    },
    {
      "cell_type": "markdown",
      "metadata": {
        "id": "MLodxBWwpIYw",
        "colab_type": "text"
      },
      "source": [
        "### Fine-tuning for various tasks\n",
        "\n",
        "- Refer: https://arxiv.org/pdf/1810.04805.pdf\n",
        "\n",
        "-Next video"
      ]
    }
  ]
}