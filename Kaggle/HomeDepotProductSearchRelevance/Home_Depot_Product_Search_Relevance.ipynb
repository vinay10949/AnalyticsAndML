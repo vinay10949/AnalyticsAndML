{
  "nbformat": 4,
  "nbformat_minor": 0,
  "metadata": {
    "colab": {
      "name": "Home Depot Product Search Relevance",
      "provenance": [],
      "collapsed_sections": [],
      "authorship_tag": "ABX9TyNth26ddAc3B58RiHtufyAH",
      "include_colab_link": true
    },
    "kernelspec": {
      "name": "python3",
      "display_name": "Python 3"
    }
  },
  "cells": [
    {
      "cell_type": "markdown",
      "metadata": {
        "id": "view-in-github",
        "colab_type": "text"
      },
      "source": [
        "<a href=\"https://colab.research.google.com/github/vinay10949/AnalyticsAndML/blob/master/Kaggle/HomeDepotProductSearchRelevance/Home_Depot_Product_Search_Relevance.ipynb\" target=\"_parent\"><img src=\"https://colab.research.google.com/assets/colab-badge.svg\" alt=\"Open In Colab\"/></a>"
      ]
    },
    {
      "cell_type": "markdown",
      "metadata": {
        "id": "kRLfEET0u1BW",
        "colab_type": "text"
      },
      "source": [
        "<h1 style=\"text-align:center;font-size:30px;\" > Home Depot Product Search Relevance</h1>\n"
      ]
    },
    {
      "cell_type": "markdown",
      "metadata": {
        "id": "5WdEeWf3wHG7",
        "colab_type": "text"
      },
      "source": [
        "<h1> 1. Business Problem </h1>"
      ]
    },
    {
      "cell_type": "markdown",
      "metadata": {
        "id": "vDYSq4v5vAR2",
        "colab_type": "text"
      },
      "source": [
        "<h4>Shoppers rely on Home Depot’s product authority to find and buy the latest products and to get timely solutions to their home improvement needs. From installing a new ceiling fan to remodeling an entire kitchen, with the click of a mouse or tap of the screen, customers expect the correct results to their queries – quickly. Speed, accuracy and delivering a frictionless customer experience are essential.</h4>\n",
        "\n",
        "**<h4>To help them improve their customers' shopping experience by developing a model that can accurately predict the relevance of search results</h4>**.\n",
        "<h4>\n",
        "Search relevancy is an implicit measure Home Depot uses to gauge how quickly they can get customers to the right products. Currently, human raters evaluate the impact of potential changes to their search algorithms, which is a slow and subjective process. By removing or minimizing human input in search relevance evaluation, Home Depot hopes to increase the number of iterations their team can perform on the current search algorithms.</h4>\n",
        "\n",
        "\n"
      ]
    },
    {
      "cell_type": "markdown",
      "metadata": {
        "id": "nIvqXzrAwB2r",
        "colab_type": "text"
      },
      "source": [
        "**__Problem Statement__**\n",
        "- Predict the relevance of search results on homedepot.com.\n",
        "\n",
        "- Model Interpretibility partially important\n",
        "\n",
        "- Low Latency and accuracy is utmost important"
      ]
    },
    {
      "cell_type": "markdown",
      "metadata": {
        "id": "CbN4shZ4xNY7",
        "colab_type": "text"
      },
      "source": [
        "**Constraints**\n",
        "1. The cost of a error can be very high.\n",
        "2. Latency concerns.\n"
      ]
    },
    {
      "cell_type": "markdown",
      "metadata": {
        "id": "xaWWMoe8ymhp",
        "colab_type": "text"
      },
      "source": [
        "\n",
        "**Metric(s)**: \n",
        "\n",
        "  **Root mean squared error (RMSE).**. \n"
      ]
    },
    {
      "cell_type": "markdown",
      "metadata": {
        "id": "4clHf4u2wl69",
        "colab_type": "text"
      },
      "source": [
        "<h1>File descriptions</h1>\n",
        "\n",
        "    train.csv - the training set, contains products, searches, and relevance scores\n",
        "    test.csv - the test set, contains products and searches. You must predict the relevance for these pairs.\n",
        "    product_descriptions.csv - contains a text description of each product. You may join this table to the training or test set via the product_uid.\n",
        "    attributes.csv -  provides extended information about a subset of the products (typically representing detailed technical specifications). Not every product will have attributes.\n",
        "    sample_submission.csv - a file showing the correct submission format\n",
        "    relevance_instructions.docx - the instructions provided to human raters\n",
        "\n",
        "<h1>Data fields</h1>\n",
        "\n",
        "    id - a unique Id field which represents a (search_term, product_uid) pair\n",
        "    product_uid - an id for the products\n",
        "    product_title - the product title\n",
        "    product_description - the text description of the product (may contain HTML content)\n",
        "    search_term - the search query\n",
        "    relevance - the average of the relevance ratings for a given id\n",
        "    name - an attribute name\n",
        "    value - the attribute's value\n"
      ]
    },
    {
      "cell_type": "markdown",
      "metadata": {
        "id": "6YJ9bcWGp0LR",
        "colab_type": "text"
      },
      "source": [
        "#Downloading Dataset"
      ]
    },
    {
      "cell_type": "code",
      "metadata": {
        "id": "PuR9O12W0ZKT",
        "colab_type": "code",
        "colab": {
          "base_uri": "https://localhost:8080/",
          "height": 221
        },
        "outputId": "9ac8f0b0-8268-4c7b-d27c-b7503083cece"
      },
      "source": [
        "!pip install --user kaggle\n",
        "!mkdir .kaggle\n",
        "import json\n",
        "token = {\"username\":\"vinay10949\",\"key\":\"8c9be451097008f8adad47969b0eff60\"}\n",
        "with open('/content/.kaggle/kaggle.json', 'w') as file:\n",
        "    json.dump(token, file)\n",
        "!cp /content/.kaggle/kaggle.json ~/.kaggle/kaggle.json\n",
        "!chmod 600 /root/.kaggle/kaggle.json\n"
      ],
      "execution_count": 6,
      "outputs": [
        {
          "output_type": "stream",
          "text": [
            "Requirement already satisfied: kaggle in /usr/local/lib/python3.6/dist-packages (1.5.6)\n",
            "Requirement already satisfied: python-dateutil in /usr/local/lib/python3.6/dist-packages (from kaggle) (2.8.1)\n",
            "Requirement already satisfied: urllib3<1.25,>=1.21.1 in /usr/local/lib/python3.6/dist-packages (from kaggle) (1.24.3)\n",
            "Requirement already satisfied: python-slugify in /usr/local/lib/python3.6/dist-packages (from kaggle) (4.0.0)\n",
            "Requirement already satisfied: tqdm in /usr/local/lib/python3.6/dist-packages (from kaggle) (4.41.1)\n",
            "Requirement already satisfied: requests in /usr/local/lib/python3.6/dist-packages (from kaggle) (2.23.0)\n",
            "Requirement already satisfied: six>=1.10 in /usr/local/lib/python3.6/dist-packages (from kaggle) (1.12.0)\n",
            "Requirement already satisfied: certifi in /usr/local/lib/python3.6/dist-packages (from kaggle) (2020.4.5.2)\n",
            "Requirement already satisfied: text-unidecode>=1.3 in /usr/local/lib/python3.6/dist-packages (from python-slugify->kaggle) (1.3)\n",
            "Requirement already satisfied: idna<3,>=2.5 in /usr/local/lib/python3.6/dist-packages (from requests->kaggle) (2.9)\n",
            "Requirement already satisfied: chardet<4,>=3.0.2 in /usr/local/lib/python3.6/dist-packages (from requests->kaggle) (3.0.4)\n",
            "mkdir: cannot create directory ‘.kaggle’: File exists\n"
          ],
          "name": "stdout"
        }
      ]
    },
    {
      "cell_type": "code",
      "metadata": {
        "id": "F6xUsKHm1o_b",
        "colab_type": "code",
        "colab": {
          "base_uri": "https://localhost:8080/",
          "height": 170
        },
        "outputId": "16299691-7dbe-4997-960f-668830aada9d"
      },
      "source": [
        "!kaggle competitions list -s search"
      ],
      "execution_count": 7,
      "outputs": [
        {
          "output_type": "stream",
          "text": [
            "Warning: Looks like you're using an outdated API Version, please consider updating (server 1.5.6 / client 1.5.4)\n",
            "ref                                       deadline             category   reward  teamCount  userHasEntered  \n",
            "----------------------------------------  -------------------  --------  -------  ---------  --------------  \n",
            "crowdflower-search-relevance              2015-07-06 23:59:00  Featured  $20,000       1324           False  \n",
            "home-depot-product-search-relevance       2016-04-25 23:59:00  Featured  $40,000       2122            True  \n",
            "yandex-personalized-web-search-challenge  2014-01-10 23:59:00  Featured   $9,000        194           False  \n",
            "expedia-personalized-sort                 2013-11-04 23:59:00  Featured  $25,000        336           False  \n",
            "acm-sf-chapter-hackathon-small            2012-09-30 01:00:00  Research     $600         96           False  \n",
            "acm-sf-chapter-hackathon-big              2012-09-30 01:00:00  Research   $1,000         24           False  \n"
          ],
          "name": "stdout"
        }
      ]
    },
    {
      "cell_type": "code",
      "metadata": {
        "id": "txnfARkC19c4",
        "colab_type": "code",
        "colab": {
          "base_uri": "https://localhost:8080/",
          "height": 340
        },
        "outputId": "e34de217-6c83-4ed3-a271-4386c55dd63a"
      },
      "source": [
        "!kaggle competitions download home-depot-product-search-relevance"
      ],
      "execution_count": 10,
      "outputs": [
        {
          "output_type": "stream",
          "text": [
            "Warning: Looks like you're using an outdated API Version, please consider updating (server 1.5.6 / client 1.5.4)\n",
            "Downloading train.csv.zip to /content\n",
            "  0% 0.00/2.51M [00:00<?, ?B/s]\n",
            "100% 2.51M/2.51M [00:00<00:00, 84.1MB/s]\n",
            "Downloading relevance_instructions.docx to /content\n",
            "  0% 0.00/105k [00:00<?, ?B/s]\n",
            "100% 105k/105k [00:00<00:00, 84.2MB/s]\n",
            "Downloading attributes.csv.zip to /content\n",
            " 33% 9.00M/27.2M [00:00<00:01, 16.9MB/s]\n",
            "100% 27.2M/27.2M [00:00<00:00, 37.1MB/s]\n",
            "Downloading test.csv.zip to /content\n",
            "100% 4.74M/4.74M [00:00<00:00, 9.76MB/s]\n",
            "\n",
            "Downloading sample_submission.csv.zip to /content\n",
            "  0% 0.00/227k [00:00<?, ?B/s]\n",
            "100% 227k/227k [00:00<00:00, 73.2MB/s]\n",
            "Downloading product_descriptions.csv.zip to /content\n",
            " 49% 17.0M/34.8M [00:00<00:01, 11.8MB/s]\n",
            "100% 34.8M/34.8M [00:01<00:00, 35.9MB/s]\n"
          ],
          "name": "stdout"
        }
      ]
    },
    {
      "cell_type": "code",
      "metadata": {
        "id": "ir6wte_U1uvP",
        "colab_type": "code",
        "colab": {
          "base_uri": "https://localhost:8080/",
          "height": 289
        },
        "outputId": "206906b0-9ddf-412b-d28e-365cda0c74a8"
      },
      "source": [
        "!sudo unzip '*.zip'"
      ],
      "execution_count": 12,
      "outputs": [
        {
          "output_type": "stream",
          "text": [
            "Archive:  test.csv.zip\n",
            "  inflating: test.csv                \n",
            "\n",
            "Archive:  product_descriptions.csv.zip\n",
            "  inflating: product_descriptions.csv  \n",
            "\n",
            "Archive:  attributes.csv.zip\n",
            "  inflating: attributes.csv          \n",
            "\n",
            "Archive:  sample_submission.csv.zip\n",
            "  inflating: sample_submission.csv   \n",
            "\n",
            "Archive:  train.csv.zip\n",
            "  inflating: train.csv               \n",
            "\n",
            "5 archives were successfully processed.\n"
          ],
          "name": "stdout"
        }
      ]
    },
    {
      "cell_type": "markdown",
      "metadata": {
        "id": "AXwgku9X5fCj",
        "colab_type": "text"
      },
      "source": [
        "#Importing libraries"
      ]
    },
    {
      "cell_type": "code",
      "metadata": {
        "id": "62CK8Bspwr8g",
        "colab_type": "code",
        "colab": {}
      },
      "source": [
        "import pandas as pd"
      ],
      "execution_count": 13,
      "outputs": []
    },
    {
      "cell_type": "markdown",
      "metadata": {
        "id": "Sx_9AaW_ywMs",
        "colab_type": "text"
      },
      "source": [
        "#Reading the data"
      ]
    },
    {
      "cell_type": "code",
      "metadata": {
        "id": "nguguFCvucoT",
        "colab_type": "code",
        "colab": {}
      },
      "source": [
        "attributes=pd.read_csv(\"attributes.csv\")\n",
        "prodDesc=pd.read_csv(\"product_descriptions.csv\")\n",
        "train=pd.read_csv(\"train.csv\", encoding = \"ISO-8859-1\")\n",
        "test=pd.read_csv(\"test.csv\", encoding = \"ISO-8859-1\")\n",
        "attributes=attributes[~attributes['product_uid'].isnull()]\n",
        "attributes['product_uid']=attributes['product_uid'].astype('int64')"
      ],
      "execution_count": 99,
      "outputs": []
    },
    {
      "cell_type": "markdown",
      "metadata": {
        "id": "7N6O99pFqK7u",
        "colab_type": "text"
      },
      "source": [
        "#EDA"
      ]
    },
    {
      "cell_type": "code",
      "metadata": {
        "id": "bSJxFfJF5uG5",
        "colab_type": "code",
        "colab": {
          "base_uri": "https://localhost:8080/",
          "height": 85
        },
        "outputId": "272ccb76-d5ec-48db-bdd7-4aa95cb9aa56"
      },
      "source": [
        "print(\"Train shape \",train.shape)\n",
        "print(\"Test shape \",test.shape)\n",
        "print(\"Product Descriptions shape shape \",prodDesc.shape)\n",
        "print(\"Attributes shape \",attributes.shape)"
      ],
      "execution_count": 100,
      "outputs": [
        {
          "output_type": "stream",
          "text": [
            "Train shape  (74067, 5)\n",
            "Test shape  (166693, 4)\n",
            "Product Descriptions shape shape  (124428, 2)\n",
            "Attributes shape  (2044648, 3)\n"
          ],
          "name": "stdout"
        }
      ]
    },
    {
      "cell_type": "markdown",
      "metadata": {
        "id": "Gij70KE2qNLX",
        "colab_type": "text"
      },
      "source": [
        "##Checking Missing Columns"
      ]
    },
    {
      "cell_type": "code",
      "metadata": {
        "id": "Vsv9g78I7PIy",
        "colab_type": "code",
        "colab": {
          "base_uri": "https://localhost:8080/",
          "height": 85
        },
        "outputId": "99b7ea4c-089c-42fb-f62c-9438fbaa1357"
      },
      "source": [
        "print(\"Number of columns in missing values in train\",train.isnull().sum().sum())\n",
        "print(\"Number of columns in missing values in test \",test.isnull().sum().sum())\n",
        "print(\"Number of columns in missing values in attributes \",attributes.isnull().sum().sum())\n",
        "print(\"Number of columns in missing values in product descriptions \",prodDesc.isnull().sum().sum())"
      ],
      "execution_count": 101,
      "outputs": [
        {
          "output_type": "stream",
          "text": [
            "Number of columns in missing values in train 0\n",
            "Number of columns in missing values in test  0\n",
            "Number of columns in missing values in attributes  2129\n",
            "Number of columns in missing values in product descriptions  0\n"
          ],
          "name": "stdout"
        }
      ]
    },
    {
      "cell_type": "code",
      "metadata": {
        "id": "2Pqi98aGNdFp",
        "colab_type": "code",
        "colab": {}
      },
      "source": [
        "train_1=pd.merge(train,prodDesc,on='product_uid',how='left')\n",
        "train_2=pd.merge(train_1,attributes,on='product_uid',how='left')\n",
        "\n",
        "test_1=pd.merge(test,prodDesc,on='product_uid',how='left')\n",
        "test_2=pd.merge(test_1,attributes,on='product_uid',how='left')"
      ],
      "execution_count": 121,
      "outputs": []
    },
    {
      "cell_type": "markdown",
      "metadata": {
        "id": "wIqKl-y9kMqc",
        "colab_type": "text"
      },
      "source": [
        "##Checking distribution of relevant queries"
      ]
    },
    {
      "cell_type": "code",
      "metadata": {
        "id": "ZzSjHGzcjWAo",
        "colab_type": "code",
        "colab": {
          "base_uri": "https://localhost:8080/",
          "height": 282
        },
        "outputId": "7a824613-c23a-4a09-aac3-fe6b8041f92d"
      },
      "source": [
        "train_2['relevance'].hist()"
      ],
      "execution_count": 130,
      "outputs": [
        {
          "output_type": "execute_result",
          "data": {
            "text/plain": [
              "<matplotlib.axes._subplots.AxesSubplot at 0x7fa7f51dedd8>"
            ]
          },
          "metadata": {
            "tags": []
          },
          "execution_count": 130
        },
        {
          "output_type": "display_data",
          "data": {
            "image/png": "[encoded data removed]",
            "text/plain": [
              "<Figure size 432x288 with 1 Axes>"
            ]
          },
          "metadata": {
            "tags": [],
            "needs_background": "light"
          }
        }
      ]
    },
    {
      "cell_type": "markdown",
      "metadata": {
        "id": "vKhk0cYvpYj0",
        "colab_type": "text"
      },
      "source": [
        "Relevance distribution is like walking steps, ideally we need to have higher precison on irrelevant queries"
      ]
    },
    {
      "cell_type": "markdown",
      "metadata": {
        "id": "7F3Jy5FcqIXR",
        "colab_type": "text"
      },
      "source": [
        ""
      ]
    },
    {
      "cell_type": "code",
      "metadata": {
        "id": "3gW2TdNhi_uY",
        "colab_type": "code",
        "colab": {
          "base_uri": "https://localhost:8080/",
          "height": 340
        },
        "outputId": "71f9ce1d-817f-4a68-fda0-0eef63c535cd"
      },
      "source": [
        "print(\"Missing values in train \\n\",train_2.isnull().sum())\n",
        "\n",
        "print(\"Missing values in test \\n \",test_2.isnull().sum())"
      ],
      "execution_count": 122,
      "outputs": [
        {
          "output_type": "stream",
          "text": [
            "Missing values in train \n",
            " id                         0\n",
            "product_uid                0\n",
            "product_title              0\n",
            "search_term                0\n",
            "relevance                  0\n",
            "product_description        0\n",
            "name                   17520\n",
            "value                  18820\n",
            "dtype: int64\n",
            "Missing values in test \n",
            "  id                         0\n",
            "product_uid                0\n",
            "product_title              0\n",
            "search_term                0\n",
            "product_description        0\n",
            "name                   28305\n",
            "value                  31626\n",
            "dtype: int64\n"
          ],
          "name": "stdout"
        }
      ]
    },
    {
      "cell_type": "code",
      "metadata": {
        "id": "8GGdF7IYlh0A",
        "colab_type": "code",
        "colab": {
          "base_uri": "https://localhost:8080/",
          "height": 419
        },
        "outputId": "eef2d35b-b9d3-4a03-f1a1-662e90ac8177"
      },
      "source": [
        "attributes.isnull().sum().sum()\n",
        "\n",
        "\n",
        "\n",
        "attributes[attributes['value'].isnull()]"
      ],
      "execution_count": 110,
      "outputs": [
        {
          "output_type": "execute_result",
          "data": {
            "text/html": [
              "<div>\n",
              "<style scoped>\n",
              "    .dataframe tbody tr th:only-of-type {\n",
              "        vertical-align: middle;\n",
              "    }\n",
              "\n",
              "    .dataframe tbody tr th {\n",
              "        vertical-align: top;\n",
              "    }\n",
              "\n",
              "    .dataframe thead th {\n",
              "        text-align: right;\n",
              "    }\n",
              "</style>\n",
              "<table border=\"1\" class=\"dataframe\">\n",
              "  <thead>\n",
              "    <tr style=\"text-align: right;\">\n",
              "      <th></th>\n",
              "      <th>product_uid</th>\n",
              "      <th>name</th>\n",
              "      <th>value</th>\n",
              "    </tr>\n",
              "  </thead>\n",
              "  <tbody>\n",
              "    <tr>\n",
              "      <th>1022</th>\n",
              "      <td>100044</td>\n",
              "      <td>Collection Name</td>\n",
              "      <td>NaN</td>\n",
              "    </tr>\n",
              "    <tr>\n",
              "      <th>1349</th>\n",
              "      <td>100058</td>\n",
              "      <td>Battery Size</td>\n",
              "      <td>NaN</td>\n",
              "    </tr>\n",
              "    <tr>\n",
              "      <th>5909</th>\n",
              "      <td>100248</td>\n",
              "      <td>Fastener Thread Type</td>\n",
              "      <td>NaN</td>\n",
              "    </tr>\n",
              "    <tr>\n",
              "      <th>6367</th>\n",
              "      <td>100266</td>\n",
              "      <td>Drive Style</td>\n",
              "      <td>NaN</td>\n",
              "    </tr>\n",
              "    <tr>\n",
              "      <th>7898</th>\n",
              "      <td>100329</td>\n",
              "      <td>Fastener recommendation</td>\n",
              "      <td>NaN</td>\n",
              "    </tr>\n",
              "    <tr>\n",
              "      <th>...</th>\n",
              "      <td>...</td>\n",
              "      <td>...</td>\n",
              "      <td>...</td>\n",
              "    </tr>\n",
              "    <tr>\n",
              "      <th>2040533</th>\n",
              "      <td>224234</td>\n",
              "      <td>Hardware Finish Family</td>\n",
              "      <td>NaN</td>\n",
              "    </tr>\n",
              "    <tr>\n",
              "      <th>2040775</th>\n",
              "      <td>224246</td>\n",
              "      <td>Mosaic Sub Unit Length (in.)</td>\n",
              "      <td>NaN</td>\n",
              "    </tr>\n",
              "    <tr>\n",
              "      <th>2040776</th>\n",
              "      <td>224246</td>\n",
              "      <td>Mosaic Sub Unit Width (in.)</td>\n",
              "      <td>NaN</td>\n",
              "    </tr>\n",
              "    <tr>\n",
              "      <th>2041817</th>\n",
              "      <td>224289</td>\n",
              "      <td>Bore offset</td>\n",
              "      <td>NaN</td>\n",
              "    </tr>\n",
              "    <tr>\n",
              "      <th>2044339</th>\n",
              "      <td>224407</td>\n",
              "      <td>Security/ANSI Grade</td>\n",
              "      <td>NaN</td>\n",
              "    </tr>\n",
              "  </tbody>\n",
              "</table>\n",
              "<p>2129 rows × 3 columns</p>\n",
              "</div>"
            ],
            "text/plain": [
              "         product_uid                          name value\n",
              "1022          100044               Collection Name   NaN\n",
              "1349          100058                  Battery Size   NaN\n",
              "5909          100248          Fastener Thread Type   NaN\n",
              "6367          100266                   Drive Style   NaN\n",
              "7898          100329       Fastener recommendation   NaN\n",
              "...              ...                           ...   ...\n",
              "2040533       224234        Hardware Finish Family   NaN\n",
              "2040775       224246  Mosaic Sub Unit Length (in.)   NaN\n",
              "2040776       224246   Mosaic Sub Unit Width (in.)   NaN\n",
              "2041817       224289                   Bore offset   NaN\n",
              "2044339       224407           Security/ANSI Grade   NaN\n",
              "\n",
              "[2129 rows x 3 columns]"
            ]
          },
          "metadata": {
            "tags": []
          },
          "execution_count": 110
        }
      ]
    },
    {
      "cell_type": "code",
      "metadata": {
        "id": "-yybQ00GokH6",
        "colab_type": "code",
        "colab": {}
      },
      "source": [
        "train_2['product_uid'].value_counts().plot('log')"
      ],
      "execution_count": null,
      "outputs": []
    },
    {
      "cell_type": "code",
      "metadata": {
        "id": "ye554SszpPUY",
        "colab_type": "code",
        "colab": {
          "base_uri": "https://localhost:8080/",
          "height": 589
        },
        "outputId": "2b1caedd-bb3c-44cc-bd06-0a791b0a4d76"
      },
      "source": [
        "train_2[train_2['product_uid']==103763]"
      ],
      "execution_count": 129,
      "outputs": [
        {
          "output_type": "execute_result",
          "data": {
            "text/html": [
              "<div>\n",
              "<style scoped>\n",
              "    .dataframe tbody tr th:only-of-type {\n",
              "        vertical-align: middle;\n",
              "    }\n",
              "\n",
              "    .dataframe tbody tr th {\n",
              "        vertical-align: top;\n",
              "    }\n",
              "\n",
              "    .dataframe thead th {\n",
              "        text-align: right;\n",
              "    }\n",
              "</style>\n",
              "<table border=\"1\" class=\"dataframe\">\n",
              "  <thead>\n",
              "    <tr style=\"text-align: right;\">\n",
              "      <th></th>\n",
              "      <th>id</th>\n",
              "      <th>product_uid</th>\n",
              "      <th>product_title</th>\n",
              "      <th>search_term</th>\n",
              "      <th>relevance</th>\n",
              "      <th>product_description</th>\n",
              "      <th>name</th>\n",
              "      <th>value</th>\n",
              "    </tr>\n",
              "  </thead>\n",
              "  <tbody>\n",
              "    <tr>\n",
              "      <th>172461</th>\n",
              "      <td>20493</td>\n",
              "      <td>103763</td>\n",
              "      <td>Whirlpool Gold Series Top Control Dishwasher i...</td>\n",
              "      <td>24 stainless gas range</td>\n",
              "      <td>1.33</td>\n",
              "      <td>Leave the cleaning decisions to this Whirlpool...</td>\n",
              "      <td>Amperage (amps)</td>\n",
              "      <td>15</td>\n",
              "    </tr>\n",
              "    <tr>\n",
              "      <th>172462</th>\n",
              "      <td>20493</td>\n",
              "      <td>103763</td>\n",
              "      <td>Whirlpool Gold Series Top Control Dishwasher i...</td>\n",
              "      <td>24 stainless gas range</td>\n",
              "      <td>1.33</td>\n",
              "      <td>Leave the cleaning decisions to this Whirlpool...</td>\n",
              "      <td>Appliance Series</td>\n",
              "      <td>Whirlpool Gold</td>\n",
              "    </tr>\n",
              "    <tr>\n",
              "      <th>172463</th>\n",
              "      <td>20493</td>\n",
              "      <td>103763</td>\n",
              "      <td>Whirlpool Gold Series Top Control Dishwasher i...</td>\n",
              "      <td>24 stainless gas range</td>\n",
              "      <td>1.33</td>\n",
              "      <td>Leave the cleaning decisions to this Whirlpool...</td>\n",
              "      <td>Appliance Type</td>\n",
              "      <td>Dishwasher</td>\n",
              "    </tr>\n",
              "    <tr>\n",
              "      <th>172464</th>\n",
              "      <td>20493</td>\n",
              "      <td>103763</td>\n",
              "      <td>Whirlpool Gold Series Top Control Dishwasher i...</td>\n",
              "      <td>24 stainless gas range</td>\n",
              "      <td>1.33</td>\n",
              "      <td>Leave the cleaning decisions to this Whirlpool...</td>\n",
              "      <td>Bullet01</td>\n",
              "      <td>Fully integrated controls provide a modern ext...</td>\n",
              "    </tr>\n",
              "    <tr>\n",
              "      <th>172465</th>\n",
              "      <td>20493</td>\n",
              "      <td>103763</td>\n",
              "      <td>Whirlpool Gold Series Top Control Dishwasher i...</td>\n",
              "      <td>24 stainless gas range</td>\n",
              "      <td>1.33</td>\n",
              "      <td>Leave the cleaning decisions to this Whirlpool...</td>\n",
              "      <td>Bullet02</td>\n",
              "      <td>Quiet Partner II sound package allows you to r...</td>\n",
              "    </tr>\n",
              "    <tr>\n",
              "      <th>...</th>\n",
              "      <td>...</td>\n",
              "      <td>...</td>\n",
              "      <td>...</td>\n",
              "      <td>...</td>\n",
              "      <td>...</td>\n",
              "      <td>...</td>\n",
              "      <td>...</td>\n",
              "      <td>...</td>\n",
              "    </tr>\n",
              "    <tr>\n",
              "      <th>173296</th>\n",
              "      <td>20530</td>\n",
              "      <td>103763</td>\n",
              "      <td>Whirlpool Gold Series Top Control Dishwasher i...</td>\n",
              "      <td>Whirpool washer</td>\n",
              "      <td>2.33</td>\n",
              "      <td>Leave the cleaning decisions to this Whirlpool...</td>\n",
              "      <td>Sound Rating Range (Decibels)</td>\n",
              "      <td>Quieter 51-55 dBA</td>\n",
              "    </tr>\n",
              "    <tr>\n",
              "      <th>173297</th>\n",
              "      <td>20530</td>\n",
              "      <td>103763</td>\n",
              "      <td>Whirlpool Gold Series Top Control Dishwasher i...</td>\n",
              "      <td>Whirpool washer</td>\n",
              "      <td>2.33</td>\n",
              "      <td>Leave the cleaning decisions to this Whirlpool...</td>\n",
              "      <td>Steam Function</td>\n",
              "      <td>No</td>\n",
              "    </tr>\n",
              "    <tr>\n",
              "      <th>173298</th>\n",
              "      <td>20530</td>\n",
              "      <td>103763</td>\n",
              "      <td>Whirlpool Gold Series Top Control Dishwasher i...</td>\n",
              "      <td>Whirpool washer</td>\n",
              "      <td>2.33</td>\n",
              "      <td>Leave the cleaning decisions to this Whirlpool...</td>\n",
              "      <td>Tall Tub</td>\n",
              "      <td>Yes</td>\n",
              "    </tr>\n",
              "    <tr>\n",
              "      <th>173299</th>\n",
              "      <td>20530</td>\n",
              "      <td>103763</td>\n",
              "      <td>Whirlpool Gold Series Top Control Dishwasher i...</td>\n",
              "      <td>Whirpool washer</td>\n",
              "      <td>2.33</td>\n",
              "      <td>Leave the cleaning decisions to this Whirlpool...</td>\n",
              "      <td>Tub Material</td>\n",
              "      <td>Plastic</td>\n",
              "    </tr>\n",
              "    <tr>\n",
              "      <th>173300</th>\n",
              "      <td>20530</td>\n",
              "      <td>103763</td>\n",
              "      <td>Whirlpool Gold Series Top Control Dishwasher i...</td>\n",
              "      <td>Whirpool washer</td>\n",
              "      <td>2.33</td>\n",
              "      <td>Leave the cleaning decisions to this Whirlpool...</td>\n",
              "      <td>Voltage (volts)</td>\n",
              "      <td>120</td>\n",
              "    </tr>\n",
              "  </tbody>\n",
              "</table>\n",
              "<p>840 rows × 8 columns</p>\n",
              "</div>"
            ],
            "text/plain": [
              "           id  ...                                              value\n",
              "172461  20493  ...                                                 15\n",
              "172462  20493  ...                                     Whirlpool Gold\n",
              "172463  20493  ...                                         Dishwasher\n",
              "172464  20493  ...  Fully integrated controls provide a modern ext...\n",
              "172465  20493  ...  Quiet Partner II sound package allows you to r...\n",
              "...       ...  ...                                                ...\n",
              "173296  20530  ...                                  Quieter 51-55 dBA\n",
              "173297  20530  ...                                                 No\n",
              "173298  20530  ...                                                Yes\n",
              "173299  20530  ...                                            Plastic\n",
              "173300  20530  ...                                                120\n",
              "\n",
              "[840 rows x 8 columns]"
            ]
          },
          "metadata": {
            "tags": []
          },
          "execution_count": 129
        }
      ]
    }
  ]
}